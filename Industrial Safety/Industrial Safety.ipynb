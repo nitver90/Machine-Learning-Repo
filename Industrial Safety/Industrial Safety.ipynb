{
  "nbformat": 4,
  "nbformat_minor": 0,
  "metadata": {
    "colab": {
      "name": "Industrial Data Practice",
      "provenance": [],
      "collapsed_sections": [],
      "toc_visible": true
    },
    "kernelspec": {
      "name": "python3",
      "display_name": "Python 3"
    }
  },
  "cells": [
    {
      "cell_type": "markdown",
      "metadata": {
        "id": "EGKV-x4S8Krb"
      },
      "source": [
        "Project Detail\r\n",
        "\r\n",
        "In this dataset, the information about accidents in 12 manufacturing plants in 3 countries are given by a brazilian company, IHM Stefanini. We need to use this dataset to understand why accidents occur, and discover clues to reduce tragedic accidents.\r\n",
        "\r\n",
        "Dataset columns are below:\r\n",
        "\r\n",
        "Date : timestamp or time/date information\r\n",
        "Countries : which country the accident occurred (anonymized)\r\n",
        "Local : the city where the manufacturing plant is located (anonymized)\r\n",
        "Industry sector : which sector the plant belongs to\r\n",
        "Accident level : from I to VI, it registers how severe was the accident (I means not severe but VI means very severe)\r\n",
        "Potential Accident Level : Depending on the Accident Level, the database also registers how severe the accident could have been (due to other factors involved in the accident)\r\n",
        "Genre : if the person is male of female\r\n",
        "Employee or Third Party : if the injured person is an employee or a third party\r\n",
        "Critical Risk : some description of the risk involved in the accident\r\n",
        "Description : Detailed description of how the accident happened"
      ]
    },
    {
      "cell_type": "code",
      "metadata": {
        "id": "Hg8NQzc4tq65"
      },
      "source": [
        "import numpy as np\n",
        "import pandas as pd\n",
        "import matplotlib.pyplot as plt"
      ],
      "execution_count": 43,
      "outputs": []
    },
    {
      "cell_type": "code",
      "metadata": {
        "id": "sX1e3o6YvfPf",
        "colab": {
          "base_uri": "https://localhost:8080/"
        },
        "outputId": "69e98398-0d7b-4fa6-eaf2-a5c34655f071"
      },
      "source": [
        "!wget \"https://raw.githubusercontent.com/gauravpks/ml-repo/master/IndustrialSafetyDS/industrial_safety.csv\""
      ],
      "execution_count": 44,
      "outputs": [
        {
          "output_type": "stream",
          "text": [
            "--2020-12-27 15:43:43--  https://raw.githubusercontent.com/gauravpks/ml-repo/master/IndustrialSafetyDS/industrial_safety.csv\n",
            "Resolving raw.githubusercontent.com (raw.githubusercontent.com)... 151.101.0.133, 151.101.64.133, 151.101.128.133, ...\n",
            "Connecting to raw.githubusercontent.com (raw.githubusercontent.com)|151.101.0.133|:443... connected.\n",
            "HTTP request sent, awaiting response... 200 OK\n",
            "Length: 192153 (188K) [text/plain]\n",
            "Saving to: ‘industrial_safety.csv.1’\n",
            "\n",
            "\rindustrial_safety.c   0%[                    ]       0  --.-KB/s               \rindustrial_safety.c 100%[===================>] 187.65K  --.-KB/s    in 0.03s   \n",
            "\n",
            "2020-12-27 15:43:43 (7.07 MB/s) - ‘industrial_safety.csv.1’ saved [192153/192153]\n",
            "\n"
          ],
          "name": "stdout"
        }
      ]
    },
    {
      "cell_type": "code",
      "metadata": {
        "id": "LeeR5B3_vpA0"
      },
      "source": [
        "df= pd.read_csv(\"https://raw.githubusercontent.com/gauravpks/ml-repo/master/IndustrialSafetyDS/industrial_safety.csv\")"
      ],
      "execution_count": 45,
      "outputs": []
    },
    {
      "cell_type": "code",
      "metadata": {
        "id": "sgelZyZDnU2U",
        "colab": {
          "base_uri": "https://localhost:8080/"
        },
        "outputId": "06b6e9ab-e450-4421-a712-04cd25196e2c"
      },
      "source": [
        "df.info()"
      ],
      "execution_count": 46,
      "outputs": [
        {
          "output_type": "stream",
          "text": [
            "<class 'pandas.core.frame.DataFrame'>\n",
            "RangeIndex: 424 entries, 0 to 423\n",
            "Data columns (total 10 columns):\n",
            " #   Column                    Non-Null Count  Dtype \n",
            "---  ------                    --------------  ----- \n",
            " 0   Data                      424 non-null    object\n",
            " 1   Countries                 424 non-null    object\n",
            " 2   Local                     424 non-null    object\n",
            " 3   Industry Sector           424 non-null    object\n",
            " 4   Accident Level            424 non-null    object\n",
            " 5   Potential Accident Level  424 non-null    object\n",
            " 6   Gender                    424 non-null    object\n",
            " 7   Employee or Third Party   424 non-null    object\n",
            " 8   Critical Risk             424 non-null    object\n",
            " 9   Description               424 non-null    object\n",
            "dtypes: object(10)\n",
            "memory usage: 33.2+ KB\n"
          ],
          "name": "stdout"
        }
      ]
    },
    {
      "cell_type": "code",
      "metadata": {
        "id": "tKg4BbUnv2rm",
        "colab": {
          "base_uri": "https://localhost:8080/",
          "height": 204
        },
        "outputId": "c891d570-444e-45e1-a082-4525ab0cc065"
      },
      "source": [
        "df.head()"
      ],
      "execution_count": 47,
      "outputs": [
        {
          "output_type": "execute_result",
          "data": {
            "text/html": [
              "<div>\n",
              "<style scoped>\n",
              "    .dataframe tbody tr th:only-of-type {\n",
              "        vertical-align: middle;\n",
              "    }\n",
              "\n",
              "    .dataframe tbody tr th {\n",
              "        vertical-align: top;\n",
              "    }\n",
              "\n",
              "    .dataframe thead th {\n",
              "        text-align: right;\n",
              "    }\n",
              "</style>\n",
              "<table border=\"1\" class=\"dataframe\">\n",
              "  <thead>\n",
              "    <tr style=\"text-align: right;\">\n",
              "      <th></th>\n",
              "      <th>Data</th>\n",
              "      <th>Countries</th>\n",
              "      <th>Local</th>\n",
              "      <th>Industry Sector</th>\n",
              "      <th>Accident Level</th>\n",
              "      <th>Potential Accident Level</th>\n",
              "      <th>Gender</th>\n",
              "      <th>Employee or Third Party</th>\n",
              "      <th>Critical Risk</th>\n",
              "      <th>Description</th>\n",
              "    </tr>\n",
              "  </thead>\n",
              "  <tbody>\n",
              "    <tr>\n",
              "      <th>0</th>\n",
              "      <td>01-01-2016 00:00</td>\n",
              "      <td>United States</td>\n",
              "      <td>West Virginia</td>\n",
              "      <td>Mining</td>\n",
              "      <td>I</td>\n",
              "      <td>IV</td>\n",
              "      <td>Male</td>\n",
              "      <td>Third Party</td>\n",
              "      <td>Pressed</td>\n",
              "      <td>While removing the drill rod of the Jumbo 08 f...</td>\n",
              "    </tr>\n",
              "    <tr>\n",
              "      <th>1</th>\n",
              "      <td>02-01-2016 00:00</td>\n",
              "      <td>Canada</td>\n",
              "      <td>Alberta</td>\n",
              "      <td>Mining</td>\n",
              "      <td>I</td>\n",
              "      <td>IV</td>\n",
              "      <td>Male</td>\n",
              "      <td>Employee</td>\n",
              "      <td>Pressurized Systems</td>\n",
              "      <td>During the activation of a sodium sulphide pum...</td>\n",
              "    </tr>\n",
              "    <tr>\n",
              "      <th>2</th>\n",
              "      <td>06-01-2016 00:00</td>\n",
              "      <td>United States</td>\n",
              "      <td>Kentucky</td>\n",
              "      <td>Mining</td>\n",
              "      <td>I</td>\n",
              "      <td>III</td>\n",
              "      <td>Male</td>\n",
              "      <td>Third Party (Remote)</td>\n",
              "      <td>Manual Tools</td>\n",
              "      <td>In the sub-station MILPO located at level +170...</td>\n",
              "    </tr>\n",
              "    <tr>\n",
              "      <th>3</th>\n",
              "      <td>08-01-2016 00:00</td>\n",
              "      <td>United States</td>\n",
              "      <td>Illinois</td>\n",
              "      <td>Mining</td>\n",
              "      <td>I</td>\n",
              "      <td>I</td>\n",
              "      <td>Male</td>\n",
              "      <td>Third Party</td>\n",
              "      <td>Others</td>\n",
              "      <td>Being 9:45 am. approximately in the Nv. 1880 C...</td>\n",
              "    </tr>\n",
              "    <tr>\n",
              "      <th>4</th>\n",
              "      <td>10-01-2016 00:00</td>\n",
              "      <td>United States</td>\n",
              "      <td>Illinois</td>\n",
              "      <td>Mining</td>\n",
              "      <td>IV</td>\n",
              "      <td>IV</td>\n",
              "      <td>Male</td>\n",
              "      <td>Third Party</td>\n",
              "      <td>Others</td>\n",
              "      <td>Approximately at 11:45 a.m. in circumstances t...</td>\n",
              "    </tr>\n",
              "  </tbody>\n",
              "</table>\n",
              "</div>"
            ],
            "text/plain": [
              "               Data  ...                                        Description\n",
              "0  01-01-2016 00:00  ...  While removing the drill rod of the Jumbo 08 f...\n",
              "1  02-01-2016 00:00  ...  During the activation of a sodium sulphide pum...\n",
              "2  06-01-2016 00:00  ...  In the sub-station MILPO located at level +170...\n",
              "3  08-01-2016 00:00  ...  Being 9:45 am. approximately in the Nv. 1880 C...\n",
              "4  10-01-2016 00:00  ...  Approximately at 11:45 a.m. in circumstances t...\n",
              "\n",
              "[5 rows x 10 columns]"
            ]
          },
          "metadata": {
            "tags": []
          },
          "execution_count": 47
        }
      ]
    },
    {
      "cell_type": "code",
      "metadata": {
        "id": "1ufOeHTvv7dg",
        "colab": {
          "base_uri": "https://localhost:8080/"
        },
        "outputId": "fbb596ed-eec7-4871-95ee-fd9bc120c2ea"
      },
      "source": [
        "df.columns"
      ],
      "execution_count": 48,
      "outputs": [
        {
          "output_type": "execute_result",
          "data": {
            "text/plain": [
              "Index(['Data', 'Countries', 'Local', 'Industry Sector', 'Accident Level',\n",
              "       'Potential Accident Level', 'Gender', 'Employee or Third Party',\n",
              "       'Critical Risk', 'Description'],\n",
              "      dtype='object')"
            ]
          },
          "metadata": {
            "tags": []
          },
          "execution_count": 48
        }
      ]
    },
    {
      "cell_type": "code",
      "metadata": {
        "id": "hlcLsZp5wIb1"
      },
      "source": [
        "df=df.rename(columns={'Data': 'Date', 'Countries':'Country','Local':'City', 'Industry Sector':'Industry', 'Accident Level':'Accident Level', 'Employee or Third Party': 'Emp_Type'})"
      ],
      "execution_count": 49,
      "outputs": []
    },
    {
      "cell_type": "code",
      "metadata": {
        "id": "2wYWM4X50QtC",
        "colab": {
          "base_uri": "https://localhost:8080/",
          "height": 204
        },
        "outputId": "3ebec43d-8c18-4545-dd5a-13c7b63d66dd"
      },
      "source": [
        "df.head()"
      ],
      "execution_count": 50,
      "outputs": [
        {
          "output_type": "execute_result",
          "data": {
            "text/html": [
              "<div>\n",
              "<style scoped>\n",
              "    .dataframe tbody tr th:only-of-type {\n",
              "        vertical-align: middle;\n",
              "    }\n",
              "\n",
              "    .dataframe tbody tr th {\n",
              "        vertical-align: top;\n",
              "    }\n",
              "\n",
              "    .dataframe thead th {\n",
              "        text-align: right;\n",
              "    }\n",
              "</style>\n",
              "<table border=\"1\" class=\"dataframe\">\n",
              "  <thead>\n",
              "    <tr style=\"text-align: right;\">\n",
              "      <th></th>\n",
              "      <th>Date</th>\n",
              "      <th>Country</th>\n",
              "      <th>City</th>\n",
              "      <th>Industry</th>\n",
              "      <th>Accident Level</th>\n",
              "      <th>Potential Accident Level</th>\n",
              "      <th>Gender</th>\n",
              "      <th>Emp_Type</th>\n",
              "      <th>Critical Risk</th>\n",
              "      <th>Description</th>\n",
              "    </tr>\n",
              "  </thead>\n",
              "  <tbody>\n",
              "    <tr>\n",
              "      <th>0</th>\n",
              "      <td>01-01-2016 00:00</td>\n",
              "      <td>United States</td>\n",
              "      <td>West Virginia</td>\n",
              "      <td>Mining</td>\n",
              "      <td>I</td>\n",
              "      <td>IV</td>\n",
              "      <td>Male</td>\n",
              "      <td>Third Party</td>\n",
              "      <td>Pressed</td>\n",
              "      <td>While removing the drill rod of the Jumbo 08 f...</td>\n",
              "    </tr>\n",
              "    <tr>\n",
              "      <th>1</th>\n",
              "      <td>02-01-2016 00:00</td>\n",
              "      <td>Canada</td>\n",
              "      <td>Alberta</td>\n",
              "      <td>Mining</td>\n",
              "      <td>I</td>\n",
              "      <td>IV</td>\n",
              "      <td>Male</td>\n",
              "      <td>Employee</td>\n",
              "      <td>Pressurized Systems</td>\n",
              "      <td>During the activation of a sodium sulphide pum...</td>\n",
              "    </tr>\n",
              "    <tr>\n",
              "      <th>2</th>\n",
              "      <td>06-01-2016 00:00</td>\n",
              "      <td>United States</td>\n",
              "      <td>Kentucky</td>\n",
              "      <td>Mining</td>\n",
              "      <td>I</td>\n",
              "      <td>III</td>\n",
              "      <td>Male</td>\n",
              "      <td>Third Party (Remote)</td>\n",
              "      <td>Manual Tools</td>\n",
              "      <td>In the sub-station MILPO located at level +170...</td>\n",
              "    </tr>\n",
              "    <tr>\n",
              "      <th>3</th>\n",
              "      <td>08-01-2016 00:00</td>\n",
              "      <td>United States</td>\n",
              "      <td>Illinois</td>\n",
              "      <td>Mining</td>\n",
              "      <td>I</td>\n",
              "      <td>I</td>\n",
              "      <td>Male</td>\n",
              "      <td>Third Party</td>\n",
              "      <td>Others</td>\n",
              "      <td>Being 9:45 am. approximately in the Nv. 1880 C...</td>\n",
              "    </tr>\n",
              "    <tr>\n",
              "      <th>4</th>\n",
              "      <td>10-01-2016 00:00</td>\n",
              "      <td>United States</td>\n",
              "      <td>Illinois</td>\n",
              "      <td>Mining</td>\n",
              "      <td>IV</td>\n",
              "      <td>IV</td>\n",
              "      <td>Male</td>\n",
              "      <td>Third Party</td>\n",
              "      <td>Others</td>\n",
              "      <td>Approximately at 11:45 a.m. in circumstances t...</td>\n",
              "    </tr>\n",
              "  </tbody>\n",
              "</table>\n",
              "</div>"
            ],
            "text/plain": [
              "               Date  ...                                        Description\n",
              "0  01-01-2016 00:00  ...  While removing the drill rod of the Jumbo 08 f...\n",
              "1  02-01-2016 00:00  ...  During the activation of a sodium sulphide pum...\n",
              "2  06-01-2016 00:00  ...  In the sub-station MILPO located at level +170...\n",
              "3  08-01-2016 00:00  ...  Being 9:45 am. approximately in the Nv. 1880 C...\n",
              "4  10-01-2016 00:00  ...  Approximately at 11:45 a.m. in circumstances t...\n",
              "\n",
              "[5 rows x 10 columns]"
            ]
          },
          "metadata": {
            "tags": []
          },
          "execution_count": 50
        }
      ]
    },
    {
      "cell_type": "markdown",
      "metadata": {
        "id": "BKSjIZue_3lk"
      },
      "source": [
        "# Data Pre Processing "
      ]
    },
    {
      "cell_type": "code",
      "metadata": {
        "id": "PovokSoeowvF"
      },
      "source": [
        "df[\"Date\"]= pd.to_datetime(df[\"Date\"])\r\n",
        "df[\"Year\"]= df[\"Date\"].apply(lambda x: x.year)\r\n",
        "df[\"Month\"]= df[\"Date\"].apply(lambda x:x.month)\r\n",
        "df[\"Day\"]= df[\"Date\"].apply(lambda x:x.day)\r\n",
        "df[\"Weekday\"]= df[\"Date\"].apply(lambda x:x.day_name())\r\n",
        "df[\"Weekofyear\"]= df[\"Date\"].apply(lambda x:x.weekofyear)"
      ],
      "execution_count": 51,
      "outputs": []
    },
    {
      "cell_type": "code",
      "metadata": {
        "id": "vS3d8XyZpEe-",
        "colab": {
          "base_uri": "https://localhost:8080/",
          "height": 204
        },
        "outputId": "3f4769f0-abb6-4395-9800-caf416547325"
      },
      "source": [
        "df.head()"
      ],
      "execution_count": 52,
      "outputs": [
        {
          "output_type": "execute_result",
          "data": {
            "text/html": [
              "<div>\n",
              "<style scoped>\n",
              "    .dataframe tbody tr th:only-of-type {\n",
              "        vertical-align: middle;\n",
              "    }\n",
              "\n",
              "    .dataframe tbody tr th {\n",
              "        vertical-align: top;\n",
              "    }\n",
              "\n",
              "    .dataframe thead th {\n",
              "        text-align: right;\n",
              "    }\n",
              "</style>\n",
              "<table border=\"1\" class=\"dataframe\">\n",
              "  <thead>\n",
              "    <tr style=\"text-align: right;\">\n",
              "      <th></th>\n",
              "      <th>Date</th>\n",
              "      <th>Country</th>\n",
              "      <th>City</th>\n",
              "      <th>Industry</th>\n",
              "      <th>Accident Level</th>\n",
              "      <th>Potential Accident Level</th>\n",
              "      <th>Gender</th>\n",
              "      <th>Emp_Type</th>\n",
              "      <th>Critical Risk</th>\n",
              "      <th>Description</th>\n",
              "      <th>Year</th>\n",
              "      <th>Month</th>\n",
              "      <th>Day</th>\n",
              "      <th>Weekday</th>\n",
              "      <th>Weekofyear</th>\n",
              "    </tr>\n",
              "  </thead>\n",
              "  <tbody>\n",
              "    <tr>\n",
              "      <th>0</th>\n",
              "      <td>2016-01-01</td>\n",
              "      <td>United States</td>\n",
              "      <td>West Virginia</td>\n",
              "      <td>Mining</td>\n",
              "      <td>I</td>\n",
              "      <td>IV</td>\n",
              "      <td>Male</td>\n",
              "      <td>Third Party</td>\n",
              "      <td>Pressed</td>\n",
              "      <td>While removing the drill rod of the Jumbo 08 f...</td>\n",
              "      <td>2016</td>\n",
              "      <td>1</td>\n",
              "      <td>1</td>\n",
              "      <td>Friday</td>\n",
              "      <td>53</td>\n",
              "    </tr>\n",
              "    <tr>\n",
              "      <th>1</th>\n",
              "      <td>2016-02-01</td>\n",
              "      <td>Canada</td>\n",
              "      <td>Alberta</td>\n",
              "      <td>Mining</td>\n",
              "      <td>I</td>\n",
              "      <td>IV</td>\n",
              "      <td>Male</td>\n",
              "      <td>Employee</td>\n",
              "      <td>Pressurized Systems</td>\n",
              "      <td>During the activation of a sodium sulphide pum...</td>\n",
              "      <td>2016</td>\n",
              "      <td>2</td>\n",
              "      <td>1</td>\n",
              "      <td>Monday</td>\n",
              "      <td>5</td>\n",
              "    </tr>\n",
              "    <tr>\n",
              "      <th>2</th>\n",
              "      <td>2016-06-01</td>\n",
              "      <td>United States</td>\n",
              "      <td>Kentucky</td>\n",
              "      <td>Mining</td>\n",
              "      <td>I</td>\n",
              "      <td>III</td>\n",
              "      <td>Male</td>\n",
              "      <td>Third Party (Remote)</td>\n",
              "      <td>Manual Tools</td>\n",
              "      <td>In the sub-station MILPO located at level +170...</td>\n",
              "      <td>2016</td>\n",
              "      <td>6</td>\n",
              "      <td>1</td>\n",
              "      <td>Wednesday</td>\n",
              "      <td>22</td>\n",
              "    </tr>\n",
              "    <tr>\n",
              "      <th>3</th>\n",
              "      <td>2016-08-01</td>\n",
              "      <td>United States</td>\n",
              "      <td>Illinois</td>\n",
              "      <td>Mining</td>\n",
              "      <td>I</td>\n",
              "      <td>I</td>\n",
              "      <td>Male</td>\n",
              "      <td>Third Party</td>\n",
              "      <td>Others</td>\n",
              "      <td>Being 9:45 am. approximately in the Nv. 1880 C...</td>\n",
              "      <td>2016</td>\n",
              "      <td>8</td>\n",
              "      <td>1</td>\n",
              "      <td>Monday</td>\n",
              "      <td>31</td>\n",
              "    </tr>\n",
              "    <tr>\n",
              "      <th>4</th>\n",
              "      <td>2016-10-01</td>\n",
              "      <td>United States</td>\n",
              "      <td>Illinois</td>\n",
              "      <td>Mining</td>\n",
              "      <td>IV</td>\n",
              "      <td>IV</td>\n",
              "      <td>Male</td>\n",
              "      <td>Third Party</td>\n",
              "      <td>Others</td>\n",
              "      <td>Approximately at 11:45 a.m. in circumstances t...</td>\n",
              "      <td>2016</td>\n",
              "      <td>10</td>\n",
              "      <td>1</td>\n",
              "      <td>Saturday</td>\n",
              "      <td>39</td>\n",
              "    </tr>\n",
              "  </tbody>\n",
              "</table>\n",
              "</div>"
            ],
            "text/plain": [
              "        Date         Country           City  ... Day    Weekday Weekofyear\n",
              "0 2016-01-01  United States   West Virginia  ...   1     Friday         53\n",
              "1 2016-02-01          Canada        Alberta  ...   1     Monday          5\n",
              "2 2016-06-01  United States        Kentucky  ...   1  Wednesday         22\n",
              "3 2016-08-01  United States        Illinois  ...   1     Monday         31\n",
              "4 2016-10-01  United States        Illinois  ...   1   Saturday         39\n",
              "\n",
              "[5 rows x 15 columns]"
            ]
          },
          "metadata": {
            "tags": []
          },
          "execution_count": 52
        }
      ]
    },
    {
      "cell_type": "code",
      "metadata": {
        "id": "6ksjaBmWAmeO"
      },
      "source": [
        "### Accordin to this discussion, countries are from North America. As per knowledge there are four climatological seasons as below. Spring : September to November Summer : December to February Autumn : March to May Winter : June to August We can create seasonal variable based on month variable."
      ],
      "execution_count": 53,
      "outputs": []
    },
    {
      "cell_type": "code",
      "metadata": {
        "id": "pTjtgDuQpK-y"
      },
      "source": [
        "def monthtoseason(x):\n",
        "  if x in [1,2,3]:\n",
        "    season= \"Spring\"\n",
        "  elif x in [4,5,6]:\n",
        "    season= \"Summer\"\n",
        "  elif x in [7,8,9]:\n",
        "    season= \"Autumn\"\n",
        "  elif x in [10,11,12]:\n",
        "    season= \"Winter\"\n",
        "  return season        \n",
        "\n",
        "df[\"Season\"]= df[\"Month\"].apply(monthtoseason)"
      ],
      "execution_count": 54,
      "outputs": []
    },
    {
      "cell_type": "code",
      "metadata": {
        "id": "FLE8WCrrqbHd",
        "colab": {
          "base_uri": "https://localhost:8080/",
          "height": 204
        },
        "outputId": "c56afebc-ec6e-4c62-cebb-c6f6d35c2571"
      },
      "source": [
        "df.head()"
      ],
      "execution_count": 55,
      "outputs": [
        {
          "output_type": "execute_result",
          "data": {
            "text/html": [
              "<div>\n",
              "<style scoped>\n",
              "    .dataframe tbody tr th:only-of-type {\n",
              "        vertical-align: middle;\n",
              "    }\n",
              "\n",
              "    .dataframe tbody tr th {\n",
              "        vertical-align: top;\n",
              "    }\n",
              "\n",
              "    .dataframe thead th {\n",
              "        text-align: right;\n",
              "    }\n",
              "</style>\n",
              "<table border=\"1\" class=\"dataframe\">\n",
              "  <thead>\n",
              "    <tr style=\"text-align: right;\">\n",
              "      <th></th>\n",
              "      <th>Date</th>\n",
              "      <th>Country</th>\n",
              "      <th>City</th>\n",
              "      <th>Industry</th>\n",
              "      <th>Accident Level</th>\n",
              "      <th>Potential Accident Level</th>\n",
              "      <th>Gender</th>\n",
              "      <th>Emp_Type</th>\n",
              "      <th>Critical Risk</th>\n",
              "      <th>Description</th>\n",
              "      <th>Year</th>\n",
              "      <th>Month</th>\n",
              "      <th>Day</th>\n",
              "      <th>Weekday</th>\n",
              "      <th>Weekofyear</th>\n",
              "      <th>Season</th>\n",
              "    </tr>\n",
              "  </thead>\n",
              "  <tbody>\n",
              "    <tr>\n",
              "      <th>0</th>\n",
              "      <td>2016-01-01</td>\n",
              "      <td>United States</td>\n",
              "      <td>West Virginia</td>\n",
              "      <td>Mining</td>\n",
              "      <td>I</td>\n",
              "      <td>IV</td>\n",
              "      <td>Male</td>\n",
              "      <td>Third Party</td>\n",
              "      <td>Pressed</td>\n",
              "      <td>While removing the drill rod of the Jumbo 08 f...</td>\n",
              "      <td>2016</td>\n",
              "      <td>1</td>\n",
              "      <td>1</td>\n",
              "      <td>Friday</td>\n",
              "      <td>53</td>\n",
              "      <td>Spring</td>\n",
              "    </tr>\n",
              "    <tr>\n",
              "      <th>1</th>\n",
              "      <td>2016-02-01</td>\n",
              "      <td>Canada</td>\n",
              "      <td>Alberta</td>\n",
              "      <td>Mining</td>\n",
              "      <td>I</td>\n",
              "      <td>IV</td>\n",
              "      <td>Male</td>\n",
              "      <td>Employee</td>\n",
              "      <td>Pressurized Systems</td>\n",
              "      <td>During the activation of a sodium sulphide pum...</td>\n",
              "      <td>2016</td>\n",
              "      <td>2</td>\n",
              "      <td>1</td>\n",
              "      <td>Monday</td>\n",
              "      <td>5</td>\n",
              "      <td>Spring</td>\n",
              "    </tr>\n",
              "    <tr>\n",
              "      <th>2</th>\n",
              "      <td>2016-06-01</td>\n",
              "      <td>United States</td>\n",
              "      <td>Kentucky</td>\n",
              "      <td>Mining</td>\n",
              "      <td>I</td>\n",
              "      <td>III</td>\n",
              "      <td>Male</td>\n",
              "      <td>Third Party (Remote)</td>\n",
              "      <td>Manual Tools</td>\n",
              "      <td>In the sub-station MILPO located at level +170...</td>\n",
              "      <td>2016</td>\n",
              "      <td>6</td>\n",
              "      <td>1</td>\n",
              "      <td>Wednesday</td>\n",
              "      <td>22</td>\n",
              "      <td>Summer</td>\n",
              "    </tr>\n",
              "    <tr>\n",
              "      <th>3</th>\n",
              "      <td>2016-08-01</td>\n",
              "      <td>United States</td>\n",
              "      <td>Illinois</td>\n",
              "      <td>Mining</td>\n",
              "      <td>I</td>\n",
              "      <td>I</td>\n",
              "      <td>Male</td>\n",
              "      <td>Third Party</td>\n",
              "      <td>Others</td>\n",
              "      <td>Being 9:45 am. approximately in the Nv. 1880 C...</td>\n",
              "      <td>2016</td>\n",
              "      <td>8</td>\n",
              "      <td>1</td>\n",
              "      <td>Monday</td>\n",
              "      <td>31</td>\n",
              "      <td>Autumn</td>\n",
              "    </tr>\n",
              "    <tr>\n",
              "      <th>4</th>\n",
              "      <td>2016-10-01</td>\n",
              "      <td>United States</td>\n",
              "      <td>Illinois</td>\n",
              "      <td>Mining</td>\n",
              "      <td>IV</td>\n",
              "      <td>IV</td>\n",
              "      <td>Male</td>\n",
              "      <td>Third Party</td>\n",
              "      <td>Others</td>\n",
              "      <td>Approximately at 11:45 a.m. in circumstances t...</td>\n",
              "      <td>2016</td>\n",
              "      <td>10</td>\n",
              "      <td>1</td>\n",
              "      <td>Saturday</td>\n",
              "      <td>39</td>\n",
              "      <td>Winter</td>\n",
              "    </tr>\n",
              "  </tbody>\n",
              "</table>\n",
              "</div>"
            ],
            "text/plain": [
              "        Date         Country           City  ...    Weekday Weekofyear  Season\n",
              "0 2016-01-01  United States   West Virginia  ...     Friday         53  Spring\n",
              "1 2016-02-01          Canada        Alberta  ...     Monday          5  Spring\n",
              "2 2016-06-01  United States        Kentucky  ...  Wednesday         22  Summer\n",
              "3 2016-08-01  United States        Illinois  ...     Monday         31  Autumn\n",
              "4 2016-10-01  United States        Illinois  ...   Saturday         39  Winter\n",
              "\n",
              "[5 rows x 16 columns]"
            ]
          },
          "metadata": {
            "tags": []
          },
          "execution_count": 55
        }
      ]
    },
    {
      "cell_type": "markdown",
      "metadata": {
        "id": "rVDug6tcBFB-"
      },
      "source": [
        "# Exploratory Data Analysis\r\n"
      ]
    },
    {
      "cell_type": "markdown",
      "metadata": {
        "id": "tiAHJ49_H0xj"
      },
      "source": [
        "***UNIVARIATE ANALYSIS ***"
      ]
    },
    {
      "cell_type": "markdown",
      "metadata": {
        "id": "9navALPVBlZw"
      },
      "source": [
        "**Accident by Seasons**"
      ]
    },
    {
      "cell_type": "code",
      "metadata": {
        "id": "cNqDklqdqk4R",
        "colab": {
          "base_uri": "https://localhost:8080/"
        },
        "outputId": "3c3a8694-d79e-4ddf-cb74-6eeeb0404bda"
      },
      "source": [
        "df[\"Season\"].value_counts()\n"
      ],
      "execution_count": 56,
      "outputs": [
        {
          "output_type": "execute_result",
          "data": {
            "text/plain": [
              "Spring    133\n",
              "Summer    130\n",
              "Autumn     85\n",
              "Winter     76\n",
              "Name: Season, dtype: int64"
            ]
          },
          "metadata": {
            "tags": []
          },
          "execution_count": 56
        }
      ]
    },
    {
      "cell_type": "code",
      "metadata": {
        "id": "5gTsQy3rWE8v",
        "colab": {
          "base_uri": "https://localhost:8080/"
        },
        "outputId": "f5be99f7-de08-45a9-e355-a17958c65041"
      },
      "source": [
        "season_cnt= np.round(df[\"Season\"].value_counts(normalize= True)*100,2)\n",
        "season_cnt"
      ],
      "execution_count": 57,
      "outputs": [
        {
          "output_type": "execute_result",
          "data": {
            "text/plain": [
              "Spring    31.37\n",
              "Summer    30.66\n",
              "Autumn    20.05\n",
              "Winter    17.92\n",
              "Name: Season, dtype: float64"
            ]
          },
          "metadata": {
            "tags": []
          },
          "execution_count": 57
        }
      ]
    },
    {
      "cell_type": "code",
      "metadata": {
        "id": "VIKEhCNCVIJa"
      },
      "source": [
        "percent= season_cnt.to_numpy()\r\n",
        "season_name= season_cnt.keys().values"
      ],
      "execution_count": 58,
      "outputs": []
    },
    {
      "cell_type": "code",
      "metadata": {
        "id": "n7PxuQLRV6eI",
        "colab": {
          "base_uri": "https://localhost:8080/",
          "height": 350
        },
        "outputId": "6c6d139c-5db2-4351-c917-7ddb71092b8c"
      },
      "source": [
        "fig = plt.figure(figsize = (10, 5)) \n",
        "plt.bar(season_name, percent, color=\"blue\", width= 0.5)\n",
        "plt.title(\"Accidents Distribution- Season Wise\")\n",
        "plt.xlabel(\"Seasons\")\n",
        "plt.ylabel(\"Percentage of occurance\")\n",
        "plt.show()"
      ],
      "execution_count": 59,
      "outputs": [
        {
          "output_type": "display_data",
          "data": {
            "image/png": "[encoded data removed]",
            "text/plain": [
              "<Figure size 720x360 with 1 Axes>"
            ]
          },
          "metadata": {
            "tags": [],
            "needs_background": "light"
          }
        }
      ]
    },
    {
      "cell_type": "markdown",
      "metadata": {
        "id": "RNsowiriCLCO"
      },
      "source": [
        "**By Accident Level**"
      ]
    },
    {
      "cell_type": "code",
      "metadata": {
        "id": "VX_kmd2dXhih"
      },
      "source": [
        "Accident_level_cnt= np.round(df[\"Accident Level\"].value_counts(normalize=True)*100)"
      ],
      "execution_count": 60,
      "outputs": []
    },
    {
      "cell_type": "code",
      "metadata": {
        "id": "mrcFp5-2Yfp5"
      },
      "source": [
        "percent = Accident_level_cnt.to_numpy()\r\n",
        "Acc_level_type= Accident_level_cnt.keys().values"
      ],
      "execution_count": 61,
      "outputs": []
    },
    {
      "cell_type": "code",
      "metadata": {
        "id": "-CGZ08IiZAdA",
        "colab": {
          "base_uri": "https://localhost:8080/",
          "height": 350
        },
        "outputId": "1fce6892-1b73-43cb-95b8-b317e8edc70e"
      },
      "source": [
        "fig= plt.figure(figsize=(10,5))\n",
        "plt.bar(Acc_level_type, percent,color=\"yellow\" ,edgecolor=\"green\")\n",
        "plt.xlabel(\"Accident Levels\")\n",
        "plt.ylabel(\"percentage of Accidents\")\n",
        "plt.title(\"Accident Distribution- Level Wise\")\n",
        "plt.show()"
      ],
      "execution_count": 62,
      "outputs": [
        {
          "output_type": "display_data",
          "data": {
            "image/png": "[encoded data removed]",
            "text/plain": [
              "<Figure size 720x360 with 1 Axes>"
            ]
          },
          "metadata": {
            "tags": [],
            "needs_background": "light"
          }
        }
      ]
    },
    {
      "cell_type": "code",
      "metadata": {
        "id": "dVIFUGDaZQfc",
        "colab": {
          "base_uri": "https://localhost:8080/",
          "height": 350
        },
        "outputId": "d62d807e-245e-4040-c87b-e3bd952c6931"
      },
      "source": [
        "# Just to show in Different Colors \n",
        "fig= plt.figure(figsize=(10,5))\n",
        "plt.bar(Acc_level_type, percent,color=[\"yellow\",\"green\",\"blue\",\"black\",\"red\"] ,edgecolor=\"green\")\n",
        "plt.xlabel(\"Accident Levels\")\n",
        "plt.ylabel(\"percentage of Accidents\")\n",
        "plt.title(\"Accident Distribution- Level Wise\")\n",
        "plt.show()"
      ],
      "execution_count": 63,
      "outputs": [
        {
          "output_type": "display_data",
          "data": {
            "image/png": "[encoded data removed]",
            "text/plain": [
              "<Figure size 720x360 with 1 Axes>"
            ]
          },
          "metadata": {
            "tags": [],
            "needs_background": "light"
          }
        }
      ]
    },
    {
      "cell_type": "code",
      "metadata": {
        "id": "tc4CK3nTbmg1",
        "colab": {
          "base_uri": "https://localhost:8080/",
          "height": 248
        },
        "outputId": "ea4a157c-ff37-466d-d982-fe0f99af40d1"
      },
      "source": [
        "plt.pie(percent, labels= Acc_level_type);"
      ],
      "execution_count": 64,
      "outputs": [
        {
          "output_type": "display_data",
          "data": {
            "image/png": "[encoded data removed]",
            "text/plain": [
              "<Figure size 432x288 with 1 Axes>"
            ]
          },
          "metadata": {
            "tags": []
          }
        }
      ]
    },
    {
      "cell_type": "markdown",
      "metadata": {
        "id": "gYyIW6pjDO_V"
      },
      "source": [
        "**Accidents By Gender**"
      ]
    },
    {
      "cell_type": "code",
      "metadata": {
        "id": "4jVAYEtsqqZG",
        "colab": {
          "base_uri": "https://localhost:8080/",
          "height": 350
        },
        "outputId": "e0ac42e9-e3e6-48cf-d570-5e1531dc9f27"
      },
      "source": [
        "gender_cnt = np.round(df['Gender'].value_counts(normalize=True) * 100)\n",
        "fig = plt.figure(figsize = (5, 5)) \n",
        "plt.bar(gender_cnt.keys().values, gender_cnt.to_numpy(), color=[ 'green', 'blue'], width = 0.5) \n",
        "plt.xlabel(\"Gender\") \n",
        "plt.ylabel(\"% of Accidents\") \n",
        "plt.title(\"Accident Distribution- Gender Wise\") \n",
        "plt.show()\n"
      ],
      "execution_count": 65,
      "outputs": [
        {
          "output_type": "display_data",
          "data": {
            "image/png": "[encoded data removed]",
            "text/plain": [
              "<Figure size 360x360 with 1 Axes>"
            ]
          },
          "metadata": {
            "tags": [],
            "needs_background": "light"
          }
        }
      ]
    },
    {
      "cell_type": "markdown",
      "metadata": {
        "id": "XEWjG1vZEVNl"
      },
      "source": [
        "**By Employee Type**"
      ]
    },
    {
      "cell_type": "code",
      "metadata": {
        "id": "LioZeCMMqqWu",
        "colab": {
          "base_uri": "https://localhost:8080/",
          "height": 350
        },
        "outputId": "41e4b8b6-0ace-4fbe-fedc-cc97620b5c6b"
      },
      "source": [
        "Emp_Type_cnt = np.round(df['Emp_Type'].value_counts(normalize=True) * 100)\r\n",
        "fig = plt.figure(figsize = (10, 5)) \r\n",
        "plt.bar(Emp_Type_cnt.keys().values, Emp_Type_cnt.to_numpy(), color=[ 'green', 'blue', 'yellow'], width = 0.5) \r\n",
        "plt.xlabel(\"Countries\") \r\n",
        "plt.ylabel(\"% of Accidents\") \r\n",
        "plt.title(\"Accident Distribution- Employee Type Wise\") \r\n",
        "plt.show()"
      ],
      "execution_count": 66,
      "outputs": [
        {
          "output_type": "display_data",
          "data": {
            "image/png": "[encoded data removed]",
            "text/plain": [
              "<Figure size 720x360 with 1 Axes>"
            ]
          },
          "metadata": {
            "tags": [],
            "needs_background": "light"
          }
        }
      ]
    },
    {
      "cell_type": "markdown",
      "metadata": {
        "id": "xoQHIMawEi1q"
      },
      "source": [
        "**Accident By Country**"
      ]
    },
    {
      "cell_type": "code",
      "metadata": {
        "colab": {
          "base_uri": "https://localhost:8080/",
          "height": 350
        },
        "id": "Fm--GFu9EtnB",
        "outputId": "54a96c6b-0311-4cec-de2a-fee519af8399"
      },
      "source": [
        "country_cnt =np.round((df['Country'].value_counts(normalize=True)* 100 ))\r\n",
        "fig = plt.figure(figsize = (10, 5)) \r\n",
        "plt.bar(country_cnt.keys().values, country_cnt.to_numpy(), color =['red', 'green', 'blue'], width = 0.5) \r\n",
        "plt.xlabel(\"Countries\") \r\n",
        "plt.ylabel(\"% of Accidents\") \r\n",
        "plt.title(\"Accident Distribution- Country Wise\") \r\n",
        "plt.show()"
      ],
      "execution_count": 67,
      "outputs": [
        {
          "output_type": "display_data",
          "data": {
            "image/png": "[encoded data removed]",
            "text/plain": [
              "<Figure size 720x360 with 1 Axes>"
            ]
          },
          "metadata": {
            "tags": [],
            "needs_background": "light"
          }
        }
      ]
    },
    {
      "cell_type": "markdown",
      "metadata": {
        "id": "UdxMDDUdF6dU"
      },
      "source": [
        "**Accidents By City**"
      ]
    },
    {
      "cell_type": "code",
      "metadata": {
        "colab": {
          "base_uri": "https://localhost:8080/",
          "height": 350
        },
        "id": "SFpic6jvE5RS",
        "outputId": "10a3a71a-9674-4ffa-f25d-6b338b47d58d"
      },
      "source": [
        "city_cnt = np.round(df['City'].value_counts(normalize=True) * 100)\r\n",
        "fig = plt.figure(figsize = (18, 5)) \r\n",
        "plt.bar(city_cnt.keys().values, city_cnt.to_numpy(), color ='yellow', width = 0.4, edgecolor='green') \r\n",
        "plt.xlabel(\"Cities\") \r\n",
        "plt.ylabel(\"% of Accidents\") \r\n",
        "plt.title(\"Accident Distribution- Local Wise\") \r\n",
        "plt.show()"
      ],
      "execution_count": 68,
      "outputs": [
        {
          "output_type": "display_data",
          "data": {
            "image/png": "[encoded data removed]",
            "text/plain": [
              "<Figure size 1296x360 with 1 Axes>"
            ]
          },
          "metadata": {
            "tags": [],
            "needs_background": "light"
          }
        }
      ]
    },
    {
      "cell_type": "markdown",
      "metadata": {
        "id": "MH_1cPIXHmfK"
      },
      "source": [
        "**Accidents Industry Wise**"
      ]
    },
    {
      "cell_type": "code",
      "metadata": {
        "colab": {
          "base_uri": "https://localhost:8080/",
          "height": 264
        },
        "id": "p7aCKlFuGBVA",
        "outputId": "2d008132-f7c7-42f6-e55c-dc2844d82e96"
      },
      "source": [
        "ind_cnt= np.round(df['Industry'].value_counts(normalize=True) * 100)\r\n",
        "plt.pie(ind_cnt.to_numpy(), labels = ind_cnt.keys().values) \r\n",
        "plt.title(\"Accident Distribution- Industry Wise\")  \r\n",
        "plt.show() "
      ],
      "execution_count": 69,
      "outputs": [
        {
          "output_type": "display_data",
          "data": {
            "image/png": "[encoded data removed]",
            "text/plain": [
              "<Figure size 432x288 with 1 Axes>"
            ]
          },
          "metadata": {
            "tags": []
          }
        }
      ]
    },
    {
      "cell_type": "markdown",
      "metadata": {
        "id": "AN0hjLNUIeqw"
      },
      "source": [
        "***MULTIVARIATE ANALYSIS***"
      ]
    },
    {
      "cell_type": "markdown",
      "metadata": {
        "id": "SpuKBsIpIkpZ"
      },
      "source": [
        "**Accidents Depending on Accident Level & Potential Accident Level**"
      ]
    },
    {
      "cell_type": "code",
      "metadata": {
        "id": "DrBYQaIaIRTZ"
      },
      "source": [
        "ac_level_cnt = np.round(df['Accident Level'].value_counts(normalize=True) * 100)\r\n",
        "pot_ac_level_cnt = np.round(df['Potential Accident Level'].value_counts(normalize=True) * 100, decimals=2)"
      ],
      "execution_count": 70,
      "outputs": []
    },
    {
      "cell_type": "code",
      "metadata": {
        "colab": {
          "base_uri": "https://localhost:8080/",
          "height": 513
        },
        "id": "BprLWp9IG2FR",
        "outputId": "15d591e9-65a0-46c3-88ad-97dc3731a09c"
      },
      "source": [
        "barWidth = 0.25\r\n",
        "fig = plt.subplots(figsize =(12, 8)) \r\n",
        "idx = [3, 2, 1, 0, 4, 5]   \r\n",
        "# set height of bar \r\n",
        "ac_cnt = np.append(ac_level_cnt.to_numpy(), 0)\r\n",
        "pot_cnt = pot_ac_level_cnt.to_numpy()[idx]\r\n",
        "\r\n",
        "# Set position of bar on X axis \r\n",
        "br1 = np.arange(len(ac_cnt)) \r\n",
        "br2 = [x + barWidth for x in br1] \r\n",
        "\r\n",
        "   \r\n",
        "# Make the plot \r\n",
        "plt.bar(br1, ac_cnt, color ='orange', width = barWidth, \r\n",
        "        edgecolor ='grey', label ='Accident Level') \r\n",
        "plt.bar(br2, pot_cnt, color ='g', width = barWidth, \r\n",
        "        edgecolor ='grey', label ='Potential Accident Level') \r\n",
        "\r\n",
        "   \r\n",
        "# Adding Xticks  \r\n",
        "plt.xlabel('Severity Level', fontweight ='bold') \r\n",
        "plt.ylabel('Percentage', fontweight ='bold') \r\n",
        "plt.xticks([r + barWidth for r in range(len(br1))], \r\n",
        "           ac_level_cnt.keys().values) \r\n",
        "plt.title(\"Accident Comparision\")   \r\n",
        "plt.show() "
      ],
      "execution_count": 71,
      "outputs": [
        {
          "output_type": "display_data",
          "data": {
            "image/png": "[encoded data removed]",
            "text/plain": [
              "<Figure size 864x576 with 1 Axes>"
            ]
          },
          "metadata": {
            "tags": [],
            "needs_background": "light"
          }
        }
      ]
    },
    {
      "cell_type": "code",
      "metadata": {
        "id": "huRRRBq2IUTQ"
      },
      "source": [
        ""
      ],
      "execution_count": 71,
      "outputs": []
    }
  ]
}
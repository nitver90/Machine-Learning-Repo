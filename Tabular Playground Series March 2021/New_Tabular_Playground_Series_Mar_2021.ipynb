{
  "nbformat": 4,
  "nbformat_minor": 0,
  "metadata": {
    "kernelspec": {
      "display_name": "Python 3",
      "language": "python",
      "name": "python3"
    },
    "language_info": {
      "codemirror_mode": {
        "name": "ipython",
        "version": 3
      },
      "file_extension": ".py",
      "mimetype": "text/x-python",
      "name": "python",
      "nbconvert_exporter": "python",
      "pygments_lexer": "ipython3",
      "version": "3.8.5"
    },
    "colab": {
      "name": "New Tabular_Playground_Series_Mar_2021_X_G_Boost.ipynb",
      "provenance": [],
      "collapsed_sections": [
        "lVD3nqTUm1FH"
      ],
      "include_colab_link": true
    },
    "accelerator": "TPU"
  },
  "cells": [
    {
      "cell_type": "markdown",
      "metadata": {
        "id": "view-in-github",
        "colab_type": "text"
      },
      "source": [
        "<a href=\"https://colab.research.google.com/github/nitver90/Machine-Learning-Repo/blob/main/Tabular%20Playground%20Series%20March%202021/New_Tabular_Playground_Series_Mar_2021.ipynb\" target=\"_parent\"><img src=\"https://colab.research.google.com/assets/colab-badge.svg\" alt=\"Open In Colab\"/></a>"
      ]
    },
    {
      "cell_type": "code",
      "metadata": {
        "id": "UXuneGTHm1E0"
      },
      "source": [
        "import numpy as np\n",
        "import pandas as pd\n",
        "import seaborn as sb\n",
        "from sklearn.preprocessing import StandardScaler\n",
        "from sklearn.model_selection import train_test_split\n",
        "import matplotlib.pyplot as plt\n",
        "from sklearn.model_selection import RandomizedSearchCV\n",
        "from xgboost import XGBClassifier\n",
        "from sklearn.metrics import confusion_matrix,plot_confusion_matrix,precision_score,recall_score,roc_curve,roc_auc_score,accuracy_score,plot_roc_curve"
      ],
      "execution_count": 1,
      "outputs": []
    },
    {
      "cell_type": "code",
      "metadata": {
        "colab": {
          "base_uri": "https://localhost:8080/"
        },
        "id": "roldaurKnUvc",
        "outputId": "288e37e3-438b-426c-e820-970f37131707"
      },
      "source": [
        "from google.colab import drive\n",
        "drive.mount('/content/drive')"
      ],
      "execution_count": 2,
      "outputs": [
        {
          "output_type": "stream",
          "text": [
            "Mounted at /content/drive\n"
          ],
          "name": "stdout"
        }
      ]
    },
    {
      "cell_type": "code",
      "metadata": {
        "id": "lSs2Unbqm1E2"
      },
      "source": [
        "ds_train = pd.read_csv(\"/content/drive/MyDrive/Colab Notebooks/train.csv\")\n",
        "ds_test = pd.read_csv(\"/content/drive/MyDrive/Colab Notebooks/test.csv\")"
      ],
      "execution_count": 3,
      "outputs": []
    },
    {
      "cell_type": "code",
      "metadata": {
        "id": "z-EGFXGTm1E3"
      },
      "source": [
        "pd.set_option(\"display.max_columns\",None)"
      ],
      "execution_count": 4,
      "outputs": []
    },
    {
      "cell_type": "code",
      "metadata": {
        "id": "qEljAJTxm1E3",
        "colab": {
          "base_uri": "https://localhost:8080/",
          "height": 224
        },
        "outputId": "e4c23a62-daa4-41f4-8e7c-636d2e9ca682"
      },
      "source": [
        "ds_train.head()"
      ],
      "execution_count": 5,
      "outputs": [
        {
          "output_type": "execute_result",
          "data": {
            "text/html": [
              "<div>\n",
              "<style scoped>\n",
              "    .dataframe tbody tr th:only-of-type {\n",
              "        vertical-align: middle;\n",
              "    }\n",
              "\n",
              "    .dataframe tbody tr th {\n",
              "        vertical-align: top;\n",
              "    }\n",
              "\n",
              "    .dataframe thead th {\n",
              "        text-align: right;\n",
              "    }\n",
              "</style>\n",
              "<table border=\"1\" class=\"dataframe\">\n",
              "  <thead>\n",
              "    <tr style=\"text-align: right;\">\n",
              "      <th></th>\n",
              "      <th>id</th>\n",
              "      <th>cat0</th>\n",
              "      <th>cat1</th>\n",
              "      <th>cat2</th>\n",
              "      <th>cat3</th>\n",
              "      <th>cat4</th>\n",
              "      <th>cat5</th>\n",
              "      <th>cat6</th>\n",
              "      <th>cat7</th>\n",
              "      <th>cat8</th>\n",
              "      <th>cat9</th>\n",
              "      <th>cat10</th>\n",
              "      <th>cat11</th>\n",
              "      <th>cat12</th>\n",
              "      <th>cat13</th>\n",
              "      <th>cat14</th>\n",
              "      <th>cat15</th>\n",
              "      <th>cat16</th>\n",
              "      <th>cat17</th>\n",
              "      <th>cat18</th>\n",
              "      <th>cont0</th>\n",
              "      <th>cont1</th>\n",
              "      <th>cont2</th>\n",
              "      <th>cont3</th>\n",
              "      <th>cont4</th>\n",
              "      <th>cont5</th>\n",
              "      <th>cont6</th>\n",
              "      <th>cont7</th>\n",
              "      <th>cont8</th>\n",
              "      <th>cont9</th>\n",
              "      <th>cont10</th>\n",
              "      <th>target</th>\n",
              "    </tr>\n",
              "  </thead>\n",
              "  <tbody>\n",
              "    <tr>\n",
              "      <th>0</th>\n",
              "      <td>0</td>\n",
              "      <td>A</td>\n",
              "      <td>I</td>\n",
              "      <td>A</td>\n",
              "      <td>B</td>\n",
              "      <td>B</td>\n",
              "      <td>BI</td>\n",
              "      <td>A</td>\n",
              "      <td>S</td>\n",
              "      <td>Q</td>\n",
              "      <td>A</td>\n",
              "      <td>LO</td>\n",
              "      <td>A</td>\n",
              "      <td>A</td>\n",
              "      <td>A</td>\n",
              "      <td>A</td>\n",
              "      <td>B</td>\n",
              "      <td>D</td>\n",
              "      <td>D</td>\n",
              "      <td>B</td>\n",
              "      <td>0.629858</td>\n",
              "      <td>0.855349</td>\n",
              "      <td>0.759439</td>\n",
              "      <td>0.795549</td>\n",
              "      <td>0.681917</td>\n",
              "      <td>0.621672</td>\n",
              "      <td>0.592184</td>\n",
              "      <td>0.791921</td>\n",
              "      <td>0.815254</td>\n",
              "      <td>0.965006</td>\n",
              "      <td>0.665915</td>\n",
              "      <td>0</td>\n",
              "    </tr>\n",
              "    <tr>\n",
              "      <th>1</th>\n",
              "      <td>1</td>\n",
              "      <td>A</td>\n",
              "      <td>I</td>\n",
              "      <td>A</td>\n",
              "      <td>A</td>\n",
              "      <td>E</td>\n",
              "      <td>BI</td>\n",
              "      <td>K</td>\n",
              "      <td>W</td>\n",
              "      <td>AD</td>\n",
              "      <td>F</td>\n",
              "      <td>HJ</td>\n",
              "      <td>A</td>\n",
              "      <td>B</td>\n",
              "      <td>A</td>\n",
              "      <td>B</td>\n",
              "      <td>D</td>\n",
              "      <td>B</td>\n",
              "      <td>D</td>\n",
              "      <td>B</td>\n",
              "      <td>0.370727</td>\n",
              "      <td>0.328929</td>\n",
              "      <td>0.386385</td>\n",
              "      <td>0.541366</td>\n",
              "      <td>0.388982</td>\n",
              "      <td>0.357778</td>\n",
              "      <td>0.600044</td>\n",
              "      <td>0.408701</td>\n",
              "      <td>0.399353</td>\n",
              "      <td>0.927406</td>\n",
              "      <td>0.493729</td>\n",
              "      <td>0</td>\n",
              "    </tr>\n",
              "    <tr>\n",
              "      <th>2</th>\n",
              "      <td>2</td>\n",
              "      <td>A</td>\n",
              "      <td>K</td>\n",
              "      <td>A</td>\n",
              "      <td>A</td>\n",
              "      <td>E</td>\n",
              "      <td>BI</td>\n",
              "      <td>A</td>\n",
              "      <td>E</td>\n",
              "      <td>BM</td>\n",
              "      <td>L</td>\n",
              "      <td>DJ</td>\n",
              "      <td>A</td>\n",
              "      <td>B</td>\n",
              "      <td>A</td>\n",
              "      <td>A</td>\n",
              "      <td>B</td>\n",
              "      <td>D</td>\n",
              "      <td>D</td>\n",
              "      <td>B</td>\n",
              "      <td>0.502272</td>\n",
              "      <td>0.322749</td>\n",
              "      <td>0.343255</td>\n",
              "      <td>0.616352</td>\n",
              "      <td>0.793687</td>\n",
              "      <td>0.552877</td>\n",
              "      <td>0.352113</td>\n",
              "      <td>0.388835</td>\n",
              "      <td>0.412303</td>\n",
              "      <td>0.292696</td>\n",
              "      <td>0.549452</td>\n",
              "      <td>0</td>\n",
              "    </tr>\n",
              "    <tr>\n",
              "      <th>3</th>\n",
              "      <td>3</td>\n",
              "      <td>A</td>\n",
              "      <td>K</td>\n",
              "      <td>A</td>\n",
              "      <td>C</td>\n",
              "      <td>E</td>\n",
              "      <td>BI</td>\n",
              "      <td>A</td>\n",
              "      <td>Y</td>\n",
              "      <td>AD</td>\n",
              "      <td>F</td>\n",
              "      <td>KV</td>\n",
              "      <td>A</td>\n",
              "      <td>A</td>\n",
              "      <td>A</td>\n",
              "      <td>A</td>\n",
              "      <td>B</td>\n",
              "      <td>D</td>\n",
              "      <td>D</td>\n",
              "      <td>B</td>\n",
              "      <td>0.934242</td>\n",
              "      <td>0.707663</td>\n",
              "      <td>0.831147</td>\n",
              "      <td>0.807807</td>\n",
              "      <td>0.800032</td>\n",
              "      <td>0.619147</td>\n",
              "      <td>0.221789</td>\n",
              "      <td>0.897617</td>\n",
              "      <td>0.633669</td>\n",
              "      <td>0.760318</td>\n",
              "      <td>0.934242</td>\n",
              "      <td>0</td>\n",
              "    </tr>\n",
              "    <tr>\n",
              "      <th>4</th>\n",
              "      <td>4</td>\n",
              "      <td>A</td>\n",
              "      <td>I</td>\n",
              "      <td>G</td>\n",
              "      <td>B</td>\n",
              "      <td>E</td>\n",
              "      <td>BI</td>\n",
              "      <td>C</td>\n",
              "      <td>G</td>\n",
              "      <td>Q</td>\n",
              "      <td>A</td>\n",
              "      <td>DP</td>\n",
              "      <td>A</td>\n",
              "      <td>A</td>\n",
              "      <td>A</td>\n",
              "      <td>B</td>\n",
              "      <td>B</td>\n",
              "      <td>B</td>\n",
              "      <td>D</td>\n",
              "      <td>B</td>\n",
              "      <td>0.254427</td>\n",
              "      <td>0.274514</td>\n",
              "      <td>0.338818</td>\n",
              "      <td>0.277308</td>\n",
              "      <td>0.610578</td>\n",
              "      <td>0.128291</td>\n",
              "      <td>0.578764</td>\n",
              "      <td>0.279167</td>\n",
              "      <td>0.351103</td>\n",
              "      <td>0.357084</td>\n",
              "      <td>0.328960</td>\n",
              "      <td>1</td>\n",
              "    </tr>\n",
              "  </tbody>\n",
              "</table>\n",
              "</div>"
            ],
            "text/plain": [
              "   id cat0 cat1 cat2 cat3 cat4 cat5 cat6 cat7 cat8 cat9 cat10 cat11 cat12  \\\n",
              "0   0    A    I    A    B    B   BI    A    S    Q    A    LO     A     A   \n",
              "1   1    A    I    A    A    E   BI    K    W   AD    F    HJ     A     B   \n",
              "2   2    A    K    A    A    E   BI    A    E   BM    L    DJ     A     B   \n",
              "3   3    A    K    A    C    E   BI    A    Y   AD    F    KV     A     A   \n",
              "4   4    A    I    G    B    E   BI    C    G    Q    A    DP     A     A   \n",
              "\n",
              "  cat13 cat14 cat15 cat16 cat17 cat18     cont0     cont1     cont2     cont3  \\\n",
              "0     A     A     B     D     D     B  0.629858  0.855349  0.759439  0.795549   \n",
              "1     A     B     D     B     D     B  0.370727  0.328929  0.386385  0.541366   \n",
              "2     A     A     B     D     D     B  0.502272  0.322749  0.343255  0.616352   \n",
              "3     A     A     B     D     D     B  0.934242  0.707663  0.831147  0.807807   \n",
              "4     A     B     B     B     D     B  0.254427  0.274514  0.338818  0.277308   \n",
              "\n",
              "      cont4     cont5     cont6     cont7     cont8     cont9    cont10  \\\n",
              "0  0.681917  0.621672  0.592184  0.791921  0.815254  0.965006  0.665915   \n",
              "1  0.388982  0.357778  0.600044  0.408701  0.399353  0.927406  0.493729   \n",
              "2  0.793687  0.552877  0.352113  0.388835  0.412303  0.292696  0.549452   \n",
              "3  0.800032  0.619147  0.221789  0.897617  0.633669  0.760318  0.934242   \n",
              "4  0.610578  0.128291  0.578764  0.279167  0.351103  0.357084  0.328960   \n",
              "\n",
              "   target  \n",
              "0       0  \n",
              "1       0  \n",
              "2       0  \n",
              "3       0  \n",
              "4       1  "
            ]
          },
          "metadata": {
            "tags": []
          },
          "execution_count": 5
        }
      ]
    },
    {
      "cell_type": "code",
      "metadata": {
        "id": "Xw6ATKAAm1E3",
        "colab": {
          "base_uri": "https://localhost:8080/",
          "height": 333
        },
        "outputId": "5324ed04-86a5-4393-d25a-05992621c2a9"
      },
      "source": [
        "sb.countplot(ds_train.target)\n",
        "plt.show()"
      ],
      "execution_count": 6,
      "outputs": [
        {
          "output_type": "stream",
          "text": [
            "/usr/local/lib/python3.7/dist-packages/seaborn/_decorators.py:43: FutureWarning: Pass the following variable as a keyword arg: x. From version 0.12, the only valid positional argument will be `data`, and passing other arguments without an explicit keyword will result in an error or misinterpretation.\n",
            "  FutureWarning\n"
          ],
          "name": "stderr"
        },
        {
          "output_type": "display_data",
          "data": {
            "image/png": "[encoded data removed]",
            "text/plain": [
              "<Figure size 432x288 with 1 Axes>"
            ]
          },
          "metadata": {
            "tags": [],
            "needs_background": "light"
          }
        }
      ]
    },
    {
      "cell_type": "code",
      "metadata": {
        "id": "9zNp3tlnm1E4",
        "colab": {
          "base_uri": "https://localhost:8080/"
        },
        "outputId": "79af29f0-6d06-4254-ee8b-227b33491410"
      },
      "source": [
        "ds_train.shape"
      ],
      "execution_count": 7,
      "outputs": [
        {
          "output_type": "execute_result",
          "data": {
            "text/plain": [
              "(300000, 32)"
            ]
          },
          "metadata": {
            "tags": []
          },
          "execution_count": 7
        }
      ]
    },
    {
      "cell_type": "code",
      "metadata": {
        "id": "fLyxk9H8m1E4",
        "colab": {
          "base_uri": "https://localhost:8080/",
          "height": 204
        },
        "outputId": "77287776-4df0-479c-c373-39cc16815250"
      },
      "source": [
        "ds_test.head()"
      ],
      "execution_count": 8,
      "outputs": [
        {
          "output_type": "execute_result",
          "data": {
            "text/html": [
              "<div>\n",
              "<style scoped>\n",
              "    .dataframe tbody tr th:only-of-type {\n",
              "        vertical-align: middle;\n",
              "    }\n",
              "\n",
              "    .dataframe tbody tr th {\n",
              "        vertical-align: top;\n",
              "    }\n",
              "\n",
              "    .dataframe thead th {\n",
              "        text-align: right;\n",
              "    }\n",
              "</style>\n",
              "<table border=\"1\" class=\"dataframe\">\n",
              "  <thead>\n",
              "    <tr style=\"text-align: right;\">\n",
              "      <th></th>\n",
              "      <th>id</th>\n",
              "      <th>cat0</th>\n",
              "      <th>cat1</th>\n",
              "      <th>cat2</th>\n",
              "      <th>cat3</th>\n",
              "      <th>cat4</th>\n",
              "      <th>cat5</th>\n",
              "      <th>cat6</th>\n",
              "      <th>cat7</th>\n",
              "      <th>cat8</th>\n",
              "      <th>cat9</th>\n",
              "      <th>cat10</th>\n",
              "      <th>cat11</th>\n",
              "      <th>cat12</th>\n",
              "      <th>cat13</th>\n",
              "      <th>cat14</th>\n",
              "      <th>cat15</th>\n",
              "      <th>cat16</th>\n",
              "      <th>cat17</th>\n",
              "      <th>cat18</th>\n",
              "      <th>cont0</th>\n",
              "      <th>cont1</th>\n",
              "      <th>cont2</th>\n",
              "      <th>cont3</th>\n",
              "      <th>cont4</th>\n",
              "      <th>cont5</th>\n",
              "      <th>cont6</th>\n",
              "      <th>cont7</th>\n",
              "      <th>cont8</th>\n",
              "      <th>cont9</th>\n",
              "      <th>cont10</th>\n",
              "    </tr>\n",
              "  </thead>\n",
              "  <tbody>\n",
              "    <tr>\n",
              "      <th>0</th>\n",
              "      <td>5</td>\n",
              "      <td>A</td>\n",
              "      <td>F</td>\n",
              "      <td>A</td>\n",
              "      <td>A</td>\n",
              "      <td>F</td>\n",
              "      <td>BI</td>\n",
              "      <td>A</td>\n",
              "      <td>AH</td>\n",
              "      <td>AX</td>\n",
              "      <td>A</td>\n",
              "      <td>LF</td>\n",
              "      <td>A</td>\n",
              "      <td>A</td>\n",
              "      <td>A</td>\n",
              "      <td>A</td>\n",
              "      <td>B</td>\n",
              "      <td>D</td>\n",
              "      <td>D</td>\n",
              "      <td>B</td>\n",
              "      <td>0.708120</td>\n",
              "      <td>0.735690</td>\n",
              "      <td>0.578366</td>\n",
              "      <td>0.723154</td>\n",
              "      <td>0.228037</td>\n",
              "      <td>0.356227</td>\n",
              "      <td>0.551249</td>\n",
              "      <td>0.655693</td>\n",
              "      <td>0.598331</td>\n",
              "      <td>0.359987</td>\n",
              "      <td>0.947489</td>\n",
              "    </tr>\n",
              "    <tr>\n",
              "      <th>1</th>\n",
              "      <td>6</td>\n",
              "      <td>A</td>\n",
              "      <td>H</td>\n",
              "      <td>C</td>\n",
              "      <td>A</td>\n",
              "      <td>E</td>\n",
              "      <td>AB</td>\n",
              "      <td>I</td>\n",
              "      <td>F</td>\n",
              "      <td>N</td>\n",
              "      <td>A</td>\n",
              "      <td>MC</td>\n",
              "      <td>A</td>\n",
              "      <td>A</td>\n",
              "      <td>A</td>\n",
              "      <td>B</td>\n",
              "      <td>D</td>\n",
              "      <td>B</td>\n",
              "      <td>D</td>\n",
              "      <td>B</td>\n",
              "      <td>0.611637</td>\n",
              "      <td>0.313703</td>\n",
              "      <td>0.928885</td>\n",
              "      <td>0.516602</td>\n",
              "      <td>0.600169</td>\n",
              "      <td>0.795224</td>\n",
              "      <td>0.248987</td>\n",
              "      <td>0.654614</td>\n",
              "      <td>0.347944</td>\n",
              "      <td>0.565520</td>\n",
              "      <td>0.388580</td>\n",
              "    </tr>\n",
              "    <tr>\n",
              "      <th>2</th>\n",
              "      <td>8</td>\n",
              "      <td>A</td>\n",
              "      <td>N</td>\n",
              "      <td>C</td>\n",
              "      <td>A</td>\n",
              "      <td>F</td>\n",
              "      <td>AB</td>\n",
              "      <td>A</td>\n",
              "      <td>AH</td>\n",
              "      <td>BC</td>\n",
              "      <td>A</td>\n",
              "      <td>FN</td>\n",
              "      <td>A</td>\n",
              "      <td>A</td>\n",
              "      <td>A</td>\n",
              "      <td>B</td>\n",
              "      <td>B</td>\n",
              "      <td>D</td>\n",
              "      <td>D</td>\n",
              "      <td>B</td>\n",
              "      <td>0.456289</td>\n",
              "      <td>0.448201</td>\n",
              "      <td>0.424876</td>\n",
              "      <td>0.344729</td>\n",
              "      <td>0.242073</td>\n",
              "      <td>0.270632</td>\n",
              "      <td>0.746740</td>\n",
              "      <td>0.335590</td>\n",
              "      <td>0.341238</td>\n",
              "      <td>0.252289</td>\n",
              "      <td>0.411592</td>\n",
              "    </tr>\n",
              "    <tr>\n",
              "      <th>3</th>\n",
              "      <td>9</td>\n",
              "      <td>B</td>\n",
              "      <td>L</td>\n",
              "      <td>C</td>\n",
              "      <td>A</td>\n",
              "      <td>F</td>\n",
              "      <td>BI</td>\n",
              "      <td>A</td>\n",
              "      <td>E</td>\n",
              "      <td>AX</td>\n",
              "      <td>A</td>\n",
              "      <td>HK</td>\n",
              "      <td>A</td>\n",
              "      <td>A</td>\n",
              "      <td>A</td>\n",
              "      <td>A</td>\n",
              "      <td>B</td>\n",
              "      <td>D</td>\n",
              "      <td>B</td>\n",
              "      <td>B</td>\n",
              "      <td>0.338692</td>\n",
              "      <td>0.666092</td>\n",
              "      <td>0.598943</td>\n",
              "      <td>0.561971</td>\n",
              "      <td>0.806347</td>\n",
              "      <td>0.735983</td>\n",
              "      <td>0.538724</td>\n",
              "      <td>0.381566</td>\n",
              "      <td>0.481660</td>\n",
              "      <td>0.348514</td>\n",
              "      <td>0.325723</td>\n",
              "    </tr>\n",
              "    <tr>\n",
              "      <th>4</th>\n",
              "      <td>11</td>\n",
              "      <td>A</td>\n",
              "      <td>F</td>\n",
              "      <td>A</td>\n",
              "      <td>B</td>\n",
              "      <td>F</td>\n",
              "      <td>BI</td>\n",
              "      <td>A</td>\n",
              "      <td>AH</td>\n",
              "      <td>I</td>\n",
              "      <td>A</td>\n",
              "      <td>HX</td>\n",
              "      <td>A</td>\n",
              "      <td>A</td>\n",
              "      <td>A</td>\n",
              "      <td>A</td>\n",
              "      <td>D</td>\n",
              "      <td>D</td>\n",
              "      <td>D</td>\n",
              "      <td>B</td>\n",
              "      <td>0.631671</td>\n",
              "      <td>0.772229</td>\n",
              "      <td>0.479572</td>\n",
              "      <td>0.767745</td>\n",
              "      <td>0.252454</td>\n",
              "      <td>0.354810</td>\n",
              "      <td>0.178920</td>\n",
              "      <td>0.763479</td>\n",
              "      <td>0.562491</td>\n",
              "      <td>0.466261</td>\n",
              "      <td>0.585781</td>\n",
              "    </tr>\n",
              "  </tbody>\n",
              "</table>\n",
              "</div>"
            ],
            "text/plain": [
              "   id cat0 cat1 cat2 cat3 cat4 cat5 cat6 cat7 cat8 cat9 cat10 cat11 cat12  \\\n",
              "0   5    A    F    A    A    F   BI    A   AH   AX    A    LF     A     A   \n",
              "1   6    A    H    C    A    E   AB    I    F    N    A    MC     A     A   \n",
              "2   8    A    N    C    A    F   AB    A   AH   BC    A    FN     A     A   \n",
              "3   9    B    L    C    A    F   BI    A    E   AX    A    HK     A     A   \n",
              "4  11    A    F    A    B    F   BI    A   AH    I    A    HX     A     A   \n",
              "\n",
              "  cat13 cat14 cat15 cat16 cat17 cat18     cont0     cont1     cont2     cont3  \\\n",
              "0     A     A     B     D     D     B  0.708120  0.735690  0.578366  0.723154   \n",
              "1     A     B     D     B     D     B  0.611637  0.313703  0.928885  0.516602   \n",
              "2     A     B     B     D     D     B  0.456289  0.448201  0.424876  0.344729   \n",
              "3     A     A     B     D     B     B  0.338692  0.666092  0.598943  0.561971   \n",
              "4     A     A     D     D     D     B  0.631671  0.772229  0.479572  0.767745   \n",
              "\n",
              "      cont4     cont5     cont6     cont7     cont8     cont9    cont10  \n",
              "0  0.228037  0.356227  0.551249  0.655693  0.598331  0.359987  0.947489  \n",
              "1  0.600169  0.795224  0.248987  0.654614  0.347944  0.565520  0.388580  \n",
              "2  0.242073  0.270632  0.746740  0.335590  0.341238  0.252289  0.411592  \n",
              "3  0.806347  0.735983  0.538724  0.381566  0.481660  0.348514  0.325723  \n",
              "4  0.252454  0.354810  0.178920  0.763479  0.562491  0.466261  0.585781  "
            ]
          },
          "metadata": {
            "tags": []
          },
          "execution_count": 8
        }
      ]
    },
    {
      "cell_type": "code",
      "metadata": {
        "id": "fveNL313m1E5",
        "colab": {
          "base_uri": "https://localhost:8080/"
        },
        "outputId": "0e3824bc-4968-4822-ca74-85fbce5cf2b3"
      },
      "source": [
        "ds_test.shape"
      ],
      "execution_count": 9,
      "outputs": [
        {
          "output_type": "execute_result",
          "data": {
            "text/plain": [
              "(200000, 31)"
            ]
          },
          "metadata": {
            "tags": []
          },
          "execution_count": 9
        }
      ]
    },
    {
      "cell_type": "code",
      "metadata": {
        "id": "BBgP4bzUm1E5",
        "colab": {
          "base_uri": "https://localhost:8080/",
          "height": 704
        },
        "outputId": "4f82495e-c619-4997-8740-99432b13f269"
      },
      "source": [
        "plt.figure(figsize=(20,12))\n",
        "heatmap = sb.heatmap(ds_train.corr(), annot=True, cmap=\"autumn\")\n",
        "plt.show()"
      ],
      "execution_count": 10,
      "outputs": [
        {
          "output_type": "display_data",
          "data": {
            "image/png": "[encoded data removed]",
            "text/plain": [
              "<Figure size 1440x864 with 2 Axes>"
            ]
          },
          "metadata": {
            "tags": [],
            "needs_background": "light"
          }
        }
      ]
    },
    {
      "cell_type": "code",
      "metadata": {
        "scrolled": true,
        "id": "sGWMQd1Ym1E6",
        "colab": {
          "base_uri": "https://localhost:8080/",
          "height": 224
        },
        "outputId": "0728021c-a8c9-4f2b-daad-d815e179aa6b"
      },
      "source": [
        "ds_train.head()"
      ],
      "execution_count": 11,
      "outputs": [
        {
          "output_type": "execute_result",
          "data": {
            "text/html": [
              "<div>\n",
              "<style scoped>\n",
              "    .dataframe tbody tr th:only-of-type {\n",
              "        vertical-align: middle;\n",
              "    }\n",
              "\n",
              "    .dataframe tbody tr th {\n",
              "        vertical-align: top;\n",
              "    }\n",
              "\n",
              "    .dataframe thead th {\n",
              "        text-align: right;\n",
              "    }\n",
              "</style>\n",
              "<table border=\"1\" class=\"dataframe\">\n",
              "  <thead>\n",
              "    <tr style=\"text-align: right;\">\n",
              "      <th></th>\n",
              "      <th>id</th>\n",
              "      <th>cat0</th>\n",
              "      <th>cat1</th>\n",
              "      <th>cat2</th>\n",
              "      <th>cat3</th>\n",
              "      <th>cat4</th>\n",
              "      <th>cat5</th>\n",
              "      <th>cat6</th>\n",
              "      <th>cat7</th>\n",
              "      <th>cat8</th>\n",
              "      <th>cat9</th>\n",
              "      <th>cat10</th>\n",
              "      <th>cat11</th>\n",
              "      <th>cat12</th>\n",
              "      <th>cat13</th>\n",
              "      <th>cat14</th>\n",
              "      <th>cat15</th>\n",
              "      <th>cat16</th>\n",
              "      <th>cat17</th>\n",
              "      <th>cat18</th>\n",
              "      <th>cont0</th>\n",
              "      <th>cont1</th>\n",
              "      <th>cont2</th>\n",
              "      <th>cont3</th>\n",
              "      <th>cont4</th>\n",
              "      <th>cont5</th>\n",
              "      <th>cont6</th>\n",
              "      <th>cont7</th>\n",
              "      <th>cont8</th>\n",
              "      <th>cont9</th>\n",
              "      <th>cont10</th>\n",
              "      <th>target</th>\n",
              "    </tr>\n",
              "  </thead>\n",
              "  <tbody>\n",
              "    <tr>\n",
              "      <th>0</th>\n",
              "      <td>0</td>\n",
              "      <td>A</td>\n",
              "      <td>I</td>\n",
              "      <td>A</td>\n",
              "      <td>B</td>\n",
              "      <td>B</td>\n",
              "      <td>BI</td>\n",
              "      <td>A</td>\n",
              "      <td>S</td>\n",
              "      <td>Q</td>\n",
              "      <td>A</td>\n",
              "      <td>LO</td>\n",
              "      <td>A</td>\n",
              "      <td>A</td>\n",
              "      <td>A</td>\n",
              "      <td>A</td>\n",
              "      <td>B</td>\n",
              "      <td>D</td>\n",
              "      <td>D</td>\n",
              "      <td>B</td>\n",
              "      <td>0.629858</td>\n",
              "      <td>0.855349</td>\n",
              "      <td>0.759439</td>\n",
              "      <td>0.795549</td>\n",
              "      <td>0.681917</td>\n",
              "      <td>0.621672</td>\n",
              "      <td>0.592184</td>\n",
              "      <td>0.791921</td>\n",
              "      <td>0.815254</td>\n",
              "      <td>0.965006</td>\n",
              "      <td>0.665915</td>\n",
              "      <td>0</td>\n",
              "    </tr>\n",
              "    <tr>\n",
              "      <th>1</th>\n",
              "      <td>1</td>\n",
              "      <td>A</td>\n",
              "      <td>I</td>\n",
              "      <td>A</td>\n",
              "      <td>A</td>\n",
              "      <td>E</td>\n",
              "      <td>BI</td>\n",
              "      <td>K</td>\n",
              "      <td>W</td>\n",
              "      <td>AD</td>\n",
              "      <td>F</td>\n",
              "      <td>HJ</td>\n",
              "      <td>A</td>\n",
              "      <td>B</td>\n",
              "      <td>A</td>\n",
              "      <td>B</td>\n",
              "      <td>D</td>\n",
              "      <td>B</td>\n",
              "      <td>D</td>\n",
              "      <td>B</td>\n",
              "      <td>0.370727</td>\n",
              "      <td>0.328929</td>\n",
              "      <td>0.386385</td>\n",
              "      <td>0.541366</td>\n",
              "      <td>0.388982</td>\n",
              "      <td>0.357778</td>\n",
              "      <td>0.600044</td>\n",
              "      <td>0.408701</td>\n",
              "      <td>0.399353</td>\n",
              "      <td>0.927406</td>\n",
              "      <td>0.493729</td>\n",
              "      <td>0</td>\n",
              "    </tr>\n",
              "    <tr>\n",
              "      <th>2</th>\n",
              "      <td>2</td>\n",
              "      <td>A</td>\n",
              "      <td>K</td>\n",
              "      <td>A</td>\n",
              "      <td>A</td>\n",
              "      <td>E</td>\n",
              "      <td>BI</td>\n",
              "      <td>A</td>\n",
              "      <td>E</td>\n",
              "      <td>BM</td>\n",
              "      <td>L</td>\n",
              "      <td>DJ</td>\n",
              "      <td>A</td>\n",
              "      <td>B</td>\n",
              "      <td>A</td>\n",
              "      <td>A</td>\n",
              "      <td>B</td>\n",
              "      <td>D</td>\n",
              "      <td>D</td>\n",
              "      <td>B</td>\n",
              "      <td>0.502272</td>\n",
              "      <td>0.322749</td>\n",
              "      <td>0.343255</td>\n",
              "      <td>0.616352</td>\n",
              "      <td>0.793687</td>\n",
              "      <td>0.552877</td>\n",
              "      <td>0.352113</td>\n",
              "      <td>0.388835</td>\n",
              "      <td>0.412303</td>\n",
              "      <td>0.292696</td>\n",
              "      <td>0.549452</td>\n",
              "      <td>0</td>\n",
              "    </tr>\n",
              "    <tr>\n",
              "      <th>3</th>\n",
              "      <td>3</td>\n",
              "      <td>A</td>\n",
              "      <td>K</td>\n",
              "      <td>A</td>\n",
              "      <td>C</td>\n",
              "      <td>E</td>\n",
              "      <td>BI</td>\n",
              "      <td>A</td>\n",
              "      <td>Y</td>\n",
              "      <td>AD</td>\n",
              "      <td>F</td>\n",
              "      <td>KV</td>\n",
              "      <td>A</td>\n",
              "      <td>A</td>\n",
              "      <td>A</td>\n",
              "      <td>A</td>\n",
              "      <td>B</td>\n",
              "      <td>D</td>\n",
              "      <td>D</td>\n",
              "      <td>B</td>\n",
              "      <td>0.934242</td>\n",
              "      <td>0.707663</td>\n",
              "      <td>0.831147</td>\n",
              "      <td>0.807807</td>\n",
              "      <td>0.800032</td>\n",
              "      <td>0.619147</td>\n",
              "      <td>0.221789</td>\n",
              "      <td>0.897617</td>\n",
              "      <td>0.633669</td>\n",
              "      <td>0.760318</td>\n",
              "      <td>0.934242</td>\n",
              "      <td>0</td>\n",
              "    </tr>\n",
              "    <tr>\n",
              "      <th>4</th>\n",
              "      <td>4</td>\n",
              "      <td>A</td>\n",
              "      <td>I</td>\n",
              "      <td>G</td>\n",
              "      <td>B</td>\n",
              "      <td>E</td>\n",
              "      <td>BI</td>\n",
              "      <td>C</td>\n",
              "      <td>G</td>\n",
              "      <td>Q</td>\n",
              "      <td>A</td>\n",
              "      <td>DP</td>\n",
              "      <td>A</td>\n",
              "      <td>A</td>\n",
              "      <td>A</td>\n",
              "      <td>B</td>\n",
              "      <td>B</td>\n",
              "      <td>B</td>\n",
              "      <td>D</td>\n",
              "      <td>B</td>\n",
              "      <td>0.254427</td>\n",
              "      <td>0.274514</td>\n",
              "      <td>0.338818</td>\n",
              "      <td>0.277308</td>\n",
              "      <td>0.610578</td>\n",
              "      <td>0.128291</td>\n",
              "      <td>0.578764</td>\n",
              "      <td>0.279167</td>\n",
              "      <td>0.351103</td>\n",
              "      <td>0.357084</td>\n",
              "      <td>0.328960</td>\n",
              "      <td>1</td>\n",
              "    </tr>\n",
              "  </tbody>\n",
              "</table>\n",
              "</div>"
            ],
            "text/plain": [
              "   id cat0 cat1 cat2 cat3 cat4 cat5 cat6 cat7 cat8 cat9 cat10 cat11 cat12  \\\n",
              "0   0    A    I    A    B    B   BI    A    S    Q    A    LO     A     A   \n",
              "1   1    A    I    A    A    E   BI    K    W   AD    F    HJ     A     B   \n",
              "2   2    A    K    A    A    E   BI    A    E   BM    L    DJ     A     B   \n",
              "3   3    A    K    A    C    E   BI    A    Y   AD    F    KV     A     A   \n",
              "4   4    A    I    G    B    E   BI    C    G    Q    A    DP     A     A   \n",
              "\n",
              "  cat13 cat14 cat15 cat16 cat17 cat18     cont0     cont1     cont2     cont3  \\\n",
              "0     A     A     B     D     D     B  0.629858  0.855349  0.759439  0.795549   \n",
              "1     A     B     D     B     D     B  0.370727  0.328929  0.386385  0.541366   \n",
              "2     A     A     B     D     D     B  0.502272  0.322749  0.343255  0.616352   \n",
              "3     A     A     B     D     D     B  0.934242  0.707663  0.831147  0.807807   \n",
              "4     A     B     B     B     D     B  0.254427  0.274514  0.338818  0.277308   \n",
              "\n",
              "      cont4     cont5     cont6     cont7     cont8     cont9    cont10  \\\n",
              "0  0.681917  0.621672  0.592184  0.791921  0.815254  0.965006  0.665915   \n",
              "1  0.388982  0.357778  0.600044  0.408701  0.399353  0.927406  0.493729   \n",
              "2  0.793687  0.552877  0.352113  0.388835  0.412303  0.292696  0.549452   \n",
              "3  0.800032  0.619147  0.221789  0.897617  0.633669  0.760318  0.934242   \n",
              "4  0.610578  0.128291  0.578764  0.279167  0.351103  0.357084  0.328960   \n",
              "\n",
              "   target  \n",
              "0       0  \n",
              "1       0  \n",
              "2       0  \n",
              "3       0  \n",
              "4       1  "
            ]
          },
          "metadata": {
            "tags": []
          },
          "execution_count": 11
        }
      ]
    },
    {
      "cell_type": "code",
      "metadata": {
        "scrolled": true,
        "id": "vd4baOLSm1E6",
        "colab": {
          "base_uri": "https://localhost:8080/"
        },
        "outputId": "1f0c89be-4a08-4070-8af3-d6ed8de73b73"
      },
      "source": [
        "ds_train.shape"
      ],
      "execution_count": 12,
      "outputs": [
        {
          "output_type": "execute_result",
          "data": {
            "text/plain": [
              "(300000, 32)"
            ]
          },
          "metadata": {
            "tags": []
          },
          "execution_count": 12
        }
      ]
    },
    {
      "cell_type": "code",
      "metadata": {
        "id": "07w1FdPpm1E7"
      },
      "source": [
        "def value_count (dataset):    \n",
        "    for col in dataset.iloc[:,1:19]:\n",
        "        print(col)\n",
        "        value_count = dataset[col].value_counts().sort_index()\n",
        "        print(value_count)\n",
        "        print(\"Unique Values Number : \" ,len(dataset[col].value_counts().sort_index()))\n",
        "        print()"
      ],
      "execution_count": 13,
      "outputs": []
    },
    {
      "cell_type": "code",
      "metadata": {
        "id": "cmVrkJKwm1E7",
        "colab": {
          "base_uri": "https://localhost:8080/"
        },
        "outputId": "4debd960-1777-4d70-adff-b9d30ce6e5b2"
      },
      "source": [
        "value_count(ds_train)"
      ],
      "execution_count": 14,
      "outputs": [
        {
          "output_type": "stream",
          "text": [
            "cat0\n",
            "A    223525\n",
            "B     76475\n",
            "Name: cat0, dtype: int64\n",
            "Unique Values Number :  2\n",
            "\n",
            "cat1\n",
            "A    10547\n",
            "B     6847\n",
            "C     1703\n",
            "D      414\n",
            "E      235\n",
            "F    43818\n",
            "G    11248\n",
            "H    17257\n",
            "I    90809\n",
            "J    10036\n",
            "K    41870\n",
            "L    31891\n",
            "M    11354\n",
            "N    13231\n",
            "O     8740\n",
            "Name: cat1, dtype: int64\n",
            "Unique Values Number :  15\n",
            "\n",
            "cat2\n",
            "A    168694\n",
            "B       218\n",
            "C     38875\n",
            "D     22720\n",
            "E       110\n",
            "F      9877\n",
            "G     18225\n",
            "H       219\n",
            "I      5287\n",
            "J      9102\n",
            "K       126\n",
            "L      3997\n",
            "M      8068\n",
            "N       340\n",
            "O      2749\n",
            "Q     10901\n",
            "R       129\n",
            "S       197\n",
            "U       166\n",
            "Name: cat2, dtype: int64\n",
            "Unique Values Number :  19\n",
            "\n",
            "cat3\n",
            "A    187251\n",
            "B     79951\n",
            "C     15957\n",
            "D      8676\n",
            "E      3318\n",
            "F      2489\n",
            "G       372\n",
            "H       274\n",
            "I       177\n",
            "J       286\n",
            "K       846\n",
            "L       292\n",
            "N       111\n",
            "Name: cat3, dtype: int64\n",
            "Unique Values Number :  13\n",
            "\n",
            "cat4\n",
            "A        92\n",
            "B       301\n",
            "C       506\n",
            "D     27919\n",
            "E    129385\n",
            "F     76678\n",
            "G     30754\n",
            "H     23388\n",
            "I      3241\n",
            "J      4307\n",
            "K      1481\n",
            "L       214\n",
            "M       547\n",
            "N        81\n",
            "O       330\n",
            "P       100\n",
            "Q       117\n",
            "R        59\n",
            "S       285\n",
            "T       215\n",
            "Name: cat4, dtype: int64\n",
            "Unique Values Number :  20\n",
            "\n",
            "cat5\n",
            "A        86\n",
            "AA      103\n",
            "AB    41639\n",
            "AE      143\n",
            "AF      112\n",
            "      ...  \n",
            "U       113\n",
            "V       131\n",
            "X        98\n",
            "Y        90\n",
            "ZZ       25\n",
            "Name: cat5, Length: 84, dtype: int64\n",
            "Unique Values Number :  84\n",
            "\n",
            "cat6\n",
            "A    187896\n",
            "B       172\n",
            "C     71427\n",
            "D       214\n",
            "E     16581\n",
            "F       312\n",
            "G     11198\n",
            "I      6648\n",
            "K      1552\n",
            "M      2182\n",
            "O       673\n",
            "Q       124\n",
            "S       583\n",
            "U       155\n",
            "W        71\n",
            "Y       212\n",
            "Name: cat6, dtype: int64\n",
            "Unique Values Number :  16\n",
            "\n",
            "cat7\n",
            "A      6432\n",
            "AA     3692\n",
            "AB      539\n",
            "AC      660\n",
            "AD     1826\n",
            "AE      458\n",
            "AF    11455\n",
            "AG     1706\n",
            "AH    45818\n",
            "AI     7668\n",
            "AJ      229\n",
            "AK     9697\n",
            "AL     1572\n",
            "AM     1183\n",
            "AN    16097\n",
            "AO     1734\n",
            "AP     2311\n",
            "AQ      205\n",
            "AR     1121\n",
            "AS    25326\n",
            "AT      918\n",
            "AU      671\n",
            "AV     7958\n",
            "AW     5322\n",
            "AX     2635\n",
            "AY     1749\n",
            "B      1408\n",
            "BA      781\n",
            "C      4324\n",
            "D       835\n",
            "E     39601\n",
            "F      5550\n",
            "G      5656\n",
            "H      1692\n",
            "I       640\n",
            "J     16135\n",
            "K      6264\n",
            "L       941\n",
            "M       907\n",
            "N     14983\n",
            "O      2538\n",
            "P       611\n",
            "Q      1306\n",
            "R      2991\n",
            "S      7921\n",
            "T       379\n",
            "U     15674\n",
            "V      1798\n",
            "W      1525\n",
            "X       662\n",
            "Y      5896\n",
            "Name: cat7, dtype: int64\n",
            "Unique Values Number :  51\n",
            "\n",
            "cat8\n",
            "A      3288\n",
            "AB      115\n",
            "AC       57\n",
            "AD    14663\n",
            "AE    24442\n",
            "      ...  \n",
            "T        67\n",
            "U       157\n",
            "V       219\n",
            "X     14219\n",
            "Y     20864\n",
            "Name: cat8, Length: 61, dtype: int64\n",
            "Unique Values Number :  61\n",
            "\n",
            "cat9\n",
            "A    201945\n",
            "B       280\n",
            "C     23360\n",
            "D       189\n",
            "E     33046\n",
            "F     14371\n",
            "G       214\n",
            "I      7931\n",
            "J      8982\n",
            "L      2957\n",
            "N      4785\n",
            "O       122\n",
            "Q       211\n",
            "R       862\n",
            "S        60\n",
            "U       101\n",
            "V       360\n",
            "W       125\n",
            "X        99\n",
            "Name: cat9, dtype: int64\n",
            "Unique Values Number :  19\n",
            "\n",
            "cat10\n",
            "AA    273\n",
            "AB    259\n",
            "AC    147\n",
            "AD    489\n",
            "AE    303\n",
            "     ... \n",
            "T     279\n",
            "V     470\n",
            "W     196\n",
            "X      47\n",
            "Y       4\n",
            "Name: cat10, Length: 299, dtype: int64\n",
            "Unique Values Number :  299\n",
            "\n",
            "cat11\n",
            "A    258932\n",
            "B     41068\n",
            "Name: cat11, dtype: int64\n",
            "Unique Values Number :  2\n",
            "\n",
            "cat12\n",
            "A    257139\n",
            "B     42861\n",
            "Name: cat12, dtype: int64\n",
            "Unique Values Number :  2\n",
            "\n",
            "cat13\n",
            "A    292712\n",
            "B      7288\n",
            "Name: cat13, dtype: int64\n",
            "Unique Values Number :  2\n",
            "\n",
            "cat14\n",
            "A    160166\n",
            "B    139834\n",
            "Name: cat14, dtype: int64\n",
            "Unique Values Number :  2\n",
            "\n",
            "cat15\n",
            "A     11072\n",
            "B    203574\n",
            "C      2166\n",
            "D     83188\n",
            "Name: cat15, dtype: int64\n",
            "Unique Values Number :  4\n",
            "\n",
            "cat16\n",
            "A      3184\n",
            "B     84541\n",
            "C      5369\n",
            "D    206906\n",
            "Name: cat16, dtype: int64\n",
            "Unique Values Number :  4\n",
            "\n",
            "cat17\n",
            "A      1414\n",
            "B     26136\n",
            "C     25325\n",
            "D    247125\n",
            "Name: cat17, dtype: int64\n",
            "Unique Values Number :  4\n",
            "\n"
          ],
          "name": "stdout"
        }
      ]
    },
    {
      "cell_type": "code",
      "metadata": {
        "id": "HDjE6lGWm1E7",
        "colab": {
          "base_uri": "https://localhost:8080/"
        },
        "outputId": "cb0b6f80-d4e2-4e14-d0be-609650aa6b42"
      },
      "source": [
        "value_count(ds_test)"
      ],
      "execution_count": 15,
      "outputs": [
        {
          "output_type": "stream",
          "text": [
            "cat0\n",
            "A    149023\n",
            "B     50977\n",
            "Name: cat0, dtype: int64\n",
            "Unique Values Number :  2\n",
            "\n",
            "cat1\n",
            "A     7256\n",
            "B     4522\n",
            "C     1164\n",
            "D      310\n",
            "E      140\n",
            "F    29123\n",
            "G     7497\n",
            "H    11547\n",
            "I    60152\n",
            "J     6657\n",
            "K    28221\n",
            "L    21207\n",
            "M     7709\n",
            "N     8717\n",
            "O     5778\n",
            "Name: cat1, dtype: int64\n",
            "Unique Values Number :  15\n",
            "\n",
            "cat2\n",
            "A    112465\n",
            "B       161\n",
            "C     25683\n",
            "D     15113\n",
            "E        77\n",
            "F      6538\n",
            "G     12284\n",
            "H       139\n",
            "I      3630\n",
            "J      6107\n",
            "K        79\n",
            "L      2702\n",
            "M      5461\n",
            "N       248\n",
            "O      1799\n",
            "Q      7195\n",
            "R        78\n",
            "S       124\n",
            "U       117\n",
            "Name: cat2, dtype: int64\n",
            "Unique Values Number :  19\n",
            "\n",
            "cat3\n",
            "A    124506\n",
            "B     53476\n",
            "C     10600\n",
            "D      5918\n",
            "E      2130\n",
            "F      1687\n",
            "G       251\n",
            "H       199\n",
            "I       146\n",
            "J       197\n",
            "K       609\n",
            "L       203\n",
            "N        78\n",
            "Name: cat3, dtype: int64\n",
            "Unique Values Number :  13\n",
            "\n",
            "cat4\n",
            "A       50\n",
            "B      183\n",
            "C      348\n",
            "D    18882\n",
            "E    86073\n",
            "F    51016\n",
            "G    20496\n",
            "H    15621\n",
            "I     2075\n",
            "J     2974\n",
            "K      987\n",
            "L      130\n",
            "M      409\n",
            "N       60\n",
            "O      240\n",
            "P       68\n",
            "Q       57\n",
            "R       32\n",
            "S      169\n",
            "T      130\n",
            "Name: cat4, dtype: int64\n",
            "Unique Values Number :  20\n",
            "\n",
            "cat5\n",
            "A        53\n",
            "AA       58\n",
            "AB    27968\n",
            "AE       91\n",
            "AF       81\n",
            "      ...  \n",
            "U        94\n",
            "V        71\n",
            "X        67\n",
            "Y        61\n",
            "ZZ       28\n",
            "Name: cat5, Length: 84, dtype: int64\n",
            "Unique Values Number :  84\n",
            "\n",
            "cat6\n",
            "A    125098\n",
            "B       107\n",
            "C     47839\n",
            "D       134\n",
            "E     10993\n",
            "F       207\n",
            "G      7433\n",
            "I      4493\n",
            "K       967\n",
            "M      1542\n",
            "O       462\n",
            "Q        85\n",
            "S       360\n",
            "U        96\n",
            "W        47\n",
            "Y       137\n",
            "Name: cat6, dtype: int64\n",
            "Unique Values Number :  16\n",
            "\n",
            "cat7\n",
            "A      4250\n",
            "AA     2584\n",
            "AB      381\n",
            "AC      435\n",
            "AD     1231\n",
            "AE      318\n",
            "AF     7551\n",
            "AG     1091\n",
            "AH    30593\n",
            "AI     4925\n",
            "AJ      155\n",
            "AK     6476\n",
            "AL     1035\n",
            "AM      751\n",
            "AN    10701\n",
            "AO     1116\n",
            "AP     1647\n",
            "AQ      122\n",
            "AR      689\n",
            "AS    16988\n",
            "AT      599\n",
            "AU      449\n",
            "AV     5278\n",
            "AW     3560\n",
            "AX     1830\n",
            "AY     1196\n",
            "B       867\n",
            "BA      525\n",
            "C      2913\n",
            "D       571\n",
            "E     26240\n",
            "F      3684\n",
            "G      3757\n",
            "H      1128\n",
            "I       452\n",
            "J     10798\n",
            "K      4257\n",
            "L       697\n",
            "M       577\n",
            "N     10023\n",
            "O      1617\n",
            "P       406\n",
            "Q       896\n",
            "R      1944\n",
            "S      5311\n",
            "T       219\n",
            "U     10644\n",
            "V      1188\n",
            "W       957\n",
            "X       404\n",
            "Y      3974\n",
            "Name: cat7, dtype: int64\n",
            "Unique Values Number :  51\n",
            "\n",
            "cat8\n",
            "A      2143\n",
            "AB       79\n",
            "AC       44\n",
            "AD     9956\n",
            "AE    16076\n",
            "      ...  \n",
            "T        54\n",
            "U       113\n",
            "V       131\n",
            "X      9727\n",
            "Y     13969\n",
            "Name: cat8, Length: 61, dtype: int64\n",
            "Unique Values Number :  61\n",
            "\n",
            "cat9\n",
            "A    134223\n",
            "B       190\n",
            "C     15532\n",
            "D       115\n",
            "E     22146\n",
            "F      9883\n",
            "G       134\n",
            "I      5181\n",
            "J      6274\n",
            "L      2011\n",
            "N      3075\n",
            "O        99\n",
            "Q       135\n",
            "R       536\n",
            "S        30\n",
            "U        89\n",
            "V       233\n",
            "W        69\n",
            "X        45\n",
            "Name: cat9, dtype: int64\n",
            "Unique Values Number :  19\n",
            "\n",
            "cat10\n",
            "AA    169\n",
            "AB    139\n",
            "AC     87\n",
            "AD    321\n",
            "AE    202\n",
            "     ... \n",
            "T     193\n",
            "V     288\n",
            "W     123\n",
            "X      34\n",
            "Y       3\n",
            "Name: cat10, Length: 295, dtype: int64\n",
            "Unique Values Number :  295\n",
            "\n",
            "cat11\n",
            "A    172586\n",
            "B     27414\n",
            "Name: cat11, dtype: int64\n",
            "Unique Values Number :  2\n",
            "\n",
            "cat12\n",
            "A    171098\n",
            "B     28902\n",
            "Name: cat12, dtype: int64\n",
            "Unique Values Number :  2\n",
            "\n",
            "cat13\n",
            "A    195016\n",
            "B      4984\n",
            "Name: cat13, dtype: int64\n",
            "Unique Values Number :  2\n",
            "\n",
            "cat14\n",
            "A    106607\n",
            "B     93393\n",
            "Name: cat14, dtype: int64\n",
            "Unique Values Number :  2\n",
            "\n",
            "cat15\n",
            "A      7311\n",
            "B    135542\n",
            "C      1433\n",
            "D     55714\n",
            "Name: cat15, dtype: int64\n",
            "Unique Values Number :  4\n",
            "\n",
            "cat16\n",
            "A      2036\n",
            "B     56405\n",
            "C      3651\n",
            "D    137908\n",
            "Name: cat16, dtype: int64\n",
            "Unique Values Number :  4\n",
            "\n",
            "cat17\n",
            "A       902\n",
            "B     17234\n",
            "C     16798\n",
            "D    165066\n",
            "Name: cat17, dtype: int64\n",
            "Unique Values Number :  4\n",
            "\n"
          ],
          "name": "stdout"
        }
      ]
    },
    {
      "cell_type": "code",
      "metadata": {
        "scrolled": true,
        "id": "2W5tCteSm1E8"
      },
      "source": [
        "from sklearn.preprocessing import LabelEncoder\n",
        "for col in ds_train.iloc[:,1:20]:\n",
        "    le = LabelEncoder()\n",
        "    ds_train[col] = le.fit_transform(ds_train[col])"
      ],
      "execution_count": 16,
      "outputs": []
    },
    {
      "cell_type": "code",
      "metadata": {
        "id": "-Qn6FGwWm1E8",
        "colab": {
          "base_uri": "https://localhost:8080/",
          "height": 439
        },
        "outputId": "a088460a-06a4-4042-b2d3-70a86b27b626"
      },
      "source": [
        "ds_train"
      ],
      "execution_count": 17,
      "outputs": [
        {
          "output_type": "execute_result",
          "data": {
            "text/html": [
              "<div>\n",
              "<style scoped>\n",
              "    .dataframe tbody tr th:only-of-type {\n",
              "        vertical-align: middle;\n",
              "    }\n",
              "\n",
              "    .dataframe tbody tr th {\n",
              "        vertical-align: top;\n",
              "    }\n",
              "\n",
              "    .dataframe thead th {\n",
              "        text-align: right;\n",
              "    }\n",
              "</style>\n",
              "<table border=\"1\" class=\"dataframe\">\n",
              "  <thead>\n",
              "    <tr style=\"text-align: right;\">\n",
              "      <th></th>\n",
              "      <th>id</th>\n",
              "      <th>cat0</th>\n",
              "      <th>cat1</th>\n",
              "      <th>cat2</th>\n",
              "      <th>cat3</th>\n",
              "      <th>cat4</th>\n",
              "      <th>cat5</th>\n",
              "      <th>cat6</th>\n",
              "      <th>cat7</th>\n",
              "      <th>cat8</th>\n",
              "      <th>cat9</th>\n",
              "      <th>cat10</th>\n",
              "      <th>cat11</th>\n",
              "      <th>cat12</th>\n",
              "      <th>cat13</th>\n",
              "      <th>cat14</th>\n",
              "      <th>cat15</th>\n",
              "      <th>cat16</th>\n",
              "      <th>cat17</th>\n",
              "      <th>cat18</th>\n",
              "      <th>cont0</th>\n",
              "      <th>cont1</th>\n",
              "      <th>cont2</th>\n",
              "      <th>cont3</th>\n",
              "      <th>cont4</th>\n",
              "      <th>cont5</th>\n",
              "      <th>cont6</th>\n",
              "      <th>cont7</th>\n",
              "      <th>cont8</th>\n",
              "      <th>cont9</th>\n",
              "      <th>cont10</th>\n",
              "      <th>target</th>\n",
              "    </tr>\n",
              "  </thead>\n",
              "  <tbody>\n",
              "    <tr>\n",
              "      <th>0</th>\n",
              "      <td>0</td>\n",
              "      <td>0</td>\n",
              "      <td>8</td>\n",
              "      <td>0</td>\n",
              "      <td>1</td>\n",
              "      <td>1</td>\n",
              "      <td>33</td>\n",
              "      <td>0</td>\n",
              "      <td>44</td>\n",
              "      <td>54</td>\n",
              "      <td>0</td>\n",
              "      <td>258</td>\n",
              "      <td>0</td>\n",
              "      <td>0</td>\n",
              "      <td>0</td>\n",
              "      <td>0</td>\n",
              "      <td>1</td>\n",
              "      <td>3</td>\n",
              "      <td>3</td>\n",
              "      <td>1</td>\n",
              "      <td>0.629858</td>\n",
              "      <td>0.855349</td>\n",
              "      <td>0.759439</td>\n",
              "      <td>0.795549</td>\n",
              "      <td>0.681917</td>\n",
              "      <td>0.621672</td>\n",
              "      <td>0.592184</td>\n",
              "      <td>0.791921</td>\n",
              "      <td>0.815254</td>\n",
              "      <td>0.965006</td>\n",
              "      <td>0.665915</td>\n",
              "      <td>0</td>\n",
              "    </tr>\n",
              "    <tr>\n",
              "      <th>1</th>\n",
              "      <td>1</td>\n",
              "      <td>0</td>\n",
              "      <td>8</td>\n",
              "      <td>0</td>\n",
              "      <td>0</td>\n",
              "      <td>4</td>\n",
              "      <td>33</td>\n",
              "      <td>8</td>\n",
              "      <td>48</td>\n",
              "      <td>3</td>\n",
              "      <td>5</td>\n",
              "      <td>162</td>\n",
              "      <td>0</td>\n",
              "      <td>1</td>\n",
              "      <td>0</td>\n",
              "      <td>1</td>\n",
              "      <td>3</td>\n",
              "      <td>1</td>\n",
              "      <td>3</td>\n",
              "      <td>1</td>\n",
              "      <td>0.370727</td>\n",
              "      <td>0.328929</td>\n",
              "      <td>0.386385</td>\n",
              "      <td>0.541366</td>\n",
              "      <td>0.388982</td>\n",
              "      <td>0.357778</td>\n",
              "      <td>0.600044</td>\n",
              "      <td>0.408701</td>\n",
              "      <td>0.399353</td>\n",
              "      <td>0.927406</td>\n",
              "      <td>0.493729</td>\n",
              "      <td>0</td>\n",
              "    </tr>\n",
              "    <tr>\n",
              "      <th>2</th>\n",
              "      <td>2</td>\n",
              "      <td>0</td>\n",
              "      <td>10</td>\n",
              "      <td>0</td>\n",
              "      <td>0</td>\n",
              "      <td>4</td>\n",
              "      <td>33</td>\n",
              "      <td>0</td>\n",
              "      <td>30</td>\n",
              "      <td>38</td>\n",
              "      <td>9</td>\n",
              "      <td>69</td>\n",
              "      <td>0</td>\n",
              "      <td>1</td>\n",
              "      <td>0</td>\n",
              "      <td>0</td>\n",
              "      <td>1</td>\n",
              "      <td>3</td>\n",
              "      <td>3</td>\n",
              "      <td>1</td>\n",
              "      <td>0.502272</td>\n",
              "      <td>0.322749</td>\n",
              "      <td>0.343255</td>\n",
              "      <td>0.616352</td>\n",
              "      <td>0.793687</td>\n",
              "      <td>0.552877</td>\n",
              "      <td>0.352113</td>\n",
              "      <td>0.388835</td>\n",
              "      <td>0.412303</td>\n",
              "      <td>0.292696</td>\n",
              "      <td>0.549452</td>\n",
              "      <td>0</td>\n",
              "    </tr>\n",
              "    <tr>\n",
              "      <th>3</th>\n",
              "      <td>3</td>\n",
              "      <td>0</td>\n",
              "      <td>10</td>\n",
              "      <td>0</td>\n",
              "      <td>2</td>\n",
              "      <td>4</td>\n",
              "      <td>33</td>\n",
              "      <td>0</td>\n",
              "      <td>50</td>\n",
              "      <td>3</td>\n",
              "      <td>5</td>\n",
              "      <td>241</td>\n",
              "      <td>0</td>\n",
              "      <td>0</td>\n",
              "      <td>0</td>\n",
              "      <td>0</td>\n",
              "      <td>1</td>\n",
              "      <td>3</td>\n",
              "      <td>3</td>\n",
              "      <td>1</td>\n",
              "      <td>0.934242</td>\n",
              "      <td>0.707663</td>\n",
              "      <td>0.831147</td>\n",
              "      <td>0.807807</td>\n",
              "      <td>0.800032</td>\n",
              "      <td>0.619147</td>\n",
              "      <td>0.221789</td>\n",
              "      <td>0.897617</td>\n",
              "      <td>0.633669</td>\n",
              "      <td>0.760318</td>\n",
              "      <td>0.934242</td>\n",
              "      <td>0</td>\n",
              "    </tr>\n",
              "    <tr>\n",
              "      <th>4</th>\n",
              "      <td>4</td>\n",
              "      <td>0</td>\n",
              "      <td>8</td>\n",
              "      <td>6</td>\n",
              "      <td>1</td>\n",
              "      <td>4</td>\n",
              "      <td>33</td>\n",
              "      <td>2</td>\n",
              "      <td>32</td>\n",
              "      <td>54</td>\n",
              "      <td>0</td>\n",
              "      <td>75</td>\n",
              "      <td>0</td>\n",
              "      <td>0</td>\n",
              "      <td>0</td>\n",
              "      <td>1</td>\n",
              "      <td>1</td>\n",
              "      <td>1</td>\n",
              "      <td>3</td>\n",
              "      <td>1</td>\n",
              "      <td>0.254427</td>\n",
              "      <td>0.274514</td>\n",
              "      <td>0.338818</td>\n",
              "      <td>0.277308</td>\n",
              "      <td>0.610578</td>\n",
              "      <td>0.128291</td>\n",
              "      <td>0.578764</td>\n",
              "      <td>0.279167</td>\n",
              "      <td>0.351103</td>\n",
              "      <td>0.357084</td>\n",
              "      <td>0.328960</td>\n",
              "      <td>1</td>\n",
              "    </tr>\n",
              "    <tr>\n",
              "      <th>...</th>\n",
              "      <td>...</td>\n",
              "      <td>...</td>\n",
              "      <td>...</td>\n",
              "      <td>...</td>\n",
              "      <td>...</td>\n",
              "      <td>...</td>\n",
              "      <td>...</td>\n",
              "      <td>...</td>\n",
              "      <td>...</td>\n",
              "      <td>...</td>\n",
              "      <td>...</td>\n",
              "      <td>...</td>\n",
              "      <td>...</td>\n",
              "      <td>...</td>\n",
              "      <td>...</td>\n",
              "      <td>...</td>\n",
              "      <td>...</td>\n",
              "      <td>...</td>\n",
              "      <td>...</td>\n",
              "      <td>...</td>\n",
              "      <td>...</td>\n",
              "      <td>...</td>\n",
              "      <td>...</td>\n",
              "      <td>...</td>\n",
              "      <td>...</td>\n",
              "      <td>...</td>\n",
              "      <td>...</td>\n",
              "      <td>...</td>\n",
              "      <td>...</td>\n",
              "      <td>...</td>\n",
              "      <td>...</td>\n",
              "      <td>...</td>\n",
              "    </tr>\n",
              "    <tr>\n",
              "      <th>299995</th>\n",
              "      <td>499993</td>\n",
              "      <td>0</td>\n",
              "      <td>13</td>\n",
              "      <td>5</td>\n",
              "      <td>0</td>\n",
              "      <td>4</td>\n",
              "      <td>45</td>\n",
              "      <td>0</td>\n",
              "      <td>19</td>\n",
              "      <td>48</td>\n",
              "      <td>0</td>\n",
              "      <td>159</td>\n",
              "      <td>0</td>\n",
              "      <td>0</td>\n",
              "      <td>0</td>\n",
              "      <td>1</td>\n",
              "      <td>3</td>\n",
              "      <td>1</td>\n",
              "      <td>3</td>\n",
              "      <td>1</td>\n",
              "      <td>0.681700</td>\n",
              "      <td>0.500730</td>\n",
              "      <td>0.662428</td>\n",
              "      <td>0.671927</td>\n",
              "      <td>0.390566</td>\n",
              "      <td>0.145840</td>\n",
              "      <td>0.262767</td>\n",
              "      <td>0.514248</td>\n",
              "      <td>0.519340</td>\n",
              "      <td>0.617436</td>\n",
              "      <td>0.688007</td>\n",
              "      <td>0</td>\n",
              "    </tr>\n",
              "    <tr>\n",
              "      <th>299996</th>\n",
              "      <td>499995</td>\n",
              "      <td>0</td>\n",
              "      <td>10</td>\n",
              "      <td>0</td>\n",
              "      <td>0</td>\n",
              "      <td>6</td>\n",
              "      <td>33</td>\n",
              "      <td>0</td>\n",
              "      <td>36</td>\n",
              "      <td>4</td>\n",
              "      <td>4</td>\n",
              "      <td>163</td>\n",
              "      <td>0</td>\n",
              "      <td>1</td>\n",
              "      <td>0</td>\n",
              "      <td>1</td>\n",
              "      <td>1</td>\n",
              "      <td>3</td>\n",
              "      <td>3</td>\n",
              "      <td>1</td>\n",
              "      <td>0.489226</td>\n",
              "      <td>0.790664</td>\n",
              "      <td>0.821657</td>\n",
              "      <td>0.620356</td>\n",
              "      <td>0.384891</td>\n",
              "      <td>0.735879</td>\n",
              "      <td>0.547731</td>\n",
              "      <td>0.726653</td>\n",
              "      <td>0.470575</td>\n",
              "      <td>0.275743</td>\n",
              "      <td>0.638939</td>\n",
              "      <td>0</td>\n",
              "    </tr>\n",
              "    <tr>\n",
              "      <th>299997</th>\n",
              "      <td>499996</td>\n",
              "      <td>0</td>\n",
              "      <td>6</td>\n",
              "      <td>12</td>\n",
              "      <td>0</td>\n",
              "      <td>7</td>\n",
              "      <td>33</td>\n",
              "      <td>2</td>\n",
              "      <td>37</td>\n",
              "      <td>43</td>\n",
              "      <td>0</td>\n",
              "      <td>156</td>\n",
              "      <td>1</td>\n",
              "      <td>0</td>\n",
              "      <td>0</td>\n",
              "      <td>1</td>\n",
              "      <td>3</td>\n",
              "      <td>1</td>\n",
              "      <td>3</td>\n",
              "      <td>3</td>\n",
              "      <td>0.487882</td>\n",
              "      <td>0.522347</td>\n",
              "      <td>0.407037</td>\n",
              "      <td>0.232436</td>\n",
              "      <td>0.832482</td>\n",
              "      <td>0.810663</td>\n",
              "      <td>0.596939</td>\n",
              "      <td>0.308821</td>\n",
              "      <td>0.373997</td>\n",
              "      <td>0.518024</td>\n",
              "      <td>0.452144</td>\n",
              "      <td>1</td>\n",
              "    </tr>\n",
              "    <tr>\n",
              "      <th>299998</th>\n",
              "      <td>499997</td>\n",
              "      <td>1</td>\n",
              "      <td>7</td>\n",
              "      <td>0</td>\n",
              "      <td>3</td>\n",
              "      <td>1</td>\n",
              "      <td>33</td>\n",
              "      <td>0</td>\n",
              "      <td>1</td>\n",
              "      <td>23</td>\n",
              "      <td>0</td>\n",
              "      <td>25</td>\n",
              "      <td>0</td>\n",
              "      <td>0</td>\n",
              "      <td>0</td>\n",
              "      <td>0</td>\n",
              "      <td>1</td>\n",
              "      <td>0</td>\n",
              "      <td>3</td>\n",
              "      <td>0</td>\n",
              "      <td>0.331900</td>\n",
              "      <td>0.812891</td>\n",
              "      <td>0.808045</td>\n",
              "      <td>0.630708</td>\n",
              "      <td>0.346898</td>\n",
              "      <td>0.735147</td>\n",
              "      <td>0.563488</td>\n",
              "      <td>0.609836</td>\n",
              "      <td>0.680430</td>\n",
              "      <td>0.318453</td>\n",
              "      <td>0.335822</td>\n",
              "      <td>0</td>\n",
              "    </tr>\n",
              "    <tr>\n",
              "      <th>299999</th>\n",
              "      <td>499999</td>\n",
              "      <td>0</td>\n",
              "      <td>5</td>\n",
              "      <td>2</td>\n",
              "      <td>0</td>\n",
              "      <td>4</td>\n",
              "      <td>33</td>\n",
              "      <td>2</td>\n",
              "      <td>22</td>\n",
              "      <td>55</td>\n",
              "      <td>0</td>\n",
              "      <td>256</td>\n",
              "      <td>0</td>\n",
              "      <td>0</td>\n",
              "      <td>0</td>\n",
              "      <td>0</td>\n",
              "      <td>1</td>\n",
              "      <td>3</td>\n",
              "      <td>3</td>\n",
              "      <td>1</td>\n",
              "      <td>0.822600</td>\n",
              "      <td>0.819735</td>\n",
              "      <td>0.775451</td>\n",
              "      <td>0.848696</td>\n",
              "      <td>0.819377</td>\n",
              "      <td>0.355467</td>\n",
              "      <td>0.218153</td>\n",
              "      <td>0.968856</td>\n",
              "      <td>0.823655</td>\n",
              "      <td>0.330515</td>\n",
              "      <td>0.972569</td>\n",
              "      <td>0</td>\n",
              "    </tr>\n",
              "  </tbody>\n",
              "</table>\n",
              "<p>300000 rows × 32 columns</p>\n",
              "</div>"
            ],
            "text/plain": [
              "            id  cat0  cat1  cat2  cat3  cat4  cat5  cat6  cat7  cat8  cat9  \\\n",
              "0            0     0     8     0     1     1    33     0    44    54     0   \n",
              "1            1     0     8     0     0     4    33     8    48     3     5   \n",
              "2            2     0    10     0     0     4    33     0    30    38     9   \n",
              "3            3     0    10     0     2     4    33     0    50     3     5   \n",
              "4            4     0     8     6     1     4    33     2    32    54     0   \n",
              "...        ...   ...   ...   ...   ...   ...   ...   ...   ...   ...   ...   \n",
              "299995  499993     0    13     5     0     4    45     0    19    48     0   \n",
              "299996  499995     0    10     0     0     6    33     0    36     4     4   \n",
              "299997  499996     0     6    12     0     7    33     2    37    43     0   \n",
              "299998  499997     1     7     0     3     1    33     0     1    23     0   \n",
              "299999  499999     0     5     2     0     4    33     2    22    55     0   \n",
              "\n",
              "        cat10  cat11  cat12  cat13  cat14  cat15  cat16  cat17  cat18  \\\n",
              "0         258      0      0      0      0      1      3      3      1   \n",
              "1         162      0      1      0      1      3      1      3      1   \n",
              "2          69      0      1      0      0      1      3      3      1   \n",
              "3         241      0      0      0      0      1      3      3      1   \n",
              "4          75      0      0      0      1      1      1      3      1   \n",
              "...       ...    ...    ...    ...    ...    ...    ...    ...    ...   \n",
              "299995    159      0      0      0      1      3      1      3      1   \n",
              "299996    163      0      1      0      1      1      3      3      1   \n",
              "299997    156      1      0      0      1      3      1      3      3   \n",
              "299998     25      0      0      0      0      1      0      3      0   \n",
              "299999    256      0      0      0      0      1      3      3      1   \n",
              "\n",
              "           cont0     cont1     cont2     cont3     cont4     cont5     cont6  \\\n",
              "0       0.629858  0.855349  0.759439  0.795549  0.681917  0.621672  0.592184   \n",
              "1       0.370727  0.328929  0.386385  0.541366  0.388982  0.357778  0.600044   \n",
              "2       0.502272  0.322749  0.343255  0.616352  0.793687  0.552877  0.352113   \n",
              "3       0.934242  0.707663  0.831147  0.807807  0.800032  0.619147  0.221789   \n",
              "4       0.254427  0.274514  0.338818  0.277308  0.610578  0.128291  0.578764   \n",
              "...          ...       ...       ...       ...       ...       ...       ...   \n",
              "299995  0.681700  0.500730  0.662428  0.671927  0.390566  0.145840  0.262767   \n",
              "299996  0.489226  0.790664  0.821657  0.620356  0.384891  0.735879  0.547731   \n",
              "299997  0.487882  0.522347  0.407037  0.232436  0.832482  0.810663  0.596939   \n",
              "299998  0.331900  0.812891  0.808045  0.630708  0.346898  0.735147  0.563488   \n",
              "299999  0.822600  0.819735  0.775451  0.848696  0.819377  0.355467  0.218153   \n",
              "\n",
              "           cont7     cont8     cont9    cont10  target  \n",
              "0       0.791921  0.815254  0.965006  0.665915       0  \n",
              "1       0.408701  0.399353  0.927406  0.493729       0  \n",
              "2       0.388835  0.412303  0.292696  0.549452       0  \n",
              "3       0.897617  0.633669  0.760318  0.934242       0  \n",
              "4       0.279167  0.351103  0.357084  0.328960       1  \n",
              "...          ...       ...       ...       ...     ...  \n",
              "299995  0.514248  0.519340  0.617436  0.688007       0  \n",
              "299996  0.726653  0.470575  0.275743  0.638939       0  \n",
              "299997  0.308821  0.373997  0.518024  0.452144       1  \n",
              "299998  0.609836  0.680430  0.318453  0.335822       0  \n",
              "299999  0.968856  0.823655  0.330515  0.972569       0  \n",
              "\n",
              "[300000 rows x 32 columns]"
            ]
          },
          "metadata": {
            "tags": []
          },
          "execution_count": 17
        }
      ]
    },
    {
      "cell_type": "code",
      "metadata": {
        "id": "vQiIAFaCm1E9"
      },
      "source": [
        "for col in ds_test.iloc[:,1:20]:\n",
        "    le = LabelEncoder()\n",
        "    ds_test[col] = le.fit_transform(ds_test[col])"
      ],
      "execution_count": 18,
      "outputs": []
    },
    {
      "cell_type": "code",
      "metadata": {
        "id": "CRFkx1YKm1E9",
        "colab": {
          "base_uri": "https://localhost:8080/"
        },
        "outputId": "382a4bc7-2397-4533-c6c3-9a5513ccfb90"
      },
      "source": [
        "value_count(ds_train)"
      ],
      "execution_count": 19,
      "outputs": [
        {
          "output_type": "stream",
          "text": [
            "cat0\n",
            "0    223525\n",
            "1     76475\n",
            "Name: cat0, dtype: int64\n",
            "Unique Values Number :  2\n",
            "\n",
            "cat1\n",
            "0     10547\n",
            "1      6847\n",
            "2      1703\n",
            "3       414\n",
            "4       235\n",
            "5     43818\n",
            "6     11248\n",
            "7     17257\n",
            "8     90809\n",
            "9     10036\n",
            "10    41870\n",
            "11    31891\n",
            "12    11354\n",
            "13    13231\n",
            "14     8740\n",
            "Name: cat1, dtype: int64\n",
            "Unique Values Number :  15\n",
            "\n",
            "cat2\n",
            "0     168694\n",
            "1        218\n",
            "2      38875\n",
            "3      22720\n",
            "4        110\n",
            "5       9877\n",
            "6      18225\n",
            "7        219\n",
            "8       5287\n",
            "9       9102\n",
            "10       126\n",
            "11      3997\n",
            "12      8068\n",
            "13       340\n",
            "14      2749\n",
            "15     10901\n",
            "16       129\n",
            "17       197\n",
            "18       166\n",
            "Name: cat2, dtype: int64\n",
            "Unique Values Number :  19\n",
            "\n",
            "cat3\n",
            "0     187251\n",
            "1      79951\n",
            "2      15957\n",
            "3       8676\n",
            "4       3318\n",
            "5       2489\n",
            "6        372\n",
            "7        274\n",
            "8        177\n",
            "9        286\n",
            "10       846\n",
            "11       292\n",
            "12       111\n",
            "Name: cat3, dtype: int64\n",
            "Unique Values Number :  13\n",
            "\n",
            "cat4\n",
            "0         92\n",
            "1        301\n",
            "2        506\n",
            "3      27919\n",
            "4     129385\n",
            "5      76678\n",
            "6      30754\n",
            "7      23388\n",
            "8       3241\n",
            "9       4307\n",
            "10      1481\n",
            "11       214\n",
            "12       547\n",
            "13        81\n",
            "14       330\n",
            "15       100\n",
            "16       117\n",
            "17        59\n",
            "18       285\n",
            "19       215\n",
            "Name: cat4, dtype: int64\n",
            "Unique Values Number :  20\n",
            "\n",
            "cat5\n",
            "0        86\n",
            "1       103\n",
            "2     41639\n",
            "3       143\n",
            "4       112\n",
            "      ...  \n",
            "79      113\n",
            "80      131\n",
            "81       98\n",
            "82       90\n",
            "83       25\n",
            "Name: cat5, Length: 84, dtype: int64\n",
            "Unique Values Number :  84\n",
            "\n",
            "cat6\n",
            "0     187896\n",
            "1        172\n",
            "2      71427\n",
            "3        214\n",
            "4      16581\n",
            "5        312\n",
            "6      11198\n",
            "7       6648\n",
            "8       1552\n",
            "9       2182\n",
            "10       673\n",
            "11       124\n",
            "12       583\n",
            "13       155\n",
            "14        71\n",
            "15       212\n",
            "Name: cat6, dtype: int64\n",
            "Unique Values Number :  16\n",
            "\n",
            "cat7\n",
            "0      6432\n",
            "1      3692\n",
            "2       539\n",
            "3       660\n",
            "4      1826\n",
            "5       458\n",
            "6     11455\n",
            "7      1706\n",
            "8     45818\n",
            "9      7668\n",
            "10      229\n",
            "11     9697\n",
            "12     1572\n",
            "13     1183\n",
            "14    16097\n",
            "15     1734\n",
            "16     2311\n",
            "17      205\n",
            "18     1121\n",
            "19    25326\n",
            "20      918\n",
            "21      671\n",
            "22     7958\n",
            "23     5322\n",
            "24     2635\n",
            "25     1749\n",
            "26     1408\n",
            "27      781\n",
            "28     4324\n",
            "29      835\n",
            "30    39601\n",
            "31     5550\n",
            "32     5656\n",
            "33     1692\n",
            "34      640\n",
            "35    16135\n",
            "36     6264\n",
            "37      941\n",
            "38      907\n",
            "39    14983\n",
            "40     2538\n",
            "41      611\n",
            "42     1306\n",
            "43     2991\n",
            "44     7921\n",
            "45      379\n",
            "46    15674\n",
            "47     1798\n",
            "48     1525\n",
            "49      662\n",
            "50     5896\n",
            "Name: cat7, dtype: int64\n",
            "Unique Values Number :  51\n",
            "\n",
            "cat8\n",
            "0      3288\n",
            "1       115\n",
            "2        57\n",
            "3     14663\n",
            "4     24442\n",
            "      ...  \n",
            "56       67\n",
            "57      157\n",
            "58      219\n",
            "59    14219\n",
            "60    20864\n",
            "Name: cat8, Length: 61, dtype: int64\n",
            "Unique Values Number :  61\n",
            "\n",
            "cat9\n",
            "0     201945\n",
            "1        280\n",
            "2      23360\n",
            "3        189\n",
            "4      33046\n",
            "5      14371\n",
            "6        214\n",
            "7       7931\n",
            "8       8982\n",
            "9       2957\n",
            "10      4785\n",
            "11       122\n",
            "12       211\n",
            "13       862\n",
            "14        60\n",
            "15       101\n",
            "16       360\n",
            "17       125\n",
            "18        99\n",
            "Name: cat9, dtype: int64\n",
            "Unique Values Number :  19\n",
            "\n",
            "cat10\n",
            "0      273\n",
            "1      259\n",
            "2      147\n",
            "3      489\n",
            "4      303\n",
            "      ... \n",
            "294    279\n",
            "295    470\n",
            "296    196\n",
            "297     47\n",
            "298      4\n",
            "Name: cat10, Length: 299, dtype: int64\n",
            "Unique Values Number :  299\n",
            "\n",
            "cat11\n",
            "0    258932\n",
            "1     41068\n",
            "Name: cat11, dtype: int64\n",
            "Unique Values Number :  2\n",
            "\n",
            "cat12\n",
            "0    257139\n",
            "1     42861\n",
            "Name: cat12, dtype: int64\n",
            "Unique Values Number :  2\n",
            "\n",
            "cat13\n",
            "0    292712\n",
            "1      7288\n",
            "Name: cat13, dtype: int64\n",
            "Unique Values Number :  2\n",
            "\n",
            "cat14\n",
            "0    160166\n",
            "1    139834\n",
            "Name: cat14, dtype: int64\n",
            "Unique Values Number :  2\n",
            "\n",
            "cat15\n",
            "0     11072\n",
            "1    203574\n",
            "2      2166\n",
            "3     83188\n",
            "Name: cat15, dtype: int64\n",
            "Unique Values Number :  4\n",
            "\n",
            "cat16\n",
            "0      3184\n",
            "1     84541\n",
            "2      5369\n",
            "3    206906\n",
            "Name: cat16, dtype: int64\n",
            "Unique Values Number :  4\n",
            "\n",
            "cat17\n",
            "0      1414\n",
            "1     26136\n",
            "2     25325\n",
            "3    247125\n",
            "Name: cat17, dtype: int64\n",
            "Unique Values Number :  4\n",
            "\n"
          ],
          "name": "stdout"
        }
      ]
    },
    {
      "cell_type": "code",
      "metadata": {
        "id": "a6cuPm7Qm1E9",
        "colab": {
          "base_uri": "https://localhost:8080/"
        },
        "outputId": "85295c78-7549-489d-bc92-250a3d404362"
      },
      "source": [
        "value_count(ds_test)"
      ],
      "execution_count": 20,
      "outputs": [
        {
          "output_type": "stream",
          "text": [
            "cat0\n",
            "0    149023\n",
            "1     50977\n",
            "Name: cat0, dtype: int64\n",
            "Unique Values Number :  2\n",
            "\n",
            "cat1\n",
            "0      7256\n",
            "1      4522\n",
            "2      1164\n",
            "3       310\n",
            "4       140\n",
            "5     29123\n",
            "6      7497\n",
            "7     11547\n",
            "8     60152\n",
            "9      6657\n",
            "10    28221\n",
            "11    21207\n",
            "12     7709\n",
            "13     8717\n",
            "14     5778\n",
            "Name: cat1, dtype: int64\n",
            "Unique Values Number :  15\n",
            "\n",
            "cat2\n",
            "0     112465\n",
            "1        161\n",
            "2      25683\n",
            "3      15113\n",
            "4         77\n",
            "5       6538\n",
            "6      12284\n",
            "7        139\n",
            "8       3630\n",
            "9       6107\n",
            "10        79\n",
            "11      2702\n",
            "12      5461\n",
            "13       248\n",
            "14      1799\n",
            "15      7195\n",
            "16        78\n",
            "17       124\n",
            "18       117\n",
            "Name: cat2, dtype: int64\n",
            "Unique Values Number :  19\n",
            "\n",
            "cat3\n",
            "0     124506\n",
            "1      53476\n",
            "2      10600\n",
            "3       5918\n",
            "4       2130\n",
            "5       1687\n",
            "6        251\n",
            "7        199\n",
            "8        146\n",
            "9        197\n",
            "10       609\n",
            "11       203\n",
            "12        78\n",
            "Name: cat3, dtype: int64\n",
            "Unique Values Number :  13\n",
            "\n",
            "cat4\n",
            "0        50\n",
            "1       183\n",
            "2       348\n",
            "3     18882\n",
            "4     86073\n",
            "5     51016\n",
            "6     20496\n",
            "7     15621\n",
            "8      2075\n",
            "9      2974\n",
            "10      987\n",
            "11      130\n",
            "12      409\n",
            "13       60\n",
            "14      240\n",
            "15       68\n",
            "16       57\n",
            "17       32\n",
            "18      169\n",
            "19      130\n",
            "Name: cat4, dtype: int64\n",
            "Unique Values Number :  20\n",
            "\n",
            "cat5\n",
            "0        53\n",
            "1        58\n",
            "2     27968\n",
            "3        91\n",
            "4        81\n",
            "      ...  \n",
            "79       94\n",
            "80       71\n",
            "81       67\n",
            "82       61\n",
            "83       28\n",
            "Name: cat5, Length: 84, dtype: int64\n",
            "Unique Values Number :  84\n",
            "\n",
            "cat6\n",
            "0     125098\n",
            "1        107\n",
            "2      47839\n",
            "3        134\n",
            "4      10993\n",
            "5        207\n",
            "6       7433\n",
            "7       4493\n",
            "8        967\n",
            "9       1542\n",
            "10       462\n",
            "11        85\n",
            "12       360\n",
            "13        96\n",
            "14        47\n",
            "15       137\n",
            "Name: cat6, dtype: int64\n",
            "Unique Values Number :  16\n",
            "\n",
            "cat7\n",
            "0      4250\n",
            "1      2584\n",
            "2       381\n",
            "3       435\n",
            "4      1231\n",
            "5       318\n",
            "6      7551\n",
            "7      1091\n",
            "8     30593\n",
            "9      4925\n",
            "10      155\n",
            "11     6476\n",
            "12     1035\n",
            "13      751\n",
            "14    10701\n",
            "15     1116\n",
            "16     1647\n",
            "17      122\n",
            "18      689\n",
            "19    16988\n",
            "20      599\n",
            "21      449\n",
            "22     5278\n",
            "23     3560\n",
            "24     1830\n",
            "25     1196\n",
            "26      867\n",
            "27      525\n",
            "28     2913\n",
            "29      571\n",
            "30    26240\n",
            "31     3684\n",
            "32     3757\n",
            "33     1128\n",
            "34      452\n",
            "35    10798\n",
            "36     4257\n",
            "37      697\n",
            "38      577\n",
            "39    10023\n",
            "40     1617\n",
            "41      406\n",
            "42      896\n",
            "43     1944\n",
            "44     5311\n",
            "45      219\n",
            "46    10644\n",
            "47     1188\n",
            "48      957\n",
            "49      404\n",
            "50     3974\n",
            "Name: cat7, dtype: int64\n",
            "Unique Values Number :  51\n",
            "\n",
            "cat8\n",
            "0      2143\n",
            "1        79\n",
            "2        44\n",
            "3      9956\n",
            "4     16076\n",
            "      ...  \n",
            "56       54\n",
            "57      113\n",
            "58      131\n",
            "59     9727\n",
            "60    13969\n",
            "Name: cat8, Length: 61, dtype: int64\n",
            "Unique Values Number :  61\n",
            "\n",
            "cat9\n",
            "0     134223\n",
            "1        190\n",
            "2      15532\n",
            "3        115\n",
            "4      22146\n",
            "5       9883\n",
            "6        134\n",
            "7       5181\n",
            "8       6274\n",
            "9       2011\n",
            "10      3075\n",
            "11        99\n",
            "12       135\n",
            "13       536\n",
            "14        30\n",
            "15        89\n",
            "16       233\n",
            "17        69\n",
            "18        45\n",
            "Name: cat9, dtype: int64\n",
            "Unique Values Number :  19\n",
            "\n",
            "cat10\n",
            "0      169\n",
            "1      139\n",
            "2       87\n",
            "3      321\n",
            "4      202\n",
            "      ... \n",
            "290    193\n",
            "291    288\n",
            "292    123\n",
            "293     34\n",
            "294      3\n",
            "Name: cat10, Length: 295, dtype: int64\n",
            "Unique Values Number :  295\n",
            "\n",
            "cat11\n",
            "0    172586\n",
            "1     27414\n",
            "Name: cat11, dtype: int64\n",
            "Unique Values Number :  2\n",
            "\n",
            "cat12\n",
            "0    171098\n",
            "1     28902\n",
            "Name: cat12, dtype: int64\n",
            "Unique Values Number :  2\n",
            "\n",
            "cat13\n",
            "0    195016\n",
            "1      4984\n",
            "Name: cat13, dtype: int64\n",
            "Unique Values Number :  2\n",
            "\n",
            "cat14\n",
            "0    106607\n",
            "1     93393\n",
            "Name: cat14, dtype: int64\n",
            "Unique Values Number :  2\n",
            "\n",
            "cat15\n",
            "0      7311\n",
            "1    135542\n",
            "2      1433\n",
            "3     55714\n",
            "Name: cat15, dtype: int64\n",
            "Unique Values Number :  4\n",
            "\n",
            "cat16\n",
            "0      2036\n",
            "1     56405\n",
            "2      3651\n",
            "3    137908\n",
            "Name: cat16, dtype: int64\n",
            "Unique Values Number :  4\n",
            "\n",
            "cat17\n",
            "0       902\n",
            "1     17234\n",
            "2     16798\n",
            "3    165066\n",
            "Name: cat17, dtype: int64\n",
            "Unique Values Number :  4\n",
            "\n"
          ],
          "name": "stdout"
        }
      ]
    },
    {
      "cell_type": "code",
      "metadata": {
        "id": "Aks1XRAMm1E9",
        "colab": {
          "base_uri": "https://localhost:8080/"
        },
        "outputId": "0c746d65-2f00-4897-efbc-bc6e4aaa87ae"
      },
      "source": [
        "from imblearn.combine import SMOTETomek\n",
        "from imblearn.under_sampling import NearMiss\n",
        "state = np.random.RandomState(42)\n",
        "X = ds_train.iloc[:,:-1]\n",
        "Y = ds_train[\"target\"]\n",
        "smk = SMOTETomek(random_state=42)\n",
        "X_res,y_res=smk.fit_resample(X,Y)"
      ],
      "execution_count": 21,
      "outputs": [
        {
          "output_type": "stream",
          "text": [
            "/usr/local/lib/python3.7/dist-packages/sklearn/externals/six.py:31: FutureWarning: The module is deprecated in version 0.21 and will be removed in version 0.23 since we've dropped support for Python 2.7. Please rely on the official version of six (https://pypi.org/project/six/).\n",
            "  \"(https://pypi.org/project/six/).\", FutureWarning)\n",
            "/usr/local/lib/python3.7/dist-packages/sklearn/utils/deprecation.py:144: FutureWarning: The sklearn.neighbors.base module is  deprecated in version 0.22 and will be removed in version 0.24. The corresponding classes / functions should instead be imported from sklearn.neighbors. Anything that cannot be imported from sklearn.neighbors is now part of the private API.\n",
            "  warnings.warn(message, FutureWarning)\n",
            "/usr/local/lib/python3.7/dist-packages/sklearn/utils/deprecation.py:87: FutureWarning: Function safe_indexing is deprecated; safe_indexing is deprecated in version 0.22 and will be removed in version 0.24.\n",
            "  warnings.warn(msg, category=FutureWarning)\n",
            "/usr/local/lib/python3.7/dist-packages/sklearn/utils/deprecation.py:87: FutureWarning: Function safe_indexing is deprecated; safe_indexing is deprecated in version 0.22 and will be removed in version 0.24.\n",
            "  warnings.warn(msg, category=FutureWarning)\n"
          ],
          "name": "stderr"
        }
      ]
    },
    {
      "cell_type": "code",
      "metadata": {
        "id": "Z-p_sHCpm1E-"
      },
      "source": [
        "# X = ds_train.iloc[:,:-1]\n",
        "# Y = ds_train[\"target\"]\n",
        "# from imblearn.over_sampling import RandomOverSampler\n",
        "# os =  RandomOverSampler(sampling_strategy='minority')\n",
        "# X_train_res, y_train_res = os.fit_resample(X, Y)\n",
        "# X_train_res.shape,y_train_res.shape\n",
        "\n"
      ],
      "execution_count": null,
      "outputs": []
    },
    {
      "cell_type": "code",
      "metadata": {
        "id": "hbHzLpy0m1E-",
        "colab": {
          "base_uri": "https://localhost:8080/",
          "height": 319
        },
        "outputId": "285fd757-da19-46fb-d2f4-c2dd748cd168"
      },
      "source": [
        "sb.countplot(y_res)\n",
        "plt.show()"
      ],
      "execution_count": 22,
      "outputs": [
        {
          "output_type": "stream",
          "text": [
            "/usr/local/lib/python3.7/dist-packages/seaborn/_decorators.py:43: FutureWarning: Pass the following variable as a keyword arg: x. From version 0.12, the only valid positional argument will be `data`, and passing other arguments without an explicit keyword will result in an error or misinterpretation.\n",
            "  FutureWarning\n"
          ],
          "name": "stderr"
        },
        {
          "output_type": "display_data",
          "data": {
            "image/png": "[encoded data removed]",
            "text/plain": [
              "<Figure size 432x288 with 1 Axes>"
            ]
          },
          "metadata": {
            "tags": [],
            "needs_background": "light"
          }
        }
      ]
    },
    {
      "cell_type": "code",
      "metadata": {
        "id": "Ko4KMzmFm1FC"
      },
      "source": [
        "X_test = ds_test.iloc[:,:].values"
      ],
      "execution_count": 23,
      "outputs": []
    },
    {
      "cell_type": "code",
      "metadata": {
        "id": "YxS4EI92m1FC"
      },
      "source": [
        "X_train, X_valid, y_train, y_valid = train_test_split(X_res,y_res,random_state=0)"
      ],
      "execution_count": 24,
      "outputs": []
    },
    {
      "cell_type": "code",
      "metadata": {
        "colab": {
          "base_uri": "https://localhost:8080/"
        },
        "id": "CZFA5GS9pOvh",
        "outputId": "ba44d827-e6ea-4874-9d77-05e3e9389ece"
      },
      "source": [
        "type(X_res)"
      ],
      "execution_count": 25,
      "outputs": [
        {
          "output_type": "execute_result",
          "data": {
            "text/plain": [
              "numpy.ndarray"
            ]
          },
          "metadata": {
            "tags": []
          },
          "execution_count": 25
        }
      ]
    },
    {
      "cell_type": "code",
      "metadata": {
        "id": "0koypDVFm1FD"
      },
      "source": [
        "sc = StandardScaler()"
      ],
      "execution_count": 26,
      "outputs": []
    },
    {
      "cell_type": "code",
      "metadata": {
        "id": "rw0rt2snm1FD"
      },
      "source": [
        "X_train = sc.fit_transform(X_train)\n",
        "X_valid = sc.transform(X_valid)\n",
        "X_test = sc.transform(X_test)"
      ],
      "execution_count": 27,
      "outputs": []
    },
    {
      "cell_type": "markdown",
      "metadata": {
        "id": "8x9fo_k4m1FD"
      },
      "source": [
        "### X G Boost"
      ]
    },
    {
      "cell_type": "code",
      "metadata": {
        "id": "cpxk5LFym1FD"
      },
      "source": [
        "XGB = XGBClassifier()"
      ],
      "execution_count": 28,
      "outputs": []
    },
    {
      "cell_type": "code",
      "metadata": {
        "id": "sRlyd33Qm1FD"
      },
      "source": [
        "model_XGB = XGB.fit(X_train,y_train)"
      ],
      "execution_count": 29,
      "outputs": []
    },
    {
      "cell_type": "code",
      "metadata": {
        "id": "nDxmhup7m1FE",
        "colab": {
          "base_uri": "https://localhost:8080/"
        },
        "outputId": "039d9d04-975b-435d-fc03-a7619cdaab20"
      },
      "source": [
        "print(model_XGB.score(X_train,y_train))\n",
        "print(model_XGB.score(X_valid,y_valid))"
      ],
      "execution_count": 30,
      "outputs": [
        {
          "output_type": "stream",
          "text": [
            "0.8911930846421641\n",
            "0.8927314401895062\n"
          ],
          "name": "stdout"
        }
      ]
    },
    {
      "cell_type": "code",
      "metadata": {
        "id": "2xVq6k4_m1FE"
      },
      "source": [
        "y_train_predict = model_XGB.predict(X_train)\n",
        "y_valid_predict = model_XGB.predict(X_valid)"
      ],
      "execution_count": 31,
      "outputs": []
    },
    {
      "cell_type": "code",
      "metadata": {
        "id": "BhiCAaZpm1FE"
      },
      "source": [
        "fpr, tpr, thresholds = roc_curve(y_valid,y_valid_predict)"
      ],
      "execution_count": 32,
      "outputs": []
    },
    {
      "cell_type": "code",
      "metadata": {
        "id": "cmDNXwA3m1FE",
        "colab": {
          "base_uri": "https://localhost:8080/",
          "height": 296
        },
        "outputId": "5478b2d8-18eb-4a73-af49-4a08963b4bed"
      },
      "source": [
        "plot_roc_curve(XGB,X_valid,y_valid)"
      ],
      "execution_count": 33,
      "outputs": [
        {
          "output_type": "execute_result",
          "data": {
            "text/plain": [
              "<sklearn.metrics._plot.roc_curve.RocCurveDisplay at 0x7f3ff5aa5ad0>"
            ]
          },
          "metadata": {
            "tags": []
          },
          "execution_count": 33
        },
        {
          "output_type": "display_data",
          "data": {
            "image/png": "[encoded data removed]",
            "text/plain": [
              "<Figure size 432x288 with 1 Axes>"
            ]
          },
          "metadata": {
            "tags": [],
            "needs_background": "light"
          }
        }
      ]
    },
    {
      "cell_type": "code",
      "metadata": {
        "id": "Ei71aPSHm1FE",
        "colab": {
          "base_uri": "https://localhost:8080/"
        },
        "outputId": "879c0458-d976-431c-acb4-c917ee2ead7e"
      },
      "source": [
        "confusion_matrix(y_train,y_train_predict)"
      ],
      "execution_count": 34,
      "outputs": [
        {
          "output_type": "execute_result",
          "data": {
            "text/plain": [
              "array([[144011,  12256],\n",
              "       [ 21780, 134764]])"
            ]
          },
          "metadata": {
            "tags": []
          },
          "execution_count": 34
        }
      ]
    },
    {
      "cell_type": "code",
      "metadata": {
        "id": "aalwAeSum1FF",
        "colab": {
          "base_uri": "https://localhost:8080/",
          "height": 279
        },
        "outputId": "db0c3e5b-a285-45b2-f924-ebb587e552a2"
      },
      "source": [
        "plot_confusion_matrix(XGB,X_train,y_train)\n",
        "plt.show()"
      ],
      "execution_count": 35,
      "outputs": [
        {
          "output_type": "display_data",
          "data": {
            "image/png": "[encoded data removed]",
            "text/plain": [
              "<Figure size 432x288 with 2 Axes>"
            ]
          },
          "metadata": {
            "tags": [],
            "needs_background": "light"
          }
        }
      ]
    },
    {
      "cell_type": "code",
      "metadata": {
        "id": "B-gYNsI2m1FF",
        "colab": {
          "base_uri": "https://localhost:8080/"
        },
        "outputId": "cba9a0da-b359-4973-a0d3-67a3b3be252c"
      },
      "source": [
        "precision_score(y_train,y_train_predict)"
      ],
      "execution_count": 36,
      "outputs": [
        {
          "output_type": "execute_result",
          "data": {
            "text/plain": [
              "0.9166371922187457"
            ]
          },
          "metadata": {
            "tags": []
          },
          "execution_count": 36
        }
      ]
    },
    {
      "cell_type": "code",
      "metadata": {
        "id": "OJMtRd3dm1FF",
        "colab": {
          "base_uri": "https://localhost:8080/"
        },
        "outputId": "af5e3189-07bb-4a60-b56f-1e44528e04ad"
      },
      "source": [
        "recall_score(y_train,y_train_predict)"
      ],
      "execution_count": 37,
      "outputs": [
        {
          "output_type": "execute_result",
          "data": {
            "text/plain": [
              "0.8608697874080131"
            ]
          },
          "metadata": {
            "tags": []
          },
          "execution_count": 37
        }
      ]
    },
    {
      "cell_type": "code",
      "metadata": {
        "id": "StSx6EDkm1FF",
        "colab": {
          "base_uri": "https://localhost:8080/"
        },
        "outputId": "da94dcce-6454-453f-aa75-1cbe54d0d650"
      },
      "source": [
        "confusion_matrix(y_valid,y_valid_predict)"
      ],
      "execution_count": 38,
      "outputs": [
        {
          "output_type": "execute_result",
          "data": {
            "text/plain": [
              "array([[48212,  4062],\n",
              "       [ 7123, 44874]])"
            ]
          },
          "metadata": {
            "tags": []
          },
          "execution_count": 38
        }
      ]
    },
    {
      "cell_type": "code",
      "metadata": {
        "id": "cLsnPdbnm1FG"
      },
      "source": [
        "y_test_predict = model_XGB.predict(X_test)"
      ],
      "execution_count": 39,
      "outputs": []
    },
    {
      "cell_type": "code",
      "metadata": {
        "id": "1pJ6m5PCm1FG"
      },
      "source": [
        "y_test_probability = model_XGB.predict_proba(X_test)"
      ],
      "execution_count": 40,
      "outputs": []
    },
    {
      "cell_type": "code",
      "metadata": {
        "id": "Kp-Qrlosm1FG",
        "colab": {
          "base_uri": "https://localhost:8080/"
        },
        "outputId": "22edcb81-473c-4f00-a400-c916cc30b72f"
      },
      "source": [
        "y_test_probability"
      ],
      "execution_count": 41,
      "outputs": [
        {
          "output_type": "execute_result",
          "data": {
            "text/plain": [
              "array([[0.9102628 , 0.08973715],\n",
              "       [0.2846368 , 0.7153632 ],\n",
              "       [0.89703894, 0.10296106],\n",
              "       ...,\n",
              "       [0.18664646, 0.81335354],\n",
              "       [0.8354256 , 0.16457435],\n",
              "       [0.7027881 , 0.29721192]], dtype=float32)"
            ]
          },
          "metadata": {
            "tags": []
          },
          "execution_count": 41
        }
      ]
    },
    {
      "cell_type": "code",
      "metadata": {
        "id": "Tnf2Xn3Zm1FG",
        "colab": {
          "base_uri": "https://localhost:8080/"
        },
        "outputId": "fbc5975f-e37e-4f9a-eeb4-fae35023a7df"
      },
      "source": [
        "roc_auc_score(y_valid, model_XGB.predict_proba(X_valid)[:, 1])"
      ],
      "execution_count": 42,
      "outputs": [
        {
          "output_type": "execute_result",
          "data": {
            "text/plain": [
              "0.9571904874119715"
            ]
          },
          "metadata": {
            "tags": []
          },
          "execution_count": 42
        }
      ]
    },
    {
      "cell_type": "markdown",
      "metadata": {
        "id": "lVD3nqTUm1FH"
      },
      "source": [
        "### Calculating best Hyper parameter for X G Boost using Randimized Search"
      ]
    },
    {
      "cell_type": "code",
      "metadata": {
        "id": "SkVKAxXKm1FH"
      },
      "source": [
        "# parameters = {\n",
        "#                \"learning_rate\"    : [0.05, 0.10, 0.15, 0.20, 0.25, 0.30],\n",
        "#                \"max_depth\"        : [3, 4, 5, 6, 8, 10, 12, 15],\n",
        "#                \"min_child_weight\" : [1, 3, 5, 7],\n",
        "#                \"gamma\"            : [0.0, 0.1, 0.2 , 0.3, 0.4],\n",
        "#                \"colsample_bytree\" : [0.3, 0.4, 0.5 , 0.7] \n",
        "#               }"
      ],
      "execution_count": null,
      "outputs": []
    },
    {
      "cell_type": "code",
      "metadata": {
        "id": "h4RbgxHWm1FH"
      },
      "source": [
        "# random_s_cv = RandomizedSearchCV(estimator = XGB, param_distributions = parameters,\n",
        "#                                  n_iter=5,scoring='roc_auc',n_jobs=-1,cv=5,verbose=3) "
      ],
      "execution_count": null,
      "outputs": []
    },
    {
      "cell_type": "code",
      "metadata": {
        "id": "5ZxTcm8MFPex"
      },
      "source": [
        "# random_s_cv.fit(X_train, y_train)"
      ],
      "execution_count": null,
      "outputs": []
    },
    {
      "cell_type": "code",
      "metadata": {
        "id": "ul4XL_lWm1FH"
      },
      "source": [
        "# random_s_cv.best_score_"
      ],
      "execution_count": null,
      "outputs": []
    },
    {
      "cell_type": "code",
      "metadata": {
        "id": "zD0ZrXJpm1FI"
      },
      "source": [
        "#random_s_cv.best_estimator_"
      ],
      "execution_count": null,
      "outputs": []
    },
    {
      "cell_type": "code",
      "metadata": {
        "id": "rMWH4Rqlm1FI"
      },
      "source": [
        "#random_s_cv.best_params_"
      ],
      "execution_count": null,
      "outputs": []
    },
    {
      "cell_type": "markdown",
      "metadata": {
        "id": "S_jshKmTm1FI"
      },
      "source": [
        "### X G Boost with best Hyper parameters"
      ]
    },
    {
      "cell_type": "code",
      "metadata": {
        "id": "TfQ-MUTFm1FI"
      },
      "source": [
        "XGB_best = XGBClassifier(colsample_bytree=0.3,gamma=0.2,learning_rate=0.1,max_depth=8,min_child_weight=3)"
      ],
      "execution_count": 43,
      "outputs": []
    },
    {
      "cell_type": "code",
      "metadata": {
        "id": "gL01kqckm1FI"
      },
      "source": [
        "model_XGB_best = XGB_best.fit(X_train,y_train)"
      ],
      "execution_count": 44,
      "outputs": []
    },
    {
      "cell_type": "code",
      "metadata": {
        "id": "pyjqjC4hm1FI",
        "colab": {
          "base_uri": "https://localhost:8080/"
        },
        "outputId": "4a742484-ca14-4f6c-c5a1-a2f4bd0aae3b"
      },
      "source": [
        "print(model_XGB_best.score(X_train,y_train))\n",
        "print(model_XGB_best.score(X_valid,y_valid))"
      ],
      "execution_count": 45,
      "outputs": [
        {
          "output_type": "stream",
          "text": [
            "0.9059240244109062\n",
            "0.9006531058491815\n"
          ],
          "name": "stdout"
        }
      ]
    },
    {
      "cell_type": "code",
      "metadata": {
        "id": "EmFEfjW0m1FJ"
      },
      "source": [
        "y_train_predict = model_XGB_best.predict(X_train)\n",
        "y_valid_predict = model_XGB_best.predict(X_valid)"
      ],
      "execution_count": 46,
      "outputs": []
    },
    {
      "cell_type": "code",
      "metadata": {
        "id": "KKDjSeugm1FJ",
        "colab": {
          "base_uri": "https://localhost:8080/",
          "height": 296
        },
        "outputId": "731700e4-5ec6-42a0-f512-76155eef59e9"
      },
      "source": [
        "fpr, tpr, thresholds = roc_curve(y_valid,y_valid_predict)\n",
        "plot_roc_curve(XGB_best,X_valid,y_valid)"
      ],
      "execution_count": 47,
      "outputs": [
        {
          "output_type": "execute_result",
          "data": {
            "text/plain": [
              "<sklearn.metrics._plot.roc_curve.RocCurveDisplay at 0x7f3ff5991110>"
            ]
          },
          "metadata": {
            "tags": []
          },
          "execution_count": 47
        },
        {
          "output_type": "display_data",
          "data": {
            "image/png": "[encoded data removed]",
            "text/plain": [
              "<Figure size 432x288 with 1 Axes>"
            ]
          },
          "metadata": {
            "tags": [],
            "needs_background": "light"
          }
        }
      ]
    },
    {
      "cell_type": "code",
      "metadata": {
        "id": "jiE5eiH0m1FR",
        "colab": {
          "base_uri": "https://localhost:8080/"
        },
        "outputId": "007a5c6c-a0f9-4e67-f880-d74d21e8e18e"
      },
      "source": [
        "roc_auc_score(y_train, model_XGB_best.predict_proba(X_train)[:, 1])"
      ],
      "execution_count": 48,
      "outputs": [
        {
          "output_type": "execute_result",
          "data": {
            "text/plain": [
              "0.9678190297237442"
            ]
          },
          "metadata": {
            "tags": []
          },
          "execution_count": 48
        }
      ]
    },
    {
      "cell_type": "code",
      "metadata": {
        "id": "d1jehgRdm1FR",
        "colab": {
          "base_uri": "https://localhost:8080/"
        },
        "outputId": "6d494534-c11d-4049-d823-1951454a9c37"
      },
      "source": [
        "roc_auc_score(y_valid, model_XGB_best.predict_proba(X_valid)[:, 1])"
      ],
      "execution_count": 49,
      "outputs": [
        {
          "output_type": "execute_result",
          "data": {
            "text/plain": [
              "0.9630889440677918"
            ]
          },
          "metadata": {
            "tags": []
          },
          "execution_count": 49
        }
      ]
    },
    {
      "cell_type": "code",
      "metadata": {
        "id": "vxsQdi-Nm1FS"
      },
      "source": [
        "prob = model_XGB_best.predict_proba(X_test)"
      ],
      "execution_count": 50,
      "outputs": []
    },
    {
      "cell_type": "code",
      "metadata": {
        "id": "z2F_1pvim1FS",
        "colab": {
          "base_uri": "https://localhost:8080/"
        },
        "outputId": "2a74c5c9-1cf9-4056-b9fe-9ef4c465c3fd"
      },
      "source": [
        "prob[:,-1]"
      ],
      "execution_count": 51,
      "outputs": [
        {
          "output_type": "execute_result",
          "data": {
            "text/plain": [
              "array([0.15755829, 0.56373763, 0.05221556, ..., 0.79010373, 0.1055167 ,\n",
              "       0.3896406 ], dtype=float32)"
            ]
          },
          "metadata": {
            "tags": []
          },
          "execution_count": 51
        }
      ]
    },
    {
      "cell_type": "code",
      "metadata": {
        "id": "SCLksGu2m1FS"
      },
      "source": [
        "output = pd.DataFrame(ds_test[\"id\"])"
      ],
      "execution_count": 52,
      "outputs": []
    },
    {
      "cell_type": "code",
      "metadata": {
        "id": "iqi2oRE2m1FS"
      },
      "source": [
        "output[\"target\"]= prob[:,-1]"
      ],
      "execution_count": 53,
      "outputs": []
    },
    {
      "cell_type": "code",
      "metadata": {
        "id": "WGJquofEm1FT",
        "colab": {
          "base_uri": "https://localhost:8080/",
          "height": 419
        },
        "outputId": "2375c535-df1a-4157-d374-ec211bcc2ce0"
      },
      "source": [
        "output"
      ],
      "execution_count": 54,
      "outputs": [
        {
          "output_type": "execute_result",
          "data": {
            "text/html": [
              "<div>\n",
              "<style scoped>\n",
              "    .dataframe tbody tr th:only-of-type {\n",
              "        vertical-align: middle;\n",
              "    }\n",
              "\n",
              "    .dataframe tbody tr th {\n",
              "        vertical-align: top;\n",
              "    }\n",
              "\n",
              "    .dataframe thead th {\n",
              "        text-align: right;\n",
              "    }\n",
              "</style>\n",
              "<table border=\"1\" class=\"dataframe\">\n",
              "  <thead>\n",
              "    <tr style=\"text-align: right;\">\n",
              "      <th></th>\n",
              "      <th>id</th>\n",
              "      <th>target</th>\n",
              "    </tr>\n",
              "  </thead>\n",
              "  <tbody>\n",
              "    <tr>\n",
              "      <th>0</th>\n",
              "      <td>5</td>\n",
              "      <td>0.157558</td>\n",
              "    </tr>\n",
              "    <tr>\n",
              "      <th>1</th>\n",
              "      <td>6</td>\n",
              "      <td>0.563738</td>\n",
              "    </tr>\n",
              "    <tr>\n",
              "      <th>2</th>\n",
              "      <td>8</td>\n",
              "      <td>0.052216</td>\n",
              "    </tr>\n",
              "    <tr>\n",
              "      <th>3</th>\n",
              "      <td>9</td>\n",
              "      <td>0.184266</td>\n",
              "    </tr>\n",
              "    <tr>\n",
              "      <th>4</th>\n",
              "      <td>11</td>\n",
              "      <td>0.152335</td>\n",
              "    </tr>\n",
              "    <tr>\n",
              "      <th>...</th>\n",
              "      <td>...</td>\n",
              "      <td>...</td>\n",
              "    </tr>\n",
              "    <tr>\n",
              "      <th>199995</th>\n",
              "      <td>499983</td>\n",
              "      <td>0.868078</td>\n",
              "    </tr>\n",
              "    <tr>\n",
              "      <th>199996</th>\n",
              "      <td>499984</td>\n",
              "      <td>0.047461</td>\n",
              "    </tr>\n",
              "    <tr>\n",
              "      <th>199997</th>\n",
              "      <td>499987</td>\n",
              "      <td>0.790104</td>\n",
              "    </tr>\n",
              "    <tr>\n",
              "      <th>199998</th>\n",
              "      <td>499994</td>\n",
              "      <td>0.105517</td>\n",
              "    </tr>\n",
              "    <tr>\n",
              "      <th>199999</th>\n",
              "      <td>499998</td>\n",
              "      <td>0.389641</td>\n",
              "    </tr>\n",
              "  </tbody>\n",
              "</table>\n",
              "<p>200000 rows × 2 columns</p>\n",
              "</div>"
            ],
            "text/plain": [
              "            id    target\n",
              "0            5  0.157558\n",
              "1            6  0.563738\n",
              "2            8  0.052216\n",
              "3            9  0.184266\n",
              "4           11  0.152335\n",
              "...        ...       ...\n",
              "199995  499983  0.868078\n",
              "199996  499984  0.047461\n",
              "199997  499987  0.790104\n",
              "199998  499994  0.105517\n",
              "199999  499998  0.389641\n",
              "\n",
              "[200000 rows x 2 columns]"
            ]
          },
          "metadata": {
            "tags": []
          },
          "execution_count": 54
        }
      ]
    },
    {
      "cell_type": "code",
      "metadata": {
        "id": "QiGcSoiym1FT"
      },
      "source": [
        "output.to_csv(\"Target_prob.csv\")"
      ],
      "execution_count": 55,
      "outputs": []
    },
    {
      "cell_type": "code",
      "metadata": {
        "id": "cdwT2y6rm1FU"
      },
      "source": [
        ""
      ],
      "execution_count": null,
      "outputs": []
    }
  ]
}
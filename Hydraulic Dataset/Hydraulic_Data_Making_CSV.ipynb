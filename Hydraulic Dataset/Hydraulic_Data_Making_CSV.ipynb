{
  "nbformat": 4,
  "nbformat_minor": 0,
  "metadata": {
    "kernelspec": {
      "display_name": "Python 3",
      "language": "python",
      "name": "python3"
    },
    "language_info": {
      "codemirror_mode": {
        "name": "ipython",
        "version": 3
      },
      "file_extension": ".py",
      "mimetype": "text/x-python",
      "name": "python",
      "nbconvert_exporter": "python",
      "pygments_lexer": "ipython3",
      "version": "3.8.5"
    },
    "colab": {
      "name": "Hydraulic Data Making CSV.ipynb",
      "provenance": [],
      "collapsed_sections": [],
      "include_colab_link": true
    }
  },
  "cells": [
    {
      "cell_type": "markdown",
      "metadata": {
        "id": "view-in-github",
        "colab_type": "text"
      },
      "source": [
        "<a href=\"https://colab.research.google.com/github/nitver90/Machine-Learning-Repo/blob/main/Hydraulic%20Dataset/Hydraulic_Data_Making_CSV.ipynb\" target=\"_parent\"><img src=\"https://colab.research.google.com/assets/colab-badge.svg\" alt=\"Open In Colab\"/></a>"
      ]
    },
    {
      "cell_type": "code",
      "metadata": {
        "id": "_DRND0NAn5BB"
      },
      "source": [
        "import numpy as np\n",
        "import pandas as pd\n",
        "import matplotlib.pyplot as plt"
      ],
      "execution_count": null,
      "outputs": []
    },
    {
      "cell_type": "code",
      "metadata": {
        "id": "XANk1BSZn5BG"
      },
      "source": [
        "data= pd.read_csv (\"D:\\ML\\Hydrolic Data\\CE.txt\",sep=\"\\t\", header=None)              ##Given Local Address in terminal. "
      ],
      "execution_count": null,
      "outputs": []
    },
    {
      "cell_type": "code",
      "metadata": {
        "id": "qRu2eKg-n5BH",
        "outputId": "95d4db08-3623-47a4-ab3e-70c40e788a67"
      },
      "source": [
        "data.head()"
      ],
      "execution_count": null,
      "outputs": [
        {
          "output_type": "execute_result",
          "data": {
            "text/html": [
              "<div>\n",
              "<style scoped>\n",
              "    .dataframe tbody tr th:only-of-type {\n",
              "        vertical-align: middle;\n",
              "    }\n",
              "\n",
              "    .dataframe tbody tr th {\n",
              "        vertical-align: top;\n",
              "    }\n",
              "\n",
              "    .dataframe thead th {\n",
              "        text-align: right;\n",
              "    }\n",
              "</style>\n",
              "<table border=\"1\" class=\"dataframe\">\n",
              "  <thead>\n",
              "    <tr style=\"text-align: right;\">\n",
              "      <th></th>\n",
              "      <th>0</th>\n",
              "      <th>1</th>\n",
              "      <th>2</th>\n",
              "      <th>3</th>\n",
              "      <th>4</th>\n",
              "      <th>5</th>\n",
              "      <th>6</th>\n",
              "      <th>7</th>\n",
              "      <th>8</th>\n",
              "      <th>9</th>\n",
              "      <th>...</th>\n",
              "      <th>50</th>\n",
              "      <th>51</th>\n",
              "      <th>52</th>\n",
              "      <th>53</th>\n",
              "      <th>54</th>\n",
              "      <th>55</th>\n",
              "      <th>56</th>\n",
              "      <th>57</th>\n",
              "      <th>58</th>\n",
              "      <th>59</th>\n",
              "    </tr>\n",
              "  </thead>\n",
              "  <tbody>\n",
              "    <tr>\n",
              "      <th>0</th>\n",
              "      <td>47.202</td>\n",
              "      <td>47.273</td>\n",
              "      <td>47.250</td>\n",
              "      <td>47.332</td>\n",
              "      <td>47.213</td>\n",
              "      <td>47.372</td>\n",
              "      <td>47.273</td>\n",
              "      <td>47.438</td>\n",
              "      <td>46.691</td>\n",
              "      <td>46.599</td>\n",
              "      <td>...</td>\n",
              "      <td>31.554</td>\n",
              "      <td>30.953</td>\n",
              "      <td>30.639</td>\n",
              "      <td>30.561</td>\n",
              "      <td>30.368</td>\n",
              "      <td>30.224</td>\n",
              "      <td>29.790</td>\n",
              "      <td>29.261</td>\n",
              "      <td>29.287</td>\n",
              "      <td>28.866</td>\n",
              "    </tr>\n",
              "    <tr>\n",
              "      <th>1</th>\n",
              "      <td>29.208</td>\n",
              "      <td>28.822</td>\n",
              "      <td>28.805</td>\n",
              "      <td>28.922</td>\n",
              "      <td>28.591</td>\n",
              "      <td>28.643</td>\n",
              "      <td>28.216</td>\n",
              "      <td>27.812</td>\n",
              "      <td>27.514</td>\n",
              "      <td>27.481</td>\n",
              "      <td>...</td>\n",
              "      <td>23.995</td>\n",
              "      <td>24.328</td>\n",
              "      <td>24.283</td>\n",
              "      <td>23.877</td>\n",
              "      <td>23.816</td>\n",
              "      <td>23.933</td>\n",
              "      <td>23.354</td>\n",
              "      <td>23.483</td>\n",
              "      <td>23.320</td>\n",
              "      <td>23.588</td>\n",
              "    </tr>\n",
              "    <tr>\n",
              "      <th>2</th>\n",
              "      <td>23.554</td>\n",
              "      <td>23.521</td>\n",
              "      <td>23.527</td>\n",
              "      <td>23.008</td>\n",
              "      <td>23.042</td>\n",
              "      <td>23.052</td>\n",
              "      <td>22.658</td>\n",
              "      <td>22.952</td>\n",
              "      <td>22.908</td>\n",
              "      <td>22.359</td>\n",
              "      <td>...</td>\n",
              "      <td>21.711</td>\n",
              "      <td>21.564</td>\n",
              "      <td>21.564</td>\n",
              "      <td>21.526</td>\n",
              "      <td>21.753</td>\n",
              "      <td>21.749</td>\n",
              "      <td>21.802</td>\n",
              "      <td>21.582</td>\n",
              "      <td>21.283</td>\n",
              "      <td>21.519</td>\n",
              "    </tr>\n",
              "    <tr>\n",
              "      <th>3</th>\n",
              "      <td>21.540</td>\n",
              "      <td>21.419</td>\n",
              "      <td>21.565</td>\n",
              "      <td>20.857</td>\n",
              "      <td>21.052</td>\n",
              "      <td>21.039</td>\n",
              "      <td>20.926</td>\n",
              "      <td>20.912</td>\n",
              "      <td>20.989</td>\n",
              "      <td>20.882</td>\n",
              "      <td>...</td>\n",
              "      <td>20.687</td>\n",
              "      <td>20.703</td>\n",
              "      <td>20.295</td>\n",
              "      <td>20.482</td>\n",
              "      <td>20.600</td>\n",
              "      <td>20.547</td>\n",
              "      <td>20.708</td>\n",
              "      <td>20.708</td>\n",
              "      <td>20.574</td>\n",
              "      <td>20.403</td>\n",
              "    </tr>\n",
              "    <tr>\n",
              "      <th>4</th>\n",
              "      <td>20.460</td>\n",
              "      <td>20.298</td>\n",
              "      <td>20.350</td>\n",
              "      <td>19.867</td>\n",
              "      <td>19.997</td>\n",
              "      <td>19.972</td>\n",
              "      <td>19.924</td>\n",
              "      <td>19.813</td>\n",
              "      <td>19.691</td>\n",
              "      <td>19.634</td>\n",
              "      <td>...</td>\n",
              "      <td>19.887</td>\n",
              "      <td>19.919</td>\n",
              "      <td>19.696</td>\n",
              "      <td>19.634</td>\n",
              "      <td>19.747</td>\n",
              "      <td>20.005</td>\n",
              "      <td>19.919</td>\n",
              "      <td>19.736</td>\n",
              "      <td>19.977</td>\n",
              "      <td>20.016</td>\n",
              "    </tr>\n",
              "  </tbody>\n",
              "</table>\n",
              "<p>5 rows × 60 columns</p>\n",
              "</div>"
            ],
            "text/plain": [
              "       0       1       2       3       4       5       6       7       8   \\\n",
              "0  47.202  47.273  47.250  47.332  47.213  47.372  47.273  47.438  46.691   \n",
              "1  29.208  28.822  28.805  28.922  28.591  28.643  28.216  27.812  27.514   \n",
              "2  23.554  23.521  23.527  23.008  23.042  23.052  22.658  22.952  22.908   \n",
              "3  21.540  21.419  21.565  20.857  21.052  21.039  20.926  20.912  20.989   \n",
              "4  20.460  20.298  20.350  19.867  19.997  19.972  19.924  19.813  19.691   \n",
              "\n",
              "       9   ...      50      51      52      53      54      55      56  \\\n",
              "0  46.599  ...  31.554  30.953  30.639  30.561  30.368  30.224  29.790   \n",
              "1  27.481  ...  23.995  24.328  24.283  23.877  23.816  23.933  23.354   \n",
              "2  22.359  ...  21.711  21.564  21.564  21.526  21.753  21.749  21.802   \n",
              "3  20.882  ...  20.687  20.703  20.295  20.482  20.600  20.547  20.708   \n",
              "4  19.634  ...  19.887  19.919  19.696  19.634  19.747  20.005  19.919   \n",
              "\n",
              "       57      58      59  \n",
              "0  29.261  29.287  28.866  \n",
              "1  23.483  23.320  23.588  \n",
              "2  21.582  21.283  21.519  \n",
              "3  20.708  20.574  20.403  \n",
              "4  19.736  19.977  20.016  \n",
              "\n",
              "[5 rows x 60 columns]"
            ]
          },
          "metadata": {
            "tags": []
          },
          "execution_count": 3
        }
      ]
    },
    {
      "cell_type": "code",
      "metadata": {
        "id": "qIruZAVcn5BI"
      },
      "source": [
        "data[\"CE\"]=np.round(data.mean(axis=1),2)"
      ],
      "execution_count": null,
      "outputs": []
    },
    {
      "cell_type": "code",
      "metadata": {
        "id": "CWquOjXRn5BI",
        "outputId": "a1cee127-8cf8-444a-9c93-df9f718dafc0"
      },
      "source": [
        "data.head()"
      ],
      "execution_count": null,
      "outputs": [
        {
          "output_type": "execute_result",
          "data": {
            "text/html": [
              "<div>\n",
              "<style scoped>\n",
              "    .dataframe tbody tr th:only-of-type {\n",
              "        vertical-align: middle;\n",
              "    }\n",
              "\n",
              "    .dataframe tbody tr th {\n",
              "        vertical-align: top;\n",
              "    }\n",
              "\n",
              "    .dataframe thead th {\n",
              "        text-align: right;\n",
              "    }\n",
              "</style>\n",
              "<table border=\"1\" class=\"dataframe\">\n",
              "  <thead>\n",
              "    <tr style=\"text-align: right;\">\n",
              "      <th></th>\n",
              "      <th>0</th>\n",
              "      <th>1</th>\n",
              "      <th>2</th>\n",
              "      <th>3</th>\n",
              "      <th>4</th>\n",
              "      <th>5</th>\n",
              "      <th>6</th>\n",
              "      <th>7</th>\n",
              "      <th>8</th>\n",
              "      <th>9</th>\n",
              "      <th>...</th>\n",
              "      <th>51</th>\n",
              "      <th>52</th>\n",
              "      <th>53</th>\n",
              "      <th>54</th>\n",
              "      <th>55</th>\n",
              "      <th>56</th>\n",
              "      <th>57</th>\n",
              "      <th>58</th>\n",
              "      <th>59</th>\n",
              "      <th>CE</th>\n",
              "    </tr>\n",
              "  </thead>\n",
              "  <tbody>\n",
              "    <tr>\n",
              "      <th>0</th>\n",
              "      <td>47.202</td>\n",
              "      <td>47.273</td>\n",
              "      <td>47.250</td>\n",
              "      <td>47.332</td>\n",
              "      <td>47.213</td>\n",
              "      <td>47.372</td>\n",
              "      <td>47.273</td>\n",
              "      <td>47.438</td>\n",
              "      <td>46.691</td>\n",
              "      <td>46.599</td>\n",
              "      <td>...</td>\n",
              "      <td>30.953</td>\n",
              "      <td>30.639</td>\n",
              "      <td>30.561</td>\n",
              "      <td>30.368</td>\n",
              "      <td>30.224</td>\n",
              "      <td>29.790</td>\n",
              "      <td>29.261</td>\n",
              "      <td>29.287</td>\n",
              "      <td>28.866</td>\n",
              "      <td>39.60</td>\n",
              "    </tr>\n",
              "    <tr>\n",
              "      <th>1</th>\n",
              "      <td>29.208</td>\n",
              "      <td>28.822</td>\n",
              "      <td>28.805</td>\n",
              "      <td>28.922</td>\n",
              "      <td>28.591</td>\n",
              "      <td>28.643</td>\n",
              "      <td>28.216</td>\n",
              "      <td>27.812</td>\n",
              "      <td>27.514</td>\n",
              "      <td>27.481</td>\n",
              "      <td>...</td>\n",
              "      <td>24.328</td>\n",
              "      <td>24.283</td>\n",
              "      <td>23.877</td>\n",
              "      <td>23.816</td>\n",
              "      <td>23.933</td>\n",
              "      <td>23.354</td>\n",
              "      <td>23.483</td>\n",
              "      <td>23.320</td>\n",
              "      <td>23.588</td>\n",
              "      <td>25.79</td>\n",
              "    </tr>\n",
              "    <tr>\n",
              "      <th>2</th>\n",
              "      <td>23.554</td>\n",
              "      <td>23.521</td>\n",
              "      <td>23.527</td>\n",
              "      <td>23.008</td>\n",
              "      <td>23.042</td>\n",
              "      <td>23.052</td>\n",
              "      <td>22.658</td>\n",
              "      <td>22.952</td>\n",
              "      <td>22.908</td>\n",
              "      <td>22.359</td>\n",
              "      <td>...</td>\n",
              "      <td>21.564</td>\n",
              "      <td>21.564</td>\n",
              "      <td>21.526</td>\n",
              "      <td>21.753</td>\n",
              "      <td>21.749</td>\n",
              "      <td>21.802</td>\n",
              "      <td>21.582</td>\n",
              "      <td>21.283</td>\n",
              "      <td>21.519</td>\n",
              "      <td>22.22</td>\n",
              "    </tr>\n",
              "    <tr>\n",
              "      <th>3</th>\n",
              "      <td>21.540</td>\n",
              "      <td>21.419</td>\n",
              "      <td>21.565</td>\n",
              "      <td>20.857</td>\n",
              "      <td>21.052</td>\n",
              "      <td>21.039</td>\n",
              "      <td>20.926</td>\n",
              "      <td>20.912</td>\n",
              "      <td>20.989</td>\n",
              "      <td>20.882</td>\n",
              "      <td>...</td>\n",
              "      <td>20.703</td>\n",
              "      <td>20.295</td>\n",
              "      <td>20.482</td>\n",
              "      <td>20.600</td>\n",
              "      <td>20.547</td>\n",
              "      <td>20.708</td>\n",
              "      <td>20.708</td>\n",
              "      <td>20.574</td>\n",
              "      <td>20.403</td>\n",
              "      <td>20.46</td>\n",
              "    </tr>\n",
              "    <tr>\n",
              "      <th>4</th>\n",
              "      <td>20.460</td>\n",
              "      <td>20.298</td>\n",
              "      <td>20.350</td>\n",
              "      <td>19.867</td>\n",
              "      <td>19.997</td>\n",
              "      <td>19.972</td>\n",
              "      <td>19.924</td>\n",
              "      <td>19.813</td>\n",
              "      <td>19.691</td>\n",
              "      <td>19.634</td>\n",
              "      <td>...</td>\n",
              "      <td>19.919</td>\n",
              "      <td>19.696</td>\n",
              "      <td>19.634</td>\n",
              "      <td>19.747</td>\n",
              "      <td>20.005</td>\n",
              "      <td>19.919</td>\n",
              "      <td>19.736</td>\n",
              "      <td>19.977</td>\n",
              "      <td>20.016</td>\n",
              "      <td>19.79</td>\n",
              "    </tr>\n",
              "  </tbody>\n",
              "</table>\n",
              "<p>5 rows × 61 columns</p>\n",
              "</div>"
            ],
            "text/plain": [
              "        0       1       2       3       4       5       6       7       8  \\\n",
              "0  47.202  47.273  47.250  47.332  47.213  47.372  47.273  47.438  46.691   \n",
              "1  29.208  28.822  28.805  28.922  28.591  28.643  28.216  27.812  27.514   \n",
              "2  23.554  23.521  23.527  23.008  23.042  23.052  22.658  22.952  22.908   \n",
              "3  21.540  21.419  21.565  20.857  21.052  21.039  20.926  20.912  20.989   \n",
              "4  20.460  20.298  20.350  19.867  19.997  19.972  19.924  19.813  19.691   \n",
              "\n",
              "        9  ...      51      52      53      54      55      56      57  \\\n",
              "0  46.599  ...  30.953  30.639  30.561  30.368  30.224  29.790  29.261   \n",
              "1  27.481  ...  24.328  24.283  23.877  23.816  23.933  23.354  23.483   \n",
              "2  22.359  ...  21.564  21.564  21.526  21.753  21.749  21.802  21.582   \n",
              "3  20.882  ...  20.703  20.295  20.482  20.600  20.547  20.708  20.708   \n",
              "4  19.634  ...  19.919  19.696  19.634  19.747  20.005  19.919  19.736   \n",
              "\n",
              "       58      59     CE  \n",
              "0  29.287  28.866  39.60  \n",
              "1  23.320  23.588  25.79  \n",
              "2  21.283  21.519  22.22  \n",
              "3  20.574  20.403  20.46  \n",
              "4  19.977  20.016  19.79  \n",
              "\n",
              "[5 rows x 61 columns]"
            ]
          },
          "metadata": {
            "tags": []
          },
          "execution_count": 5
        }
      ]
    },
    {
      "cell_type": "code",
      "metadata": {
        "id": "-e5CU_MXn5BJ"
      },
      "source": [
        "data.drop(data.index[0:60], axis=1, inplace= True)"
      ],
      "execution_count": null,
      "outputs": []
    },
    {
      "cell_type": "code",
      "metadata": {
        "id": "FKseUXE-n5BJ",
        "outputId": "9d34db8d-7188-4473-fa97-88174de4bdb7"
      },
      "source": [
        "data.head()"
      ],
      "execution_count": null,
      "outputs": [
        {
          "output_type": "execute_result",
          "data": {
            "text/html": [
              "<div>\n",
              "<style scoped>\n",
              "    .dataframe tbody tr th:only-of-type {\n",
              "        vertical-align: middle;\n",
              "    }\n",
              "\n",
              "    .dataframe tbody tr th {\n",
              "        vertical-align: top;\n",
              "    }\n",
              "\n",
              "    .dataframe thead th {\n",
              "        text-align: right;\n",
              "    }\n",
              "</style>\n",
              "<table border=\"1\" class=\"dataframe\">\n",
              "  <thead>\n",
              "    <tr style=\"text-align: right;\">\n",
              "      <th></th>\n",
              "      <th>CE</th>\n",
              "    </tr>\n",
              "  </thead>\n",
              "  <tbody>\n",
              "    <tr>\n",
              "      <th>0</th>\n",
              "      <td>39.60</td>\n",
              "    </tr>\n",
              "    <tr>\n",
              "      <th>1</th>\n",
              "      <td>25.79</td>\n",
              "    </tr>\n",
              "    <tr>\n",
              "      <th>2</th>\n",
              "      <td>22.22</td>\n",
              "    </tr>\n",
              "    <tr>\n",
              "      <th>3</th>\n",
              "      <td>20.46</td>\n",
              "    </tr>\n",
              "    <tr>\n",
              "      <th>4</th>\n",
              "      <td>19.79</td>\n",
              "    </tr>\n",
              "  </tbody>\n",
              "</table>\n",
              "</div>"
            ],
            "text/plain": [
              "      CE\n",
              "0  39.60\n",
              "1  25.79\n",
              "2  22.22\n",
              "3  20.46\n",
              "4  19.79"
            ]
          },
          "metadata": {
            "tags": []
          },
          "execution_count": 7
        }
      ]
    },
    {
      "cell_type": "code",
      "metadata": {
        "id": "JXFJ5MwCn5BJ"
      },
      "source": [
        "files=[\"TS1\",\"TS2\",\"TS3\",\"TS4\",\"VS1\",\"CP\",\"EPS1\",\"FS1\",\"FS2\",\"PS1\",\"PS2\",\"PS3\",\"PS4\",\"PS5\",\"PS6\",\"SE\"]\n",
        "add= \"D:\\ML\\Hydrolic Data\\{}.txt\"\n",
        "for i in files:\n",
        "    obj=pd.read_csv(add.format(i), sep='\\t', header=None)\n",
        "    \n",
        "    data[i]= np.round(obj.mean(axis=1),2)\n"
      ],
      "execution_count": null,
      "outputs": []
    },
    {
      "cell_type": "code",
      "metadata": {
        "id": "UWgE7at4n5BK",
        "outputId": "83fe85fc-329e-473e-8b87-737d0957093a"
      },
      "source": [
        "data.head()"
      ],
      "execution_count": null,
      "outputs": [
        {
          "output_type": "execute_result",
          "data": {
            "text/html": [
              "<div>\n",
              "<style scoped>\n",
              "    .dataframe tbody tr th:only-of-type {\n",
              "        vertical-align: middle;\n",
              "    }\n",
              "\n",
              "    .dataframe tbody tr th {\n",
              "        vertical-align: top;\n",
              "    }\n",
              "\n",
              "    .dataframe thead th {\n",
              "        text-align: right;\n",
              "    }\n",
              "</style>\n",
              "<table border=\"1\" class=\"dataframe\">\n",
              "  <thead>\n",
              "    <tr style=\"text-align: right;\">\n",
              "      <th></th>\n",
              "      <th>CE</th>\n",
              "      <th>TS1</th>\n",
              "      <th>TS2</th>\n",
              "      <th>TS3</th>\n",
              "      <th>TS4</th>\n",
              "      <th>VS1</th>\n",
              "      <th>CP</th>\n",
              "      <th>EPS1</th>\n",
              "      <th>FS1</th>\n",
              "      <th>FS2</th>\n",
              "      <th>PS1</th>\n",
              "      <th>PS2</th>\n",
              "      <th>PS3</th>\n",
              "      <th>PS4</th>\n",
              "      <th>PS5</th>\n",
              "      <th>PS6</th>\n",
              "      <th>SE</th>\n",
              "    </tr>\n",
              "  </thead>\n",
              "  <tbody>\n",
              "    <tr>\n",
              "      <th>0</th>\n",
              "      <td>39.60</td>\n",
              "      <td>35.62</td>\n",
              "      <td>40.98</td>\n",
              "      <td>38.47</td>\n",
              "      <td>31.75</td>\n",
              "      <td>0.58</td>\n",
              "      <td>1.86</td>\n",
              "      <td>2538.93</td>\n",
              "      <td>6.71</td>\n",
              "      <td>10.30</td>\n",
              "      <td>160.67</td>\n",
              "      <td>109.47</td>\n",
              "      <td>1.99</td>\n",
              "      <td>0.0</td>\n",
              "      <td>9.84</td>\n",
              "      <td>9.73</td>\n",
              "      <td>59.16</td>\n",
              "    </tr>\n",
              "    <tr>\n",
              "      <th>1</th>\n",
              "      <td>25.79</td>\n",
              "      <td>36.68</td>\n",
              "      <td>41.53</td>\n",
              "      <td>38.98</td>\n",
              "      <td>34.49</td>\n",
              "      <td>0.57</td>\n",
              "      <td>1.26</td>\n",
              "      <td>2531.50</td>\n",
              "      <td>6.72</td>\n",
              "      <td>10.40</td>\n",
              "      <td>160.60</td>\n",
              "      <td>109.35</td>\n",
              "      <td>1.98</td>\n",
              "      <td>0.0</td>\n",
              "      <td>9.64</td>\n",
              "      <td>9.53</td>\n",
              "      <td>59.34</td>\n",
              "    </tr>\n",
              "    <tr>\n",
              "      <th>2</th>\n",
              "      <td>22.22</td>\n",
              "      <td>37.88</td>\n",
              "      <td>42.44</td>\n",
              "      <td>39.63</td>\n",
              "      <td>35.65</td>\n",
              "      <td>0.58</td>\n",
              "      <td>1.11</td>\n",
              "      <td>2519.93</td>\n",
              "      <td>6.72</td>\n",
              "      <td>10.37</td>\n",
              "      <td>160.35</td>\n",
              "      <td>109.16</td>\n",
              "      <td>1.97</td>\n",
              "      <td>0.0</td>\n",
              "      <td>9.53</td>\n",
              "      <td>9.43</td>\n",
              "      <td>59.54</td>\n",
              "    </tr>\n",
              "    <tr>\n",
              "      <th>3</th>\n",
              "      <td>20.46</td>\n",
              "      <td>38.88</td>\n",
              "      <td>43.40</td>\n",
              "      <td>40.40</td>\n",
              "      <td>36.58</td>\n",
              "      <td>0.57</td>\n",
              "      <td>1.06</td>\n",
              "      <td>2511.54</td>\n",
              "      <td>6.72</td>\n",
              "      <td>10.30</td>\n",
              "      <td>160.19</td>\n",
              "      <td>109.06</td>\n",
              "      <td>1.95</td>\n",
              "      <td>0.0</td>\n",
              "      <td>9.44</td>\n",
              "      <td>9.34</td>\n",
              "      <td>59.79</td>\n",
              "    </tr>\n",
              "    <tr>\n",
              "      <th>4</th>\n",
              "      <td>19.79</td>\n",
              "      <td>39.80</td>\n",
              "      <td>44.33</td>\n",
              "      <td>41.31</td>\n",
              "      <td>37.43</td>\n",
              "      <td>0.58</td>\n",
              "      <td>1.07</td>\n",
              "      <td>2503.45</td>\n",
              "      <td>6.69</td>\n",
              "      <td>10.24</td>\n",
              "      <td>160.00</td>\n",
              "      <td>108.93</td>\n",
              "      <td>1.92</td>\n",
              "      <td>0.0</td>\n",
              "      <td>9.36</td>\n",
              "      <td>9.26</td>\n",
              "      <td>59.46</td>\n",
              "    </tr>\n",
              "  </tbody>\n",
              "</table>\n",
              "</div>"
            ],
            "text/plain": [
              "      CE    TS1    TS2    TS3    TS4   VS1    CP     EPS1   FS1    FS2  \\\n",
              "0  39.60  35.62  40.98  38.47  31.75  0.58  1.86  2538.93  6.71  10.30   \n",
              "1  25.79  36.68  41.53  38.98  34.49  0.57  1.26  2531.50  6.72  10.40   \n",
              "2  22.22  37.88  42.44  39.63  35.65  0.58  1.11  2519.93  6.72  10.37   \n",
              "3  20.46  38.88  43.40  40.40  36.58  0.57  1.06  2511.54  6.72  10.30   \n",
              "4  19.79  39.80  44.33  41.31  37.43  0.58  1.07  2503.45  6.69  10.24   \n",
              "\n",
              "      PS1     PS2   PS3  PS4   PS5   PS6     SE  \n",
              "0  160.67  109.47  1.99  0.0  9.84  9.73  59.16  \n",
              "1  160.60  109.35  1.98  0.0  9.64  9.53  59.34  \n",
              "2  160.35  109.16  1.97  0.0  9.53  9.43  59.54  \n",
              "3  160.19  109.06  1.95  0.0  9.44  9.34  59.79  \n",
              "4  160.00  108.93  1.92  0.0  9.36  9.26  59.46  "
            ]
          },
          "metadata": {
            "tags": []
          },
          "execution_count": 9
        }
      ]
    },
    {
      "cell_type": "code",
      "metadata": {
        "id": "3nWPddewn5BK"
      },
      "source": [
        "prof= pd.read_csv(\"D:\\ML\\Hydrolic Data\\profile.txt\", sep=\"\\t\", header= None)"
      ],
      "execution_count": null,
      "outputs": []
    },
    {
      "cell_type": "code",
      "metadata": {
        "id": "890nZQr3n5BK",
        "outputId": "dbf71c88-5a8d-492f-c3fc-b7f097345cc6"
      },
      "source": [
        "prof.head()"
      ],
      "execution_count": null,
      "outputs": [
        {
          "output_type": "execute_result",
          "data": {
            "text/html": [
              "<div>\n",
              "<style scoped>\n",
              "    .dataframe tbody tr th:only-of-type {\n",
              "        vertical-align: middle;\n",
              "    }\n",
              "\n",
              "    .dataframe tbody tr th {\n",
              "        vertical-align: top;\n",
              "    }\n",
              "\n",
              "    .dataframe thead th {\n",
              "        text-align: right;\n",
              "    }\n",
              "</style>\n",
              "<table border=\"1\" class=\"dataframe\">\n",
              "  <thead>\n",
              "    <tr style=\"text-align: right;\">\n",
              "      <th></th>\n",
              "      <th>0</th>\n",
              "      <th>1</th>\n",
              "      <th>2</th>\n",
              "      <th>3</th>\n",
              "      <th>4</th>\n",
              "    </tr>\n",
              "  </thead>\n",
              "  <tbody>\n",
              "    <tr>\n",
              "      <th>0</th>\n",
              "      <td>3</td>\n",
              "      <td>100</td>\n",
              "      <td>0</td>\n",
              "      <td>130</td>\n",
              "      <td>1</td>\n",
              "    </tr>\n",
              "    <tr>\n",
              "      <th>1</th>\n",
              "      <td>3</td>\n",
              "      <td>100</td>\n",
              "      <td>0</td>\n",
              "      <td>130</td>\n",
              "      <td>1</td>\n",
              "    </tr>\n",
              "    <tr>\n",
              "      <th>2</th>\n",
              "      <td>3</td>\n",
              "      <td>100</td>\n",
              "      <td>0</td>\n",
              "      <td>130</td>\n",
              "      <td>1</td>\n",
              "    </tr>\n",
              "    <tr>\n",
              "      <th>3</th>\n",
              "      <td>3</td>\n",
              "      <td>100</td>\n",
              "      <td>0</td>\n",
              "      <td>130</td>\n",
              "      <td>1</td>\n",
              "    </tr>\n",
              "    <tr>\n",
              "      <th>4</th>\n",
              "      <td>3</td>\n",
              "      <td>100</td>\n",
              "      <td>0</td>\n",
              "      <td>130</td>\n",
              "      <td>1</td>\n",
              "    </tr>\n",
              "  </tbody>\n",
              "</table>\n",
              "</div>"
            ],
            "text/plain": [
              "   0    1  2    3  4\n",
              "0  3  100  0  130  1\n",
              "1  3  100  0  130  1\n",
              "2  3  100  0  130  1\n",
              "3  3  100  0  130  1\n",
              "4  3  100  0  130  1"
            ]
          },
          "metadata": {
            "tags": []
          },
          "execution_count": 11
        }
      ]
    },
    {
      "cell_type": "code",
      "metadata": {
        "id": "e2qKFBPun5BK",
        "outputId": "357036eb-00b1-4a7f-b7a3-a998f9e4f95a"
      },
      "source": [
        "data[\"Cooler_Cond\"]=prof[0]\n",
        "data[\"Valve_cond\"]=prof[1]\n",
        "data[\"Int_Pump_Leak\"]=prof[2]\n",
        "data[\"Hyd_Acc\"]= prof[3]\n",
        "data[\"Stable_Flag\"]=prof[4]\n",
        "data.head()"
      ],
      "execution_count": null,
      "outputs": [
        {
          "output_type": "execute_result",
          "data": {
            "text/html": [
              "<div>\n",
              "<style scoped>\n",
              "    .dataframe tbody tr th:only-of-type {\n",
              "        vertical-align: middle;\n",
              "    }\n",
              "\n",
              "    .dataframe tbody tr th {\n",
              "        vertical-align: top;\n",
              "    }\n",
              "\n",
              "    .dataframe thead th {\n",
              "        text-align: right;\n",
              "    }\n",
              "</style>\n",
              "<table border=\"1\" class=\"dataframe\">\n",
              "  <thead>\n",
              "    <tr style=\"text-align: right;\">\n",
              "      <th></th>\n",
              "      <th>CE</th>\n",
              "      <th>TS1</th>\n",
              "      <th>TS2</th>\n",
              "      <th>TS3</th>\n",
              "      <th>TS4</th>\n",
              "      <th>VS1</th>\n",
              "      <th>CP</th>\n",
              "      <th>EPS1</th>\n",
              "      <th>FS1</th>\n",
              "      <th>FS2</th>\n",
              "      <th>...</th>\n",
              "      <th>PS3</th>\n",
              "      <th>PS4</th>\n",
              "      <th>PS5</th>\n",
              "      <th>PS6</th>\n",
              "      <th>SE</th>\n",
              "      <th>Cooler_Cond</th>\n",
              "      <th>Valve_cond</th>\n",
              "      <th>Int_Pump_Leak</th>\n",
              "      <th>Hyd_Acc</th>\n",
              "      <th>Stable_Flag</th>\n",
              "    </tr>\n",
              "  </thead>\n",
              "  <tbody>\n",
              "    <tr>\n",
              "      <th>0</th>\n",
              "      <td>39.60</td>\n",
              "      <td>35.62</td>\n",
              "      <td>40.98</td>\n",
              "      <td>38.47</td>\n",
              "      <td>31.75</td>\n",
              "      <td>0.58</td>\n",
              "      <td>1.86</td>\n",
              "      <td>2538.93</td>\n",
              "      <td>6.71</td>\n",
              "      <td>10.30</td>\n",
              "      <td>...</td>\n",
              "      <td>1.99</td>\n",
              "      <td>0.0</td>\n",
              "      <td>9.84</td>\n",
              "      <td>9.73</td>\n",
              "      <td>59.16</td>\n",
              "      <td>3</td>\n",
              "      <td>100</td>\n",
              "      <td>0</td>\n",
              "      <td>130</td>\n",
              "      <td>1</td>\n",
              "    </tr>\n",
              "    <tr>\n",
              "      <th>1</th>\n",
              "      <td>25.79</td>\n",
              "      <td>36.68</td>\n",
              "      <td>41.53</td>\n",
              "      <td>38.98</td>\n",
              "      <td>34.49</td>\n",
              "      <td>0.57</td>\n",
              "      <td>1.26</td>\n",
              "      <td>2531.50</td>\n",
              "      <td>6.72</td>\n",
              "      <td>10.40</td>\n",
              "      <td>...</td>\n",
              "      <td>1.98</td>\n",
              "      <td>0.0</td>\n",
              "      <td>9.64</td>\n",
              "      <td>9.53</td>\n",
              "      <td>59.34</td>\n",
              "      <td>3</td>\n",
              "      <td>100</td>\n",
              "      <td>0</td>\n",
              "      <td>130</td>\n",
              "      <td>1</td>\n",
              "    </tr>\n",
              "    <tr>\n",
              "      <th>2</th>\n",
              "      <td>22.22</td>\n",
              "      <td>37.88</td>\n",
              "      <td>42.44</td>\n",
              "      <td>39.63</td>\n",
              "      <td>35.65</td>\n",
              "      <td>0.58</td>\n",
              "      <td>1.11</td>\n",
              "      <td>2519.93</td>\n",
              "      <td>6.72</td>\n",
              "      <td>10.37</td>\n",
              "      <td>...</td>\n",
              "      <td>1.97</td>\n",
              "      <td>0.0</td>\n",
              "      <td>9.53</td>\n",
              "      <td>9.43</td>\n",
              "      <td>59.54</td>\n",
              "      <td>3</td>\n",
              "      <td>100</td>\n",
              "      <td>0</td>\n",
              "      <td>130</td>\n",
              "      <td>1</td>\n",
              "    </tr>\n",
              "    <tr>\n",
              "      <th>3</th>\n",
              "      <td>20.46</td>\n",
              "      <td>38.88</td>\n",
              "      <td>43.40</td>\n",
              "      <td>40.40</td>\n",
              "      <td>36.58</td>\n",
              "      <td>0.57</td>\n",
              "      <td>1.06</td>\n",
              "      <td>2511.54</td>\n",
              "      <td>6.72</td>\n",
              "      <td>10.30</td>\n",
              "      <td>...</td>\n",
              "      <td>1.95</td>\n",
              "      <td>0.0</td>\n",
              "      <td>9.44</td>\n",
              "      <td>9.34</td>\n",
              "      <td>59.79</td>\n",
              "      <td>3</td>\n",
              "      <td>100</td>\n",
              "      <td>0</td>\n",
              "      <td>130</td>\n",
              "      <td>1</td>\n",
              "    </tr>\n",
              "    <tr>\n",
              "      <th>4</th>\n",
              "      <td>19.79</td>\n",
              "      <td>39.80</td>\n",
              "      <td>44.33</td>\n",
              "      <td>41.31</td>\n",
              "      <td>37.43</td>\n",
              "      <td>0.58</td>\n",
              "      <td>1.07</td>\n",
              "      <td>2503.45</td>\n",
              "      <td>6.69</td>\n",
              "      <td>10.24</td>\n",
              "      <td>...</td>\n",
              "      <td>1.92</td>\n",
              "      <td>0.0</td>\n",
              "      <td>9.36</td>\n",
              "      <td>9.26</td>\n",
              "      <td>59.46</td>\n",
              "      <td>3</td>\n",
              "      <td>100</td>\n",
              "      <td>0</td>\n",
              "      <td>130</td>\n",
              "      <td>1</td>\n",
              "    </tr>\n",
              "  </tbody>\n",
              "</table>\n",
              "<p>5 rows × 22 columns</p>\n",
              "</div>"
            ],
            "text/plain": [
              "      CE    TS1    TS2    TS3    TS4   VS1    CP     EPS1   FS1    FS2  ...  \\\n",
              "0  39.60  35.62  40.98  38.47  31.75  0.58  1.86  2538.93  6.71  10.30  ...   \n",
              "1  25.79  36.68  41.53  38.98  34.49  0.57  1.26  2531.50  6.72  10.40  ...   \n",
              "2  22.22  37.88  42.44  39.63  35.65  0.58  1.11  2519.93  6.72  10.37  ...   \n",
              "3  20.46  38.88  43.40  40.40  36.58  0.57  1.06  2511.54  6.72  10.30  ...   \n",
              "4  19.79  39.80  44.33  41.31  37.43  0.58  1.07  2503.45  6.69  10.24  ...   \n",
              "\n",
              "    PS3  PS4   PS5   PS6     SE  Cooler_Cond  Valve_cond  Int_Pump_Leak  \\\n",
              "0  1.99  0.0  9.84  9.73  59.16            3         100              0   \n",
              "1  1.98  0.0  9.64  9.53  59.34            3         100              0   \n",
              "2  1.97  0.0  9.53  9.43  59.54            3         100              0   \n",
              "3  1.95  0.0  9.44  9.34  59.79            3         100              0   \n",
              "4  1.92  0.0  9.36  9.26  59.46            3         100              0   \n",
              "\n",
              "   Hyd_Acc  Stable_Flag  \n",
              "0      130            1  \n",
              "1      130            1  \n",
              "2      130            1  \n",
              "3      130            1  \n",
              "4      130            1  \n",
              "\n",
              "[5 rows x 22 columns]"
            ]
          },
          "metadata": {
            "tags": []
          },
          "execution_count": 12
        }
      ]
    },
    {
      "cell_type": "code",
      "metadata": {
        "id": "Cxvz83IKn5BL"
      },
      "source": [
        "data.to_csv(\"Hydraulic Data.csv\")"
      ],
      "execution_count": null,
      "outputs": []
    },
    {
      "cell_type": "code",
      "metadata": {
        "id": "2rwB7scHn5BL",
        "outputId": "76adea58-d802-495d-bda1-1260ac65c48c"
      },
      "source": [
        "data.isnull().sum()"
      ],
      "execution_count": null,
      "outputs": [
        {
          "output_type": "execute_result",
          "data": {
            "text/plain": [
              "CE               0\n",
              "TS1              0\n",
              "TS2              0\n",
              "TS3              0\n",
              "TS4              0\n",
              "VS1              0\n",
              "CP               0\n",
              "EPS1             0\n",
              "FS1              0\n",
              "FS2              0\n",
              "PS1              0\n",
              "PS2              0\n",
              "PS3              0\n",
              "PS4              0\n",
              "PS5              0\n",
              "PS6              0\n",
              "SE               0\n",
              "Cooler_Cond      0\n",
              "Valve_cond       0\n",
              "Int_Pump_Leak    0\n",
              "Hyd_Acc          0\n",
              "Stable_Flag      0\n",
              "dtype: int64"
            ]
          },
          "metadata": {
            "tags": []
          },
          "execution_count": 14
        }
      ]
    },
    {
      "cell_type": "markdown",
      "metadata": {
        "id": "SraONvzMn5BL"
      },
      "source": [
        "LOGISTIC REGRRESSION CLASSIFICATION FOR COOLER CONDITION"
      ]
    },
    {
      "cell_type": "code",
      "metadata": {
        "id": "83Y4-Et2n5BL"
      },
      "source": [
        "X=data.iloc[:,:-5].values\n",
        "y=data.iloc[:,-5].values"
      ],
      "execution_count": null,
      "outputs": []
    },
    {
      "cell_type": "code",
      "metadata": {
        "id": "KFGNVva3n5BM",
        "outputId": "a75ddb91-93be-40c0-b0ca-847df3e7b6fc"
      },
      "source": [
        "X"
      ],
      "execution_count": null,
      "outputs": [
        {
          "output_type": "execute_result",
          "data": {
            "text/plain": [
              "array([[39.6 , 35.62, 40.98, ...,  9.84,  9.73, 59.16],\n",
              "       [25.79, 36.68, 41.53, ...,  9.64,  9.53, 59.34],\n",
              "       [22.22, 37.88, 42.44, ...,  9.53,  9.43, 59.54],\n",
              "       ...,\n",
              "       [46.47, 35.32, 40.88, ...,  9.96,  9.84, 59.13],\n",
              "       [46.54, 35.32, 40.88, ...,  9.97,  9.85, 58.97],\n",
              "       [46.65, 35.32, 40.86, ...,  9.97,  9.85, 59.05]])"
            ]
          },
          "metadata": {
            "tags": []
          },
          "execution_count": 17
        }
      ]
    },
    {
      "cell_type": "code",
      "metadata": {
        "id": "qloCntu6n5BM",
        "outputId": "3c9871e3-c950-4d95-d154-0bc7d9418e9e"
      },
      "source": [
        "y"
      ],
      "execution_count": null,
      "outputs": [
        {
          "output_type": "execute_result",
          "data": {
            "text/plain": [
              "array([  3,   3,   3, ..., 100, 100, 100], dtype=int64)"
            ]
          },
          "metadata": {
            "tags": []
          },
          "execution_count": 18
        }
      ]
    },
    {
      "cell_type": "code",
      "metadata": {
        "id": "ACAUtsKAn5BM"
      },
      "source": [
        "#Spliting the data\n",
        "from sklearn.model_selection import train_test_split\n",
        "X_train, X_test, y_train, y_test= train_test_split(X, y, test_size=0.3, random_state=10)"
      ],
      "execution_count": null,
      "outputs": []
    },
    {
      "cell_type": "code",
      "metadata": {
        "id": "tEfGVQbIn5BM"
      },
      "source": [
        "#Scaling the data\n",
        "from sklearn.preprocessing import StandardScaler\n",
        "sc=StandardScaler()\n",
        "X_train= sc.fit_transform(X_train)\n",
        "X_test= sc.transform(X_test)"
      ],
      "execution_count": null,
      "outputs": []
    },
    {
      "cell_type": "code",
      "metadata": {
        "id": "0uSnY9qtn5BN",
        "outputId": "740babd5-d71d-4f0e-ad00-bcfec9b02345"
      },
      "source": [
        "X_train"
      ],
      "execution_count": null,
      "outputs": [
        {
          "output_type": "execute_result",
          "data": {
            "text/plain": [
              "array([[-1.09146463,  1.38294642,  1.43260416, ..., -1.24601178,\n",
              "        -1.2454234 ,  0.52991696],\n",
              "       [-0.35431955, -0.16656164, -0.1694218 , ...,  0.02987979,\n",
              "         0.02040371,  0.16397361],\n",
              "       [ 1.345856  , -1.12956785, -1.1290246 , ...,  1.15059535,\n",
              "         1.14156487,  0.11728054],\n",
              "       ...,\n",
              "       [-0.35087092, -0.171532  , -0.16404588, ...,  0.02987979,\n",
              "         0.03848696,  0.05104154],\n",
              "       [-1.05266752,  1.53951259,  1.49442731, ..., -1.31497889,\n",
              "        -1.31775638,  0.15094298],\n",
              "       [-0.34742229, -0.16407646, -0.16673384, ...,  0.01263801,\n",
              "         0.02040371,  0.28124922]])"
            ]
          },
          "metadata": {
            "tags": []
          },
          "execution_count": 21
        }
      ]
    },
    {
      "cell_type": "code",
      "metadata": {
        "id": "v83kwoBMn5BN",
        "outputId": "38418fd4-3b9c-4448-de57-cf25a3db59e2"
      },
      "source": [
        "X_test"
      ],
      "execution_count": null,
      "outputs": [
        {
          "output_type": "execute_result",
          "data": {
            "text/plain": [
              "array([[-0.34483582, -0.15537834, -0.16404588, ..., -0.00460377,\n",
              "        -0.01576278,  0.29427985],\n",
              "       [-0.36294113,  0.06580244,  0.05905505, ..., -0.22874688,\n",
              "        -0.23276171,  0.20089371],\n",
              "       [ 1.37430721, -1.14199374, -1.13574451, ...,  1.18507891,\n",
              "         1.17773136,  0.43653082],\n",
              "       ...,\n",
              "       [-0.96645172,  1.11703244,  1.15036804, ..., -1.10807755,\n",
              "        -1.11884069,  0.19872194],\n",
              "       [-0.99231646,  1.00271429,  1.02806572, ..., -0.97014333,\n",
              "        -0.97417473,  0.57335237],\n",
              "       [ 1.34758031, -1.16684551, -1.16396812, ...,  1.20232069,\n",
              "         1.21389785,  0.42675785]])"
            ]
          },
          "metadata": {
            "tags": []
          },
          "execution_count": 22
        }
      ]
    },
    {
      "cell_type": "code",
      "metadata": {
        "id": "lNJ43WuTn5BN",
        "outputId": "181bef8c-328e-4aa7-873e-e962db621200"
      },
      "source": [
        "#Training the data\n",
        "from sklearn.linear_model import LogisticRegression\n",
        "classifier = LogisticRegression(random_state=10)\n",
        "classifier.fit(X_train, y_train)"
      ],
      "execution_count": null,
      "outputs": [
        {
          "output_type": "execute_result",
          "data": {
            "text/plain": [
              "LogisticRegression(random_state=10)"
            ]
          },
          "metadata": {
            "tags": []
          },
          "execution_count": 23
        }
      ]
    },
    {
      "cell_type": "code",
      "metadata": {
        "id": "I44X5dVQn5BN"
      },
      "source": [
        "#Predicting the data\n",
        "y_pred= classifier.predict(X_test)\n"
      ],
      "execution_count": null,
      "outputs": []
    },
    {
      "cell_type": "code",
      "metadata": {
        "id": "Ck8YNj6Qn5BN",
        "outputId": "5a2115b4-298f-4897-b66c-e608b1dff600"
      },
      "source": [
        "#Confusion Matrix\n",
        "from sklearn.metrics import confusion_matrix, accuracy_score\n",
        "cm= confusion_matrix(y_test,y_pred)\n",
        "print(cm)\n",
        "accuracy_score(y_test, y_pred)"
      ],
      "execution_count": null,
      "outputs": [
        {
          "output_type": "stream",
          "text": [
            "[[214   1   0]\n",
            " [  1 224   0]\n",
            " [  0   0 222]]\n"
          ],
          "name": "stdout"
        },
        {
          "output_type": "execute_result",
          "data": {
            "text/plain": [
              "0.9969788519637462"
            ]
          },
          "metadata": {
            "tags": []
          },
          "execution_count": 25
        }
      ]
    },
    {
      "cell_type": "code",
      "metadata": {
        "id": "0C3FRqC2n5BO",
        "outputId": "cefbfb9b-af42-4964-9791-741bc39dab81"
      },
      "source": [
        "from sklearn.metrics import precision_score, recall_score\n",
        "print(precision_score(y_test, y_pred, average=\"weighted\"))\n",
        "print(recall_score(y_test, y_pred, average=\"weighted\"))\n",
        "from sklearn.metrics import f1_score\n",
        "print(\"f1_score: \", f1_score(y_test, y_pred, average=\"weighted\"))"
      ],
      "execution_count": null,
      "outputs": [
        {
          "output_type": "stream",
          "text": [
            "0.9969788519637462\n",
            "0.9969788519637462\n",
            "f1_score:  0.9969788519637462\n"
          ],
          "name": "stdout"
        }
      ]
    },
    {
      "cell_type": "code",
      "metadata": {
        "id": "u7h1hXC7n5BO",
        "outputId": "e75ee9fa-a154-45ef-a06d-6f9cc02c8149"
      },
      "source": [
        "from sklearn import metrics\n",
        "print(metrics.classification_report(y_test, y_pred, digits=2))"
      ],
      "execution_count": null,
      "outputs": [
        {
          "output_type": "stream",
          "text": [
            "              precision    recall  f1-score   support\n",
            "\n",
            "           3       1.00      1.00      1.00       215\n",
            "          20       1.00      1.00      1.00       225\n",
            "         100       1.00      1.00      1.00       222\n",
            "\n",
            "    accuracy                           1.00       662\n",
            "   macro avg       1.00      1.00      1.00       662\n",
            "weighted avg       1.00      1.00      1.00       662\n",
            "\n"
          ],
          "name": "stdout"
        }
      ]
    }
  ]
}
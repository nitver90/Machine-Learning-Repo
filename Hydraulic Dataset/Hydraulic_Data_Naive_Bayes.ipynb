{
  "nbformat": 4,
  "nbformat_minor": 0,
  "metadata": {
    "kernelspec": {
      "display_name": "Python 3",
      "language": "python",
      "name": "python3"
    },
    "language_info": {
      "codemirror_mode": {
        "name": "ipython",
        "version": 3
      },
      "file_extension": ".py",
      "mimetype": "text/x-python",
      "name": "python",
      "nbconvert_exporter": "python",
      "pygments_lexer": "ipython3",
      "version": "3.7.6"
    },
    "colab": {
      "name": "Hydraulic Data Naive Bayes.ipynb",
      "provenance": [],
      "include_colab_link": true
    }
  },
  "cells": [
    {
      "cell_type": "markdown",
      "metadata": {
        "id": "view-in-github",
        "colab_type": "text"
      },
      "source": [
        "<a href=\"https://colab.research.google.com/github/nitver90/Machine-Learning-Repo/blob/main/Hydraulic%20Dataset/Hydraulic_Data_Naive_Bayes.ipynb\" target=\"_parent\"><img src=\"https://colab.research.google.com/assets/colab-badge.svg\" alt=\"Open In Colab\"/></a>"
      ]
    },
    {
      "cell_type": "code",
      "metadata": {
        "id": "OaQf-3PJqUio"
      },
      "source": [
        "import numpy as np\n",
        "import pandas as pd\n",
        "import matplotlib.pyplot as plt"
      ],
      "execution_count": 4,
      "outputs": []
    },
    {
      "cell_type": "code",
      "metadata": {
        "id": "mPesgfIYqUip"
      },
      "source": [
        "data= pd.read_csv(\"/content/drive/MyDrive/Colab Notebooks/Hydraulic Dataset/Hydraulic Data.csv\")\n",
        "\n",
        "X=data.iloc[:,:-5].values\n",
        "y=data.iloc[:,-5].values\n"
      ],
      "execution_count": 5,
      "outputs": []
    },
    {
      "cell_type": "code",
      "metadata": {
        "id": "b_dSxFGOqkns"
      },
      "source": [
        "from sklearn.model_selection import train_test_split\r\n",
        "X_train, X_test, y_train, y_test = train_test_split(X, y, test_size = 0.25, random_state = 0)"
      ],
      "execution_count": 6,
      "outputs": []
    },
    {
      "cell_type": "code",
      "metadata": {
        "id": "_NMOnIf3qkWm"
      },
      "source": [
        "from sklearn.preprocessing import StandardScaler\r\n",
        "sc = StandardScaler()\r\n",
        "X_train = sc.fit_transform(X_train)\r\n",
        "X_test = sc.transform(X_test)"
      ],
      "execution_count": 7,
      "outputs": []
    },
    {
      "cell_type": "code",
      "metadata": {
        "colab": {
          "base_uri": "https://localhost:8080/"
        },
        "id": "dvGLyLggqUiq",
        "outputId": "ca6358b0-ba70-4ed8-b516-7fe67789aa3a"
      },
      "source": [
        "#Training Data\n",
        "from sklearn.naive_bayes import GaussianNB\n",
        "classifier_NB= GaussianNB()\n",
        "classifier_NB.fit(X_train, y_train)"
      ],
      "execution_count": 8,
      "outputs": [
        {
          "output_type": "execute_result",
          "data": {
            "text/plain": [
              "GaussianNB(priors=None, var_smoothing=1e-09)"
            ]
          },
          "metadata": {
            "tags": []
          },
          "execution_count": 8
        }
      ]
    },
    {
      "cell_type": "code",
      "metadata": {
        "id": "IV-RBuMnqUiq"
      },
      "source": [
        "y_pred= classifier_NB.predict(X_test)"
      ],
      "execution_count": 9,
      "outputs": []
    },
    {
      "cell_type": "code",
      "metadata": {
        "colab": {
          "base_uri": "https://localhost:8080/"
        },
        "id": "kUHAp6iXqUir",
        "outputId": "3fb2b54c-e532-4770-ad06-c80b349c5f7c"
      },
      "source": [
        "#Confusion Matrix\n",
        "from sklearn.metrics import confusion_matrix, accuracy_score, precision_score, recall_score\n",
        "cm= confusion_matrix(y_test, y_pred)\n",
        "print(cm)\n",
        "print(\"Accuracy Score: \", accuracy_score(y_test, y_pred))\n",
        "print(\"Precision Score:\", precision_score(y_test, y_pred, average=\"weighted\"))\n",
        "print(\"Recall Score:\", recall_score(y_test, y_pred, average=\"weighted\"))"
      ],
      "execution_count": 10,
      "outputs": [
        {
          "output_type": "stream",
          "text": [
            "[[199   0   0]\n",
            " [  2 179   0]\n",
            " [  0   1 171]]\n",
            "Accuracy Score:  0.9945652173913043\n",
            "Precision Score: 0.9945912046049944\n",
            "Recall Score: 0.9945652173913043\n"
          ],
          "name": "stdout"
        }
      ]
    }
  ]
}
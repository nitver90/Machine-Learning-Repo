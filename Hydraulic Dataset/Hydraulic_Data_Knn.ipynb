{
  "nbformat": 4,
  "nbformat_minor": 0,
  "metadata": {
    "kernelspec": {
      "display_name": "Python 3",
      "language": "python",
      "name": "python3"
    },
    "language_info": {
      "codemirror_mode": {
        "name": "ipython",
        "version": 3
      },
      "file_extension": ".py",
      "mimetype": "text/x-python",
      "name": "python",
      "nbconvert_exporter": "python",
      "pygments_lexer": "ipython3",
      "version": "3.7.6"
    },
    "colab": {
      "name": "Hydraulic Data Knn.ipynb",
      "provenance": [],
      "include_colab_link": true
    }
  },
  "cells": [
    {
      "cell_type": "markdown",
      "metadata": {
        "id": "view-in-github",
        "colab_type": "text"
      },
      "source": [
        "<a href=\"https://colab.research.google.com/github/nitver90/Machine-Learning-Repo/blob/main/Hydraulic%20Dataset/Hydraulic_Data_Knn.ipynb\" target=\"_parent\"><img src=\"https://colab.research.google.com/assets/colab-badge.svg\" alt=\"Open In Colab\"/></a>"
      ]
    },
    {
      "cell_type": "code",
      "metadata": {
        "id": "ihLGca4TrXQF"
      },
      "source": [
        "import numpy as np\n",
        "import pandas as pd"
      ],
      "execution_count": 2,
      "outputs": []
    },
    {
      "cell_type": "code",
      "metadata": {
        "id": "RlXH3EZ7rohz"
      },
      "source": [
        "data= pd.read_csv(\"/content/drive/MyDrive/Colab Notebooks/Hydraulic Dataset/Hydraulic Data.csv\")\r\n",
        "\r\n",
        "X=data.iloc[:,:-5].values\r\n",
        "y=data.iloc[:,-5].values"
      ],
      "execution_count": 3,
      "outputs": []
    },
    {
      "cell_type": "code",
      "metadata": {
        "id": "tS4SAd8MrngT"
      },
      "source": [
        "from sklearn.model_selection import train_test_split\r\n",
        "X_train, X_test, y_train, y_test = train_test_split(X, y, test_size = 0.25, random_state = 0)"
      ],
      "execution_count": 4,
      "outputs": []
    },
    {
      "cell_type": "code",
      "metadata": {
        "id": "5-YMwOq4rnU8"
      },
      "source": [
        "from sklearn.preprocessing import StandardScaler\r\n",
        "sc = StandardScaler()\r\n",
        "X_train = sc.fit_transform(X_train)\r\n",
        "X_test = sc.transform(X_test)"
      ],
      "execution_count": 5,
      "outputs": []
    },
    {
      "cell_type": "code",
      "metadata": {
        "colab": {
          "base_uri": "https://localhost:8080/"
        },
        "id": "lJUtiNQVrXQX",
        "outputId": "d6ea269d-6f73-49dd-c065-47ccdbea3a9e"
      },
      "source": [
        "#Training Data\n",
        "from sklearn.neighbors import KNeighborsClassifier\n",
        "classifier=KNeighborsClassifier()\n",
        "classifier.fit(X_train, y_train)"
      ],
      "execution_count": 6,
      "outputs": [
        {
          "output_type": "execute_result",
          "data": {
            "text/plain": [
              "KNeighborsClassifier(algorithm='auto', leaf_size=30, metric='minkowski',\n",
              "                     metric_params=None, n_jobs=None, n_neighbors=5, p=2,\n",
              "                     weights='uniform')"
            ]
          },
          "metadata": {
            "tags": []
          },
          "execution_count": 6
        }
      ]
    },
    {
      "cell_type": "code",
      "metadata": {
        "id": "BqlntyALrXQb"
      },
      "source": [
        "y_pred= classifier.predict(X_test)"
      ],
      "execution_count": 7,
      "outputs": []
    },
    {
      "cell_type": "code",
      "metadata": {
        "colab": {
          "base_uri": "https://localhost:8080/"
        },
        "id": "HiWyF9u2rXQb",
        "outputId": "0caf05e0-fbf9-4d58-a2d5-a3fb755d1ab5"
      },
      "source": [
        "from sklearn.metrics import confusion_matrix, accuracy_score, precision_score, recall_score\n",
        "cm= confusion_matrix(y_test,y_pred)\n",
        "print(cm)\n",
        "print(\"Accuracy Score:\", accuracy_score(y_test,y_pred))\n",
        "print(\"Precision Score:\", precision_score(y_test,y_pred, average=\"weighted\"))\n",
        "print(\"Recall Score:\", recall_score(y_test,y_pred, average=\"weighted\"))"
      ],
      "execution_count": 8,
      "outputs": [
        {
          "output_type": "stream",
          "text": [
            "[[199   0   0]\n",
            " [  0 181   0]\n",
            " [  0   1 171]]\n",
            "Accuracy Score: 0.9981884057971014\n",
            "Precision Score: 0.9981983596114031\n",
            "Recall Score: 0.9981884057971014\n"
          ],
          "name": "stdout"
        }
      ]
    }
  ]
}
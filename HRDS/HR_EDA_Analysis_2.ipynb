{
  "nbformat": 4,
  "nbformat_minor": 0,
  "metadata": {
    "colab": {
      "name": "HR EDA Analysis 2.ipynb",
      "provenance": [],
      "collapsed_sections": []
    },
    "kernelspec": {
      "name": "python3",
      "display_name": "Python 3"
    }
  },
  "cells": [
    {
      "cell_type": "code",
      "metadata": {
        "id": "wx3kwPCzJ9Ls"
      },
      "source": [
        "import numpy as np\n",
        "import pandas as pd\n",
        "import matplotlib.pyplot as plt\n",
        "import datetime"
      ],
      "execution_count": null,
      "outputs": []
    },
    {
      "cell_type": "code",
      "metadata": {
        "id": "LtwOoXDtOGTK"
      },
      "source": [
        "data= pd.read_csv(\"https://raw.githubusercontent.com/gauravpks/ml-repo/master/HRDS/unit2.csv\")"
      ],
      "execution_count": null,
      "outputs": []
    },
    {
      "cell_type": "code",
      "metadata": {
        "id": "tEvBaGZAOcIq",
        "colab": {
          "base_uri": "https://localhost:8080/",
          "height": 434
        },
        "outputId": "e82f271b-9b75-463e-df44-a297d64a199d"
      },
      "source": [
        "data.head()"
      ],
      "execution_count": null,
      "outputs": [
        {
          "output_type": "execute_result",
          "data": {
            "text/html": [
              "<div>\n",
              "<style scoped>\n",
              "    .dataframe tbody tr th:only-of-type {\n",
              "        vertical-align: middle;\n",
              "    }\n",
              "\n",
              "    .dataframe tbody tr th {\n",
              "        vertical-align: top;\n",
              "    }\n",
              "\n",
              "    .dataframe thead th {\n",
              "        text-align: right;\n",
              "    }\n",
              "</style>\n",
              "<table border=\"1\" class=\"dataframe\">\n",
              "  <thead>\n",
              "    <tr style=\"text-align: right;\">\n",
              "      <th></th>\n",
              "      <th>Employee ID</th>\n",
              "      <th>Data Effective Date</th>\n",
              "      <th>Employee\\nStatus\\n</th>\n",
              "      <th>Career Level \\n(1=lowest, 6=highest)\\n</th>\n",
              "      <th>Hired Date</th>\n",
              "      <th>Hired in FY\\n(Yes/No)</th>\n",
              "      <th>Termination Date</th>\n",
              "      <th>Terminated\\nin FY\\n(Yes/No)</th>\n",
              "      <th>Termination Type\\n(Voluntary or Involuntary Exit)</th>\n",
              "      <th>Job Start Date</th>\n",
              "      <th>Promoted\\nin FY\\n(Yes/No)</th>\n",
              "      <th>Birth Date</th>\n",
              "      <th>Age\\n(Years)</th>\n",
              "      <th>Tenure\\n(Years)</th>\n",
              "      <th>Time in\\nJob (Years)</th>\n",
              "      <th>Rating\\n(1=lowest, 5=highest)</th>\n",
              "      <th>Education\\n(Highest\\nDegree)</th>\n",
              "    </tr>\n",
              "  </thead>\n",
              "  <tbody>\n",
              "    <tr>\n",
              "      <th>0</th>\n",
              "      <td>N0001</td>\n",
              "      <td>31-12-2016</td>\n",
              "      <td>Active</td>\n",
              "      <td>1</td>\n",
              "      <td>19-04-2016</td>\n",
              "      <td>Yes</td>\n",
              "      <td>NaN</td>\n",
              "      <td>No</td>\n",
              "      <td>NaN</td>\n",
              "      <td>19-04-2016</td>\n",
              "      <td>NaN</td>\n",
              "      <td>01-09-1995</td>\n",
              "      <td>NaN</td>\n",
              "      <td>NaN</td>\n",
              "      <td>NaN</td>\n",
              "      <td>3</td>\n",
              "      <td>MA/MS</td>\n",
              "    </tr>\n",
              "    <tr>\n",
              "      <th>1</th>\n",
              "      <td>N0002</td>\n",
              "      <td>31-12-2016</td>\n",
              "      <td>Active</td>\n",
              "      <td>1</td>\n",
              "      <td>19-10-2016</td>\n",
              "      <td>Yes</td>\n",
              "      <td>NaN</td>\n",
              "      <td>No</td>\n",
              "      <td>NaN</td>\n",
              "      <td>19-10-2016</td>\n",
              "      <td>NaN</td>\n",
              "      <td>13-09-1994</td>\n",
              "      <td>NaN</td>\n",
              "      <td>NaN</td>\n",
              "      <td>NaN</td>\n",
              "      <td>4</td>\n",
              "      <td>MA/MS</td>\n",
              "    </tr>\n",
              "    <tr>\n",
              "      <th>2</th>\n",
              "      <td>N0003</td>\n",
              "      <td>31-12-2016</td>\n",
              "      <td>Active</td>\n",
              "      <td>1</td>\n",
              "      <td>26-05-2016</td>\n",
              "      <td>Yes</td>\n",
              "      <td>NaN</td>\n",
              "      <td>No</td>\n",
              "      <td>NaN</td>\n",
              "      <td>26-05-2016</td>\n",
              "      <td>NaN</td>\n",
              "      <td>19-04-1996</td>\n",
              "      <td>NaN</td>\n",
              "      <td>NaN</td>\n",
              "      <td>NaN</td>\n",
              "      <td>3</td>\n",
              "      <td>BA/BS</td>\n",
              "    </tr>\n",
              "    <tr>\n",
              "      <th>3</th>\n",
              "      <td>N0004</td>\n",
              "      <td>31-12-2016</td>\n",
              "      <td>Active</td>\n",
              "      <td>1</td>\n",
              "      <td>19-10-2016</td>\n",
              "      <td>Yes</td>\n",
              "      <td>NaN</td>\n",
              "      <td>No</td>\n",
              "      <td>NaN</td>\n",
              "      <td>19-10-2016</td>\n",
              "      <td>NaN</td>\n",
              "      <td>21-01-1994</td>\n",
              "      <td>NaN</td>\n",
              "      <td>NaN</td>\n",
              "      <td>NaN</td>\n",
              "      <td>3</td>\n",
              "      <td>BA/BS</td>\n",
              "    </tr>\n",
              "    <tr>\n",
              "      <th>4</th>\n",
              "      <td>N0005</td>\n",
              "      <td>31-12-2016</td>\n",
              "      <td>Active</td>\n",
              "      <td>1</td>\n",
              "      <td>06-02-2016</td>\n",
              "      <td>Yes</td>\n",
              "      <td>NaN</td>\n",
              "      <td>No</td>\n",
              "      <td>NaN</td>\n",
              "      <td>06-02-2016</td>\n",
              "      <td>NaN</td>\n",
              "      <td>18-05-1993</td>\n",
              "      <td>NaN</td>\n",
              "      <td>NaN</td>\n",
              "      <td>NaN</td>\n",
              "      <td>3</td>\n",
              "      <td>BA/BS</td>\n",
              "    </tr>\n",
              "  </tbody>\n",
              "</table>\n",
              "</div>"
            ],
            "text/plain": [
              "  Employee ID  ... Education\\n(Highest\\nDegree)\n",
              "0       N0001  ...                        MA/MS\n",
              "1       N0002  ...                        MA/MS\n",
              "2       N0003  ...                        BA/BS\n",
              "3       N0004  ...                        BA/BS\n",
              "4       N0005  ...                        BA/BS\n",
              "\n",
              "[5 rows x 17 columns]"
            ]
          },
          "metadata": {
            "tags": []
          },
          "execution_count": 6
        }
      ]
    },
    {
      "cell_type": "code",
      "metadata": {
        "id": "9YdhF_PPQYTE",
        "colab": {
          "base_uri": "https://localhost:8080/"
        },
        "outputId": "8344ca44-517a-4d1f-aba6-fada7bf0b00e"
      },
      "source": [
        "data.describe\n"
      ],
      "execution_count": null,
      "outputs": [
        {
          "output_type": "execute_result",
          "data": {
            "text/plain": [
              "<bound method NDFrame.describe of      Employee ID  ... Education\\n(Highest\\nDegree)\n",
              "0          N0001  ...                        MA/MS\n",
              "1          N0002  ...                        MA/MS\n",
              "2          N0003  ...                        BA/BS\n",
              "3          N0004  ...                        BA/BS\n",
              "4          N0005  ...                        BA/BS\n",
              "...          ...  ...                          ...\n",
              "2788       N2589  ...                        MA/MS\n",
              "2789       N2590  ...                        BA/BS\n",
              "2790       N2591  ...                          MBA\n",
              "2791       N2592  ...                        BA/BS\n",
              "2792       N2593  ...                        BA/BS\n",
              "\n",
              "[2793 rows x 17 columns]>"
            ]
          },
          "metadata": {
            "tags": []
          },
          "execution_count": 7
        }
      ]
    },
    {
      "cell_type": "code",
      "metadata": {
        "id": "t50cyY69QdJJ",
        "colab": {
          "base_uri": "https://localhost:8080/"
        },
        "outputId": "1bf554c7-a21c-47dd-8699-c7c6cf338181"
      },
      "source": [
        "data.isnull().sum()"
      ],
      "execution_count": null,
      "outputs": [
        {
          "output_type": "execute_result",
          "data": {
            "text/plain": [
              "Employee ID                                             0\n",
              "Data Effective Date                                     0\n",
              "Employee\\nStatus\\n                                      0\n",
              "Career Level \\n(1=lowest, 6=highest)\\n                  0\n",
              "Hired Date                                              0\n",
              "Hired in FY\\n(Yes/No)                                   0\n",
              "Termination Date                                     2180\n",
              "Terminated\\nin FY\\n(Yes/No)                             0\n",
              "Termination Type\\n(Voluntary or Involuntary Exit)    2180\n",
              "Job Start Date                                          0\n",
              "Promoted\\nin FY\\n(Yes/No)                             345\n",
              "Birth Date                                              0\n",
              "Age\\n(Years)                                         2793\n",
              "Tenure\\n(Years)                                      2793\n",
              "Time in\\nJob (Years)                                 2793\n",
              "Rating\\n(1=lowest, 5=highest)                           0\n",
              "Education\\n(Highest\\nDegree)                            0\n",
              "dtype: int64"
            ]
          },
          "metadata": {
            "tags": []
          },
          "execution_count": 8
        }
      ]
    },
    {
      "cell_type": "code",
      "metadata": {
        "id": "Yu4sJLY3QqwQ",
        "colab": {
          "base_uri": "https://localhost:8080/"
        },
        "outputId": "2e308068-767e-45ef-8fe0-29129ddb6398"
      },
      "source": [
        "data.columns"
      ],
      "execution_count": null,
      "outputs": [
        {
          "output_type": "execute_result",
          "data": {
            "text/plain": [
              "Index(['Employee ID', 'Data Effective Date', 'Employee\\nStatus\\n',\n",
              "       'Career Level \\n(1=lowest, 6=highest)\\n', 'Hired Date',\n",
              "       'Hired in FY\\n(Yes/No)', 'Termination Date',\n",
              "       'Terminated\\nin FY\\n(Yes/No)',\n",
              "       'Termination Type\\n(Voluntary or Involuntary Exit)', 'Job Start Date',\n",
              "       'Promoted\\nin FY\\n(Yes/No)', 'Birth Date', 'Age\\n(Years)',\n",
              "       'Tenure\\n(Years)', 'Time in\\nJob (Years)',\n",
              "       'Rating\\n(1=lowest, 5=highest)', 'Education\\n(Highest\\nDegree)'],\n",
              "      dtype='object')"
            ]
          },
          "metadata": {
            "tags": []
          },
          "execution_count": 9
        }
      ]
    },
    {
      "cell_type": "code",
      "metadata": {
        "id": "eacYzGF0ROaV"
      },
      "source": [
        "data.columns=['Employee_ID', 'DataEDate', 'Employee_Status','Career_Level', 'Hired_Date','HiredIn_FY', 'Termination_Date','TerminatedIn_FY','Termination_Type', 'Job_StartDate',\n",
        "       'PromotedIn_FY', 'Birth_Date', 'Age','Tenure', 'TimeIn_Job', 'Rating','Education']"
      ],
      "execution_count": null,
      "outputs": []
    },
    {
      "cell_type": "code",
      "metadata": {
        "id": "kaExyQWaSrZ2"
      },
      "source": [
        "data['NewTerminationDate']= data['Termination_Date'].fillna(data[\"DataEDate\"])\r\n"
      ],
      "execution_count": null,
      "outputs": []
    },
    {
      "cell_type": "code",
      "metadata": {
        "id": "6n7x81ufnx20"
      },
      "source": [
        "data['Birth_Date'] = pd.to_datetime(data['Birth_Date'])\r\n",
        "data['DataEDate'] = pd.to_datetime(data['DataEDate'])\r\n",
        "data['Job_StartDate'] = pd.to_datetime(data['Job_StartDate'])\r\n",
        "data['Hired_Date'] = pd.to_datetime(data['Hired_Date'])\r\n",
        "data['Termination_Date'] = pd.to_datetime(data['Termination_Date'])"
      ],
      "execution_count": null,
      "outputs": []
    },
    {
      "cell_type": "code",
      "metadata": {
        "id": "cievW25enxft"
      },
      "source": [
        "data['Age'] = (data['DataEDate'] - data['Birth_Date'])\r\n",
        "data['Age'] = round((data['Age'].astype('timedelta64[D]'))/365,1)\r\n"
      ],
      "execution_count": null,
      "outputs": []
    },
    {
      "cell_type": "code",
      "metadata": {
        "id": "qzG90bOdYv8M"
      },
      "source": [
        "# def date_to_year(row):\n",
        "#   return int(row[\"DataEDate\"].split(\"-\")[2])-int(row[\"Birth_Date\"].split(\"-\")[2])\n",
        "# data[\"Age\"]=data.apply(date_to_year, axis=1)  \n",
        "\n",
        "# def tenure(row):\n",
        "#   return int(row[\"NewTerminationDate\"].split(\"-\")[2])-int(row[\"Job_StartDate\"].split(\"-\")[2])\n",
        "# data[\"Tenure\"]=data.apply(tenure, axis=1)  \n",
        "\n",
        "# def timeinjob(row):\n",
        "#   return int(row[\"NewTerminationDate\"].split(\"-\")[2])- int(row[\"Hired_Date\"].split(\"-\")[2])\n",
        "# data[\"TimeIn_Job\"] = data.apply(timeinjob, axis=1) \n",
        "\n",
        "data['NewTerminationDate'] = data['Termination_Date'].fillna(data['DataEDate'])\n",
        "data['NewTerminationDate'] = pd.to_datetime(data['NewTerminationDate'])\n",
        "\n",
        "data['Tenure'] = (data['NewTerminationDate'] - data['Hired_Date'])\n",
        "data['Tenure'] = round((data['Tenure'].astype('timedelta64[D]'))/365,1)\n",
        "\n",
        "data['TimeIn_Job'] = (data['NewTerminationDate'] - data['Job_StartDate'])\n",
        "data['TimeIn_Job'] = round((data['TimeIn_Job'].astype('timedelta64[D]'))/365,1)\n",
        "\n",
        "data.drop('NewTerminationDate', axis='columns', inplace=True)"
      ],
      "execution_count": null,
      "outputs": []
    },
    {
      "cell_type": "code",
      "metadata": {
        "id": "Iy7jUEzdBrbt",
        "colab": {
          "base_uri": "https://localhost:8080/"
        },
        "outputId": "42d277dc-2e18-4602-c1fd-6a1e7ca17e98"
      },
      "source": [
        "data.isnull().sum()"
      ],
      "execution_count": null,
      "outputs": [
        {
          "output_type": "execute_result",
          "data": {
            "text/plain": [
              "Employee_ID            0\n",
              "DataEDate              0\n",
              "Employee_Status        0\n",
              "Career_Level           0\n",
              "Hired_Date             0\n",
              "HiredIn_FY             0\n",
              "Termination_Date    2180\n",
              "TerminatedIn_FY        0\n",
              "Termination_Type    2180\n",
              "Job_StartDate          0\n",
              "PromotedIn_FY        345\n",
              "Birth_Date             0\n",
              "Age                    0\n",
              "Tenure                 0\n",
              "TimeIn_Job             0\n",
              "Rating                 0\n",
              "Education              0\n",
              "dtype: int64"
            ]
          },
          "metadata": {
            "tags": []
          },
          "execution_count": 15
        }
      ]
    },
    {
      "cell_type": "markdown",
      "metadata": {
        "id": "AA8PMOPmLx2l"
      },
      "source": [
        "### **Visualization**"
      ]
    },
    {
      "cell_type": "markdown",
      "metadata": {
        "id": "y6NFH_TmeTY3"
      },
      "source": [
        "Employee Distribution- Carrer Level Wise (Active Employees)"
      ]
    },
    {
      "cell_type": "code",
      "metadata": {
        "colab": {
          "base_uri": "https://localhost:8080/"
        },
        "id": "VyaEFwf3MOLz",
        "outputId": "98120998-bb67-4fd6-8f5b-f2353cec3ef1"
      },
      "source": [
        "data_active = data[data.Termination_Date.isnull()]   \r\n",
        "per_careerlevel= np.round((data_active[\"Career_Level\"].value_counts(normalize=True)*100))\r\n",
        "per_careerlevel"
      ],
      "execution_count": null,
      "outputs": [
        {
          "output_type": "execute_result",
          "data": {
            "text/plain": [
              "2    29.0\n",
              "3    23.0\n",
              "4    18.0\n",
              "1    14.0\n",
              "5    11.0\n",
              "6     5.0\n",
              "Name: Career_Level, dtype: float64"
            ]
          },
          "metadata": {
            "tags": []
          },
          "execution_count": 16
        }
      ]
    },
    {
      "cell_type": "code",
      "metadata": {
        "colab": {
          "base_uri": "https://localhost:8080/",
          "height": 350
        },
        "id": "qPxuWbEdMOJY",
        "outputId": "e97fcb80-98e5-4f1d-b9f5-219c3701c5c0"
      },
      "source": [
        "fig = plt.figure(figsize = (10, 5)) \r\n",
        "plt.bar(per_careerlevel.keys().values, per_careerlevel.to_numpy(), color ='salmon', width = 0.4) \r\n",
        "plt.xlabel(\"CarrerLevel\") \r\n",
        "plt.ylabel(\"% of Employee\") \r\n",
        "plt.title(\"Employee Distribution- Carrer Level Wise\") \r\n",
        "plt.show()"
      ],
      "execution_count": null,
      "outputs": [
        {
          "output_type": "display_data",
          "data": {
            "image/png": "[encoded data removed]",
            "text/plain": [
              "<Figure size 720x360 with 1 Axes>"
            ]
          },
          "metadata": {
            "tags": [],
            "needs_background": "light"
          }
        }
      ]
    },
    {
      "cell_type": "code",
      "metadata": {
        "colab": {
          "base_uri": "https://localhost:8080/",
          "height": 264
        },
        "id": "G2k3ldzyMOGg",
        "outputId": "46fe4f65-364e-4cde-ce50-89f88531b36c"
      },
      "source": [
        "plt.pie(per_careerlevel.to_numpy(), labels = per_careerlevel.keys().values) \r\n",
        "plt.title(\"Employee Distribution- Career Level Wise\")  \r\n",
        "plt.show()"
      ],
      "execution_count": null,
      "outputs": [
        {
          "output_type": "display_data",
          "data": {
            "image/png": "[encoded data removed]",
            "text/plain": [
              "<Figure size 432x288 with 1 Axes>"
            ]
          },
          "metadata": {
            "tags": []
          }
        }
      ]
    },
    {
      "cell_type": "code",
      "metadata": {
        "colab": {
          "base_uri": "https://localhost:8080/",
          "height": 254
        },
        "id": "jFtvkcOegUjt",
        "outputId": "c0bddd31-8539-48f4-ce8b-75331676fb4b"
      },
      "source": [
        "f = lambda x : np.round(x/x.sum() * 100)\r\n",
        "con_sector = data_active.groupby(['Career_Level', 'Rating'])['Career_Level'].count().unstack().apply(f, axis=1)\r\n",
        "con_sector"
      ],
      "execution_count": null,
      "outputs": [
        {
          "output_type": "execute_result",
          "data": {
            "text/html": [
              "<div>\n",
              "<style scoped>\n",
              "    .dataframe tbody tr th:only-of-type {\n",
              "        vertical-align: middle;\n",
              "    }\n",
              "\n",
              "    .dataframe tbody tr th {\n",
              "        vertical-align: top;\n",
              "    }\n",
              "\n",
              "    .dataframe thead th {\n",
              "        text-align: right;\n",
              "    }\n",
              "</style>\n",
              "<table border=\"1\" class=\"dataframe\">\n",
              "  <thead>\n",
              "    <tr style=\"text-align: right;\">\n",
              "      <th>Rating</th>\n",
              "      <th>3</th>\n",
              "      <th>4</th>\n",
              "      <th>5</th>\n",
              "    </tr>\n",
              "    <tr>\n",
              "      <th>Career_Level</th>\n",
              "      <th></th>\n",
              "      <th></th>\n",
              "      <th></th>\n",
              "    </tr>\n",
              "  </thead>\n",
              "  <tbody>\n",
              "    <tr>\n",
              "      <th>1</th>\n",
              "      <td>65.0</td>\n",
              "      <td>35.0</td>\n",
              "      <td>NaN</td>\n",
              "    </tr>\n",
              "    <tr>\n",
              "      <th>2</th>\n",
              "      <td>43.0</td>\n",
              "      <td>34.0</td>\n",
              "      <td>23.0</td>\n",
              "    </tr>\n",
              "    <tr>\n",
              "      <th>3</th>\n",
              "      <td>18.0</td>\n",
              "      <td>32.0</td>\n",
              "      <td>50.0</td>\n",
              "    </tr>\n",
              "    <tr>\n",
              "      <th>4</th>\n",
              "      <td>16.0</td>\n",
              "      <td>46.0</td>\n",
              "      <td>38.0</td>\n",
              "    </tr>\n",
              "    <tr>\n",
              "      <th>5</th>\n",
              "      <td>7.0</td>\n",
              "      <td>61.0</td>\n",
              "      <td>32.0</td>\n",
              "    </tr>\n",
              "    <tr>\n",
              "      <th>6</th>\n",
              "      <td>NaN</td>\n",
              "      <td>80.0</td>\n",
              "      <td>20.0</td>\n",
              "    </tr>\n",
              "  </tbody>\n",
              "</table>\n",
              "</div>"
            ],
            "text/plain": [
              "Rating           3     4     5\n",
              "Career_Level                  \n",
              "1             65.0  35.0   NaN\n",
              "2             43.0  34.0  23.0\n",
              "3             18.0  32.0  50.0\n",
              "4             16.0  46.0  38.0\n",
              "5              7.0  61.0  32.0\n",
              "6              NaN  80.0  20.0"
            ]
          },
          "metadata": {
            "tags": []
          },
          "execution_count": 19
        }
      ]
    },
    {
      "cell_type": "code",
      "metadata": {
        "colab": {
          "base_uri": "https://localhost:8080/",
          "height": 342
        },
        "id": "6sh0LUfGgUhF",
        "outputId": "3b999455-794f-48c6-e005-4e105ee54b46"
      },
      "source": [
        "fig = plt.figure(figsize = (16, 8))\r\n",
        "# set width of bar\r\n",
        "barWidth = 0.1\r\n",
        "# set height of bar\r\n",
        "bars1 = con_sector.to_numpy()[:,0]\r\n",
        "bars2 = con_sector.to_numpy()[:,1]\r\n",
        "bars3 = con_sector.to_numpy()[:,2]\r\n",
        "\r\n",
        "\r\n",
        "\r\n",
        "# Set position of bar on X axis\r\n",
        "r1 = np.arange(len(bars1))\r\n",
        "r2 = [x + barWidth for x in r1]\r\n",
        "r3 = [x + barWidth for x in r2]\r\n",
        "\r\n",
        "\r\n",
        "\r\n",
        "# Make the plot\r\n",
        "plt.bar(r1, bars1, color='red', width=barWidth, edgecolor='white', label=con_sector.columns.values[0])\r\n",
        "plt.bar(r2, bars2, color='green', width=barWidth, edgecolor='white', label=con_sector.columns.values[1])\r\n",
        "plt.bar(r3, bars3, color='blue', width=barWidth, edgecolor='white', label=con_sector.columns.values[2])\r\n",
        "\r\n",
        "\r\n",
        "# Add xticks on the middle of the group bars\r\n",
        "#plt.xlabel('Country', fontweight='bold')\r\n",
        "plt.xticks([r + barWidth for r in range(len(bars1))], ('1','2','3','4','5',6))\r\n",
        " \r\n",
        "# Create legend & Show graphic\r\n",
        "plt.legend()\r\n",
        "plt.show()\r\n"
      ],
      "execution_count": 21,
      "outputs": [
        {
          "output_type": "display_data",
          "data": {
            "image/png": "[encoded data removed]",
            "text/plain": [
              "<Figure size 1152x576 with 1 Axes>"
            ]
          },
          "metadata": {
            "tags": [],
            "needs_background": "light"
          }
        }
      ]
    },
    {
      "cell_type": "markdown",
      "metadata": {
        "id": "1d8CFgtClN9h"
      },
      "source": [
        "Employee Termination- Carrer Level Wise (Terminated Employees)"
      ]
    },
    {
      "cell_type": "code",
      "metadata": {
        "id": "fl6nC_wVgUeY",
        "colab": {
          "base_uri": "https://localhost:8080/"
        },
        "outputId": "4fdb67bd-69d3-4283-ac4b-73839dd9575a"
      },
      "source": [
        "data_inactive = pd.notnull(data[\"Termination_Date\"])\r\n",
        "data_inactive = data[data_inactive]\r\n",
        "TerminationLevel_cnt =np.round((data_inactive['Career_Level'].value_counts(normalize=True)* 100 ))\r\n",
        "TerminationLevel_cnt"
      ],
      "execution_count": 22,
      "outputs": [
        {
          "output_type": "execute_result",
          "data": {
            "text/plain": [
              "4    33.0\n",
              "2    26.0\n",
              "3    24.0\n",
              "5     8.0\n",
              "1     7.0\n",
              "6     2.0\n",
              "Name: Career_Level, dtype: float64"
            ]
          },
          "metadata": {
            "tags": []
          },
          "execution_count": 22
        }
      ]
    },
    {
      "cell_type": "code",
      "metadata": {
        "id": "ZcEV10HHgUbW"
      },
      "source": [
        "fig = plt.figure(figsize = (10, 5)) \r\n",
        "plt.bar(TerminationLevel_cnt.keys().values, TerminationLevel_cnt.to_numpy(), color ='red',  \r\n",
        "        width = 0.4) \r\n",
        "plt.xlabel(\"CareerLevel\") \r\n",
        "plt.ylabel(\"% of Employee\") \r\n",
        "plt.title(\"Employee Termination- Career Level Wise\") \r\n",
        "plt.show()"
      ],
      "execution_count": null,
      "outputs": []
    },
    {
      "cell_type": "code",
      "metadata": {
        "id": "2_VuJUM1gUYO",
        "colab": {
          "base_uri": "https://localhost:8080/",
          "height": 254
        },
        "outputId": "cf1db31f-8e10-48d6-9b04-09d35b0bdb9f"
      },
      "source": [
        "f = lambda x : np.round(x/x.sum() * 100)\r\n",
        "con_sector = data_inactive.groupby(['Career_Level', 'Rating'])['Career_Level'].count().unstack().apply(f, axis=1)\r\n",
        "con_sector"
      ],
      "execution_count": 23,
      "outputs": [
        {
          "output_type": "execute_result",
          "data": {
            "text/html": [
              "<div>\n",
              "<style scoped>\n",
              "    .dataframe tbody tr th:only-of-type {\n",
              "        vertical-align: middle;\n",
              "    }\n",
              "\n",
              "    .dataframe tbody tr th {\n",
              "        vertical-align: top;\n",
              "    }\n",
              "\n",
              "    .dataframe thead th {\n",
              "        text-align: right;\n",
              "    }\n",
              "</style>\n",
              "<table border=\"1\" class=\"dataframe\">\n",
              "  <thead>\n",
              "    <tr style=\"text-align: right;\">\n",
              "      <th>Rating</th>\n",
              "      <th>1</th>\n",
              "      <th>2</th>\n",
              "      <th>3</th>\n",
              "    </tr>\n",
              "    <tr>\n",
              "      <th>Career_Level</th>\n",
              "      <th></th>\n",
              "      <th></th>\n",
              "      <th></th>\n",
              "    </tr>\n",
              "  </thead>\n",
              "  <tbody>\n",
              "    <tr>\n",
              "      <th>1</th>\n",
              "      <td>9.0</td>\n",
              "      <td>91.0</td>\n",
              "      <td>NaN</td>\n",
              "    </tr>\n",
              "    <tr>\n",
              "      <th>2</th>\n",
              "      <td>7.0</td>\n",
              "      <td>89.0</td>\n",
              "      <td>4.0</td>\n",
              "    </tr>\n",
              "    <tr>\n",
              "      <th>3</th>\n",
              "      <td>3.0</td>\n",
              "      <td>91.0</td>\n",
              "      <td>5.0</td>\n",
              "    </tr>\n",
              "    <tr>\n",
              "      <th>4</th>\n",
              "      <td>NaN</td>\n",
              "      <td>67.0</td>\n",
              "      <td>33.0</td>\n",
              "    </tr>\n",
              "    <tr>\n",
              "      <th>5</th>\n",
              "      <td>NaN</td>\n",
              "      <td>70.0</td>\n",
              "      <td>30.0</td>\n",
              "    </tr>\n",
              "    <tr>\n",
              "      <th>6</th>\n",
              "      <td>NaN</td>\n",
              "      <td>50.0</td>\n",
              "      <td>50.0</td>\n",
              "    </tr>\n",
              "  </tbody>\n",
              "</table>\n",
              "</div>"
            ],
            "text/plain": [
              "Rating          1     2     3\n",
              "Career_Level                 \n",
              "1             9.0  91.0   NaN\n",
              "2             7.0  89.0   4.0\n",
              "3             3.0  91.0   5.0\n",
              "4             NaN  67.0  33.0\n",
              "5             NaN  70.0  30.0\n",
              "6             NaN  50.0  50.0"
            ]
          },
          "metadata": {
            "tags": []
          },
          "execution_count": 23
        }
      ]
    },
    {
      "cell_type": "code",
      "metadata": {
        "id": "MRuEzMC_icNG",
        "colab": {
          "base_uri": "https://localhost:8080/",
          "height": 342
        },
        "outputId": "85993379-e1fa-4f08-b7eb-551b1dcea532"
      },
      "source": [
        "fig = plt.figure(figsize = (16, 8))\r\n",
        "# set width of bar\r\n",
        "barWidth = 0.1\r\n",
        "# set height of bar\r\n",
        "bars1 = con_sector.to_numpy()[:,0]\r\n",
        "bars2 = con_sector.to_numpy()[:,1]\r\n",
        "bars3 = con_sector.to_numpy()[:,2]\r\n",
        "\r\n",
        "\r\n",
        "\r\n",
        "\r\n",
        "# Set position of bar on X axis\r\n",
        "r1 = np.arange(len(bars1))\r\n",
        "r2 = [x + barWidth for x in r1]\r\n",
        "r3 = [x + barWidth for x in r2]\r\n",
        "\r\n",
        "\r\n",
        "\r\n",
        "# Make the plot\r\n",
        "plt.bar(r1, bars1, color='red', width=barWidth, edgecolor='white', label=con_sector.columns.values[0])\r\n",
        "plt.bar(r2, bars2, color='green', width=barWidth, edgecolor='white', label=con_sector.columns.values[1])\r\n",
        "plt.bar(r3, bars3, color='blue', width=barWidth, edgecolor='white', label=con_sector.columns.values[2])\r\n",
        "\r\n",
        "\r\n",
        " \r\n",
        "# Add xticks on the middle of the group bars\r\n",
        "#plt.xlabel('Country', fontweight='bold')\r\n",
        "plt.xticks([r + barWidth for r in range(len(bars1))], ('1','2','3','4','5',6))\r\n",
        " \r\n",
        "# Create legend & Show graphic\r\n",
        "plt.legend()\r\n",
        "plt.show()"
      ],
      "execution_count": 25,
      "outputs": [
        {
          "output_type": "display_data",
          "data": {
            "image/png": "[encoded data removed]",
            "text/plain": [
              "<Figure size 1152x576 with 1 Axes>"
            ]
          },
          "metadata": {
            "tags": [],
            "needs_background": "light"
          }
        }
      ]
    },
    {
      "cell_type": "code",
      "metadata": {
        "id": "508U9z45icK4",
        "colab": {
          "base_uri": "https://localhost:8080/"
        },
        "outputId": "0265ba60-b076-43cc-a48c-956399acbb55"
      },
      "source": [
        "TerminationType_cnt =np.round((data_inactive['Termination_Type'].value_counts(normalize=True)* 100 ))\r\n",
        "TerminationType_cnt"
      ],
      "execution_count": 26,
      "outputs": [
        {
          "output_type": "execute_result",
          "data": {
            "text/plain": [
              "Involuntary Exit    63.0\n",
              "Voluntary Exit      37.0\n",
              "Name: Termination_Type, dtype: float64"
            ]
          },
          "metadata": {
            "tags": []
          },
          "execution_count": 26
        }
      ]
    },
    {
      "cell_type": "code",
      "metadata": {
        "id": "wqwg_OCVicIj"
      },
      "source": [
        "fig = plt.figure(figsize = (10, 5)) \r\n",
        "plt.bar(TerminationType_cnt.keys().values, TerminationType_cnt.to_numpy(), color ='red',  \r\n",
        "        width = 0.4) \r\n",
        "plt.xlabel(\"Termination Type\") \r\n",
        "plt.ylabel(\"% of Employee\") \r\n",
        "plt.title(\"Employee Termination- Type Wise\") \r\n",
        "plt.show()"
      ],
      "execution_count": null,
      "outputs": []
    },
    {
      "cell_type": "code",
      "metadata": {
        "id": "0CELbVrWicFu",
        "colab": {
          "base_uri": "https://localhost:8080/"
        },
        "outputId": "44924cfa-1885-4c54-f818-2dde247e7020"
      },
      "source": [
        "TerminationInFY_cnt =np.round((data['TerminatedIn_FY'].value_counts(normalize=True)* 100 ))\r\n",
        "TerminationInFY_cnt"
      ],
      "execution_count": 27,
      "outputs": [
        {
          "output_type": "execute_result",
          "data": {
            "text/plain": [
              "No     78.0\n",
              "Yes    22.0\n",
              "Name: TerminatedIn_FY, dtype: float64"
            ]
          },
          "metadata": {
            "tags": []
          },
          "execution_count": 27
        }
      ]
    },
    {
      "cell_type": "code",
      "metadata": {
        "id": "OOfURBQ2icAf",
        "colab": {
          "base_uri": "https://localhost:8080/",
          "height": 254
        },
        "outputId": "fc2e39a8-f032-473c-a410-25a5229468f7"
      },
      "source": [
        "f = lambda x : np.round(x/x.sum() * 100)\r\n",
        "con_term = data.groupby(['Career_Level', 'TerminatedIn_FY'])['TerminatedIn_FY'].count().unstack().apply(f, axis=1)\r\n",
        "con_term"
      ],
      "execution_count": 28,
      "outputs": [
        {
          "output_type": "execute_result",
          "data": {
            "text/html": [
              "<div>\n",
              "<style scoped>\n",
              "    .dataframe tbody tr th:only-of-type {\n",
              "        vertical-align: middle;\n",
              "    }\n",
              "\n",
              "    .dataframe tbody tr th {\n",
              "        vertical-align: top;\n",
              "    }\n",
              "\n",
              "    .dataframe thead th {\n",
              "        text-align: right;\n",
              "    }\n",
              "</style>\n",
              "<table border=\"1\" class=\"dataframe\">\n",
              "  <thead>\n",
              "    <tr style=\"text-align: right;\">\n",
              "      <th>TerminatedIn_FY</th>\n",
              "      <th>No</th>\n",
              "      <th>Yes</th>\n",
              "    </tr>\n",
              "    <tr>\n",
              "      <th>Career_Level</th>\n",
              "      <th></th>\n",
              "      <th></th>\n",
              "    </tr>\n",
              "  </thead>\n",
              "  <tbody>\n",
              "    <tr>\n",
              "      <th>1</th>\n",
              "      <td>87.0</td>\n",
              "      <td>13.0</td>\n",
              "    </tr>\n",
              "    <tr>\n",
              "      <th>2</th>\n",
              "      <td>80.0</td>\n",
              "      <td>20.0</td>\n",
              "    </tr>\n",
              "    <tr>\n",
              "      <th>3</th>\n",
              "      <td>77.0</td>\n",
              "      <td>23.0</td>\n",
              "    </tr>\n",
              "    <tr>\n",
              "      <th>4</th>\n",
              "      <td>67.0</td>\n",
              "      <td>33.0</td>\n",
              "    </tr>\n",
              "    <tr>\n",
              "      <th>5</th>\n",
              "      <td>83.0</td>\n",
              "      <td>17.0</td>\n",
              "    </tr>\n",
              "    <tr>\n",
              "      <th>6</th>\n",
              "      <td>91.0</td>\n",
              "      <td>9.0</td>\n",
              "    </tr>\n",
              "  </tbody>\n",
              "</table>\n",
              "</div>"
            ],
            "text/plain": [
              "TerminatedIn_FY    No   Yes\n",
              "Career_Level               \n",
              "1                87.0  13.0\n",
              "2                80.0  20.0\n",
              "3                77.0  23.0\n",
              "4                67.0  33.0\n",
              "5                83.0  17.0\n",
              "6                91.0   9.0"
            ]
          },
          "metadata": {
            "tags": []
          },
          "execution_count": 28
        }
      ]
    },
    {
      "cell_type": "code",
      "metadata": {
        "id": "adMDOWO5ib9m",
        "colab": {
          "base_uri": "https://localhost:8080/"
        },
        "outputId": "94450544-67de-4522-de60-aa68d81130fe"
      },
      "source": [
        "PromotedInFY_cnt =np.round((data['PromotedIn_FY'].value_counts(normalize=True)* 100 ))\r\n",
        "PromotedInFY_cnt\r\n"
      ],
      "execution_count": 29,
      "outputs": [
        {
          "output_type": "execute_result",
          "data": {
            "text/plain": [
              "No     73.0\n",
              "Yes    27.0\n",
              "Name: PromotedIn_FY, dtype: float64"
            ]
          },
          "metadata": {
            "tags": []
          },
          "execution_count": 29
        }
      ]
    },
    {
      "cell_type": "code",
      "metadata": {
        "id": "tqlQJMzskc4t",
        "colab": {
          "base_uri": "https://localhost:8080/",
          "height": 225
        },
        "outputId": "39843ac6-da37-454e-8937-e4be803ab733"
      },
      "source": [
        "f = lambda x : np.round(x/x.sum() * 100)\r\n",
        "con_prom = data.groupby(['Career_Level', 'PromotedIn_FY'])['PromotedIn_FY'].count().unstack().apply(f, axis=1)\r\n",
        "con_prom"
      ],
      "execution_count": 30,
      "outputs": [
        {
          "output_type": "execute_result",
          "data": {
            "text/html": [
              "<div>\n",
              "<style scoped>\n",
              "    .dataframe tbody tr th:only-of-type {\n",
              "        vertical-align: middle;\n",
              "    }\n",
              "\n",
              "    .dataframe tbody tr th {\n",
              "        vertical-align: top;\n",
              "    }\n",
              "\n",
              "    .dataframe thead th {\n",
              "        text-align: right;\n",
              "    }\n",
              "</style>\n",
              "<table border=\"1\" class=\"dataframe\">\n",
              "  <thead>\n",
              "    <tr style=\"text-align: right;\">\n",
              "      <th>PromotedIn_FY</th>\n",
              "      <th>No</th>\n",
              "      <th>Yes</th>\n",
              "    </tr>\n",
              "    <tr>\n",
              "      <th>Career_Level</th>\n",
              "      <th></th>\n",
              "      <th></th>\n",
              "    </tr>\n",
              "  </thead>\n",
              "  <tbody>\n",
              "    <tr>\n",
              "      <th>2</th>\n",
              "      <td>79.0</td>\n",
              "      <td>21.0</td>\n",
              "    </tr>\n",
              "    <tr>\n",
              "      <th>3</th>\n",
              "      <td>61.0</td>\n",
              "      <td>39.0</td>\n",
              "    </tr>\n",
              "    <tr>\n",
              "      <th>4</th>\n",
              "      <td>75.0</td>\n",
              "      <td>25.0</td>\n",
              "    </tr>\n",
              "    <tr>\n",
              "      <th>5</th>\n",
              "      <td>73.0</td>\n",
              "      <td>27.0</td>\n",
              "    </tr>\n",
              "    <tr>\n",
              "      <th>6</th>\n",
              "      <td>82.0</td>\n",
              "      <td>18.0</td>\n",
              "    </tr>\n",
              "  </tbody>\n",
              "</table>\n",
              "</div>"
            ],
            "text/plain": [
              "PromotedIn_FY    No   Yes\n",
              "Career_Level             \n",
              "2              79.0  21.0\n",
              "3              61.0  39.0\n",
              "4              75.0  25.0\n",
              "5              73.0  27.0\n",
              "6              82.0  18.0"
            ]
          },
          "metadata": {
            "tags": []
          },
          "execution_count": 30
        }
      ]
    },
    {
      "cell_type": "code",
      "metadata": {
        "id": "qQRBxfg_kcr-",
        "colab": {
          "base_uri": "https://localhost:8080/",
          "height": 136
        },
        "outputId": "cd4a63cf-2372-4a5f-c089-fe6cc1c97901"
      },
      "source": [
        "f = lambda x : np.round(x/x.sum() * 100)\r\n",
        "con_p_term = data.groupby(['PromotedIn_FY', 'TerminatedIn_FY'])['TerminatedIn_FY'].count().unstack().apply(f, axis=1)\r\n",
        "con_p_term"
      ],
      "execution_count": 31,
      "outputs": [
        {
          "output_type": "execute_result",
          "data": {
            "text/html": [
              "<div>\n",
              "<style scoped>\n",
              "    .dataframe tbody tr th:only-of-type {\n",
              "        vertical-align: middle;\n",
              "    }\n",
              "\n",
              "    .dataframe tbody tr th {\n",
              "        vertical-align: top;\n",
              "    }\n",
              "\n",
              "    .dataframe thead th {\n",
              "        text-align: right;\n",
              "    }\n",
              "</style>\n",
              "<table border=\"1\" class=\"dataframe\">\n",
              "  <thead>\n",
              "    <tr style=\"text-align: right;\">\n",
              "      <th>TerminatedIn_FY</th>\n",
              "      <th>No</th>\n",
              "      <th>Yes</th>\n",
              "    </tr>\n",
              "    <tr>\n",
              "      <th>PromotedIn_FY</th>\n",
              "      <th></th>\n",
              "      <th></th>\n",
              "    </tr>\n",
              "  </thead>\n",
              "  <tbody>\n",
              "    <tr>\n",
              "      <th>No</th>\n",
              "      <td>68.0</td>\n",
              "      <td>32.0</td>\n",
              "    </tr>\n",
              "    <tr>\n",
              "      <th>Yes</th>\n",
              "      <td>100.0</td>\n",
              "      <td>NaN</td>\n",
              "    </tr>\n",
              "  </tbody>\n",
              "</table>\n",
              "</div>"
            ],
            "text/plain": [
              "TerminatedIn_FY     No   Yes\n",
              "PromotedIn_FY               \n",
              "No                68.0  32.0\n",
              "Yes              100.0   NaN"
            ]
          },
          "metadata": {
            "tags": []
          },
          "execution_count": 31
        }
      ]
    },
    {
      "cell_type": "code",
      "metadata": {
        "id": "bGaeG8yxk0di",
        "colab": {
          "base_uri": "https://localhost:8080/",
          "height": 136
        },
        "outputId": "687f4c5d-355f-4cdc-87e2-94fec3512d61"
      },
      "source": [
        "f = lambda x : np.round(x/x.sum() * 100)\r\n",
        "con_p_term = data.groupby(['PromotedIn_FY', 'Rating'])['PromotedIn_FY'].count().unstack().apply(f, axis=1)\r\n",
        "con_p_term"
      ],
      "execution_count": 32,
      "outputs": [
        {
          "output_type": "execute_result",
          "data": {
            "text/html": [
              "<div>\n",
              "<style scoped>\n",
              "    .dataframe tbody tr th:only-of-type {\n",
              "        vertical-align: middle;\n",
              "    }\n",
              "\n",
              "    .dataframe tbody tr th {\n",
              "        vertical-align: top;\n",
              "    }\n",
              "\n",
              "    .dataframe thead th {\n",
              "        text-align: right;\n",
              "    }\n",
              "</style>\n",
              "<table border=\"1\" class=\"dataframe\">\n",
              "  <thead>\n",
              "    <tr style=\"text-align: right;\">\n",
              "      <th>Rating</th>\n",
              "      <th>1</th>\n",
              "      <th>2</th>\n",
              "      <th>3</th>\n",
              "      <th>4</th>\n",
              "      <th>5</th>\n",
              "    </tr>\n",
              "    <tr>\n",
              "      <th>PromotedIn_FY</th>\n",
              "      <th></th>\n",
              "      <th></th>\n",
              "      <th></th>\n",
              "      <th></th>\n",
              "      <th></th>\n",
              "    </tr>\n",
              "  </thead>\n",
              "  <tbody>\n",
              "    <tr>\n",
              "      <th>No</th>\n",
              "      <td>1.0</td>\n",
              "      <td>25.0</td>\n",
              "      <td>31.0</td>\n",
              "      <td>43.0</td>\n",
              "      <td>NaN</td>\n",
              "    </tr>\n",
              "    <tr>\n",
              "      <th>Yes</th>\n",
              "      <td>NaN</td>\n",
              "      <td>NaN</td>\n",
              "      <td>NaN</td>\n",
              "      <td>3.0</td>\n",
              "      <td>97.0</td>\n",
              "    </tr>\n",
              "  </tbody>\n",
              "</table>\n",
              "</div>"
            ],
            "text/plain": [
              "Rating           1     2     3     4     5\n",
              "PromotedIn_FY                             \n",
              "No             1.0  25.0  31.0  43.0   NaN\n",
              "Yes            NaN   NaN   NaN   3.0  97.0"
            ]
          },
          "metadata": {
            "tags": []
          },
          "execution_count": 32
        }
      ]
    },
    {
      "cell_type": "code",
      "metadata": {
        "id": "nNhGrn6rk0aU",
        "colab": {
          "base_uri": "https://localhost:8080/",
          "height": 136
        },
        "outputId": "ec5087a2-5e89-4392-b03f-62e3f5967680"
      },
      "source": [
        "f = lambda x : np.round(x/x.sum() * 100)\r\n",
        "con_p_term = data.groupby(['TerminatedIn_FY', 'Rating'])['TerminatedIn_FY'].count().unstack().apply(f, axis=1)\r\n",
        "con_p_term"
      ],
      "execution_count": 33,
      "outputs": [
        {
          "output_type": "execute_result",
          "data": {
            "text/html": [
              "<div>\n",
              "<style scoped>\n",
              "    .dataframe tbody tr th:only-of-type {\n",
              "        vertical-align: middle;\n",
              "    }\n",
              "\n",
              "    .dataframe tbody tr th {\n",
              "        vertical-align: top;\n",
              "    }\n",
              "\n",
              "    .dataframe thead th {\n",
              "        text-align: right;\n",
              "    }\n",
              "</style>\n",
              "<table border=\"1\" class=\"dataframe\">\n",
              "  <thead>\n",
              "    <tr style=\"text-align: right;\">\n",
              "      <th>Rating</th>\n",
              "      <th>1</th>\n",
              "      <th>2</th>\n",
              "      <th>3</th>\n",
              "      <th>4</th>\n",
              "      <th>5</th>\n",
              "    </tr>\n",
              "    <tr>\n",
              "      <th>TerminatedIn_FY</th>\n",
              "      <th></th>\n",
              "      <th></th>\n",
              "      <th></th>\n",
              "      <th></th>\n",
              "      <th></th>\n",
              "    </tr>\n",
              "  </thead>\n",
              "  <tbody>\n",
              "    <tr>\n",
              "      <th>No</th>\n",
              "      <td>NaN</td>\n",
              "      <td>NaN</td>\n",
              "      <td>29.0</td>\n",
              "      <td>41.0</td>\n",
              "      <td>30.0</td>\n",
              "    </tr>\n",
              "    <tr>\n",
              "      <th>Yes</th>\n",
              "      <td>3.0</td>\n",
              "      <td>80.0</td>\n",
              "      <td>16.0</td>\n",
              "      <td>NaN</td>\n",
              "      <td>NaN</td>\n",
              "    </tr>\n",
              "  </tbody>\n",
              "</table>\n",
              "</div>"
            ],
            "text/plain": [
              "Rating             1     2     3     4     5\n",
              "TerminatedIn_FY                             \n",
              "No               NaN   NaN  29.0  41.0  30.0\n",
              "Yes              3.0  80.0  16.0   NaN   NaN"
            ]
          },
          "metadata": {
            "tags": []
          },
          "execution_count": 33
        }
      ]
    },
    {
      "cell_type": "code",
      "metadata": {
        "id": "_cQe0qXok0XY",
        "colab": {
          "base_uri": "https://localhost:8080/",
          "height": 166
        },
        "outputId": "be13bad9-7b4a-499d-820c-831064ae6d76"
      },
      "source": [
        "f = lambda x : np.round(x/x.sum() * 100)\r\n",
        "con_p_term = data.groupby(['TerminatedIn_FY', 'Rating',\"Termination_Type\"])['Rating'].count().unstack().apply(f, axis=1)\r\n",
        "con_p_term"
      ],
      "execution_count": 34,
      "outputs": [
        {
          "output_type": "execute_result",
          "data": {
            "text/html": [
              "<div>\n",
              "<style scoped>\n",
              "    .dataframe tbody tr th:only-of-type {\n",
              "        vertical-align: middle;\n",
              "    }\n",
              "\n",
              "    .dataframe tbody tr th {\n",
              "        vertical-align: top;\n",
              "    }\n",
              "\n",
              "    .dataframe thead th {\n",
              "        text-align: right;\n",
              "    }\n",
              "</style>\n",
              "<table border=\"1\" class=\"dataframe\">\n",
              "  <thead>\n",
              "    <tr style=\"text-align: right;\">\n",
              "      <th></th>\n",
              "      <th>Termination_Type</th>\n",
              "      <th>Involuntary Exit</th>\n",
              "      <th>Voluntary Exit</th>\n",
              "    </tr>\n",
              "    <tr>\n",
              "      <th>TerminatedIn_FY</th>\n",
              "      <th>Rating</th>\n",
              "      <th></th>\n",
              "      <th></th>\n",
              "    </tr>\n",
              "  </thead>\n",
              "  <tbody>\n",
              "    <tr>\n",
              "      <th rowspan=\"3\" valign=\"top\">Yes</th>\n",
              "      <th>1</th>\n",
              "      <td>100.0</td>\n",
              "      <td>NaN</td>\n",
              "    </tr>\n",
              "    <tr>\n",
              "      <th>2</th>\n",
              "      <td>74.0</td>\n",
              "      <td>26.0</td>\n",
              "    </tr>\n",
              "    <tr>\n",
              "      <th>3</th>\n",
              "      <td>NaN</td>\n",
              "      <td>100.0</td>\n",
              "    </tr>\n",
              "  </tbody>\n",
              "</table>\n",
              "</div>"
            ],
            "text/plain": [
              "Termination_Type        Involuntary Exit  Voluntary Exit\n",
              "TerminatedIn_FY Rating                                  \n",
              "Yes             1                  100.0             NaN\n",
              "                2                   74.0            26.0\n",
              "                3                    NaN           100.0"
            ]
          },
          "metadata": {
            "tags": []
          },
          "execution_count": 34
        }
      ]
    },
    {
      "cell_type": "code",
      "metadata": {
        "id": "BErp73RnMOD6",
        "colab": {
          "base_uri": "https://localhost:8080/"
        },
        "outputId": "df519b6d-f49e-4cf6-9892-9a1d0b9f794c"
      },
      "source": [
        "per_Emp_status= np.round((data[\"Employee_Status\"].value_counts(normalize=True)*100))\r\n",
        "per_Emp_status"
      ],
      "execution_count": 35,
      "outputs": [
        {
          "output_type": "execute_result",
          "data": {
            "text/plain": [
              "Active        78.0\n",
              "Terminated    22.0\n",
              "Name: Employee_Status, dtype: float64"
            ]
          },
          "metadata": {
            "tags": []
          },
          "execution_count": 35
        }
      ]
    },
    {
      "cell_type": "code",
      "metadata": {
        "id": "gOUTjevQMOBS",
        "colab": {
          "base_uri": "https://localhost:8080/",
          "height": 351
        },
        "outputId": "15bd745f-0514-481f-ad13-5fbb4fa86347"
      },
      "source": [
        "fig = plt.figure(figsize = (5, 5)) \r\n",
        "plt.bar(per_Emp_status.keys().values, per_Emp_status.to_numpy(), color ='fuchsia', width = 0.4) \r\n",
        "plt.xlabel(\"Employee_Status\") \r\n",
        "plt.ylabel(\"% of Employee\") \r\n",
        "plt.title(\"Employee Distribution- Employee Status Wise\") \r\n",
        "plt.show()"
      ],
      "execution_count": 36,
      "outputs": [
        {
          "output_type": "display_data",
          "data": {
            "image/png": "[encoded data removed]",
            "text/plain": [
              "<Figure size 360x360 with 1 Axes>"
            ]
          },
          "metadata": {
            "tags": [],
            "needs_background": "light"
          }
        }
      ]
    },
    {
      "cell_type": "code",
      "metadata": {
        "id": "VoLPIH_AMN7a",
        "colab": {
          "base_uri": "https://localhost:8080/"
        },
        "outputId": "fda1b25b-6f5d-45a2-98c9-0ebff3ea4ebe"
      },
      "source": [
        "per_rating= np.round((data[\"Rating\"].value_counts(normalize=True)*100))\r\n",
        "per_rating"
      ],
      "execution_count": 37,
      "outputs": [
        {
          "output_type": "execute_result",
          "data": {
            "text/plain": [
              "4    32.0\n",
              "3    26.0\n",
              "5    23.0\n",
              "2    18.0\n",
              "1     1.0\n",
              "Name: Rating, dtype: float64"
            ]
          },
          "metadata": {
            "tags": []
          },
          "execution_count": 37
        }
      ]
    },
    {
      "cell_type": "code",
      "metadata": {
        "id": "C5Ax9cq9MN4j",
        "colab": {
          "base_uri": "https://localhost:8080/",
          "height": 350
        },
        "outputId": "085aaa90-73d4-47a4-cc29-66384f0b10eb"
      },
      "source": [
        "fig = plt.figure(figsize = (15, 5)) \r\n",
        "plt.bar(per_rating.keys().values, per_rating.to_numpy(), color ='coral', width = 0.4) \r\n",
        "plt.xlabel(\"Ratings\") \r\n",
        "plt.ylabel(\"% of Employee\") \r\n",
        "plt.title(\"Employee Distribution- Employee Rating Wise\") \r\n",
        "plt.show()"
      ],
      "execution_count": 38,
      "outputs": [
        {
          "output_type": "display_data",
          "data": {
            "image/png": "[encoded data removed]",
            "text/plain": [
              "<Figure size 1080x360 with 1 Axes>"
            ]
          },
          "metadata": {
            "tags": [],
            "needs_background": "light"
          }
        }
      ]
    },
    {
      "cell_type": "code",
      "metadata": {
        "id": "l7g_ssg_R8Mx",
        "colab": {
          "base_uri": "https://localhost:8080/"
        },
        "outputId": "3acfd48f-2a57-479a-ffe7-37fa45566ef7"
      },
      "source": [
        "per_edu= np.round((data[\"Education\"].value_counts(normalize=True)*100))\r\n",
        "per_edu"
      ],
      "execution_count": 39,
      "outputs": [
        {
          "output_type": "execute_result",
          "data": {
            "text/plain": [
              "BA/BS    43.0\n",
              "MA/MS    25.0\n",
              "MBA      24.0\n",
              "PhD       5.0\n",
              "JD        3.0\n",
              "Name: Education, dtype: float64"
            ]
          },
          "metadata": {
            "tags": []
          },
          "execution_count": 39
        }
      ]
    },
    {
      "cell_type": "code",
      "metadata": {
        "id": "UAT0cPuMR8KP",
        "colab": {
          "base_uri": "https://localhost:8080/",
          "height": 350
        },
        "outputId": "bdb65651-bbe3-4e15-eeb9-184930a48e01"
      },
      "source": [
        "fig = plt.figure(figsize = (10, 5)) \r\n",
        "plt.bar(per_edu.keys().values, per_edu.to_numpy(), color ='sienna', width = 0.4) \r\n",
        "plt.xlabel(\"Education\") \r\n",
        "plt.ylabel(\"% of Employee\") \r\n",
        "plt.title(\"Employee Distribution- Employee Education Wise\") \r\n",
        "plt.show()"
      ],
      "execution_count": 40,
      "outputs": [
        {
          "output_type": "display_data",
          "data": {
            "image/png": "[encoded data removed]",
            "text/plain": [
              "<Figure size 720x360 with 1 Axes>"
            ]
          },
          "metadata": {
            "tags": [],
            "needs_background": "light"
          }
        }
      ]
    },
    {
      "cell_type": "code",
      "metadata": {
        "id": "OiUbhGHnR8CL",
        "colab": {
          "base_uri": "https://localhost:8080/",
          "height": 265
        },
        "outputId": "dd3cb69f-af5b-4f87-d2af-6a5ff9a86dcc"
      },
      "source": [
        "data['Age'].hist(bins =20);"
      ],
      "execution_count": 41,
      "outputs": [
        {
          "output_type": "display_data",
          "data": {
            "image/png": "[encoded data removed]",
            "text/plain": [
              "<Figure size 432x288 with 1 Axes>"
            ]
          },
          "metadata": {
            "tags": [],
            "needs_background": "light"
          }
        }
      ]
    },
    {
      "cell_type": "code",
      "metadata": {
        "id": "W9FkA3lMSyt8"
      },
      "source": [
        "data['AgeGroups']=pd.cut(data.Age,np.arange(20, 70, 5))"
      ],
      "execution_count": 44,
      "outputs": []
    },
    {
      "cell_type": "code",
      "metadata": {
        "id": "E1QFm4C6SyxA",
        "colab": {
          "base_uri": "https://localhost:8080/",
          "height": 343
        },
        "outputId": "f731ff8f-2a32-4644-f2cb-fdef7660dc8e"
      },
      "source": [
        "f = lambda x : np.round(x/x.sum() * 100)\n",
        "con_p_term = data.groupby(['AgeGroups', 'Rating'])['Rating'].count().unstack().apply(f, axis=1)\n",
        "con_p_term"
      ],
      "execution_count": 45,
      "outputs": [
        {
          "output_type": "execute_result",
          "data": {
            "text/html": [
              "<div>\n",
              "<style scoped>\n",
              "    .dataframe tbody tr th:only-of-type {\n",
              "        vertical-align: middle;\n",
              "    }\n",
              "\n",
              "    .dataframe tbody tr th {\n",
              "        vertical-align: top;\n",
              "    }\n",
              "\n",
              "    .dataframe thead th {\n",
              "        text-align: right;\n",
              "    }\n",
              "</style>\n",
              "<table border=\"1\" class=\"dataframe\">\n",
              "  <thead>\n",
              "    <tr style=\"text-align: right;\">\n",
              "      <th>Rating</th>\n",
              "      <th>1</th>\n",
              "      <th>2</th>\n",
              "      <th>3</th>\n",
              "      <th>4</th>\n",
              "      <th>5</th>\n",
              "    </tr>\n",
              "    <tr>\n",
              "      <th>AgeGroups</th>\n",
              "      <th></th>\n",
              "      <th></th>\n",
              "      <th></th>\n",
              "      <th></th>\n",
              "      <th></th>\n",
              "    </tr>\n",
              "  </thead>\n",
              "  <tbody>\n",
              "    <tr>\n",
              "      <th>(20, 25]</th>\n",
              "      <td>1.0</td>\n",
              "      <td>12.0</td>\n",
              "      <td>47.0</td>\n",
              "      <td>30.0</td>\n",
              "      <td>9.0</td>\n",
              "    </tr>\n",
              "    <tr>\n",
              "      <th>(25, 30]</th>\n",
              "      <td>1.0</td>\n",
              "      <td>20.0</td>\n",
              "      <td>24.0</td>\n",
              "      <td>26.0</td>\n",
              "      <td>27.0</td>\n",
              "    </tr>\n",
              "    <tr>\n",
              "      <th>(30, 35]</th>\n",
              "      <td>0.0</td>\n",
              "      <td>21.0</td>\n",
              "      <td>18.0</td>\n",
              "      <td>28.0</td>\n",
              "      <td>32.0</td>\n",
              "    </tr>\n",
              "    <tr>\n",
              "      <th>(35, 40]</th>\n",
              "      <td>0.0</td>\n",
              "      <td>17.0</td>\n",
              "      <td>14.0</td>\n",
              "      <td>49.0</td>\n",
              "      <td>20.0</td>\n",
              "    </tr>\n",
              "    <tr>\n",
              "      <th>(40, 45]</th>\n",
              "      <td>0.0</td>\n",
              "      <td>14.0</td>\n",
              "      <td>11.0</td>\n",
              "      <td>55.0</td>\n",
              "      <td>21.0</td>\n",
              "    </tr>\n",
              "    <tr>\n",
              "      <th>(45, 50]</th>\n",
              "      <td>0.0</td>\n",
              "      <td>0.0</td>\n",
              "      <td>0.0</td>\n",
              "      <td>73.0</td>\n",
              "      <td>27.0</td>\n",
              "    </tr>\n",
              "    <tr>\n",
              "      <th>(50, 55]</th>\n",
              "      <td>0.0</td>\n",
              "      <td>11.0</td>\n",
              "      <td>9.0</td>\n",
              "      <td>74.0</td>\n",
              "      <td>6.0</td>\n",
              "    </tr>\n",
              "    <tr>\n",
              "      <th>(55, 60]</th>\n",
              "      <td>0.0</td>\n",
              "      <td>33.0</td>\n",
              "      <td>33.0</td>\n",
              "      <td>33.0</td>\n",
              "      <td>0.0</td>\n",
              "    </tr>\n",
              "    <tr>\n",
              "      <th>(60, 65]</th>\n",
              "      <td>NaN</td>\n",
              "      <td>NaN</td>\n",
              "      <td>NaN</td>\n",
              "      <td>NaN</td>\n",
              "      <td>NaN</td>\n",
              "    </tr>\n",
              "  </tbody>\n",
              "</table>\n",
              "</div>"
            ],
            "text/plain": [
              "Rating       1     2     3     4     5\n",
              "AgeGroups                             \n",
              "(20, 25]   1.0  12.0  47.0  30.0   9.0\n",
              "(25, 30]   1.0  20.0  24.0  26.0  27.0\n",
              "(30, 35]   0.0  21.0  18.0  28.0  32.0\n",
              "(35, 40]   0.0  17.0  14.0  49.0  20.0\n",
              "(40, 45]   0.0  14.0  11.0  55.0  21.0\n",
              "(45, 50]   0.0   0.0   0.0  73.0  27.0\n",
              "(50, 55]   0.0  11.0   9.0  74.0   6.0\n",
              "(55, 60]   0.0  33.0  33.0  33.0   0.0\n",
              "(60, 65]   NaN   NaN   NaN   NaN   NaN"
            ]
          },
          "metadata": {
            "tags": []
          },
          "execution_count": 45
        }
      ]
    },
    {
      "cell_type": "code",
      "metadata": {
        "colab": {
          "base_uri": "https://localhost:8080/",
          "height": 343
        },
        "id": "EH0JNAipsdTF",
        "outputId": "3723e65d-fec4-46ca-bade-a7066ee6e6ae"
      },
      "source": [
        "f = lambda x : np.round(x/x.sum() * 100)\r\n",
        "con_p_term = data.groupby(['AgeGroups',  'Termination_Type'])['Termination_Type'].count().unstack().apply(f, axis=1)\r\n",
        "con_p_term"
      ],
      "execution_count": 54,
      "outputs": [
        {
          "output_type": "execute_result",
          "data": {
            "text/html": [
              "<div>\n",
              "<style scoped>\n",
              "    .dataframe tbody tr th:only-of-type {\n",
              "        vertical-align: middle;\n",
              "    }\n",
              "\n",
              "    .dataframe tbody tr th {\n",
              "        vertical-align: top;\n",
              "    }\n",
              "\n",
              "    .dataframe thead th {\n",
              "        text-align: right;\n",
              "    }\n",
              "</style>\n",
              "<table border=\"1\" class=\"dataframe\">\n",
              "  <thead>\n",
              "    <tr style=\"text-align: right;\">\n",
              "      <th>Termination_Type</th>\n",
              "      <th>Involuntary Exit</th>\n",
              "      <th>Voluntary Exit</th>\n",
              "    </tr>\n",
              "    <tr>\n",
              "      <th>AgeGroups</th>\n",
              "      <th></th>\n",
              "      <th></th>\n",
              "    </tr>\n",
              "  </thead>\n",
              "  <tbody>\n",
              "    <tr>\n",
              "      <th>(20, 25]</th>\n",
              "      <td>84.0</td>\n",
              "      <td>16.0</td>\n",
              "    </tr>\n",
              "    <tr>\n",
              "      <th>(25, 30]</th>\n",
              "      <td>71.0</td>\n",
              "      <td>29.0</td>\n",
              "    </tr>\n",
              "    <tr>\n",
              "      <th>(30, 35]</th>\n",
              "      <td>46.0</td>\n",
              "      <td>54.0</td>\n",
              "    </tr>\n",
              "    <tr>\n",
              "      <th>(35, 40]</th>\n",
              "      <td>47.0</td>\n",
              "      <td>53.0</td>\n",
              "    </tr>\n",
              "    <tr>\n",
              "      <th>(40, 45]</th>\n",
              "      <td>67.0</td>\n",
              "      <td>33.0</td>\n",
              "    </tr>\n",
              "    <tr>\n",
              "      <th>(45, 50]</th>\n",
              "      <td>NaN</td>\n",
              "      <td>NaN</td>\n",
              "    </tr>\n",
              "    <tr>\n",
              "      <th>(50, 55]</th>\n",
              "      <td>57.0</td>\n",
              "      <td>43.0</td>\n",
              "    </tr>\n",
              "    <tr>\n",
              "      <th>(55, 60]</th>\n",
              "      <td>50.0</td>\n",
              "      <td>50.0</td>\n",
              "    </tr>\n",
              "    <tr>\n",
              "      <th>(60, 65]</th>\n",
              "      <td>NaN</td>\n",
              "      <td>NaN</td>\n",
              "    </tr>\n",
              "  </tbody>\n",
              "</table>\n",
              "</div>"
            ],
            "text/plain": [
              "Termination_Type  Involuntary Exit  Voluntary Exit\n",
              "AgeGroups                                         \n",
              "(20, 25]                      84.0            16.0\n",
              "(25, 30]                      71.0            29.0\n",
              "(30, 35]                      46.0            54.0\n",
              "(35, 40]                      47.0            53.0\n",
              "(40, 45]                      67.0            33.0\n",
              "(45, 50]                       NaN             NaN\n",
              "(50, 55]                      57.0            43.0\n",
              "(55, 60]                      50.0            50.0\n",
              "(60, 65]                       NaN             NaN"
            ]
          },
          "metadata": {
            "tags": []
          },
          "execution_count": 54
        }
      ]
    },
    {
      "cell_type": "code",
      "metadata": {
        "id": "7BAfHjTbn1dk"
      },
      "source": [
        "data['TenureGroups']=pd.cut(data.Tenure,np.arange(0, 35, 5))"
      ],
      "execution_count": 47,
      "outputs": []
    },
    {
      "cell_type": "code",
      "metadata": {
        "id": "odG0gxEPUroo",
        "colab": {
          "base_uri": "https://localhost:8080/",
          "height": 254
        },
        "outputId": "8dd52a6b-95ac-4c2b-9606-ab0c5dce5c6b"
      },
      "source": [
        "f = lambda x : np.round(x/x.sum() * 100)\r\n",
        "con_p_term = data.groupby(['TenureGroups',  'Termination_Type'])['Termination_Type'].count().unstack().apply(f, axis=1)\r\n",
        "con_p_term"
      ],
      "execution_count": 55,
      "outputs": [
        {
          "output_type": "execute_result",
          "data": {
            "text/html": [
              "<div>\n",
              "<style scoped>\n",
              "    .dataframe tbody tr th:only-of-type {\n",
              "        vertical-align: middle;\n",
              "    }\n",
              "\n",
              "    .dataframe tbody tr th {\n",
              "        vertical-align: top;\n",
              "    }\n",
              "\n",
              "    .dataframe thead th {\n",
              "        text-align: right;\n",
              "    }\n",
              "</style>\n",
              "<table border=\"1\" class=\"dataframe\">\n",
              "  <thead>\n",
              "    <tr style=\"text-align: right;\">\n",
              "      <th>Termination_Type</th>\n",
              "      <th>Involuntary Exit</th>\n",
              "      <th>Voluntary Exit</th>\n",
              "    </tr>\n",
              "    <tr>\n",
              "      <th>TenureGroups</th>\n",
              "      <th></th>\n",
              "      <th></th>\n",
              "    </tr>\n",
              "  </thead>\n",
              "  <tbody>\n",
              "    <tr>\n",
              "      <th>(0, 5]</th>\n",
              "      <td>51.0</td>\n",
              "      <td>49.0</td>\n",
              "    </tr>\n",
              "    <tr>\n",
              "      <th>(5, 10]</th>\n",
              "      <td>90.0</td>\n",
              "      <td>10.0</td>\n",
              "    </tr>\n",
              "    <tr>\n",
              "      <th>(10, 15]</th>\n",
              "      <td>77.0</td>\n",
              "      <td>23.0</td>\n",
              "    </tr>\n",
              "    <tr>\n",
              "      <th>(15, 20]</th>\n",
              "      <td>68.0</td>\n",
              "      <td>32.0</td>\n",
              "    </tr>\n",
              "    <tr>\n",
              "      <th>(20, 25]</th>\n",
              "      <td>NaN</td>\n",
              "      <td>NaN</td>\n",
              "    </tr>\n",
              "    <tr>\n",
              "      <th>(25, 30]</th>\n",
              "      <td>75.0</td>\n",
              "      <td>25.0</td>\n",
              "    </tr>\n",
              "  </tbody>\n",
              "</table>\n",
              "</div>"
            ],
            "text/plain": [
              "Termination_Type  Involuntary Exit  Voluntary Exit\n",
              "TenureGroups                                      \n",
              "(0, 5]                        51.0            49.0\n",
              "(5, 10]                       90.0            10.0\n",
              "(10, 15]                      77.0            23.0\n",
              "(15, 20]                      68.0            32.0\n",
              "(20, 25]                       NaN             NaN\n",
              "(25, 30]                      75.0            25.0"
            ]
          },
          "metadata": {
            "tags": []
          },
          "execution_count": 55
        }
      ]
    }
  ]
}
{
  "nbformat": 4,
  "nbformat_minor": 0,
  "metadata": {
    "colab": {
      "name": "HR EDA Analysis 1.ipynb",
      "provenance": [],
      "collapsed_sections": []
    },
    "kernelspec": {
      "name": "python3",
      "display_name": "Python 3"
    }
  },
  "cells": [
    {
      "cell_type": "code",
      "metadata": {
        "id": "wx3kwPCzJ9Ls"
      },
      "source": [
        "import numpy as np\n",
        "import pandas as pd\n",
        "import matplotlib.pyplot as plt\n",
        "import datetime"
      ],
      "execution_count": null,
      "outputs": []
    },
    {
      "cell_type": "code",
      "metadata": {
        "id": "LtwOoXDtOGTK"
      },
      "source": [
        "data= pd.read_csv(\"https://raw.githubusercontent.com/gauravpks/ml-repo/master/HRDS/unit1.csv\")"
      ],
      "execution_count": null,
      "outputs": []
    },
    {
      "cell_type": "code",
      "metadata": {
        "id": "tEvBaGZAOcIq",
        "colab": {
          "base_uri": "https://localhost:8080/",
          "height": 434
        },
        "outputId": "f8328ea9-196e-4b7c-f3b8-3f3fe6ba1e1f"
      },
      "source": [
        "data.head()"
      ],
      "execution_count": null,
      "outputs": [
        {
          "output_type": "execute_result",
          "data": {
            "text/html": [
              "<div>\n",
              "<style scoped>\n",
              "    .dataframe tbody tr th:only-of-type {\n",
              "        vertical-align: middle;\n",
              "    }\n",
              "\n",
              "    .dataframe tbody tr th {\n",
              "        vertical-align: top;\n",
              "    }\n",
              "\n",
              "    .dataframe thead th {\n",
              "        text-align: right;\n",
              "    }\n",
              "</style>\n",
              "<table border=\"1\" class=\"dataframe\">\n",
              "  <thead>\n",
              "    <tr style=\"text-align: right;\">\n",
              "      <th></th>\n",
              "      <th>Employee ID</th>\n",
              "      <th>Data Effective Date</th>\n",
              "      <th>Employee\\nStatus\\n</th>\n",
              "      <th>Career Level \\n(1=lowest, 6=highest)\\n</th>\n",
              "      <th>Hired Date</th>\n",
              "      <th>Hired in FY\\n(Yes/No)</th>\n",
              "      <th>Termination Date</th>\n",
              "      <th>Terminated\\nin FY\\n(Yes/No)</th>\n",
              "      <th>Termination Type\\n(Voluntary or Involuntary Exit)</th>\n",
              "      <th>Job Start Date</th>\n",
              "      <th>Promoted\\nin FY\\n(Yes/No)</th>\n",
              "      <th>Birth Date</th>\n",
              "      <th>Age\\n(Years)</th>\n",
              "      <th>Tenure\\n(Years)</th>\n",
              "      <th>Time in\\nJob (Years)</th>\n",
              "      <th>Rating</th>\n",
              "      <th>Education\\n(Highest\\nDegree)</th>\n",
              "    </tr>\n",
              "  </thead>\n",
              "  <tbody>\n",
              "    <tr>\n",
              "      <th>0</th>\n",
              "      <td>A0001</td>\n",
              "      <td>31-12-2016</td>\n",
              "      <td>Active</td>\n",
              "      <td>1</td>\n",
              "      <td>12-09-2016</td>\n",
              "      <td>Yes</td>\n",
              "      <td>NaN</td>\n",
              "      <td>No</td>\n",
              "      <td>NaN</td>\n",
              "      <td>12-09-2016</td>\n",
              "      <td>NaN</td>\n",
              "      <td>21-09-1992</td>\n",
              "      <td>NaN</td>\n",
              "      <td>NaN</td>\n",
              "      <td>NaN</td>\n",
              "      <td>At Target</td>\n",
              "      <td>BA/BS</td>\n",
              "    </tr>\n",
              "    <tr>\n",
              "      <th>1</th>\n",
              "      <td>A0002</td>\n",
              "      <td>31-12-2016</td>\n",
              "      <td>Active</td>\n",
              "      <td>1</td>\n",
              "      <td>19-04-2016</td>\n",
              "      <td>Yes</td>\n",
              "      <td>NaN</td>\n",
              "      <td>No</td>\n",
              "      <td>NaN</td>\n",
              "      <td>19-04-2016</td>\n",
              "      <td>NaN</td>\n",
              "      <td>16-11-1993</td>\n",
              "      <td>NaN</td>\n",
              "      <td>NaN</td>\n",
              "      <td>NaN</td>\n",
              "      <td>At Target</td>\n",
              "      <td>BA/BS</td>\n",
              "    </tr>\n",
              "    <tr>\n",
              "      <th>2</th>\n",
              "      <td>A0003</td>\n",
              "      <td>31-12-2016</td>\n",
              "      <td>Active</td>\n",
              "      <td>1</td>\n",
              "      <td>14-03-2016</td>\n",
              "      <td>Yes</td>\n",
              "      <td>NaN</td>\n",
              "      <td>No</td>\n",
              "      <td>NaN</td>\n",
              "      <td>14-03-2016</td>\n",
              "      <td>NaN</td>\n",
              "      <td>26-11-1993</td>\n",
              "      <td>NaN</td>\n",
              "      <td>NaN</td>\n",
              "      <td>NaN</td>\n",
              "      <td>At Target</td>\n",
              "      <td>MA/MS</td>\n",
              "    </tr>\n",
              "    <tr>\n",
              "      <th>3</th>\n",
              "      <td>A0004</td>\n",
              "      <td>31-12-2016</td>\n",
              "      <td>Active</td>\n",
              "      <td>1</td>\n",
              "      <td>12-09-2016</td>\n",
              "      <td>Yes</td>\n",
              "      <td>NaN</td>\n",
              "      <td>No</td>\n",
              "      <td>NaN</td>\n",
              "      <td>12-09-2016</td>\n",
              "      <td>NaN</td>\n",
              "      <td>28-03-1993</td>\n",
              "      <td>NaN</td>\n",
              "      <td>NaN</td>\n",
              "      <td>NaN</td>\n",
              "      <td>At Target</td>\n",
              "      <td>BA/BS</td>\n",
              "    </tr>\n",
              "    <tr>\n",
              "      <th>4</th>\n",
              "      <td>A0005</td>\n",
              "      <td>31-12-2016</td>\n",
              "      <td>Active</td>\n",
              "      <td>1</td>\n",
              "      <td>19-04-2016</td>\n",
              "      <td>Yes</td>\n",
              "      <td>NaN</td>\n",
              "      <td>No</td>\n",
              "      <td>NaN</td>\n",
              "      <td>19-04-2016</td>\n",
              "      <td>NaN</td>\n",
              "      <td>01-09-1992</td>\n",
              "      <td>NaN</td>\n",
              "      <td>NaN</td>\n",
              "      <td>NaN</td>\n",
              "      <td>At Target</td>\n",
              "      <td>BA/BS</td>\n",
              "    </tr>\n",
              "  </tbody>\n",
              "</table>\n",
              "</div>"
            ],
            "text/plain": [
              "  Employee ID Data Effective Date  ...     Rating  Education\\n(Highest\\nDegree)\n",
              "0       A0001          31-12-2016  ...  At Target                         BA/BS\n",
              "1       A0002          31-12-2016  ...  At Target                         BA/BS\n",
              "2       A0003          31-12-2016  ...  At Target                         MA/MS\n",
              "3       A0004          31-12-2016  ...  At Target                         BA/BS\n",
              "4       A0005          31-12-2016  ...  At Target                         BA/BS\n",
              "\n",
              "[5 rows x 17 columns]"
            ]
          },
          "metadata": {
            "tags": []
          },
          "execution_count": 71
        }
      ]
    },
    {
      "cell_type": "code",
      "metadata": {
        "id": "9YdhF_PPQYTE",
        "colab": {
          "base_uri": "https://localhost:8080/"
        },
        "outputId": "7b5e3983-2273-4c10-96cb-4bbe8f9d74af"
      },
      "source": [
        "data.describe\n"
      ],
      "execution_count": null,
      "outputs": [
        {
          "output_type": "execute_result",
          "data": {
            "text/plain": [
              "<bound method NDFrame.describe of      Employee ID  ... Education\\n(Highest\\nDegree)\n",
              "0          A0001  ...                        BA/BS\n",
              "1          A0002  ...                        BA/BS\n",
              "2          A0003  ...                        MA/MS\n",
              "3          A0004  ...                        BA/BS\n",
              "4          A0005  ...                        BA/BS\n",
              "...          ...  ...                          ...\n",
              "6323       A6324  ...                           JD\n",
              "6324       A6325  ...                        BA/BS\n",
              "6325       A6326  ...                        MA/MS\n",
              "6326       A6327  ...                          MBA\n",
              "6327       A6328  ...                        BA/BS\n",
              "\n",
              "[6328 rows x 17 columns]>"
            ]
          },
          "metadata": {
            "tags": []
          },
          "execution_count": 72
        }
      ]
    },
    {
      "cell_type": "code",
      "metadata": {
        "id": "t50cyY69QdJJ",
        "colab": {
          "base_uri": "https://localhost:8080/"
        },
        "outputId": "fe384058-3104-4fcd-ea23-63740c8decf5"
      },
      "source": [
        "data.isnull().sum()"
      ],
      "execution_count": null,
      "outputs": [
        {
          "output_type": "execute_result",
          "data": {
            "text/plain": [
              "Employee ID                                             0\n",
              "Data Effective Date                                     0\n",
              "Employee\\nStatus\\n                                      0\n",
              "Career Level \\n(1=lowest, 6=highest)\\n                  0\n",
              "Hired Date                                              0\n",
              "Hired in FY\\n(Yes/No)                                   0\n",
              "Termination Date                                     5920\n",
              "Terminated\\nin FY\\n(Yes/No)                             0\n",
              "Termination Type\\n(Voluntary or Involuntary Exit)    5920\n",
              "Job Start Date                                          0\n",
              "Promoted\\nin FY\\n(Yes/No)                            1035\n",
              "Birth Date                                              0\n",
              "Age\\n(Years)                                         6328\n",
              "Tenure\\n(Years)                                      6328\n",
              "Time in\\nJob (Years)                                 6328\n",
              "Rating                                                  0\n",
              "Education\\n(Highest\\nDegree)                            0\n",
              "dtype: int64"
            ]
          },
          "metadata": {
            "tags": []
          },
          "execution_count": 73
        }
      ]
    },
    {
      "cell_type": "code",
      "metadata": {
        "id": "Yu4sJLY3QqwQ",
        "colab": {
          "base_uri": "https://localhost:8080/"
        },
        "outputId": "7a0f96aa-26fd-4491-bcd0-b21d61244cef"
      },
      "source": [
        "data.columns"
      ],
      "execution_count": null,
      "outputs": [
        {
          "output_type": "execute_result",
          "data": {
            "text/plain": [
              "Index(['Employee ID', 'Data Effective Date', 'Employee\\nStatus\\n',\n",
              "       'Career Level \\n(1=lowest, 6=highest)\\n', 'Hired Date',\n",
              "       'Hired in FY\\n(Yes/No)', 'Termination Date',\n",
              "       'Terminated\\nin FY\\n(Yes/No)',\n",
              "       'Termination Type\\n(Voluntary or Involuntary Exit)', 'Job Start Date',\n",
              "       'Promoted\\nin FY\\n(Yes/No)', 'Birth Date', 'Age\\n(Years)',\n",
              "       'Tenure\\n(Years)', 'Time in\\nJob (Years)', 'Rating',\n",
              "       'Education\\n(Highest\\nDegree)'],\n",
              "      dtype='object')"
            ]
          },
          "metadata": {
            "tags": []
          },
          "execution_count": 74
        }
      ]
    },
    {
      "cell_type": "code",
      "metadata": {
        "id": "eacYzGF0ROaV"
      },
      "source": [
        "data.columns=['Employee_ID', 'DataEDate', 'Employee_Status','Career_Level', 'Hired_Date','HiredIn_FY', 'Termination_Date','TerminatedIn_FY','Termination_Type', 'Job_StartDate',\n",
        "       'PromotedIn_FY', 'Birth_Date', 'Age','Tenure', 'TimeIn_Job', 'Rating','Education']"
      ],
      "execution_count": null,
      "outputs": []
    },
    {
      "cell_type": "code",
      "metadata": {
        "id": "kaExyQWaSrZ2"
      },
      "source": [
        "data['NewTerminationDate']= data['Termination_Date'].fillna(data[\"DataEDate\"])\r\n"
      ],
      "execution_count": null,
      "outputs": []
    },
    {
      "cell_type": "code",
      "metadata": {
        "id": "6n7x81ufnx20"
      },
      "source": [
        "data['Birth_Date'] = pd.to_datetime(data['Birth_Date'])\r\n",
        "data['DataEDate'] = pd.to_datetime(data['DataEDate'])\r\n",
        "data['Job_StartDate'] = pd.to_datetime(data['Job_StartDate'])\r\n",
        "data['Hired_Date'] = pd.to_datetime(data['Hired_Date'])\r\n",
        "data['Termination_Date'] = pd.to_datetime(data['Termination_Date'])"
      ],
      "execution_count": null,
      "outputs": []
    },
    {
      "cell_type": "code",
      "metadata": {
        "id": "cievW25enxft"
      },
      "source": [
        "data['Age'] = (data['DataEDate'] - data['Birth_Date'])\r\n",
        "data['Age'] = round((data['Age'].astype('timedelta64[D]'))/365,1)\r\n"
      ],
      "execution_count": null,
      "outputs": []
    },
    {
      "cell_type": "code",
      "metadata": {
        "id": "qzG90bOdYv8M"
      },
      "source": [
        "# def date_to_year(row):\n",
        "#   return int(row[\"DataEDate\"].split(\"-\")[2])-int(row[\"Birth_Date\"].split(\"-\")[2])\n",
        "# data[\"Age\"]=data.apply(date_to_year, axis=1)  \n",
        "\n",
        "# def tenure(row):\n",
        "#   return int(row[\"NewTerminationDate\"].split(\"-\")[2])-int(row[\"Job_StartDate\"].split(\"-\")[2])\n",
        "# data[\"Tenure\"]=data.apply(tenure, axis=1)  \n",
        "\n",
        "# def timeinjob(row):\n",
        "#   return int(row[\"NewTerminationDate\"].split(\"-\")[2])- int(row[\"Hired_Date\"].split(\"-\")[2])\n",
        "# data[\"TimeIn_Job\"] = data.apply(timeinjob, axis=1) \n",
        "\n",
        "data['NewTerminationDate'] = data['Termination_Date'].fillna(data['DataEDate'])\n",
        "data['NewTerminationDate'] = pd.to_datetime(data['NewTerminationDate'])\n",
        "\n",
        "data['Tenure'] = (data['NewTerminationDate'] - data['Hired_Date'])\n",
        "data['Tenure'] = round((data['Tenure'].astype('timedelta64[D]'))/365,1)\n",
        "\n",
        "data['TimeIn_Job'] = (data['NewTerminationDate'] - data['Job_StartDate'])\n",
        "data['TimeIn_Job'] = round((data['TimeIn_Job'].astype('timedelta64[D]'))/365,1)\n",
        "\n",
        "data.drop('NewTerminationDate', axis='columns', inplace=True)"
      ],
      "execution_count": null,
      "outputs": []
    },
    {
      "cell_type": "code",
      "metadata": {
        "id": "Iy7jUEzdBrbt",
        "colab": {
          "base_uri": "https://localhost:8080/"
        },
        "outputId": "e96b3b06-5496-4f12-e614-e5cee9eb84ce"
      },
      "source": [
        "data.isnull().sum()"
      ],
      "execution_count": null,
      "outputs": [
        {
          "output_type": "execute_result",
          "data": {
            "text/plain": [
              "Employee_ID            0\n",
              "DataEDate              0\n",
              "Employee_Status        0\n",
              "Career_Level           0\n",
              "Hired_Date             0\n",
              "HiredIn_FY             0\n",
              "Termination_Date    5920\n",
              "TerminatedIn_FY        0\n",
              "Termination_Type    5920\n",
              "Job_StartDate          0\n",
              "PromotedIn_FY       1035\n",
              "Birth_Date             0\n",
              "Age                    0\n",
              "Tenure                 0\n",
              "TimeIn_Job             0\n",
              "Rating                 0\n",
              "Education              0\n",
              "dtype: int64"
            ]
          },
          "metadata": {
            "tags": []
          },
          "execution_count": 80
        }
      ]
    },
    {
      "cell_type": "markdown",
      "metadata": {
        "id": "AA8PMOPmLx2l"
      },
      "source": [
        "### **Visualization**"
      ]
    },
    {
      "cell_type": "markdown",
      "metadata": {
        "id": "y6NFH_TmeTY3"
      },
      "source": [
        "Employee Distribution- Carrer Level Wise (Active Employees)"
      ]
    },
    {
      "cell_type": "code",
      "metadata": {
        "colab": {
          "base_uri": "https://localhost:8080/"
        },
        "id": "VyaEFwf3MOLz",
        "outputId": "0bc07f6f-60c6-4bfb-996c-9d277faeb3dd"
      },
      "source": [
        "data_active = data[data.Termination_Date.isnull()]   \r\n",
        "per_careerlevel= np.round((data_active[\"Career_Level\"].value_counts(normalize=True)*100))\r\n",
        "per_careerlevel"
      ],
      "execution_count": null,
      "outputs": [
        {
          "output_type": "execute_result",
          "data": {
            "text/plain": [
              "3    20.0\n",
              "4    19.0\n",
              "2    19.0\n",
              "5    15.0\n",
              "1    15.0\n",
              "6    13.0\n",
              "Name: Career_Level, dtype: float64"
            ]
          },
          "metadata": {
            "tags": []
          },
          "execution_count": 81
        }
      ]
    },
    {
      "cell_type": "code",
      "metadata": {
        "colab": {
          "base_uri": "https://localhost:8080/",
          "height": 350
        },
        "id": "qPxuWbEdMOJY",
        "outputId": "56d94dab-048d-4528-c12d-58280f7042ae"
      },
      "source": [
        "fig = plt.figure(figsize = (10, 5)) \r\n",
        "plt.bar(per_careerlevel.keys().values, per_careerlevel.to_numpy(), color ='salmon', width = 0.4) \r\n",
        "plt.xlabel(\"CarrerLevel\") \r\n",
        "plt.ylabel(\"% of Employee\") \r\n",
        "plt.title(\"Employee Distribution- Carrer Level Wise\") \r\n",
        "plt.show()"
      ],
      "execution_count": null,
      "outputs": [
        {
          "output_type": "display_data",
          "data": {
            "image/png": "[encoded data removed]",
            "text/plain": [
              "<Figure size 720x360 with 1 Axes>"
            ]
          },
          "metadata": {
            "tags": [],
            "needs_background": "light"
          }
        }
      ]
    },
    {
      "cell_type": "code",
      "metadata": {
        "colab": {
          "base_uri": "https://localhost:8080/",
          "height": 264
        },
        "id": "G2k3ldzyMOGg",
        "outputId": "27a5ca41-cca6-4ddd-e370-48105829f1a7"
      },
      "source": [
        "plt.pie(per_careerlevel.to_numpy(), labels = per_careerlevel.keys().values) \r\n",
        "plt.title(\"Employee Distribution- Career Level Wise\")  \r\n",
        "plt.show()"
      ],
      "execution_count": null,
      "outputs": [
        {
          "output_type": "display_data",
          "data": {
            "image/png": "[encoded data removed]",
            "text/plain": [
              "<Figure size 432x288 with 1 Axes>"
            ]
          },
          "metadata": {
            "tags": []
          }
        }
      ]
    },
    {
      "cell_type": "code",
      "metadata": {
        "colab": {
          "base_uri": "https://localhost:8080/",
          "height": 271
        },
        "id": "jFtvkcOegUjt",
        "outputId": "2ca83cd2-4d97-4059-8b62-878ac4678955"
      },
      "source": [
        "f = lambda x : np.round(x/x.sum() * 100)\r\n",
        "con_sector = data_active.groupby(['Career_Level', 'Rating'])['Career_Level'].count().unstack().apply(f, axis=1)\r\n",
        "con_sector"
      ],
      "execution_count": null,
      "outputs": [
        {
          "output_type": "execute_result",
          "data": {
            "text/html": [
              "<div>\n",
              "<style scoped>\n",
              "    .dataframe tbody tr th:only-of-type {\n",
              "        vertical-align: middle;\n",
              "    }\n",
              "\n",
              "    .dataframe tbody tr th {\n",
              "        vertical-align: top;\n",
              "    }\n",
              "\n",
              "    .dataframe thead th {\n",
              "        text-align: right;\n",
              "    }\n",
              "</style>\n",
              "<table border=\"1\" class=\"dataframe\">\n",
              "  <thead>\n",
              "    <tr style=\"text-align: right;\">\n",
              "      <th>Rating</th>\n",
              "      <th>Above Target</th>\n",
              "      <th>At Target</th>\n",
              "      <th>Below Target</th>\n",
              "      <th>Significantly Above Target</th>\n",
              "      <th>Significantly Below Target</th>\n",
              "    </tr>\n",
              "    <tr>\n",
              "      <th>Career_Level</th>\n",
              "      <th></th>\n",
              "      <th></th>\n",
              "      <th></th>\n",
              "      <th></th>\n",
              "      <th></th>\n",
              "    </tr>\n",
              "  </thead>\n",
              "  <tbody>\n",
              "    <tr>\n",
              "      <th>1</th>\n",
              "      <td>20.0</td>\n",
              "      <td>61.0</td>\n",
              "      <td>16.0</td>\n",
              "      <td>3.0</td>\n",
              "      <td>1.0</td>\n",
              "    </tr>\n",
              "    <tr>\n",
              "      <th>2</th>\n",
              "      <td>32.0</td>\n",
              "      <td>47.0</td>\n",
              "      <td>11.0</td>\n",
              "      <td>10.0</td>\n",
              "      <td>NaN</td>\n",
              "    </tr>\n",
              "    <tr>\n",
              "      <th>3</th>\n",
              "      <td>41.0</td>\n",
              "      <td>41.0</td>\n",
              "      <td>6.0</td>\n",
              "      <td>12.0</td>\n",
              "      <td>NaN</td>\n",
              "    </tr>\n",
              "    <tr>\n",
              "      <th>4</th>\n",
              "      <td>56.0</td>\n",
              "      <td>43.0</td>\n",
              "      <td>NaN</td>\n",
              "      <td>1.0</td>\n",
              "      <td>NaN</td>\n",
              "    </tr>\n",
              "    <tr>\n",
              "      <th>5</th>\n",
              "      <td>67.0</td>\n",
              "      <td>31.0</td>\n",
              "      <td>NaN</td>\n",
              "      <td>2.0</td>\n",
              "      <td>NaN</td>\n",
              "    </tr>\n",
              "    <tr>\n",
              "      <th>6</th>\n",
              "      <td>79.0</td>\n",
              "      <td>20.0</td>\n",
              "      <td>NaN</td>\n",
              "      <td>1.0</td>\n",
              "      <td>NaN</td>\n",
              "    </tr>\n",
              "  </tbody>\n",
              "</table>\n",
              "</div>"
            ],
            "text/plain": [
              "Rating        Above Target  ...  Significantly Below Target\n",
              "Career_Level                ...                            \n",
              "1                     20.0  ...                         1.0\n",
              "2                     32.0  ...                         NaN\n",
              "3                     41.0  ...                         NaN\n",
              "4                     56.0  ...                         NaN\n",
              "5                     67.0  ...                         NaN\n",
              "6                     79.0  ...                         NaN\n",
              "\n",
              "[6 rows x 5 columns]"
            ]
          },
          "metadata": {
            "tags": []
          },
          "execution_count": 84
        }
      ]
    },
    {
      "cell_type": "code",
      "metadata": {
        "colab": {
          "base_uri": "https://localhost:8080/",
          "height": 342
        },
        "id": "6sh0LUfGgUhF",
        "outputId": "76757c68-6b0a-4e2d-8029-05f5bea562ce"
      },
      "source": [
        "fig = plt.figure(figsize = (16, 8))\r\n",
        "# set width of bar\r\n",
        "barWidth = 0.1\r\n",
        "# set height of bar\r\n",
        "bars1 = con_sector.to_numpy()[:,0]\r\n",
        "bars2 = con_sector.to_numpy()[:,1]\r\n",
        "bars3 = con_sector.to_numpy()[:,2]\r\n",
        "bars4 = con_sector.to_numpy()[:,3]\r\n",
        "bars5 = con_sector.to_numpy()[:,4]\r\n",
        "\r\n",
        "\r\n",
        "\r\n",
        "# Set position of bar on X axis\r\n",
        "r1 = np.arange(len(bars1))\r\n",
        "r2 = [x + barWidth for x in r1]\r\n",
        "r3 = [x + barWidth for x in r2]\r\n",
        "r4 = [x + barWidth for x in r3]\r\n",
        "r5 = [x + barWidth for x in r4]\r\n",
        "\r\n",
        "\r\n",
        "\r\n",
        "# Make the plot\r\n",
        "plt.bar(r1, bars1, color='red', width=barWidth, edgecolor='white', label=con_sector.columns.values[0])\r\n",
        "plt.bar(r2, bars2, color='green', width=barWidth, edgecolor='white', label=con_sector.columns.values[1])\r\n",
        "plt.bar(r3, bars3, color='blue', width=barWidth, edgecolor='white', label=con_sector.columns.values[2])\r\n",
        "plt.bar(r4, bars4, color='black', width=barWidth, edgecolor='white', label=con_sector.columns.values[3])\r\n",
        "plt.bar(r5, bars5, color='orange', width=barWidth, edgecolor='white', label=con_sector.columns.values[4])\r\n",
        "\r\n",
        "\r\n",
        " \r\n",
        "# Add xticks on the middle of the group bars\r\n",
        "#plt.xlabel('Country', fontweight='bold')\r\n",
        "plt.xticks([r + barWidth for r in range(len(bars1))], ('1','2','3','4','5',6))\r\n",
        " \r\n",
        "# Create legend & Show graphic\r\n",
        "plt.legend()\r\n",
        "plt.show()\r\n"
      ],
      "execution_count": null,
      "outputs": [
        {
          "output_type": "display_data",
          "data": {
            "image/png": "[encoded data removed]",
            "text/plain": [
              "<Figure size 1152x576 with 1 Axes>"
            ]
          },
          "metadata": {
            "tags": [],
            "needs_background": "light"
          }
        }
      ]
    },
    {
      "cell_type": "markdown",
      "metadata": {
        "id": "1d8CFgtClN9h"
      },
      "source": [
        "Employee Termination- Carrer Level Wise (Terminated Employees)"
      ]
    },
    {
      "cell_type": "code",
      "metadata": {
        "colab": {
          "base_uri": "https://localhost:8080/"
        },
        "id": "fl6nC_wVgUeY",
        "outputId": "9cce8828-d3e6-43b9-b864-93a285170792"
      },
      "source": [
        "data_inactive = pd.notnull(data[\"Termination_Date\"])\r\n",
        "data_inactive = data[data_inactive]\r\n",
        "TerminationLevel_cnt =np.round((data_inactive['Career_Level'].value_counts(normalize=True)* 100 ))\r\n",
        "TerminationLevel_cnt"
      ],
      "execution_count": null,
      "outputs": [
        {
          "output_type": "execute_result",
          "data": {
            "text/plain": [
              "1    33.0\n",
              "2    27.0\n",
              "3    23.0\n",
              "4    11.0\n",
              "5     4.0\n",
              "6     2.0\n",
              "Name: Career_Level, dtype: float64"
            ]
          },
          "metadata": {
            "tags": []
          },
          "execution_count": 86
        }
      ]
    },
    {
      "cell_type": "code",
      "metadata": {
        "colab": {
          "base_uri": "https://localhost:8080/",
          "height": 350
        },
        "id": "ZcEV10HHgUbW",
        "outputId": "fd8e6cc2-7462-46fd-e639-89078c90fc6c"
      },
      "source": [
        "fig = plt.figure(figsize = (10, 5)) \r\n",
        "plt.bar(TerminationLevel_cnt.keys().values, TerminationLevel_cnt.to_numpy(), color ='red',  \r\n",
        "        width = 0.4) \r\n",
        "plt.xlabel(\"CareerLevel\") \r\n",
        "plt.ylabel(\"% of Employee\") \r\n",
        "plt.title(\"Employee Termination- Career Level Wise\") \r\n",
        "plt.show()"
      ],
      "execution_count": null,
      "outputs": [
        {
          "output_type": "display_data",
          "data": {
            "image/png": "[encoded data removed]",
            "text/plain": [
              "<Figure size 720x360 with 1 Axes>"
            ]
          },
          "metadata": {
            "tags": [],
            "needs_background": "light"
          }
        }
      ]
    },
    {
      "cell_type": "code",
      "metadata": {
        "colab": {
          "base_uri": "https://localhost:8080/",
          "height": 271
        },
        "id": "2_VuJUM1gUYO",
        "outputId": "1da418c9-cfa9-4a04-fdf9-545d934422cb"
      },
      "source": [
        "f = lambda x : np.round(x/x.sum() * 100)\r\n",
        "con_sector = data_inactive.groupby(['Career_Level', 'Rating'])['Career_Level'].count().unstack().apply(f, axis=1)\r\n",
        "con_sector"
      ],
      "execution_count": null,
      "outputs": [
        {
          "output_type": "execute_result",
          "data": {
            "text/html": [
              "<div>\n",
              "<style scoped>\n",
              "    .dataframe tbody tr th:only-of-type {\n",
              "        vertical-align: middle;\n",
              "    }\n",
              "\n",
              "    .dataframe tbody tr th {\n",
              "        vertical-align: top;\n",
              "    }\n",
              "\n",
              "    .dataframe thead th {\n",
              "        text-align: right;\n",
              "    }\n",
              "</style>\n",
              "<table border=\"1\" class=\"dataframe\">\n",
              "  <thead>\n",
              "    <tr style=\"text-align: right;\">\n",
              "      <th>Rating</th>\n",
              "      <th>Above Target</th>\n",
              "      <th>At Target</th>\n",
              "      <th>Below Target</th>\n",
              "      <th>Significantly Above Target</th>\n",
              "      <th>Significantly Below Target</th>\n",
              "    </tr>\n",
              "    <tr>\n",
              "      <th>Career_Level</th>\n",
              "      <th></th>\n",
              "      <th></th>\n",
              "      <th></th>\n",
              "      <th></th>\n",
              "      <th></th>\n",
              "    </tr>\n",
              "  </thead>\n",
              "  <tbody>\n",
              "    <tr>\n",
              "      <th>1</th>\n",
              "      <td>29.0</td>\n",
              "      <td>44.0</td>\n",
              "      <td>19.0</td>\n",
              "      <td>4.0</td>\n",
              "      <td>4.0</td>\n",
              "    </tr>\n",
              "    <tr>\n",
              "      <th>2</th>\n",
              "      <td>39.0</td>\n",
              "      <td>36.0</td>\n",
              "      <td>10.0</td>\n",
              "      <td>13.0</td>\n",
              "      <td>2.0</td>\n",
              "    </tr>\n",
              "    <tr>\n",
              "      <th>3</th>\n",
              "      <td>41.0</td>\n",
              "      <td>35.0</td>\n",
              "      <td>4.0</td>\n",
              "      <td>19.0</td>\n",
              "      <td>NaN</td>\n",
              "    </tr>\n",
              "    <tr>\n",
              "      <th>4</th>\n",
              "      <td>86.0</td>\n",
              "      <td>NaN</td>\n",
              "      <td>NaN</td>\n",
              "      <td>14.0</td>\n",
              "      <td>NaN</td>\n",
              "    </tr>\n",
              "    <tr>\n",
              "      <th>5</th>\n",
              "      <td>78.0</td>\n",
              "      <td>NaN</td>\n",
              "      <td>NaN</td>\n",
              "      <td>22.0</td>\n",
              "      <td>NaN</td>\n",
              "    </tr>\n",
              "    <tr>\n",
              "      <th>6</th>\n",
              "      <td>62.0</td>\n",
              "      <td>NaN</td>\n",
              "      <td>NaN</td>\n",
              "      <td>38.0</td>\n",
              "      <td>NaN</td>\n",
              "    </tr>\n",
              "  </tbody>\n",
              "</table>\n",
              "</div>"
            ],
            "text/plain": [
              "Rating        Above Target  ...  Significantly Below Target\n",
              "Career_Level                ...                            \n",
              "1                     29.0  ...                         4.0\n",
              "2                     39.0  ...                         2.0\n",
              "3                     41.0  ...                         NaN\n",
              "4                     86.0  ...                         NaN\n",
              "5                     78.0  ...                         NaN\n",
              "6                     62.0  ...                         NaN\n",
              "\n",
              "[6 rows x 5 columns]"
            ]
          },
          "metadata": {
            "tags": []
          },
          "execution_count": 88
        }
      ]
    },
    {
      "cell_type": "code",
      "metadata": {
        "colab": {
          "base_uri": "https://localhost:8080/",
          "height": 342
        },
        "id": "MRuEzMC_icNG",
        "outputId": "ba703a78-7bc2-4df6-b13f-38963331249b"
      },
      "source": [
        "fig = plt.figure(figsize = (16, 8))\r\n",
        "# set width of bar\r\n",
        "barWidth = 0.1\r\n",
        "# set height of bar\r\n",
        "bars1 = con_sector.to_numpy()[:,0]\r\n",
        "bars2 = con_sector.to_numpy()[:,1]\r\n",
        "bars3 = con_sector.to_numpy()[:,2]\r\n",
        "bars4 = con_sector.to_numpy()[:,3]\r\n",
        "bars5 = con_sector.to_numpy()[:,4]\r\n",
        "\r\n",
        "\r\n",
        "\r\n",
        "# Set position of bar on X axis\r\n",
        "r1 = np.arange(len(bars1))\r\n",
        "r2 = [x + barWidth for x in r1]\r\n",
        "r3 = [x + barWidth for x in r2]\r\n",
        "r4 = [x + barWidth for x in r3]\r\n",
        "r5 = [x + barWidth for x in r4]\r\n",
        "\r\n",
        "\r\n",
        "\r\n",
        "# Make the plot\r\n",
        "plt.bar(r1, bars1, color='red', width=barWidth, edgecolor='white', label=con_sector.columns.values[0])\r\n",
        "plt.bar(r2, bars2, color='green', width=barWidth, edgecolor='white', label=con_sector.columns.values[1])\r\n",
        "plt.bar(r3, bars3, color='blue', width=barWidth, edgecolor='white', label=con_sector.columns.values[2])\r\n",
        "plt.bar(r4, bars4, color='black', width=barWidth, edgecolor='white', label=con_sector.columns.values[3])\r\n",
        "plt.bar(r5, bars5, color='orange', width=barWidth, edgecolor='white', label=con_sector.columns.values[4])\r\n",
        "\r\n",
        "\r\n",
        " \r\n",
        "# Add xticks on the middle of the group bars\r\n",
        "#plt.xlabel('Country', fontweight='bold')\r\n",
        "plt.xticks([r + barWidth for r in range(len(bars1))], ('1','2','3','4','5',6))\r\n",
        " \r\n",
        "# Create legend & Show graphic\r\n",
        "plt.legend()\r\n",
        "plt.show()"
      ],
      "execution_count": null,
      "outputs": [
        {
          "output_type": "display_data",
          "data": {
            "image/png": "[encoded data removed]",
            "text/plain": [
              "<Figure size 1152x576 with 1 Axes>"
            ]
          },
          "metadata": {
            "tags": [],
            "needs_background": "light"
          }
        }
      ]
    },
    {
      "cell_type": "code",
      "metadata": {
        "colab": {
          "base_uri": "https://localhost:8080/"
        },
        "id": "508U9z45icK4",
        "outputId": "2f9d5c2a-b33f-4be7-eb7e-57c0060e5caa"
      },
      "source": [
        "TerminationType_cnt =np.round((data_inactive['Termination_Type'].value_counts(normalize=True)* 100 ))\r\n",
        "TerminationType_cnt"
      ],
      "execution_count": null,
      "outputs": [
        {
          "output_type": "execute_result",
          "data": {
            "text/plain": [
              "Voluntary Exit      79.0\n",
              "Involuntary Exit    21.0\n",
              "Name: Termination_Type, dtype: float64"
            ]
          },
          "metadata": {
            "tags": []
          },
          "execution_count": 90
        }
      ]
    },
    {
      "cell_type": "code",
      "metadata": {
        "colab": {
          "base_uri": "https://localhost:8080/",
          "height": 350
        },
        "id": "wqwg_OCVicIj",
        "outputId": "83c11a2e-0567-4f5e-fee4-744ea4c37565"
      },
      "source": [
        "fig = plt.figure(figsize = (10, 5)) \r\n",
        "plt.bar(TerminationType_cnt.keys().values, TerminationType_cnt.to_numpy(), color ='red',  \r\n",
        "        width = 0.4) \r\n",
        "plt.xlabel(\"Termination Type\") \r\n",
        "plt.ylabel(\"% of Employee\") \r\n",
        "plt.title(\"Employee Termination- Type Wise\") \r\n",
        "plt.show()"
      ],
      "execution_count": null,
      "outputs": [
        {
          "output_type": "display_data",
          "data": {
            "image/png": "[encoded data removed]",
            "text/plain": [
              "<Figure size 720x360 with 1 Axes>"
            ]
          },
          "metadata": {
            "tags": [],
            "needs_background": "light"
          }
        }
      ]
    },
    {
      "cell_type": "code",
      "metadata": {
        "colab": {
          "base_uri": "https://localhost:8080/"
        },
        "id": "0CELbVrWicFu",
        "outputId": "4025cac8-8d03-4dc1-e74f-62727e92d098"
      },
      "source": [
        "TerminationInFY_cnt =np.round((data['TerminatedIn_FY'].value_counts(normalize=True)* 100 ))\r\n",
        "TerminationInFY_cnt"
      ],
      "execution_count": null,
      "outputs": [
        {
          "output_type": "execute_result",
          "data": {
            "text/plain": [
              "No     94.0\n",
              "Yes     6.0\n",
              "Name: TerminatedIn_FY, dtype: float64"
            ]
          },
          "metadata": {
            "tags": []
          },
          "execution_count": 92
        }
      ]
    },
    {
      "cell_type": "code",
      "metadata": {
        "colab": {
          "base_uri": "https://localhost:8080/",
          "height": 254
        },
        "id": "OOfURBQ2icAf",
        "outputId": "9224e0e5-6c49-4b7b-d6e4-eff11ef91696"
      },
      "source": [
        "f = lambda x : np.round(x/x.sum() * 100)\r\n",
        "con_term = data.groupby(['Career_Level', 'TerminatedIn_FY'])['TerminatedIn_FY'].count().unstack().apply(f, axis=1)\r\n",
        "con_term"
      ],
      "execution_count": null,
      "outputs": [
        {
          "output_type": "execute_result",
          "data": {
            "text/html": [
              "<div>\n",
              "<style scoped>\n",
              "    .dataframe tbody tr th:only-of-type {\n",
              "        vertical-align: middle;\n",
              "    }\n",
              "\n",
              "    .dataframe tbody tr th {\n",
              "        vertical-align: top;\n",
              "    }\n",
              "\n",
              "    .dataframe thead th {\n",
              "        text-align: right;\n",
              "    }\n",
              "</style>\n",
              "<table border=\"1\" class=\"dataframe\">\n",
              "  <thead>\n",
              "    <tr style=\"text-align: right;\">\n",
              "      <th>TerminatedIn_FY</th>\n",
              "      <th>No</th>\n",
              "      <th>Yes</th>\n",
              "    </tr>\n",
              "    <tr>\n",
              "      <th>Career_Level</th>\n",
              "      <th></th>\n",
              "      <th></th>\n",
              "    </tr>\n",
              "  </thead>\n",
              "  <tbody>\n",
              "    <tr>\n",
              "      <th>1</th>\n",
              "      <td>87.0</td>\n",
              "      <td>13.0</td>\n",
              "    </tr>\n",
              "    <tr>\n",
              "      <th>2</th>\n",
              "      <td>91.0</td>\n",
              "      <td>9.0</td>\n",
              "    </tr>\n",
              "    <tr>\n",
              "      <th>3</th>\n",
              "      <td>93.0</td>\n",
              "      <td>7.0</td>\n",
              "    </tr>\n",
              "    <tr>\n",
              "      <th>4</th>\n",
              "      <td>96.0</td>\n",
              "      <td>4.0</td>\n",
              "    </tr>\n",
              "    <tr>\n",
              "      <th>5</th>\n",
              "      <td>98.0</td>\n",
              "      <td>2.0</td>\n",
              "    </tr>\n",
              "    <tr>\n",
              "      <th>6</th>\n",
              "      <td>99.0</td>\n",
              "      <td>1.0</td>\n",
              "    </tr>\n",
              "  </tbody>\n",
              "</table>\n",
              "</div>"
            ],
            "text/plain": [
              "TerminatedIn_FY    No   Yes\n",
              "Career_Level               \n",
              "1                87.0  13.0\n",
              "2                91.0   9.0\n",
              "3                93.0   7.0\n",
              "4                96.0   4.0\n",
              "5                98.0   2.0\n",
              "6                99.0   1.0"
            ]
          },
          "metadata": {
            "tags": []
          },
          "execution_count": 93
        }
      ]
    },
    {
      "cell_type": "code",
      "metadata": {
        "colab": {
          "base_uri": "https://localhost:8080/"
        },
        "id": "adMDOWO5ib9m",
        "outputId": "d4ceb907-01f2-4b98-c323-564c82e1f69a"
      },
      "source": [
        "PromotedInFY_cnt =np.round((data['PromotedIn_FY'].value_counts(normalize=True)* 100 ))\r\n",
        "PromotedInFY_cnt\r\n"
      ],
      "execution_count": null,
      "outputs": [
        {
          "output_type": "execute_result",
          "data": {
            "text/plain": [
              "No     82.0\n",
              "Yes    18.0\n",
              "Name: PromotedIn_FY, dtype: float64"
            ]
          },
          "metadata": {
            "tags": []
          },
          "execution_count": 94
        }
      ]
    },
    {
      "cell_type": "code",
      "metadata": {
        "colab": {
          "base_uri": "https://localhost:8080/",
          "height": 225
        },
        "id": "tqlQJMzskc4t",
        "outputId": "72d6cc2f-7b64-4d22-c205-97c73ab30a85"
      },
      "source": [
        "f = lambda x : np.round(x/x.sum() * 100)\r\n",
        "con_prom = data.groupby(['Career_Level', 'PromotedIn_FY'])['PromotedIn_FY'].count().unstack().apply(f, axis=1)\r\n",
        "con_prom"
      ],
      "execution_count": null,
      "outputs": [
        {
          "output_type": "execute_result",
          "data": {
            "text/html": [
              "<div>\n",
              "<style scoped>\n",
              "    .dataframe tbody tr th:only-of-type {\n",
              "        vertical-align: middle;\n",
              "    }\n",
              "\n",
              "    .dataframe tbody tr th {\n",
              "        vertical-align: top;\n",
              "    }\n",
              "\n",
              "    .dataframe thead th {\n",
              "        text-align: right;\n",
              "    }\n",
              "</style>\n",
              "<table border=\"1\" class=\"dataframe\">\n",
              "  <thead>\n",
              "    <tr style=\"text-align: right;\">\n",
              "      <th>PromotedIn_FY</th>\n",
              "      <th>No</th>\n",
              "      <th>Yes</th>\n",
              "    </tr>\n",
              "    <tr>\n",
              "      <th>Career_Level</th>\n",
              "      <th></th>\n",
              "      <th></th>\n",
              "    </tr>\n",
              "  </thead>\n",
              "  <tbody>\n",
              "    <tr>\n",
              "      <th>2</th>\n",
              "      <td>70.0</td>\n",
              "      <td>30.0</td>\n",
              "    </tr>\n",
              "    <tr>\n",
              "      <th>3</th>\n",
              "      <td>78.0</td>\n",
              "      <td>22.0</td>\n",
              "    </tr>\n",
              "    <tr>\n",
              "      <th>4</th>\n",
              "      <td>85.0</td>\n",
              "      <td>15.0</td>\n",
              "    </tr>\n",
              "    <tr>\n",
              "      <th>5</th>\n",
              "      <td>88.0</td>\n",
              "      <td>12.0</td>\n",
              "    </tr>\n",
              "    <tr>\n",
              "      <th>6</th>\n",
              "      <td>94.0</td>\n",
              "      <td>6.0</td>\n",
              "    </tr>\n",
              "  </tbody>\n",
              "</table>\n",
              "</div>"
            ],
            "text/plain": [
              "PromotedIn_FY    No   Yes\n",
              "Career_Level             \n",
              "2              70.0  30.0\n",
              "3              78.0  22.0\n",
              "4              85.0  15.0\n",
              "5              88.0  12.0\n",
              "6              94.0   6.0"
            ]
          },
          "metadata": {
            "tags": []
          },
          "execution_count": 95
        }
      ]
    },
    {
      "cell_type": "code",
      "metadata": {
        "colab": {
          "base_uri": "https://localhost:8080/",
          "height": 136
        },
        "id": "qQRBxfg_kcr-",
        "outputId": "771c0f38-6e28-44fa-9929-8c4f12dfb29d"
      },
      "source": [
        "f = lambda x : np.round(x/x.sum() * 100)\r\n",
        "con_p_term = data.groupby(['PromotedIn_FY', 'TerminatedIn_FY'])['TerminatedIn_FY'].count().unstack().apply(f, axis=1)\r\n",
        "con_p_term"
      ],
      "execution_count": null,
      "outputs": [
        {
          "output_type": "execute_result",
          "data": {
            "text/html": [
              "<div>\n",
              "<style scoped>\n",
              "    .dataframe tbody tr th:only-of-type {\n",
              "        vertical-align: middle;\n",
              "    }\n",
              "\n",
              "    .dataframe tbody tr th {\n",
              "        vertical-align: top;\n",
              "    }\n",
              "\n",
              "    .dataframe thead th {\n",
              "        text-align: right;\n",
              "    }\n",
              "</style>\n",
              "<table border=\"1\" class=\"dataframe\">\n",
              "  <thead>\n",
              "    <tr style=\"text-align: right;\">\n",
              "      <th>TerminatedIn_FY</th>\n",
              "      <th>No</th>\n",
              "      <th>Yes</th>\n",
              "    </tr>\n",
              "    <tr>\n",
              "      <th>PromotedIn_FY</th>\n",
              "      <th></th>\n",
              "      <th></th>\n",
              "    </tr>\n",
              "  </thead>\n",
              "  <tbody>\n",
              "    <tr>\n",
              "      <th>No</th>\n",
              "      <td>94.0</td>\n",
              "      <td>6.0</td>\n",
              "    </tr>\n",
              "    <tr>\n",
              "      <th>Yes</th>\n",
              "      <td>100.0</td>\n",
              "      <td>NaN</td>\n",
              "    </tr>\n",
              "  </tbody>\n",
              "</table>\n",
              "</div>"
            ],
            "text/plain": [
              "TerminatedIn_FY     No  Yes\n",
              "PromotedIn_FY              \n",
              "No                94.0  6.0\n",
              "Yes              100.0  NaN"
            ]
          },
          "metadata": {
            "tags": []
          },
          "execution_count": 96
        }
      ]
    },
    {
      "cell_type": "code",
      "metadata": {
        "colab": {
          "base_uri": "https://localhost:8080/",
          "height": 153
        },
        "id": "bGaeG8yxk0di",
        "outputId": "248c765c-9279-4e1e-945a-17c261cb770c"
      },
      "source": [
        "f = lambda x : np.round(x/x.sum() * 100)\r\n",
        "con_p_term = data.groupby(['PromotedIn_FY', 'Rating'])['PromotedIn_FY'].count().unstack().apply(f, axis=1)\r\n",
        "con_p_term"
      ],
      "execution_count": null,
      "outputs": [
        {
          "output_type": "execute_result",
          "data": {
            "text/html": [
              "<div>\n",
              "<style scoped>\n",
              "    .dataframe tbody tr th:only-of-type {\n",
              "        vertical-align: middle;\n",
              "    }\n",
              "\n",
              "    .dataframe tbody tr th {\n",
              "        vertical-align: top;\n",
              "    }\n",
              "\n",
              "    .dataframe thead th {\n",
              "        text-align: right;\n",
              "    }\n",
              "</style>\n",
              "<table border=\"1\" class=\"dataframe\">\n",
              "  <thead>\n",
              "    <tr style=\"text-align: right;\">\n",
              "      <th>Rating</th>\n",
              "      <th>Above Target</th>\n",
              "      <th>At Target</th>\n",
              "      <th>Below Target</th>\n",
              "      <th>Significantly Above Target</th>\n",
              "      <th>Significantly Below Target</th>\n",
              "    </tr>\n",
              "    <tr>\n",
              "      <th>PromotedIn_FY</th>\n",
              "      <th></th>\n",
              "      <th></th>\n",
              "      <th></th>\n",
              "      <th></th>\n",
              "      <th></th>\n",
              "    </tr>\n",
              "  </thead>\n",
              "  <tbody>\n",
              "    <tr>\n",
              "      <th>No</th>\n",
              "      <td>51.0</td>\n",
              "      <td>41.0</td>\n",
              "      <td>5.0</td>\n",
              "      <td>4.0</td>\n",
              "      <td>0.0</td>\n",
              "    </tr>\n",
              "    <tr>\n",
              "      <th>Yes</th>\n",
              "      <td>61.0</td>\n",
              "      <td>22.0</td>\n",
              "      <td>1.0</td>\n",
              "      <td>16.0</td>\n",
              "      <td>NaN</td>\n",
              "    </tr>\n",
              "  </tbody>\n",
              "</table>\n",
              "</div>"
            ],
            "text/plain": [
              "Rating         Above Target  ...  Significantly Below Target\n",
              "PromotedIn_FY                ...                            \n",
              "No                     51.0  ...                         0.0\n",
              "Yes                    61.0  ...                         NaN\n",
              "\n",
              "[2 rows x 5 columns]"
            ]
          },
          "metadata": {
            "tags": []
          },
          "execution_count": 97
        }
      ]
    },
    {
      "cell_type": "code",
      "metadata": {
        "colab": {
          "base_uri": "https://localhost:8080/",
          "height": 153
        },
        "id": "nNhGrn6rk0aU",
        "outputId": "62f18bde-e6c6-4890-83e9-fb3bbdbf8d68"
      },
      "source": [
        "f = lambda x : np.round(x/x.sum() * 100)\r\n",
        "con_p_term = data.groupby(['TerminatedIn_FY', 'Rating'])['TerminatedIn_FY'].count().unstack().apply(f, axis=1)\r\n",
        "con_p_term"
      ],
      "execution_count": null,
      "outputs": [
        {
          "output_type": "execute_result",
          "data": {
            "text/html": [
              "<div>\n",
              "<style scoped>\n",
              "    .dataframe tbody tr th:only-of-type {\n",
              "        vertical-align: middle;\n",
              "    }\n",
              "\n",
              "    .dataframe tbody tr th {\n",
              "        vertical-align: top;\n",
              "    }\n",
              "\n",
              "    .dataframe thead th {\n",
              "        text-align: right;\n",
              "    }\n",
              "</style>\n",
              "<table border=\"1\" class=\"dataframe\">\n",
              "  <thead>\n",
              "    <tr style=\"text-align: right;\">\n",
              "      <th>Rating</th>\n",
              "      <th>Above Target</th>\n",
              "      <th>At Target</th>\n",
              "      <th>Below Target</th>\n",
              "      <th>Significantly Above Target</th>\n",
              "      <th>Significantly Below Target</th>\n",
              "    </tr>\n",
              "    <tr>\n",
              "      <th>TerminatedIn_FY</th>\n",
              "      <th></th>\n",
              "      <th></th>\n",
              "      <th></th>\n",
              "      <th></th>\n",
              "      <th></th>\n",
              "    </tr>\n",
              "  </thead>\n",
              "  <tbody>\n",
              "    <tr>\n",
              "      <th>No</th>\n",
              "      <td>48.0</td>\n",
              "      <td>41.0</td>\n",
              "      <td>6.0</td>\n",
              "      <td>5.0</td>\n",
              "      <td>0.0</td>\n",
              "    </tr>\n",
              "    <tr>\n",
              "      <th>Yes</th>\n",
              "      <td>43.0</td>\n",
              "      <td>32.0</td>\n",
              "      <td>10.0</td>\n",
              "      <td>12.0</td>\n",
              "      <td>2.0</td>\n",
              "    </tr>\n",
              "  </tbody>\n",
              "</table>\n",
              "</div>"
            ],
            "text/plain": [
              "Rating           Above Target  ...  Significantly Below Target\n",
              "TerminatedIn_FY                ...                            \n",
              "No                       48.0  ...                         0.0\n",
              "Yes                      43.0  ...                         2.0\n",
              "\n",
              "[2 rows x 5 columns]"
            ]
          },
          "metadata": {
            "tags": []
          },
          "execution_count": 98
        }
      ]
    },
    {
      "cell_type": "code",
      "metadata": {
        "colab": {
          "base_uri": "https://localhost:8080/",
          "height": 225
        },
        "id": "_cQe0qXok0XY",
        "outputId": "ab5a491b-cdcc-40dd-9207-98cf803f9cc1"
      },
      "source": [
        "f = lambda x : np.round(x/x.sum() * 100)\r\n",
        "con_p_term = data.groupby(['TerminatedIn_FY', 'Rating',\"Termination_Type\"])['Rating'].count().unstack().apply(f, axis=1)\r\n",
        "con_p_term"
      ],
      "execution_count": null,
      "outputs": [
        {
          "output_type": "execute_result",
          "data": {
            "text/html": [
              "<div>\n",
              "<style scoped>\n",
              "    .dataframe tbody tr th:only-of-type {\n",
              "        vertical-align: middle;\n",
              "    }\n",
              "\n",
              "    .dataframe tbody tr th {\n",
              "        vertical-align: top;\n",
              "    }\n",
              "\n",
              "    .dataframe thead th {\n",
              "        text-align: right;\n",
              "    }\n",
              "</style>\n",
              "<table border=\"1\" class=\"dataframe\">\n",
              "  <thead>\n",
              "    <tr style=\"text-align: right;\">\n",
              "      <th></th>\n",
              "      <th>Termination_Type</th>\n",
              "      <th>Involuntary Exit</th>\n",
              "      <th>Voluntary Exit</th>\n",
              "    </tr>\n",
              "    <tr>\n",
              "      <th>TerminatedIn_FY</th>\n",
              "      <th>Rating</th>\n",
              "      <th></th>\n",
              "      <th></th>\n",
              "    </tr>\n",
              "  </thead>\n",
              "  <tbody>\n",
              "    <tr>\n",
              "      <th rowspan=\"5\" valign=\"top\">Yes</th>\n",
              "      <th>Above Target</th>\n",
              "      <td>8.0</td>\n",
              "      <td>92.0</td>\n",
              "    </tr>\n",
              "    <tr>\n",
              "      <th>At Target</th>\n",
              "      <td>23.0</td>\n",
              "      <td>77.0</td>\n",
              "    </tr>\n",
              "    <tr>\n",
              "      <th>Below Target</th>\n",
              "      <td>78.0</td>\n",
              "      <td>22.0</td>\n",
              "    </tr>\n",
              "    <tr>\n",
              "      <th>Significantly Above Target</th>\n",
              "      <td>NaN</td>\n",
              "      <td>100.0</td>\n",
              "    </tr>\n",
              "    <tr>\n",
              "      <th>Significantly Below Target</th>\n",
              "      <td>100.0</td>\n",
              "      <td>NaN</td>\n",
              "    </tr>\n",
              "  </tbody>\n",
              "</table>\n",
              "</div>"
            ],
            "text/plain": [
              "Termination_Type                            Involuntary Exit  Voluntary Exit\n",
              "TerminatedIn_FY Rating                                                      \n",
              "Yes             Above Target                             8.0            92.0\n",
              "                At Target                               23.0            77.0\n",
              "                Below Target                            78.0            22.0\n",
              "                Significantly Above Target               NaN           100.0\n",
              "                Significantly Below Target             100.0             NaN"
            ]
          },
          "metadata": {
            "tags": []
          },
          "execution_count": 99
        }
      ]
    },
    {
      "cell_type": "code",
      "metadata": {
        "colab": {
          "base_uri": "https://localhost:8080/"
        },
        "id": "BErp73RnMOD6",
        "outputId": "bcfcb8fd-578a-439c-a5a3-0dbc0a5420fd"
      },
      "source": [
        "per_Emp_status= np.round((data[\"Employee_Status\"].value_counts(normalize=True)*100))\r\n",
        "per_Emp_status"
      ],
      "execution_count": null,
      "outputs": [
        {
          "output_type": "execute_result",
          "data": {
            "text/plain": [
              "Active        94.0\n",
              "Terminated     6.0\n",
              "Name: Employee_Status, dtype: float64"
            ]
          },
          "metadata": {
            "tags": []
          },
          "execution_count": 100
        }
      ]
    },
    {
      "cell_type": "code",
      "metadata": {
        "colab": {
          "base_uri": "https://localhost:8080/",
          "height": 351
        },
        "id": "gOUTjevQMOBS",
        "outputId": "961a1bbd-8bf8-4416-edd4-46d79bce786b"
      },
      "source": [
        "fig = plt.figure(figsize = (5, 5)) \r\n",
        "plt.bar(per_Emp_status.keys().values, per_Emp_status.to_numpy(), color ='fuchsia', width = 0.4) \r\n",
        "plt.xlabel(\"Employee_Status\") \r\n",
        "plt.ylabel(\"% of Employee\") \r\n",
        "plt.title(\"Employee Distribution- Employee Status Wise\") \r\n",
        "plt.show()"
      ],
      "execution_count": null,
      "outputs": [
        {
          "output_type": "display_data",
          "data": {
            "image/png": "[encoded data removed]",
            "text/plain": [
              "<Figure size 360x360 with 1 Axes>"
            ]
          },
          "metadata": {
            "tags": [],
            "needs_background": "light"
          }
        }
      ]
    },
    {
      "cell_type": "code",
      "metadata": {
        "colab": {
          "base_uri": "https://localhost:8080/"
        },
        "id": "VoLPIH_AMN7a",
        "outputId": "1566de58-3a01-4770-96c6-9b79724bb7d4"
      },
      "source": [
        "per_rating= np.round((data[\"Rating\"].value_counts(normalize=True)*100))\r\n",
        "per_rating"
      ],
      "execution_count": null,
      "outputs": [
        {
          "output_type": "execute_result",
          "data": {
            "text/plain": [
              "Above Target                  47.0\n",
              "At Target                     41.0\n",
              "Below Target                   6.0\n",
              "Significantly Above Target     6.0\n",
              "Significantly Below Target     0.0\n",
              "Name: Rating, dtype: float64"
            ]
          },
          "metadata": {
            "tags": []
          },
          "execution_count": 102
        }
      ]
    },
    {
      "cell_type": "code",
      "metadata": {
        "colab": {
          "base_uri": "https://localhost:8080/",
          "height": 259
        },
        "id": "C5Ax9cq9MN4j",
        "outputId": "902d29ec-d9cf-4309-ebcf-fdc90909fd51"
      },
      "source": [
        "fig = plt.figure(figsize = (15, 5)) \r\n",
        "plt.bar(per_rating.keys().values, per_rating.to_numpy(), color ='coral', width = 0.4) \r\n",
        "plt.xlabel(\"Ratings\") \r\n",
        "plt.ylabel(\"% of Employee\") \r\n",
        "plt.title(\"Employee Distribution- Employee Rating Wise\") \r\n",
        "plt.show()"
      ],
      "execution_count": null,
      "outputs": [
        {
          "output_type": "display_data",
          "data": {
            "image/png": "[encoded data removed]",
            "text/plain": [
              "<Figure size 1080x360 with 1 Axes>"
            ]
          },
          "metadata": {
            "tags": [],
            "needs_background": "light"
          }
        }
      ]
    },
    {
      "cell_type": "code",
      "metadata": {
        "colab": {
          "base_uri": "https://localhost:8080/"
        },
        "id": "l7g_ssg_R8Mx",
        "outputId": "9cc09233-4da5-4b50-a45d-b9c1aedc14df"
      },
      "source": [
        "per_edu= np.round((data[\"Education\"].value_counts(normalize=True)*100))\r\n",
        "per_edu"
      ],
      "execution_count": null,
      "outputs": [
        {
          "output_type": "execute_result",
          "data": {
            "text/plain": [
              "BA/BS    58.0\n",
              "MA/MS    20.0\n",
              "MBA      19.0\n",
              "PhD       1.0\n",
              "JD        1.0\n",
              "Name: Education, dtype: float64"
            ]
          },
          "metadata": {
            "tags": []
          },
          "execution_count": 104
        }
      ]
    },
    {
      "cell_type": "code",
      "metadata": {
        "colab": {
          "base_uri": "https://localhost:8080/",
          "height": 350
        },
        "id": "UAT0cPuMR8KP",
        "outputId": "51ca33c1-6f8b-422f-ca64-09bed62119af"
      },
      "source": [
        "fig = plt.figure(figsize = (10, 5)) \r\n",
        "plt.bar(per_edu.keys().values, per_edu.to_numpy(), color ='sienna', width = 0.4) \r\n",
        "plt.xlabel(\"Education\") \r\n",
        "plt.ylabel(\"% of Employee\") \r\n",
        "plt.title(\"Employee Distribution- Employee Education Wise\") \r\n",
        "plt.show()"
      ],
      "execution_count": null,
      "outputs": [
        {
          "output_type": "display_data",
          "data": {
            "image/png": "[encoded data removed]",
            "text/plain": [
              "<Figure size 720x360 with 1 Axes>"
            ]
          },
          "metadata": {
            "tags": [],
            "needs_background": "light"
          }
        }
      ]
    },
    {
      "cell_type": "code",
      "metadata": {
        "colab": {
          "base_uri": "https://localhost:8080/",
          "height": 265
        },
        "id": "OiUbhGHnR8CL",
        "outputId": "e572ce46-6c8f-44cb-d93e-5d22ed7d5f8d"
      },
      "source": [
        "data['Age'].hist(bins =20);"
      ],
      "execution_count": null,
      "outputs": [
        {
          "output_type": "display_data",
          "data": {
            "image/png": "[encoded data removed]",
            "text/plain": [
              "<Figure size 432x288 with 1 Axes>"
            ]
          },
          "metadata": {
            "tags": [],
            "needs_background": "light"
          }
        }
      ]
    },
    {
      "cell_type": "code",
      "metadata": {
        "id": "_3yW9o7CJyAg",
        "colab": {
          "base_uri": "https://localhost:8080/",
          "height": 114
        },
        "outputId": "c797478c-3865-48d9-bf85-c09b9736c5f8"
      },
      "source": [
        "data[data[\"Age\"]>100 ]"
      ],
      "execution_count": null,
      "outputs": [
        {
          "output_type": "execute_result",
          "data": {
            "text/html": [
              "<div>\n",
              "<style scoped>\n",
              "    .dataframe tbody tr th:only-of-type {\n",
              "        vertical-align: middle;\n",
              "    }\n",
              "\n",
              "    .dataframe tbody tr th {\n",
              "        vertical-align: top;\n",
              "    }\n",
              "\n",
              "    .dataframe thead th {\n",
              "        text-align: right;\n",
              "    }\n",
              "</style>\n",
              "<table border=\"1\" class=\"dataframe\">\n",
              "  <thead>\n",
              "    <tr style=\"text-align: right;\">\n",
              "      <th></th>\n",
              "      <th>Employee_ID</th>\n",
              "      <th>DataEDate</th>\n",
              "      <th>Employee_Status</th>\n",
              "      <th>Career_Level</th>\n",
              "      <th>Hired_Date</th>\n",
              "      <th>HiredIn_FY</th>\n",
              "      <th>Termination_Date</th>\n",
              "      <th>TerminatedIn_FY</th>\n",
              "      <th>Termination_Type</th>\n",
              "      <th>Job_StartDate</th>\n",
              "      <th>PromotedIn_FY</th>\n",
              "      <th>Birth_Date</th>\n",
              "      <th>Age</th>\n",
              "      <th>Tenure</th>\n",
              "      <th>TimeIn_Job</th>\n",
              "      <th>Rating</th>\n",
              "      <th>Education</th>\n",
              "    </tr>\n",
              "  </thead>\n",
              "  <tbody>\n",
              "    <tr>\n",
              "      <th>4322</th>\n",
              "      <td>A4323</td>\n",
              "      <td>2016-12-31</td>\n",
              "      <td>Active</td>\n",
              "      <td>5</td>\n",
              "      <td>1996-05-26</td>\n",
              "      <td>No</td>\n",
              "      <td>NaT</td>\n",
              "      <td>No</td>\n",
              "      <td>NaN</td>\n",
              "      <td>2009-07-08</td>\n",
              "      <td>No</td>\n",
              "      <td>1900-01-09</td>\n",
              "      <td>117.1</td>\n",
              "      <td>20.6</td>\n",
              "      <td>7.5</td>\n",
              "      <td>Above Target</td>\n",
              "      <td>MA/MS</td>\n",
              "    </tr>\n",
              "  </tbody>\n",
              "</table>\n",
              "</div>"
            ],
            "text/plain": [
              "     Employee_ID  DataEDate Employee_Status  ...  TimeIn_Job        Rating Education\n",
              "4322       A4323 2016-12-31          Active  ...         7.5  Above Target     MA/MS\n",
              "\n",
              "[1 rows x 17 columns]"
            ]
          },
          "metadata": {
            "tags": []
          },
          "execution_count": 107
        }
      ]
    },
    {
      "cell_type": "code",
      "metadata": {
        "id": "XymdjSx5MQup",
        "colab": {
          "base_uri": "https://localhost:8080/",
          "height": 114
        },
        "outputId": "4d82ed50-9838-4ab3-9902-17103e9c94cf"
      },
      "source": [
        "data[data[\"Age\"]<15]"
      ],
      "execution_count": null,
      "outputs": [
        {
          "output_type": "execute_result",
          "data": {
            "text/html": [
              "<div>\n",
              "<style scoped>\n",
              "    .dataframe tbody tr th:only-of-type {\n",
              "        vertical-align: middle;\n",
              "    }\n",
              "\n",
              "    .dataframe tbody tr th {\n",
              "        vertical-align: top;\n",
              "    }\n",
              "\n",
              "    .dataframe thead th {\n",
              "        text-align: right;\n",
              "    }\n",
              "</style>\n",
              "<table border=\"1\" class=\"dataframe\">\n",
              "  <thead>\n",
              "    <tr style=\"text-align: right;\">\n",
              "      <th></th>\n",
              "      <th>Employee_ID</th>\n",
              "      <th>DataEDate</th>\n",
              "      <th>Employee_Status</th>\n",
              "      <th>Career_Level</th>\n",
              "      <th>Hired_Date</th>\n",
              "      <th>HiredIn_FY</th>\n",
              "      <th>Termination_Date</th>\n",
              "      <th>TerminatedIn_FY</th>\n",
              "      <th>Termination_Type</th>\n",
              "      <th>Job_StartDate</th>\n",
              "      <th>PromotedIn_FY</th>\n",
              "      <th>Birth_Date</th>\n",
              "      <th>Age</th>\n",
              "      <th>Tenure</th>\n",
              "      <th>TimeIn_Job</th>\n",
              "      <th>Rating</th>\n",
              "      <th>Education</th>\n",
              "    </tr>\n",
              "  </thead>\n",
              "  <tbody>\n",
              "    <tr>\n",
              "      <th>702</th>\n",
              "      <td>A0703</td>\n",
              "      <td>2016-12-31</td>\n",
              "      <td>Active</td>\n",
              "      <td>1</td>\n",
              "      <td>2014-09-13</td>\n",
              "      <td>No</td>\n",
              "      <td>NaT</td>\n",
              "      <td>No</td>\n",
              "      <td>NaN</td>\n",
              "      <td>2014-09-13</td>\n",
              "      <td>NaN</td>\n",
              "      <td>2010-07-05</td>\n",
              "      <td>6.5</td>\n",
              "      <td>2.3</td>\n",
              "      <td>2.3</td>\n",
              "      <td>At Target</td>\n",
              "      <td>BA/BS</td>\n",
              "    </tr>\n",
              "  </tbody>\n",
              "</table>\n",
              "</div>"
            ],
            "text/plain": [
              "    Employee_ID  DataEDate Employee_Status  ...  TimeIn_Job     Rating Education\n",
              "702       A0703 2016-12-31          Active  ...         2.3  At Target     BA/BS\n",
              "\n",
              "[1 rows x 17 columns]"
            ]
          },
          "metadata": {
            "tags": []
          },
          "execution_count": 108
        }
      ]
    },
    {
      "cell_type": "code",
      "metadata": {
        "id": "W9FkA3lMSyt8"
      },
      "source": [
        "data['AgeGroups']=pd.cut(data.Age,np.arange(20, 70, 5))"
      ],
      "execution_count": null,
      "outputs": []
    },
    {
      "cell_type": "code",
      "metadata": {
        "id": "E1QFm4C6SyxA",
        "colab": {
          "base_uri": "https://localhost:8080/",
          "height": 360
        },
        "outputId": "3c958a0a-b4d2-477b-af39-4e006d520914"
      },
      "source": [
        "f = lambda x : np.round(x/x.sum() * 100)\n",
        "con_p_term = data.groupby(['AgeGroups', 'Rating'])['Rating'].count().unstack().apply(f, axis=1)\n",
        "con_p_term"
      ],
      "execution_count": null,
      "outputs": [
        {
          "output_type": "execute_result",
          "data": {
            "text/html": [
              "<div>\n",
              "<style scoped>\n",
              "    .dataframe tbody tr th:only-of-type {\n",
              "        vertical-align: middle;\n",
              "    }\n",
              "\n",
              "    .dataframe tbody tr th {\n",
              "        vertical-align: top;\n",
              "    }\n",
              "\n",
              "    .dataframe thead th {\n",
              "        text-align: right;\n",
              "    }\n",
              "</style>\n",
              "<table border=\"1\" class=\"dataframe\">\n",
              "  <thead>\n",
              "    <tr style=\"text-align: right;\">\n",
              "      <th>Rating</th>\n",
              "      <th>Above Target</th>\n",
              "      <th>At Target</th>\n",
              "      <th>Below Target</th>\n",
              "      <th>Significantly Above Target</th>\n",
              "      <th>Significantly Below Target</th>\n",
              "    </tr>\n",
              "    <tr>\n",
              "      <th>AgeGroups</th>\n",
              "      <th></th>\n",
              "      <th></th>\n",
              "      <th></th>\n",
              "      <th></th>\n",
              "      <th></th>\n",
              "    </tr>\n",
              "  </thead>\n",
              "  <tbody>\n",
              "    <tr>\n",
              "      <th>(20, 25]</th>\n",
              "      <td>20.0</td>\n",
              "      <td>61.0</td>\n",
              "      <td>16.0</td>\n",
              "      <td>3.0</td>\n",
              "      <td>1.0</td>\n",
              "    </tr>\n",
              "    <tr>\n",
              "      <th>(25, 30]</th>\n",
              "      <td>35.0</td>\n",
              "      <td>45.0</td>\n",
              "      <td>10.0</td>\n",
              "      <td>10.0</td>\n",
              "      <td>0.0</td>\n",
              "    </tr>\n",
              "    <tr>\n",
              "      <th>(30, 35]</th>\n",
              "      <td>50.0</td>\n",
              "      <td>41.0</td>\n",
              "      <td>3.0</td>\n",
              "      <td>7.0</td>\n",
              "      <td>0.0</td>\n",
              "    </tr>\n",
              "    <tr>\n",
              "      <th>(35, 40]</th>\n",
              "      <td>63.0</td>\n",
              "      <td>35.0</td>\n",
              "      <td>0.0</td>\n",
              "      <td>2.0</td>\n",
              "      <td>0.0</td>\n",
              "    </tr>\n",
              "    <tr>\n",
              "      <th>(40, 45]</th>\n",
              "      <td>67.0</td>\n",
              "      <td>31.0</td>\n",
              "      <td>0.0</td>\n",
              "      <td>2.0</td>\n",
              "      <td>0.0</td>\n",
              "    </tr>\n",
              "    <tr>\n",
              "      <th>(45, 50]</th>\n",
              "      <td>80.0</td>\n",
              "      <td>19.0</td>\n",
              "      <td>0.0</td>\n",
              "      <td>1.0</td>\n",
              "      <td>0.0</td>\n",
              "    </tr>\n",
              "    <tr>\n",
              "      <th>(50, 55]</th>\n",
              "      <td>79.0</td>\n",
              "      <td>19.0</td>\n",
              "      <td>0.0</td>\n",
              "      <td>1.0</td>\n",
              "      <td>0.0</td>\n",
              "    </tr>\n",
              "    <tr>\n",
              "      <th>(55, 60]</th>\n",
              "      <td>79.0</td>\n",
              "      <td>19.0</td>\n",
              "      <td>0.0</td>\n",
              "      <td>1.0</td>\n",
              "      <td>0.0</td>\n",
              "    </tr>\n",
              "    <tr>\n",
              "      <th>(60, 65]</th>\n",
              "      <td>50.0</td>\n",
              "      <td>0.0</td>\n",
              "      <td>0.0</td>\n",
              "      <td>50.0</td>\n",
              "      <td>0.0</td>\n",
              "    </tr>\n",
              "  </tbody>\n",
              "</table>\n",
              "</div>"
            ],
            "text/plain": [
              "Rating     Above Target  ...  Significantly Below Target\n",
              "AgeGroups                ...                            \n",
              "(20, 25]           20.0  ...                         1.0\n",
              "(25, 30]           35.0  ...                         0.0\n",
              "(30, 35]           50.0  ...                         0.0\n",
              "(35, 40]           63.0  ...                         0.0\n",
              "(40, 45]           67.0  ...                         0.0\n",
              "(45, 50]           80.0  ...                         0.0\n",
              "(50, 55]           79.0  ...                         0.0\n",
              "(55, 60]           79.0  ...                         0.0\n",
              "(60, 65]           50.0  ...                         0.0\n",
              "\n",
              "[9 rows x 5 columns]"
            ]
          },
          "metadata": {
            "tags": []
          },
          "execution_count": 110
        }
      ]
    },
    {
      "cell_type": "code",
      "metadata": {
        "id": "N-u5ASJXSykD",
        "colab": {
          "base_uri": "https://localhost:8080/",
          "height": 343
        },
        "outputId": "06694912-7ee6-48b3-8337-2ff857aa10a9"
      },
      "source": [
        "f = lambda x : np.round(x/x.sum() * 100)\n",
        "con_p_term = data.groupby(['AgeGroups',  'Termination_Type'])['TerminatedIn_FY'].count().unstack().apply(f, axis=1)\n",
        "con_p_term"
      ],
      "execution_count": null,
      "outputs": [
        {
          "output_type": "execute_result",
          "data": {
            "text/html": [
              "<div>\n",
              "<style scoped>\n",
              "    .dataframe tbody tr th:only-of-type {\n",
              "        vertical-align: middle;\n",
              "    }\n",
              "\n",
              "    .dataframe tbody tr th {\n",
              "        vertical-align: top;\n",
              "    }\n",
              "\n",
              "    .dataframe thead th {\n",
              "        text-align: right;\n",
              "    }\n",
              "</style>\n",
              "<table border=\"1\" class=\"dataframe\">\n",
              "  <thead>\n",
              "    <tr style=\"text-align: right;\">\n",
              "      <th>Termination_Type</th>\n",
              "      <th>Involuntary Exit</th>\n",
              "      <th>Voluntary Exit</th>\n",
              "    </tr>\n",
              "    <tr>\n",
              "      <th>AgeGroups</th>\n",
              "      <th></th>\n",
              "      <th></th>\n",
              "    </tr>\n",
              "  </thead>\n",
              "  <tbody>\n",
              "    <tr>\n",
              "      <th>(20, 25]</th>\n",
              "      <td>41.0</td>\n",
              "      <td>59.0</td>\n",
              "    </tr>\n",
              "    <tr>\n",
              "      <th>(25, 30]</th>\n",
              "      <td>20.0</td>\n",
              "      <td>80.0</td>\n",
              "    </tr>\n",
              "    <tr>\n",
              "      <th>(30, 35]</th>\n",
              "      <td>8.0</td>\n",
              "      <td>92.0</td>\n",
              "    </tr>\n",
              "    <tr>\n",
              "      <th>(35, 40]</th>\n",
              "      <td>0.0</td>\n",
              "      <td>100.0</td>\n",
              "    </tr>\n",
              "    <tr>\n",
              "      <th>(40, 45]</th>\n",
              "      <td>0.0</td>\n",
              "      <td>100.0</td>\n",
              "    </tr>\n",
              "    <tr>\n",
              "      <th>(45, 50]</th>\n",
              "      <td>0.0</td>\n",
              "      <td>100.0</td>\n",
              "    </tr>\n",
              "    <tr>\n",
              "      <th>(50, 55]</th>\n",
              "      <td>0.0</td>\n",
              "      <td>100.0</td>\n",
              "    </tr>\n",
              "    <tr>\n",
              "      <th>(55, 60]</th>\n",
              "      <td>0.0</td>\n",
              "      <td>100.0</td>\n",
              "    </tr>\n",
              "    <tr>\n",
              "      <th>(60, 65]</th>\n",
              "      <td>0.0</td>\n",
              "      <td>100.0</td>\n",
              "    </tr>\n",
              "  </tbody>\n",
              "</table>\n",
              "</div>"
            ],
            "text/plain": [
              "Termination_Type  Involuntary Exit  Voluntary Exit\n",
              "AgeGroups                                         \n",
              "(20, 25]                      41.0            59.0\n",
              "(25, 30]                      20.0            80.0\n",
              "(30, 35]                       8.0            92.0\n",
              "(35, 40]                       0.0           100.0\n",
              "(40, 45]                       0.0           100.0\n",
              "(45, 50]                       0.0           100.0\n",
              "(50, 55]                       0.0           100.0\n",
              "(55, 60]                       0.0           100.0\n",
              "(60, 65]                       0.0           100.0"
            ]
          },
          "metadata": {
            "tags": []
          },
          "execution_count": 111
        }
      ]
    },
    {
      "cell_type": "code",
      "metadata": {
        "id": "7BAfHjTbn1dk"
      },
      "source": [
        "data['TenureGroups']=pd.cut(data.Tenure,np.arange(0, 35, 5))"
      ],
      "execution_count": null,
      "outputs": []
    },
    {
      "cell_type": "code",
      "metadata": {
        "id": "odG0gxEPUroo",
        "colab": {
          "base_uri": "https://localhost:8080/",
          "height": 254
        },
        "outputId": "c824a4c8-d075-4871-a71a-1ea01d6eeac2"
      },
      "source": [
        "f = lambda x : np.round(x/x.sum() * 100)\r\n",
        "con_p_term = data.groupby(['TenureGroups',  'Termination_Type'])['TerminatedIn_FY'].count().unstack().apply(f, axis=1)\r\n",
        "con_p_term"
      ],
      "execution_count": null,
      "outputs": [
        {
          "output_type": "execute_result",
          "data": {
            "text/html": [
              "<div>\n",
              "<style scoped>\n",
              "    .dataframe tbody tr th:only-of-type {\n",
              "        vertical-align: middle;\n",
              "    }\n",
              "\n",
              "    .dataframe tbody tr th {\n",
              "        vertical-align: top;\n",
              "    }\n",
              "\n",
              "    .dataframe thead th {\n",
              "        text-align: right;\n",
              "    }\n",
              "</style>\n",
              "<table border=\"1\" class=\"dataframe\">\n",
              "  <thead>\n",
              "    <tr style=\"text-align: right;\">\n",
              "      <th>Termination_Type</th>\n",
              "      <th>Involuntary Exit</th>\n",
              "      <th>Voluntary Exit</th>\n",
              "    </tr>\n",
              "    <tr>\n",
              "      <th>TenureGroups</th>\n",
              "      <th></th>\n",
              "      <th></th>\n",
              "    </tr>\n",
              "  </thead>\n",
              "  <tbody>\n",
              "    <tr>\n",
              "      <th>(0, 5]</th>\n",
              "      <td>33.0</td>\n",
              "      <td>67.0</td>\n",
              "    </tr>\n",
              "    <tr>\n",
              "      <th>(5, 10]</th>\n",
              "      <td>14.0</td>\n",
              "      <td>86.0</td>\n",
              "    </tr>\n",
              "    <tr>\n",
              "      <th>(10, 15]</th>\n",
              "      <td>0.0</td>\n",
              "      <td>100.0</td>\n",
              "    </tr>\n",
              "    <tr>\n",
              "      <th>(15, 20]</th>\n",
              "      <td>0.0</td>\n",
              "      <td>100.0</td>\n",
              "    </tr>\n",
              "    <tr>\n",
              "      <th>(20, 25]</th>\n",
              "      <td>0.0</td>\n",
              "      <td>100.0</td>\n",
              "    </tr>\n",
              "    <tr>\n",
              "      <th>(25, 30]</th>\n",
              "      <td>0.0</td>\n",
              "      <td>100.0</td>\n",
              "    </tr>\n",
              "  </tbody>\n",
              "</table>\n",
              "</div>"
            ],
            "text/plain": [
              "Termination_Type  Involuntary Exit  Voluntary Exit\n",
              "TenureGroups                                      \n",
              "(0, 5]                        33.0            67.0\n",
              "(5, 10]                       14.0            86.0\n",
              "(10, 15]                       0.0           100.0\n",
              "(15, 20]                       0.0           100.0\n",
              "(20, 25]                       0.0           100.0\n",
              "(25, 30]                       0.0           100.0"
            ]
          },
          "metadata": {
            "tags": []
          },
          "execution_count": 113
        }
      ]
    }
  ]
}
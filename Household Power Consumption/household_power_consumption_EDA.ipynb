{
  "nbformat": 4,
  "nbformat_minor": 0,
  "metadata": {
    "kernelspec": {
      "display_name": "Python 3",
      "language": "python",
      "name": "python3"
    },
    "language_info": {
      "codemirror_mode": {
        "name": "ipython",
        "version": 3
      },
      "file_extension": ".py",
      "mimetype": "text/x-python",
      "name": "python",
      "nbconvert_exporter": "python",
      "pygments_lexer": "ipython3",
      "version": "3.8.5"
    },
    "colab": {
      "name": "household_power_consumption EDA.ipynb",
      "provenance": [],
      "collapsed_sections": [],
      "include_colab_link": true
    }
  },
  "cells": [
    {
      "cell_type": "markdown",
      "metadata": {
        "id": "view-in-github",
        "colab_type": "text"
      },
      "source": [
        "<a href=\"https://colab.research.google.com/github/nitver90/Machine-Learning-Repo/blob/main/Household%20Power%20Consumption/household_power_consumption_EDA.ipynb\" target=\"_parent\"><img src=\"https://colab.research.google.com/assets/colab-badge.svg\" alt=\"Open In Colab\"/></a>"
      ]
    },
    {
      "cell_type": "code",
      "metadata": {
        "id": "OMrz-hrIFFva"
      },
      "source": [
        "import pandas as pd\n",
        "import numpy as np\n",
        "import matplotlib.pyplot as plt"
      ],
      "execution_count": 2,
      "outputs": []
    },
    {
      "cell_type": "code",
      "metadata": {
        "colab": {
          "base_uri": "https://localhost:8080/"
        },
        "id": "jSf73_X1FUBi",
        "outputId": "9c3c01a4-6d2c-4654-e79a-91176e7ce6e2"
      },
      "source": [
        "from google.colab import drive\n",
        "drive.mount('/content/drive')"
      ],
      "execution_count": 3,
      "outputs": [
        {
          "output_type": "stream",
          "text": [
            "Drive already mounted at /content/drive; to attempt to forcibly remount, call drive.mount(\"/content/drive\", force_remount=True).\n"
          ],
          "name": "stdout"
        }
      ]
    },
    {
      "cell_type": "code",
      "metadata": {
        "id": "70ktewZQFFvc"
      },
      "source": [
        "### Making Index as DateTime \n",
        "dataset= pd.read_csv(\"/content/drive/MyDrive/Colab Notebooks/Household Data/household_power_consumption.txt\",\n",
        "                  sep = \";\", parse_dates = {\"DateTime\" : [\"Date\",\"Time\"]},\n",
        "                  infer_datetime_format = True,\n",
        "                  index_col = \"DateTime\", low_memory= False)"
      ],
      "execution_count": 4,
      "outputs": []
    },
    {
      "cell_type": "code",
      "metadata": {
        "colab": {
          "base_uri": "https://localhost:8080/",
          "height": 235
        },
        "id": "snG42VCWFFvd",
        "outputId": "ae70c2ef-62f9-4cc8-f6e0-d41233414aa6"
      },
      "source": [
        "dataset.head()"
      ],
      "execution_count": 5,
      "outputs": [
        {
          "output_type": "execute_result",
          "data": {
            "text/html": [
              "<div>\n",
              "<style scoped>\n",
              "    .dataframe tbody tr th:only-of-type {\n",
              "        vertical-align: middle;\n",
              "    }\n",
              "\n",
              "    .dataframe tbody tr th {\n",
              "        vertical-align: top;\n",
              "    }\n",
              "\n",
              "    .dataframe thead th {\n",
              "        text-align: right;\n",
              "    }\n",
              "</style>\n",
              "<table border=\"1\" class=\"dataframe\">\n",
              "  <thead>\n",
              "    <tr style=\"text-align: right;\">\n",
              "      <th></th>\n",
              "      <th>Global_active_power</th>\n",
              "      <th>Global_reactive_power</th>\n",
              "      <th>Voltage</th>\n",
              "      <th>Global_intensity</th>\n",
              "      <th>Sub_metering_1</th>\n",
              "      <th>Sub_metering_2</th>\n",
              "      <th>Sub_metering_3</th>\n",
              "    </tr>\n",
              "    <tr>\n",
              "      <th>DateTime</th>\n",
              "      <th></th>\n",
              "      <th></th>\n",
              "      <th></th>\n",
              "      <th></th>\n",
              "      <th></th>\n",
              "      <th></th>\n",
              "      <th></th>\n",
              "    </tr>\n",
              "  </thead>\n",
              "  <tbody>\n",
              "    <tr>\n",
              "      <th>2006-12-16 17:24:00</th>\n",
              "      <td>4.216</td>\n",
              "      <td>0.418</td>\n",
              "      <td>234.840</td>\n",
              "      <td>18.400</td>\n",
              "      <td>0.000</td>\n",
              "      <td>1.000</td>\n",
              "      <td>17.0</td>\n",
              "    </tr>\n",
              "    <tr>\n",
              "      <th>2006-12-16 17:25:00</th>\n",
              "      <td>5.360</td>\n",
              "      <td>0.436</td>\n",
              "      <td>233.630</td>\n",
              "      <td>23.000</td>\n",
              "      <td>0.000</td>\n",
              "      <td>1.000</td>\n",
              "      <td>16.0</td>\n",
              "    </tr>\n",
              "    <tr>\n",
              "      <th>2006-12-16 17:26:00</th>\n",
              "      <td>5.374</td>\n",
              "      <td>0.498</td>\n",
              "      <td>233.290</td>\n",
              "      <td>23.000</td>\n",
              "      <td>0.000</td>\n",
              "      <td>2.000</td>\n",
              "      <td>17.0</td>\n",
              "    </tr>\n",
              "    <tr>\n",
              "      <th>2006-12-16 17:27:00</th>\n",
              "      <td>5.388</td>\n",
              "      <td>0.502</td>\n",
              "      <td>233.740</td>\n",
              "      <td>23.000</td>\n",
              "      <td>0.000</td>\n",
              "      <td>1.000</td>\n",
              "      <td>17.0</td>\n",
              "    </tr>\n",
              "    <tr>\n",
              "      <th>2006-12-16 17:28:00</th>\n",
              "      <td>3.666</td>\n",
              "      <td>0.528</td>\n",
              "      <td>235.680</td>\n",
              "      <td>15.800</td>\n",
              "      <td>0.000</td>\n",
              "      <td>1.000</td>\n",
              "      <td>17.0</td>\n",
              "    </tr>\n",
              "  </tbody>\n",
              "</table>\n",
              "</div>"
            ],
            "text/plain": [
              "                    Global_active_power  ... Sub_metering_3\n",
              "DateTime                                 ...               \n",
              "2006-12-16 17:24:00               4.216  ...           17.0\n",
              "2006-12-16 17:25:00               5.360  ...           16.0\n",
              "2006-12-16 17:26:00               5.374  ...           17.0\n",
              "2006-12-16 17:27:00               5.388  ...           17.0\n",
              "2006-12-16 17:28:00               3.666  ...           17.0\n",
              "\n",
              "[5 rows x 7 columns]"
            ]
          },
          "metadata": {
            "tags": []
          },
          "execution_count": 5
        }
      ]
    },
    {
      "cell_type": "code",
      "metadata": {
        "colab": {
          "base_uri": "https://localhost:8080/"
        },
        "id": "qV-IFp1hFFve",
        "outputId": "19742eb0-e0e0-40ee-b9e3-074cc82cc4cd"
      },
      "source": [
        "dataset.isnull().sum()"
      ],
      "execution_count": 6,
      "outputs": [
        {
          "output_type": "execute_result",
          "data": {
            "text/plain": [
              "Global_active_power          0\n",
              "Global_reactive_power        0\n",
              "Voltage                      0\n",
              "Global_intensity             0\n",
              "Sub_metering_1               0\n",
              "Sub_metering_2               0\n",
              "Sub_metering_3           25979\n",
              "dtype: int64"
            ]
          },
          "metadata": {
            "tags": []
          },
          "execution_count": 6
        }
      ]
    },
    {
      "cell_type": "code",
      "metadata": {
        "id": "KJ8pJz8CFFvf"
      },
      "source": [
        "dataset= dataset.replace(\"?\", \"Nan\")               ### Replacing ? with Nan values."
      ],
      "execution_count": 7,
      "outputs": []
    },
    {
      "cell_type": "code",
      "metadata": {
        "id": "9tnaapt5FFvf"
      },
      "source": [
        "dataset.fillna(method= \"ffill\", inplace= True)     ### Filling Nan Values with forward fill method."
      ],
      "execution_count": 8,
      "outputs": []
    },
    {
      "cell_type": "code",
      "metadata": {
        "colab": {
          "base_uri": "https://localhost:8080/"
        },
        "id": "fywULx8RFFvf",
        "outputId": "85b251f0-de93-4322-c482-11d7c124c082"
      },
      "source": [
        "dataset.isnull().sum()"
      ],
      "execution_count": 9,
      "outputs": [
        {
          "output_type": "execute_result",
          "data": {
            "text/plain": [
              "Global_active_power      0\n",
              "Global_reactive_power    0\n",
              "Voltage                  0\n",
              "Global_intensity         0\n",
              "Sub_metering_1           0\n",
              "Sub_metering_2           0\n",
              "Sub_metering_3           0\n",
              "dtype: int64"
            ]
          },
          "metadata": {
            "tags": []
          },
          "execution_count": 9
        }
      ]
    },
    {
      "cell_type": "code",
      "metadata": {
        "id": "tSvuhz4IFFvg"
      },
      "source": [
        "dataset= dataset.astype(\"float\")                   ### Changing Datatype into float.\n",
        "# dataset['Global_active_power'] = dataset['Global_active_power'].astype('float')\n",
        "# dataset['Global_reactive_power'] = dataset['Global_reactive_power'].astype('float')\n",
        "# dataset['Voltage'] = dataset['Voltage'].astype('float')\n",
        "# dataset['Global_intensity'] = dataset['Global_intensity'].astype('float')\n",
        "# dataset['Sub_metering_1'] = dataset['Sub_metering_1'].astype('float')\n",
        "# dataset['Sub_metering_2'] = dataset['Sub_metering_2'].astype('float')"
      ],
      "execution_count": 10,
      "outputs": []
    },
    {
      "cell_type": "code",
      "metadata": {
        "id": "rgEy90e8FFvh"
      },
      "source": [
        "dataset[\"Total_Units\"]= dataset[\"Sub_metering_1\"]+dataset[\"Sub_metering_2\"]+dataset[\"Sub_metering_3\"]"
      ],
      "execution_count": 11,
      "outputs": []
    },
    {
      "cell_type": "code",
      "metadata": {
        "colab": {
          "base_uri": "https://localhost:8080/",
          "height": 235
        },
        "id": "L8G__eKcFFvi",
        "outputId": "bed72f7f-f1c1-485a-87f0-eafba40f7fa2"
      },
      "source": [
        "data_hour=dataset.resample('h').sum()                   ### Converting Minute Data into Hour Basis for a better visualization.\n",
        "data_hour.head()"
      ],
      "execution_count": 12,
      "outputs": [
        {
          "output_type": "execute_result",
          "data": {
            "text/html": [
              "<div>\n",
              "<style scoped>\n",
              "    .dataframe tbody tr th:only-of-type {\n",
              "        vertical-align: middle;\n",
              "    }\n",
              "\n",
              "    .dataframe tbody tr th {\n",
              "        vertical-align: top;\n",
              "    }\n",
              "\n",
              "    .dataframe thead th {\n",
              "        text-align: right;\n",
              "    }\n",
              "</style>\n",
              "<table border=\"1\" class=\"dataframe\">\n",
              "  <thead>\n",
              "    <tr style=\"text-align: right;\">\n",
              "      <th></th>\n",
              "      <th>Global_active_power</th>\n",
              "      <th>Global_reactive_power</th>\n",
              "      <th>Voltage</th>\n",
              "      <th>Global_intensity</th>\n",
              "      <th>Sub_metering_1</th>\n",
              "      <th>Sub_metering_2</th>\n",
              "      <th>Sub_metering_3</th>\n",
              "      <th>Total_Units</th>\n",
              "    </tr>\n",
              "    <tr>\n",
              "      <th>DateTime</th>\n",
              "      <th></th>\n",
              "      <th></th>\n",
              "      <th></th>\n",
              "      <th></th>\n",
              "      <th></th>\n",
              "      <th></th>\n",
              "      <th></th>\n",
              "      <th></th>\n",
              "    </tr>\n",
              "  </thead>\n",
              "  <tbody>\n",
              "    <tr>\n",
              "      <th>2006-12-16 17:00:00</th>\n",
              "      <td>152.024</td>\n",
              "      <td>8.244</td>\n",
              "      <td>8447.18</td>\n",
              "      <td>651.6</td>\n",
              "      <td>0.0</td>\n",
              "      <td>19.0</td>\n",
              "      <td>607.0</td>\n",
              "      <td>626.0</td>\n",
              "    </tr>\n",
              "    <tr>\n",
              "      <th>2006-12-16 18:00:00</th>\n",
              "      <td>217.932</td>\n",
              "      <td>4.802</td>\n",
              "      <td>14074.81</td>\n",
              "      <td>936.0</td>\n",
              "      <td>0.0</td>\n",
              "      <td>403.0</td>\n",
              "      <td>1012.0</td>\n",
              "      <td>1415.0</td>\n",
              "    </tr>\n",
              "    <tr>\n",
              "      <th>2006-12-16 19:00:00</th>\n",
              "      <td>204.014</td>\n",
              "      <td>5.114</td>\n",
              "      <td>13993.95</td>\n",
              "      <td>870.2</td>\n",
              "      <td>0.0</td>\n",
              "      <td>86.0</td>\n",
              "      <td>1001.0</td>\n",
              "      <td>1087.0</td>\n",
              "    </tr>\n",
              "    <tr>\n",
              "      <th>2006-12-16 20:00:00</th>\n",
              "      <td>196.114</td>\n",
              "      <td>4.506</td>\n",
              "      <td>14044.29</td>\n",
              "      <td>835.0</td>\n",
              "      <td>0.0</td>\n",
              "      <td>0.0</td>\n",
              "      <td>1007.0</td>\n",
              "      <td>1007.0</td>\n",
              "    </tr>\n",
              "    <tr>\n",
              "      <th>2006-12-16 21:00:00</th>\n",
              "      <td>183.388</td>\n",
              "      <td>4.600</td>\n",
              "      <td>14229.52</td>\n",
              "      <td>782.8</td>\n",
              "      <td>0.0</td>\n",
              "      <td>25.0</td>\n",
              "      <td>1033.0</td>\n",
              "      <td>1058.0</td>\n",
              "    </tr>\n",
              "  </tbody>\n",
              "</table>\n",
              "</div>"
            ],
            "text/plain": [
              "                     Global_active_power  ...  Total_Units\n",
              "DateTime                                  ...             \n",
              "2006-12-16 17:00:00              152.024  ...        626.0\n",
              "2006-12-16 18:00:00              217.932  ...       1415.0\n",
              "2006-12-16 19:00:00              204.014  ...       1087.0\n",
              "2006-12-16 20:00:00              196.114  ...       1007.0\n",
              "2006-12-16 21:00:00              183.388  ...       1058.0\n",
              "\n",
              "[5 rows x 8 columns]"
            ]
          },
          "metadata": {
            "tags": []
          },
          "execution_count": 12
        }
      ]
    },
    {
      "cell_type": "markdown",
      "metadata": {
        "id": "7vL_2W49FFvi"
      },
      "source": [
        " It is known that Voltage is constant nearly 230 Volts. so For visulization voltage will be considered as mean not sum."
      ]
    },
    {
      "cell_type": "code",
      "metadata": {
        "id": "gUkcJtU8FFvj"
      },
      "source": [
        "data=dataset.reset_index()                               ### Resetting Index and forming DateTime as a Column"
      ],
      "execution_count": 13,
      "outputs": []
    },
    {
      "cell_type": "code",
      "metadata": {
        "colab": {
          "base_uri": "https://localhost:8080/",
          "height": 204
        },
        "id": "j7xUWTSqFFvj",
        "outputId": "f4844a9c-6773-4555-f585-87ab21b9800e"
      },
      "source": [
        "data.head()"
      ],
      "execution_count": 14,
      "outputs": [
        {
          "output_type": "execute_result",
          "data": {
            "text/html": [
              "<div>\n",
              "<style scoped>\n",
              "    .dataframe tbody tr th:only-of-type {\n",
              "        vertical-align: middle;\n",
              "    }\n",
              "\n",
              "    .dataframe tbody tr th {\n",
              "        vertical-align: top;\n",
              "    }\n",
              "\n",
              "    .dataframe thead th {\n",
              "        text-align: right;\n",
              "    }\n",
              "</style>\n",
              "<table border=\"1\" class=\"dataframe\">\n",
              "  <thead>\n",
              "    <tr style=\"text-align: right;\">\n",
              "      <th></th>\n",
              "      <th>DateTime</th>\n",
              "      <th>Global_active_power</th>\n",
              "      <th>Global_reactive_power</th>\n",
              "      <th>Voltage</th>\n",
              "      <th>Global_intensity</th>\n",
              "      <th>Sub_metering_1</th>\n",
              "      <th>Sub_metering_2</th>\n",
              "      <th>Sub_metering_3</th>\n",
              "      <th>Total_Units</th>\n",
              "    </tr>\n",
              "  </thead>\n",
              "  <tbody>\n",
              "    <tr>\n",
              "      <th>0</th>\n",
              "      <td>2006-12-16 17:24:00</td>\n",
              "      <td>4.216</td>\n",
              "      <td>0.418</td>\n",
              "      <td>234.84</td>\n",
              "      <td>18.4</td>\n",
              "      <td>0.0</td>\n",
              "      <td>1.0</td>\n",
              "      <td>17.0</td>\n",
              "      <td>18.0</td>\n",
              "    </tr>\n",
              "    <tr>\n",
              "      <th>1</th>\n",
              "      <td>2006-12-16 17:25:00</td>\n",
              "      <td>5.360</td>\n",
              "      <td>0.436</td>\n",
              "      <td>233.63</td>\n",
              "      <td>23.0</td>\n",
              "      <td>0.0</td>\n",
              "      <td>1.0</td>\n",
              "      <td>16.0</td>\n",
              "      <td>17.0</td>\n",
              "    </tr>\n",
              "    <tr>\n",
              "      <th>2</th>\n",
              "      <td>2006-12-16 17:26:00</td>\n",
              "      <td>5.374</td>\n",
              "      <td>0.498</td>\n",
              "      <td>233.29</td>\n",
              "      <td>23.0</td>\n",
              "      <td>0.0</td>\n",
              "      <td>2.0</td>\n",
              "      <td>17.0</td>\n",
              "      <td>19.0</td>\n",
              "    </tr>\n",
              "    <tr>\n",
              "      <th>3</th>\n",
              "      <td>2006-12-16 17:27:00</td>\n",
              "      <td>5.388</td>\n",
              "      <td>0.502</td>\n",
              "      <td>233.74</td>\n",
              "      <td>23.0</td>\n",
              "      <td>0.0</td>\n",
              "      <td>1.0</td>\n",
              "      <td>17.0</td>\n",
              "      <td>18.0</td>\n",
              "    </tr>\n",
              "    <tr>\n",
              "      <th>4</th>\n",
              "      <td>2006-12-16 17:28:00</td>\n",
              "      <td>3.666</td>\n",
              "      <td>0.528</td>\n",
              "      <td>235.68</td>\n",
              "      <td>15.8</td>\n",
              "      <td>0.0</td>\n",
              "      <td>1.0</td>\n",
              "      <td>17.0</td>\n",
              "      <td>18.0</td>\n",
              "    </tr>\n",
              "  </tbody>\n",
              "</table>\n",
              "</div>"
            ],
            "text/plain": [
              "             DateTime  Global_active_power  ...  Sub_metering_3  Total_Units\n",
              "0 2006-12-16 17:24:00                4.216  ...            17.0         18.0\n",
              "1 2006-12-16 17:25:00                5.360  ...            16.0         17.0\n",
              "2 2006-12-16 17:26:00                5.374  ...            17.0         19.0\n",
              "3 2006-12-16 17:27:00                5.388  ...            17.0         18.0\n",
              "4 2006-12-16 17:28:00                3.666  ...            17.0         18.0\n",
              "\n",
              "[5 rows x 9 columns]"
            ]
          },
          "metadata": {
            "tags": []
          },
          "execution_count": 14
        }
      ]
    },
    {
      "cell_type": "code",
      "metadata": {
        "id": "nqrvSPRhFFvj"
      },
      "source": [
        "#dataset[\"Date\"]= pd.to_datetime(dataset[\"dt\"])\n",
        "#dataset[\"Year\"]= dataset[\"Date\"].apply(lambda x: x.year)\n",
        "#dataset[\"Month\"]= dataset[\"Date\"].apply(lambda x: x.month)\n",
        "data[\"Month\"]= pd.to_datetime(data[\"DateTime\"]).dt.month\n",
        "data[\"Year\"]= pd.to_datetime(data[\"DateTime\"]).dt.year\n",
        "data[\"Hour\"]=pd.to_datetime(data[\"DateTime\"]).dt.hour\n"
      ],
      "execution_count": 15,
      "outputs": []
    },
    {
      "cell_type": "code",
      "metadata": {
        "id": "J5G2WCaUFFvk"
      },
      "source": [
        "def month2seasons(x):\n",
        "    if x in [9, 10, 11]:\n",
        "        season = 'Autnum'\n",
        "    elif x in [12, 1]:\n",
        "        season = 'Winter'\n",
        "    elif x in [4, 5, 6]:\n",
        "        season = 'Summer'\n",
        "    elif x in [2,3]:\n",
        "        season = 'Spring'\n",
        "    elif x in [7,8]:\n",
        "        season = 'Monsoon'\n",
        "    return season"
      ],
      "execution_count": 16,
      "outputs": []
    },
    {
      "cell_type": "code",
      "metadata": {
        "id": "6rgP1QWYFFvk"
      },
      "source": [
        "data[\"Season\"]= data[\"Month\"].apply(month2seasons)"
      ],
      "execution_count": 17,
      "outputs": []
    },
    {
      "cell_type": "code",
      "metadata": {
        "colab": {
          "base_uri": "https://localhost:8080/",
          "height": 204
        },
        "id": "kh0ucnwFFFvk",
        "outputId": "f55019cf-7d61-49fd-8133-1177c8e42895"
      },
      "source": [
        "data.head()"
      ],
      "execution_count": 18,
      "outputs": [
        {
          "output_type": "execute_result",
          "data": {
            "text/html": [
              "<div>\n",
              "<style scoped>\n",
              "    .dataframe tbody tr th:only-of-type {\n",
              "        vertical-align: middle;\n",
              "    }\n",
              "\n",
              "    .dataframe tbody tr th {\n",
              "        vertical-align: top;\n",
              "    }\n",
              "\n",
              "    .dataframe thead th {\n",
              "        text-align: right;\n",
              "    }\n",
              "</style>\n",
              "<table border=\"1\" class=\"dataframe\">\n",
              "  <thead>\n",
              "    <tr style=\"text-align: right;\">\n",
              "      <th></th>\n",
              "      <th>DateTime</th>\n",
              "      <th>Global_active_power</th>\n",
              "      <th>Global_reactive_power</th>\n",
              "      <th>Voltage</th>\n",
              "      <th>Global_intensity</th>\n",
              "      <th>Sub_metering_1</th>\n",
              "      <th>Sub_metering_2</th>\n",
              "      <th>Sub_metering_3</th>\n",
              "      <th>Total_Units</th>\n",
              "      <th>Month</th>\n",
              "      <th>Year</th>\n",
              "      <th>Hour</th>\n",
              "      <th>Season</th>\n",
              "    </tr>\n",
              "  </thead>\n",
              "  <tbody>\n",
              "    <tr>\n",
              "      <th>0</th>\n",
              "      <td>2006-12-16 17:24:00</td>\n",
              "      <td>4.216</td>\n",
              "      <td>0.418</td>\n",
              "      <td>234.84</td>\n",
              "      <td>18.4</td>\n",
              "      <td>0.0</td>\n",
              "      <td>1.0</td>\n",
              "      <td>17.0</td>\n",
              "      <td>18.0</td>\n",
              "      <td>12</td>\n",
              "      <td>2006</td>\n",
              "      <td>17</td>\n",
              "      <td>Winter</td>\n",
              "    </tr>\n",
              "    <tr>\n",
              "      <th>1</th>\n",
              "      <td>2006-12-16 17:25:00</td>\n",
              "      <td>5.360</td>\n",
              "      <td>0.436</td>\n",
              "      <td>233.63</td>\n",
              "      <td>23.0</td>\n",
              "      <td>0.0</td>\n",
              "      <td>1.0</td>\n",
              "      <td>16.0</td>\n",
              "      <td>17.0</td>\n",
              "      <td>12</td>\n",
              "      <td>2006</td>\n",
              "      <td>17</td>\n",
              "      <td>Winter</td>\n",
              "    </tr>\n",
              "    <tr>\n",
              "      <th>2</th>\n",
              "      <td>2006-12-16 17:26:00</td>\n",
              "      <td>5.374</td>\n",
              "      <td>0.498</td>\n",
              "      <td>233.29</td>\n",
              "      <td>23.0</td>\n",
              "      <td>0.0</td>\n",
              "      <td>2.0</td>\n",
              "      <td>17.0</td>\n",
              "      <td>19.0</td>\n",
              "      <td>12</td>\n",
              "      <td>2006</td>\n",
              "      <td>17</td>\n",
              "      <td>Winter</td>\n",
              "    </tr>\n",
              "    <tr>\n",
              "      <th>3</th>\n",
              "      <td>2006-12-16 17:27:00</td>\n",
              "      <td>5.388</td>\n",
              "      <td>0.502</td>\n",
              "      <td>233.74</td>\n",
              "      <td>23.0</td>\n",
              "      <td>0.0</td>\n",
              "      <td>1.0</td>\n",
              "      <td>17.0</td>\n",
              "      <td>18.0</td>\n",
              "      <td>12</td>\n",
              "      <td>2006</td>\n",
              "      <td>17</td>\n",
              "      <td>Winter</td>\n",
              "    </tr>\n",
              "    <tr>\n",
              "      <th>4</th>\n",
              "      <td>2006-12-16 17:28:00</td>\n",
              "      <td>3.666</td>\n",
              "      <td>0.528</td>\n",
              "      <td>235.68</td>\n",
              "      <td>15.8</td>\n",
              "      <td>0.0</td>\n",
              "      <td>1.0</td>\n",
              "      <td>17.0</td>\n",
              "      <td>18.0</td>\n",
              "      <td>12</td>\n",
              "      <td>2006</td>\n",
              "      <td>17</td>\n",
              "      <td>Winter</td>\n",
              "    </tr>\n",
              "  </tbody>\n",
              "</table>\n",
              "</div>"
            ],
            "text/plain": [
              "             DateTime  Global_active_power  ...  Hour  Season\n",
              "0 2006-12-16 17:24:00                4.216  ...    17  Winter\n",
              "1 2006-12-16 17:25:00                5.360  ...    17  Winter\n",
              "2 2006-12-16 17:26:00                5.374  ...    17  Winter\n",
              "3 2006-12-16 17:27:00                5.388  ...    17  Winter\n",
              "4 2006-12-16 17:28:00                3.666  ...    17  Winter\n",
              "\n",
              "[5 rows x 13 columns]"
            ]
          },
          "metadata": {
            "tags": []
          },
          "execution_count": 18
        }
      ]
    },
    {
      "cell_type": "code",
      "metadata": {
        "colab": {
          "base_uri": "https://localhost:8080/",
          "height": 452
        },
        "id": "p6x5_NiDFFvl",
        "outputId": "ef2ca3b0-8287-4388-84fc-f932d196cad0"
      },
      "source": [
        "data.groupby([\"Month\"]).mean().round(2)                     "
      ],
      "execution_count": 19,
      "outputs": [
        {
          "output_type": "execute_result",
          "data": {
            "text/html": [
              "<div>\n",
              "<style scoped>\n",
              "    .dataframe tbody tr th:only-of-type {\n",
              "        vertical-align: middle;\n",
              "    }\n",
              "\n",
              "    .dataframe tbody tr th {\n",
              "        vertical-align: top;\n",
              "    }\n",
              "\n",
              "    .dataframe thead th {\n",
              "        text-align: right;\n",
              "    }\n",
              "</style>\n",
              "<table border=\"1\" class=\"dataframe\">\n",
              "  <thead>\n",
              "    <tr style=\"text-align: right;\">\n",
              "      <th></th>\n",
              "      <th>Global_active_power</th>\n",
              "      <th>Global_reactive_power</th>\n",
              "      <th>Voltage</th>\n",
              "      <th>Global_intensity</th>\n",
              "      <th>Sub_metering_1</th>\n",
              "      <th>Sub_metering_2</th>\n",
              "      <th>Sub_metering_3</th>\n",
              "      <th>Total_Units</th>\n",
              "      <th>Year</th>\n",
              "      <th>Hour</th>\n",
              "    </tr>\n",
              "    <tr>\n",
              "      <th>Month</th>\n",
              "      <th></th>\n",
              "      <th></th>\n",
              "      <th></th>\n",
              "      <th></th>\n",
              "      <th></th>\n",
              "      <th></th>\n",
              "      <th></th>\n",
              "      <th></th>\n",
              "      <th></th>\n",
              "      <th></th>\n",
              "    </tr>\n",
              "  </thead>\n",
              "  <tbody>\n",
              "    <tr>\n",
              "      <th>1</th>\n",
              "      <td>1.46</td>\n",
              "      <td>0.11</td>\n",
              "      <td>242.18</td>\n",
              "      <td>6.14</td>\n",
              "      <td>1.41</td>\n",
              "      <td>1.55</td>\n",
              "      <td>7.99</td>\n",
              "      <td>10.75</td>\n",
              "      <td>2008.50</td>\n",
              "      <td>11.50</td>\n",
              "    </tr>\n",
              "    <tr>\n",
              "      <th>2</th>\n",
              "      <td>1.30</td>\n",
              "      <td>0.10</td>\n",
              "      <td>241.46</td>\n",
              "      <td>5.45</td>\n",
              "      <td>1.13</td>\n",
              "      <td>1.39</td>\n",
              "      <td>7.58</td>\n",
              "      <td>10.11</td>\n",
              "      <td>2008.50</td>\n",
              "      <td>11.50</td>\n",
              "    </tr>\n",
              "    <tr>\n",
              "      <th>3</th>\n",
              "      <td>1.23</td>\n",
              "      <td>0.11</td>\n",
              "      <td>241.53</td>\n",
              "      <td>5.18</td>\n",
              "      <td>1.27</td>\n",
              "      <td>1.66</td>\n",
              "      <td>6.86</td>\n",
              "      <td>9.86</td>\n",
              "      <td>2008.50</td>\n",
              "      <td>11.50</td>\n",
              "    </tr>\n",
              "    <tr>\n",
              "      <th>4</th>\n",
              "      <td>1.05</td>\n",
              "      <td>0.12</td>\n",
              "      <td>241.04</td>\n",
              "      <td>4.42</td>\n",
              "      <td>1.08</td>\n",
              "      <td>1.17</td>\n",
              "      <td>6.53</td>\n",
              "      <td>8.93</td>\n",
              "      <td>2008.50</td>\n",
              "      <td>11.50</td>\n",
              "    </tr>\n",
              "    <tr>\n",
              "      <th>5</th>\n",
              "      <td>1.03</td>\n",
              "      <td>0.13</td>\n",
              "      <td>239.01</td>\n",
              "      <td>4.40</td>\n",
              "      <td>1.23</td>\n",
              "      <td>1.31</td>\n",
              "      <td>6.70</td>\n",
              "      <td>9.24</td>\n",
              "      <td>2008.50</td>\n",
              "      <td>11.50</td>\n",
              "    </tr>\n",
              "    <tr>\n",
              "      <th>6</th>\n",
              "      <td>0.91</td>\n",
              "      <td>0.15</td>\n",
              "      <td>239.91</td>\n",
              "      <td>3.93</td>\n",
              "      <td>1.33</td>\n",
              "      <td>1.24</td>\n",
              "      <td>6.07</td>\n",
              "      <td>8.75</td>\n",
              "      <td>2008.50</td>\n",
              "      <td>11.50</td>\n",
              "    </tr>\n",
              "    <tr>\n",
              "      <th>7</th>\n",
              "      <td>0.70</td>\n",
              "      <td>0.15</td>\n",
              "      <td>240.00</td>\n",
              "      <td>3.06</td>\n",
              "      <td>0.71</td>\n",
              "      <td>0.99</td>\n",
              "      <td>4.27</td>\n",
              "      <td>5.98</td>\n",
              "      <td>2008.50</td>\n",
              "      <td>11.50</td>\n",
              "    </tr>\n",
              "    <tr>\n",
              "      <th>8</th>\n",
              "      <td>0.57</td>\n",
              "      <td>0.14</td>\n",
              "      <td>240.17</td>\n",
              "      <td>2.51</td>\n",
              "      <td>0.51</td>\n",
              "      <td>0.80</td>\n",
              "      <td>3.73</td>\n",
              "      <td>5.17</td>\n",
              "      <td>2008.50</td>\n",
              "      <td>11.50</td>\n",
              "    </tr>\n",
              "    <tr>\n",
              "      <th>9</th>\n",
              "      <td>0.98</td>\n",
              "      <td>0.13</td>\n",
              "      <td>240.45</td>\n",
              "      <td>4.17</td>\n",
              "      <td>1.16</td>\n",
              "      <td>1.18</td>\n",
              "      <td>6.19</td>\n",
              "      <td>8.70</td>\n",
              "      <td>2008.50</td>\n",
              "      <td>11.50</td>\n",
              "    </tr>\n",
              "    <tr>\n",
              "      <th>10</th>\n",
              "      <td>1.14</td>\n",
              "      <td>0.12</td>\n",
              "      <td>240.78</td>\n",
              "      <td>4.80</td>\n",
              "      <td>1.07</td>\n",
              "      <td>1.48</td>\n",
              "      <td>6.59</td>\n",
              "      <td>9.13</td>\n",
              "      <td>2008.50</td>\n",
              "      <td>11.50</td>\n",
              "    </tr>\n",
              "    <tr>\n",
              "      <th>11</th>\n",
              "      <td>1.29</td>\n",
              "      <td>0.11</td>\n",
              "      <td>241.04</td>\n",
              "      <td>5.44</td>\n",
              "      <td>1.29</td>\n",
              "      <td>1.35</td>\n",
              "      <td>6.97</td>\n",
              "      <td>9.61</td>\n",
              "      <td>2008.45</td>\n",
              "      <td>11.49</td>\n",
              "    </tr>\n",
              "    <tr>\n",
              "      <th>12</th>\n",
              "      <td>1.49</td>\n",
              "      <td>0.11</td>\n",
              "      <td>242.75</td>\n",
              "      <td>6.23</td>\n",
              "      <td>1.31</td>\n",
              "      <td>1.44</td>\n",
              "      <td>7.81</td>\n",
              "      <td>10.56</td>\n",
              "      <td>2007.72</td>\n",
              "      <td>11.52</td>\n",
              "    </tr>\n",
              "  </tbody>\n",
              "</table>\n",
              "</div>"
            ],
            "text/plain": [
              "       Global_active_power  Global_reactive_power  ...     Year   Hour\n",
              "Month                                              ...                \n",
              "1                     1.46                   0.11  ...  2008.50  11.50\n",
              "2                     1.30                   0.10  ...  2008.50  11.50\n",
              "3                     1.23                   0.11  ...  2008.50  11.50\n",
              "4                     1.05                   0.12  ...  2008.50  11.50\n",
              "5                     1.03                   0.13  ...  2008.50  11.50\n",
              "6                     0.91                   0.15  ...  2008.50  11.50\n",
              "7                     0.70                   0.15  ...  2008.50  11.50\n",
              "8                     0.57                   0.14  ...  2008.50  11.50\n",
              "9                     0.98                   0.13  ...  2008.50  11.50\n",
              "10                    1.14                   0.12  ...  2008.50  11.50\n",
              "11                    1.29                   0.11  ...  2008.45  11.49\n",
              "12                    1.49                   0.11  ...  2007.72  11.52\n",
              "\n",
              "[12 rows x 10 columns]"
            ]
          },
          "metadata": {
            "tags": []
          },
          "execution_count": 19
        }
      ]
    },
    {
      "cell_type": "markdown",
      "metadata": {
        "id": "hWliA-_EFFvl"
      },
      "source": [
        "Here We are not interested in Year and Hour Columns for visulization."
      ]
    },
    {
      "cell_type": "markdown",
      "metadata": {
        "id": "BH4pfY1CFFvl"
      },
      "source": [
        "### Visualization Based on Months"
      ]
    },
    {
      "cell_type": "markdown",
      "metadata": {
        "id": "ZVnjVlgeFFvm"
      },
      "source": [
        "##### Global_active_power Vs Months Visualiziation"
      ]
    },
    {
      "cell_type": "code",
      "metadata": {
        "colab": {
          "base_uri": "https://localhost:8080/",
          "height": 350
        },
        "id": "q9dqInjOFFvm",
        "outputId": "081b1395-060a-46ed-c24f-fc0f6dd3cca4"
      },
      "source": [
        "fig = plt.figure(figsize = (15, 5)) \n",
        "years= range(1,13)\n",
        "plt.bar(years,data.groupby([\"Month\"]).mean()[\"Global_active_power\"] , color=['orange'], width = 0.5)  \n",
        "plt.xticks(years)\n",
        "plt.xlabel(\"Months\") \n",
        "plt.ylabel(\"Global_active_power\") \n",
        "plt.title(\"Global_active_power- Month Wise\") \n",
        "plt.show()"
      ],
      "execution_count": 20,
      "outputs": [
        {
          "output_type": "display_data",
          "data": {
            "image/png": "[encoded data removed]",
            "text/plain": [
              "<Figure size 1080x360 with 1 Axes>"
            ]
          },
          "metadata": {
            "tags": [],
            "needs_background": "light"
          }
        }
      ]
    },
    {
      "cell_type": "markdown",
      "metadata": {
        "id": "dglJPQpvFFvm"
      },
      "source": [
        "#### Global_reactive_power Vs Months Visualiziation"
      ]
    },
    {
      "cell_type": "code",
      "metadata": {
        "colab": {
          "base_uri": "https://localhost:8080/",
          "height": 350
        },
        "id": "dLG3TNu2FFvn",
        "outputId": "394bd46f-bf88-4a45-f80f-e846c1aa201e"
      },
      "source": [
        "fig = plt.figure(figsize = (15, 5)) \n",
        "years= range(1,13)\n",
        "plt.bar(years,data.groupby([\"Month\"]).mean()[\"Global_reactive_power\"] , color=['red'], width = 0.5)  \n",
        "plt.xticks(years)\n",
        "plt.xlabel(\"Months\") \n",
        "plt.ylabel(\"Global_reactive_power\") \n",
        "plt.title(\"Global_reactive_power- Month Wise\") \n",
        "plt.show()"
      ],
      "execution_count": 21,
      "outputs": [
        {
          "output_type": "display_data",
          "data": {
            "image/png": "[encoded data removed]",
            "text/plain": [
              "<Figure size 1080x360 with 1 Axes>"
            ]
          },
          "metadata": {
            "tags": [],
            "needs_background": "light"
          }
        }
      ]
    },
    {
      "cell_type": "markdown",
      "metadata": {
        "id": "bXvj0IPnFFvn"
      },
      "source": [
        "#### Global_intensity Vs Months visualization"
      ]
    },
    {
      "cell_type": "code",
      "metadata": {
        "colab": {
          "base_uri": "https://localhost:8080/",
          "height": 350
        },
        "id": "cbs2Iap9FFvn",
        "outputId": "23e9a6c4-84e5-4071-c437-2d859daeb738"
      },
      "source": [
        "fig = plt.figure(figsize = (15, 5)) \n",
        "years= range(1,13)\n",
        "plt.bar(years,data.groupby([\"Month\"]).mean()[\"Global_intensity\"] , color=['blue'], width = 0.5)  \n",
        "plt.xticks(years)\n",
        "plt.xlabel(\"Months\") \n",
        "plt.ylabel(\"Global_intensity\") \n",
        "plt.title(\"Global_intensity- Month Wise\") \n",
        "plt.show()"
      ],
      "execution_count": 22,
      "outputs": [
        {
          "output_type": "display_data",
          "data": {
            "image/png": "[encoded data removed]",
            "text/plain": [
              "<Figure size 1080x360 with 1 Axes>"
            ]
          },
          "metadata": {
            "tags": [],
            "needs_background": "light"
          }
        }
      ]
    },
    {
      "cell_type": "markdown",
      "metadata": {
        "id": "QUGdIshQFFvo"
      },
      "source": [
        "#### Total Units (All 3 Meter Readings) Vs Months Visualization"
      ]
    },
    {
      "cell_type": "code",
      "metadata": {
        "colab": {
          "base_uri": "https://localhost:8080/",
          "height": 350
        },
        "id": "1yD7zNowFFvo",
        "outputId": "4e5c9358-1284-46ff-e44e-8205a7f257ff"
      },
      "source": [
        "fig = plt.figure(figsize = (15, 5)) \n",
        "years= range(1,13)\n",
        "plt.bar(years,data.groupby([\"Month\"]).mean()[\"Total_Units\"] , color='g', width = 0.5)  \n",
        "plt.xticks(years)\n",
        "plt.xlabel(\"Months\") \n",
        "plt.ylabel(\"Total_Units\") \n",
        "plt.title(\"Total_Units- Month Wise\") \n",
        "plt.show()"
      ],
      "execution_count": 23,
      "outputs": [
        {
          "output_type": "display_data",
          "data": {
            "image/png": "[encoded data removed]",
            "text/plain": [
              "<Figure size 1080x360 with 1 Axes>"
            ]
          },
          "metadata": {
            "tags": [],
            "needs_background": "light"
          }
        }
      ]
    },
    {
      "cell_type": "markdown",
      "metadata": {
        "id": "O-wPHwYAFFvo"
      },
      "source": [
        "#### Voltage Variations in Months (Almost Constant)"
      ]
    },
    {
      "cell_type": "code",
      "metadata": {
        "colab": {
          "base_uri": "https://localhost:8080/",
          "height": 350
        },
        "id": "RWKzTRFTFFvo",
        "outputId": "0cf39aaf-6aee-4896-d264-78b970d826c4"
      },
      "source": [
        "fig = plt.figure(figsize = (15, 5)) \n",
        "years= range(1,13)\n",
        "plt.bar(years,data.groupby([\"Month\"]).mean()[\"Voltage\"] , color='violet', width = 0.5)  \n",
        "plt.xticks(years)\n",
        "plt.xlabel(\"Months\") \n",
        "plt.ylabel(\"Voltage\") \n",
        "plt.title(\"Voltage- Month Wise\") \n",
        "plt.show()"
      ],
      "execution_count": 24,
      "outputs": [
        {
          "output_type": "display_data",
          "data": {
            "image/png": "[encoded data removed]",
            "text/plain": [
              "<Figure size 1080x360 with 1 Axes>"
            ]
          },
          "metadata": {
            "tags": [],
            "needs_background": "light"
          }
        }
      ]
    },
    {
      "cell_type": "code",
      "metadata": {
        "colab": {
          "base_uri": "https://localhost:8080/",
          "height": 235
        },
        "id": "O6IYwXhxFFvp",
        "outputId": "0b4198a3-4998-492e-9a78-16ef5ad569d2"
      },
      "source": [
        "data.groupby([\"Year\"]).mean().round(2)"
      ],
      "execution_count": 25,
      "outputs": [
        {
          "output_type": "execute_result",
          "data": {
            "text/html": [
              "<div>\n",
              "<style scoped>\n",
              "    .dataframe tbody tr th:only-of-type {\n",
              "        vertical-align: middle;\n",
              "    }\n",
              "\n",
              "    .dataframe tbody tr th {\n",
              "        vertical-align: top;\n",
              "    }\n",
              "\n",
              "    .dataframe thead th {\n",
              "        text-align: right;\n",
              "    }\n",
              "</style>\n",
              "<table border=\"1\" class=\"dataframe\">\n",
              "  <thead>\n",
              "    <tr style=\"text-align: right;\">\n",
              "      <th></th>\n",
              "      <th>Global_active_power</th>\n",
              "      <th>Global_reactive_power</th>\n",
              "      <th>Voltage</th>\n",
              "      <th>Global_intensity</th>\n",
              "      <th>Sub_metering_1</th>\n",
              "      <th>Sub_metering_2</th>\n",
              "      <th>Sub_metering_3</th>\n",
              "      <th>Total_Units</th>\n",
              "      <th>Month</th>\n",
              "      <th>Hour</th>\n",
              "    </tr>\n",
              "    <tr>\n",
              "      <th>Year</th>\n",
              "      <th></th>\n",
              "      <th></th>\n",
              "      <th></th>\n",
              "      <th></th>\n",
              "      <th></th>\n",
              "      <th></th>\n",
              "      <th></th>\n",
              "      <th></th>\n",
              "      <th></th>\n",
              "      <th></th>\n",
              "    </tr>\n",
              "  </thead>\n",
              "  <tbody>\n",
              "    <tr>\n",
              "      <th>2006</th>\n",
              "      <td>1.90</td>\n",
              "      <td>0.13</td>\n",
              "      <td>241.44</td>\n",
              "      <td>8.03</td>\n",
              "      <td>1.25</td>\n",
              "      <td>2.21</td>\n",
              "      <td>7.41</td>\n",
              "      <td>10.87</td>\n",
              "      <td>12.00</td>\n",
              "      <td>11.66</td>\n",
              "    </tr>\n",
              "    <tr>\n",
              "      <th>2007</th>\n",
              "      <td>1.12</td>\n",
              "      <td>0.12</td>\n",
              "      <td>239.38</td>\n",
              "      <td>4.76</td>\n",
              "      <td>1.23</td>\n",
              "      <td>1.64</td>\n",
              "      <td>5.75</td>\n",
              "      <td>8.66</td>\n",
              "      <td>6.53</td>\n",
              "      <td>11.50</td>\n",
              "    </tr>\n",
              "    <tr>\n",
              "      <th>2008</th>\n",
              "      <td>1.07</td>\n",
              "      <td>0.12</td>\n",
              "      <td>240.63</td>\n",
              "      <td>4.55</td>\n",
              "      <td>1.11</td>\n",
              "      <td>1.26</td>\n",
              "      <td>6.04</td>\n",
              "      <td>8.40</td>\n",
              "      <td>6.51</td>\n",
              "      <td>11.50</td>\n",
              "    </tr>\n",
              "    <tr>\n",
              "      <th>2009</th>\n",
              "      <td>1.08</td>\n",
              "      <td>0.13</td>\n",
              "      <td>241.89</td>\n",
              "      <td>4.56</td>\n",
              "      <td>1.14</td>\n",
              "      <td>1.14</td>\n",
              "      <td>6.78</td>\n",
              "      <td>9.10</td>\n",
              "      <td>6.53</td>\n",
              "      <td>11.50</td>\n",
              "    </tr>\n",
              "    <tr>\n",
              "      <th>2010</th>\n",
              "      <td>1.06</td>\n",
              "      <td>0.13</td>\n",
              "      <td>241.52</td>\n",
              "      <td>4.48</td>\n",
              "      <td>0.99</td>\n",
              "      <td>1.10</td>\n",
              "      <td>7.13</td>\n",
              "      <td>9.33</td>\n",
              "      <td>5.96</td>\n",
              "      <td>11.50</td>\n",
              "    </tr>\n",
              "  </tbody>\n",
              "</table>\n",
              "</div>"
            ],
            "text/plain": [
              "      Global_active_power  Global_reactive_power  ...  Month   Hour\n",
              "Year                                              ...              \n",
              "2006                 1.90                   0.13  ...  12.00  11.66\n",
              "2007                 1.12                   0.12  ...   6.53  11.50\n",
              "2008                 1.07                   0.12  ...   6.51  11.50\n",
              "2009                 1.08                   0.13  ...   6.53  11.50\n",
              "2010                 1.06                   0.13  ...   5.96  11.50\n",
              "\n",
              "[5 rows x 10 columns]"
            ]
          },
          "metadata": {
            "tags": []
          },
          "execution_count": 25
        }
      ]
    },
    {
      "cell_type": "markdown",
      "metadata": {
        "id": "ZpvUEvZ_FFvp"
      },
      "source": [
        "### Visualization Based on Years"
      ]
    },
    {
      "cell_type": "markdown",
      "metadata": {
        "id": "CLwdvZhDFFvp"
      },
      "source": [
        "#### Global_active_power Vs Years Visualiziation"
      ]
    },
    {
      "cell_type": "code",
      "metadata": {
        "scrolled": true,
        "colab": {
          "base_uri": "https://localhost:8080/",
          "height": 350
        },
        "id": "pkfupMN4FFvq",
        "outputId": "0c42b841-27d3-442c-a46b-17483e1bc803"
      },
      "source": [
        "fig = plt.figure(figsize = (10, 5)) \n",
        "years= range(2006,2011)\n",
        "plt.bar(years,data.groupby([\"Year\"]).mean()[\"Global_active_power\"] , color=['orange'], width = 0.5) \n",
        "plt.xticks(years)\n",
        "plt.xlabel(\"Years\") \n",
        "plt.ylabel(\"Global_active_power\") \n",
        "plt.title(\"Global_active_power- Year Wise\") \n",
        "plt.show()"
      ],
      "execution_count": 26,
      "outputs": [
        {
          "output_type": "display_data",
          "data": {
            "image/png": "[encoded data removed]",
            "text/plain": [
              "<Figure size 720x360 with 1 Axes>"
            ]
          },
          "metadata": {
            "tags": [],
            "needs_background": "light"
          }
        }
      ]
    },
    {
      "cell_type": "markdown",
      "metadata": {
        "id": "NzPMCbTFFFvq"
      },
      "source": [
        "#### Global_reactive_power Vs Years Visualiziation"
      ]
    },
    {
      "cell_type": "code",
      "metadata": {
        "colab": {
          "base_uri": "https://localhost:8080/",
          "height": 350
        },
        "id": "jrChr7OdFFvq",
        "outputId": "f40f774c-2a13-4997-deef-8fd58aab288c"
      },
      "source": [
        "fig = plt.figure(figsize = (10, 5)) \n",
        "years= range(2006,2011)\n",
        "plt.bar(years,data.groupby([\"Year\"]).mean()[\"Global_reactive_power\"] , color='r', width = 0.5) \n",
        "plt.xticks(years)\n",
        "plt.xlabel(\"Years\") \n",
        "plt.ylabel(\"Global_reactive_power\") \n",
        "plt.title(\"Global_reactive_power- Year Wise\") \n",
        "plt.show()"
      ],
      "execution_count": 27,
      "outputs": [
        {
          "output_type": "display_data",
          "data": {
            "image/png": "[encoded data removed]",
            "text/plain": [
              "<Figure size 720x360 with 1 Axes>"
            ]
          },
          "metadata": {
            "tags": [],
            "needs_background": "light"
          }
        }
      ]
    },
    {
      "cell_type": "markdown",
      "metadata": {
        "id": "7hdw3_a7FFvq"
      },
      "source": [
        "#### Global_intensity Vs Years visualization"
      ]
    },
    {
      "cell_type": "code",
      "metadata": {
        "colab": {
          "base_uri": "https://localhost:8080/",
          "height": 350
        },
        "id": "ZVHBTyRuFFvr",
        "outputId": "b755134b-7631-4ccc-ad80-e99a43387d6b"
      },
      "source": [
        "fig = plt.figure(figsize = (10, 5)) \n",
        "years= range(2006,2011)\n",
        "plt.bar(years,data.groupby([\"Year\"]).mean()[\"Global_intensity\"] , color=['blue'], width = 0.5) \n",
        "plt.xticks(years)\n",
        "plt.xlabel(\"Years\") \n",
        "plt.ylabel(\"Global_intensity\") \n",
        "plt.title(\"Global_intensity- Year Wise\") \n",
        "plt.show()"
      ],
      "execution_count": 28,
      "outputs": [
        {
          "output_type": "display_data",
          "data": {
            "image/png": "[encoded data removed]",
            "text/plain": [
              "<Figure size 720x360 with 1 Axes>"
            ]
          },
          "metadata": {
            "tags": [],
            "needs_background": "light"
          }
        }
      ]
    },
    {
      "cell_type": "markdown",
      "metadata": {
        "id": "9wYpxTclFFvr"
      },
      "source": [
        "#### Total Units (All 3 Meter Readings) Vs Years Visualization"
      ]
    },
    {
      "cell_type": "code",
      "metadata": {
        "colab": {
          "base_uri": "https://localhost:8080/",
          "height": 350
        },
        "id": "iUnKp-7BFFvr",
        "outputId": "913d68cc-e805-40ab-e02e-d8375f26367a"
      },
      "source": [
        "fig = plt.figure(figsize = (10, 5)) \n",
        "years= range(2006,2011)\n",
        "plt.bar(years,data.groupby([\"Year\"]).mean()[\"Total_Units\"] , color=['green'], width = 0.5) \n",
        "plt.xticks(years)\n",
        "plt.xlabel(\"Years\") \n",
        "plt.ylabel(\"Total_Units\") \n",
        "plt.title(\"Total_Units- Year Wise\") \n",
        "plt.show()"
      ],
      "execution_count": 29,
      "outputs": [
        {
          "output_type": "display_data",
          "data": {
            "image/png": "[encoded data removed]",
            "text/plain": [
              "<Figure size 720x360 with 1 Axes>"
            ]
          },
          "metadata": {
            "tags": [],
            "needs_background": "light"
          }
        }
      ]
    },
    {
      "cell_type": "markdown",
      "metadata": {
        "id": "7AHRddyHFFvr"
      },
      "source": [
        "#### Voltage Variation Yearly (Almost Constant)"
      ]
    },
    {
      "cell_type": "code",
      "metadata": {
        "colab": {
          "base_uri": "https://localhost:8080/",
          "height": 350
        },
        "id": "CRxKpZphFFvs",
        "outputId": "e8dd65a8-6bdc-4137-cdde-6b6b0ef6b437"
      },
      "source": [
        "fig = plt.figure(figsize = (10, 5)) \n",
        "years= range(2006,2011)\n",
        "plt.bar(years,data.groupby([\"Year\"]).mean()[\"Voltage\"] , color=['violet'], width = 0.5) \n",
        "plt.xticks(years)\n",
        "plt.xlabel(\"Years\") \n",
        "plt.ylabel(\"Voltage\") \n",
        "plt.title(\"Voltage- Year Wise\") \n",
        "plt.show()"
      ],
      "execution_count": 30,
      "outputs": [
        {
          "output_type": "display_data",
          "data": {
            "image/png": "[encoded data removed]",
            "text/plain": [
              "<Figure size 720x360 with 1 Axes>"
            ]
          },
          "metadata": {
            "tags": [],
            "needs_background": "light"
          }
        }
      ]
    },
    {
      "cell_type": "markdown",
      "metadata": {
        "id": "Dr321eIhFFvs"
      },
      "source": [
        "### Season Wise Visualization"
      ]
    },
    {
      "cell_type": "code",
      "metadata": {
        "colab": {
          "base_uri": "https://localhost:8080/",
          "height": 235
        },
        "id": "lswNcemCFFvs",
        "outputId": "651dd0d4-660f-4ae4-8a51-4de26a4495cd"
      },
      "source": [
        "data.groupby([\"Season\"]).mean().round(2)"
      ],
      "execution_count": 31,
      "outputs": [
        {
          "output_type": "execute_result",
          "data": {
            "text/html": [
              "<div>\n",
              "<style scoped>\n",
              "    .dataframe tbody tr th:only-of-type {\n",
              "        vertical-align: middle;\n",
              "    }\n",
              "\n",
              "    .dataframe tbody tr th {\n",
              "        vertical-align: top;\n",
              "    }\n",
              "\n",
              "    .dataframe thead th {\n",
              "        text-align: right;\n",
              "    }\n",
              "</style>\n",
              "<table border=\"1\" class=\"dataframe\">\n",
              "  <thead>\n",
              "    <tr style=\"text-align: right;\">\n",
              "      <th></th>\n",
              "      <th>Global_active_power</th>\n",
              "      <th>Global_reactive_power</th>\n",
              "      <th>Voltage</th>\n",
              "      <th>Global_intensity</th>\n",
              "      <th>Sub_metering_1</th>\n",
              "      <th>Sub_metering_2</th>\n",
              "      <th>Sub_metering_3</th>\n",
              "      <th>Total_Units</th>\n",
              "      <th>Month</th>\n",
              "      <th>Year</th>\n",
              "      <th>Hour</th>\n",
              "    </tr>\n",
              "    <tr>\n",
              "      <th>Season</th>\n",
              "      <th></th>\n",
              "      <th></th>\n",
              "      <th></th>\n",
              "      <th></th>\n",
              "      <th></th>\n",
              "      <th></th>\n",
              "      <th></th>\n",
              "      <th></th>\n",
              "      <th></th>\n",
              "      <th></th>\n",
              "      <th></th>\n",
              "    </tr>\n",
              "  </thead>\n",
              "  <tbody>\n",
              "    <tr>\n",
              "      <th>Autnum</th>\n",
              "      <td>1.13</td>\n",
              "      <td>0.12</td>\n",
              "      <td>240.76</td>\n",
              "      <td>4.80</td>\n",
              "      <td>1.17</td>\n",
              "      <td>1.34</td>\n",
              "      <td>6.58</td>\n",
              "      <td>9.15</td>\n",
              "      <td>9.99</td>\n",
              "      <td>2008.48</td>\n",
              "      <td>11.50</td>\n",
              "    </tr>\n",
              "    <tr>\n",
              "      <th>Monsoon</th>\n",
              "      <td>0.64</td>\n",
              "      <td>0.15</td>\n",
              "      <td>240.09</td>\n",
              "      <td>2.79</td>\n",
              "      <td>0.61</td>\n",
              "      <td>0.90</td>\n",
              "      <td>4.00</td>\n",
              "      <td>5.58</td>\n",
              "      <td>7.50</td>\n",
              "      <td>2008.50</td>\n",
              "      <td>11.50</td>\n",
              "    </tr>\n",
              "    <tr>\n",
              "      <th>Spring</th>\n",
              "      <td>1.26</td>\n",
              "      <td>0.11</td>\n",
              "      <td>241.50</td>\n",
              "      <td>5.31</td>\n",
              "      <td>1.20</td>\n",
              "      <td>1.53</td>\n",
              "      <td>7.21</td>\n",
              "      <td>9.98</td>\n",
              "      <td>2.52</td>\n",
              "      <td>2008.50</td>\n",
              "      <td>11.50</td>\n",
              "    </tr>\n",
              "    <tr>\n",
              "      <th>Summer</th>\n",
              "      <td>1.00</td>\n",
              "      <td>0.13</td>\n",
              "      <td>239.97</td>\n",
              "      <td>4.25</td>\n",
              "      <td>1.21</td>\n",
              "      <td>1.24</td>\n",
              "      <td>6.44</td>\n",
              "      <td>8.98</td>\n",
              "      <td>5.00</td>\n",
              "      <td>2008.50</td>\n",
              "      <td>11.50</td>\n",
              "    </tr>\n",
              "    <tr>\n",
              "      <th>Winter</th>\n",
              "      <td>1.48</td>\n",
              "      <td>0.11</td>\n",
              "      <td>242.45</td>\n",
              "      <td>6.18</td>\n",
              "      <td>1.36</td>\n",
              "      <td>1.50</td>\n",
              "      <td>7.91</td>\n",
              "      <td>10.66</td>\n",
              "      <td>6.13</td>\n",
              "      <td>2008.14</td>\n",
              "      <td>11.51</td>\n",
              "    </tr>\n",
              "  </tbody>\n",
              "</table>\n",
              "</div>"
            ],
            "text/plain": [
              "         Global_active_power  Global_reactive_power  ...     Year   Hour\n",
              "Season                                               ...                \n",
              "Autnum                  1.13                   0.12  ...  2008.48  11.50\n",
              "Monsoon                 0.64                   0.15  ...  2008.50  11.50\n",
              "Spring                  1.26                   0.11  ...  2008.50  11.50\n",
              "Summer                  1.00                   0.13  ...  2008.50  11.50\n",
              "Winter                  1.48                   0.11  ...  2008.14  11.51\n",
              "\n",
              "[5 rows x 11 columns]"
            ]
          },
          "metadata": {
            "tags": []
          },
          "execution_count": 31
        }
      ]
    },
    {
      "cell_type": "markdown",
      "metadata": {
        "id": "A3RCZp3IFFvt"
      },
      "source": [
        "#### Global_active_power Vs Seasons Visualiziation"
      ]
    },
    {
      "cell_type": "code",
      "metadata": {
        "colab": {
          "base_uri": "https://localhost:8080/",
          "height": 350
        },
        "id": "4rabirI9FFvt",
        "outputId": "0198ab27-8eea-4a3b-9db9-69af351b722d"
      },
      "source": [
        "fig = plt.figure(figsize = (10, 5)) \n",
        "Seasons= ['Autnum', 'Monsoon', 'Spring', 'Summer','Winter']\n",
        "plt.bar(Seasons,data.groupby([\"Season\"]).mean()[\"Global_active_power\"] , color='orange', width =0.50) \n",
        "plt.xticks(Seasons)\n",
        "plt.xlabel(\"Season\") \n",
        "plt.ylabel(\"Global_active_power\") \n",
        "plt.title(\"Global_active_power- Season Wise\") \n",
        "plt.show()"
      ],
      "execution_count": 38,
      "outputs": [
        {
          "output_type": "display_data",
          "data": {
            "image/png": "[encoded data removed]",
            "text/plain": [
              "<Figure size 720x360 with 1 Axes>"
            ]
          },
          "metadata": {
            "tags": [],
            "needs_background": "light"
          }
        }
      ]
    },
    {
      "cell_type": "markdown",
      "metadata": {
        "id": "aqhZg48gFFvu"
      },
      "source": [
        "#### Global_reactive_power Vs Seasons Visualiziation"
      ]
    },
    {
      "cell_type": "code",
      "metadata": {
        "colab": {
          "base_uri": "https://localhost:8080/",
          "height": 350
        },
        "id": "kXjZZnt2FFvv",
        "outputId": "728beb2c-8c42-4e79-e853-af564dd20a94"
      },
      "source": [
        "fig = plt.figure(figsize = (10, 5)) \n",
        "Seasons= ['Autnum', 'Monsoon', 'Spring', 'Summer','Winter']\n",
        "plt.bar(Seasons,data.groupby([\"Season\"]).mean()[\"Global_reactive_power\"] , color='r', width =0.50) \n",
        "plt.xticks(Seasons)\n",
        "plt.xlabel(\"Season\") \n",
        "plt.ylabel(\"Global_reactive_power\") \n",
        "plt.title(\"Global_reactive_power- Season Wise\") \n",
        "plt.show()"
      ],
      "execution_count": 33,
      "outputs": [
        {
          "output_type": "display_data",
          "data": {
            "image/png": "[encoded data removed]",
            "text/plain": [
              "<Figure size 720x360 with 1 Axes>"
            ]
          },
          "metadata": {
            "tags": [],
            "needs_background": "light"
          }
        }
      ]
    },
    {
      "cell_type": "markdown",
      "metadata": {
        "id": "yyeBSFNoFFvw"
      },
      "source": [
        "#### Global_intensity Vs Years visualization\n"
      ]
    },
    {
      "cell_type": "code",
      "metadata": {
        "colab": {
          "base_uri": "https://localhost:8080/",
          "height": 350
        },
        "id": "BviqiKOLFFvw",
        "outputId": "02aade6b-ff36-4a50-bbd5-cb641a60f318"
      },
      "source": [
        "fig = plt.figure(figsize = (10, 5)) \n",
        "Seasons= ['Autnum', 'Monsoon', 'Spring', 'Summer','Winter']\n",
        "plt.bar(Seasons,data.groupby([\"Season\"]).mean()[\"Global_intensity\"] , color='b', width =0.50) \n",
        "plt.xticks(Seasons)\n",
        "plt.xlabel(\"Season\") \n",
        "plt.ylabel(\"Global_intensity\") \n",
        "plt.title(\"Global_intensity- Season Wise\") \n",
        "plt.show()"
      ],
      "execution_count": 34,
      "outputs": [
        {
          "output_type": "display_data",
          "data": {
            "image/png": "[encoded data removed]",
            "text/plain": [
              "<Figure size 720x360 with 1 Axes>"
            ]
          },
          "metadata": {
            "tags": [],
            "needs_background": "light"
          }
        }
      ]
    },
    {
      "cell_type": "markdown",
      "metadata": {
        "id": "xo_bEPH_FFv8"
      },
      "source": [
        "#### Total Units (All 3 Meter Readings) Vs Season Visualization"
      ]
    },
    {
      "cell_type": "code",
      "metadata": {
        "colab": {
          "base_uri": "https://localhost:8080/",
          "height": 350
        },
        "id": "2nBIOdukFFv8",
        "outputId": "e8e1ecbd-0dad-4341-b665-a1eb3b7abf39"
      },
      "source": [
        "fig = plt.figure(figsize = (10, 5)) \n",
        "Seasons= ['Autnum', 'Monsoon', 'Spring', 'Summer','Winter']\n",
        "plt.bar(Seasons,data.groupby([\"Season\"]).mean()[\"Total_Units\"] , color='g', width =0.50) \n",
        "plt.xticks(Seasons)\n",
        "plt.xlabel(\"Season\") \n",
        "plt.ylabel(\"Total_Units\") \n",
        "plt.title(\"Total_Units- Season Wise\") \n",
        "plt.show()"
      ],
      "execution_count": 35,
      "outputs": [
        {
          "output_type": "display_data",
          "data": {
            "image/png": "[encoded data removed]",
            "text/plain": [
              "<Figure size 720x360 with 1 Axes>"
            ]
          },
          "metadata": {
            "tags": [],
            "needs_background": "light"
          }
        }
      ]
    },
    {
      "cell_type": "markdown",
      "metadata": {
        "id": "SWMUp0D0FFv9"
      },
      "source": [
        "#### Voltage Variation Season Wise (Almost Constant)"
      ]
    },
    {
      "cell_type": "code",
      "metadata": {
        "colab": {
          "base_uri": "https://localhost:8080/",
          "height": 350
        },
        "id": "Mcvzxoo4FFv9",
        "outputId": "dc37a7dd-94d7-463b-ca9a-f8ee5dbaf6f5"
      },
      "source": [
        "fig = plt.figure(figsize = (10, 5)) \n",
        "Seasons= ['Autnum', 'Monsoon', 'Spring', 'Summer','Winter']\n",
        "plt.bar(Seasons,data.groupby([\"Season\"]).mean()[\"Voltage\"] , color='violet', width =0.50) \n",
        "plt.xticks(Seasons)\n",
        "plt.xlabel(\"Season\") \n",
        "plt.ylabel(\"Voltage\") \n",
        "plt.title(\"Voltage- Season Wise\") \n",
        "plt.show()"
      ],
      "execution_count": 36,
      "outputs": [
        {
          "output_type": "display_data",
          "data": {
            "image/png": "[encoded data removed]",
            "text/plain": [
              "<Figure size 720x360 with 1 Axes>"
            ]
          },
          "metadata": {
            "tags": [],
            "needs_background": "light"
          }
        }
      ]
    },
    {
      "cell_type": "markdown",
      "metadata": {
        "id": "YMn-qd7UFFv-"
      },
      "source": [
        "#### Global_active_power Vs Global Intensity Visualization (Linear)"
      ]
    },
    {
      "cell_type": "code",
      "metadata": {
        "colab": {
          "base_uri": "https://localhost:8080/",
          "height": 351
        },
        "id": "YkZTlBnUFFv-",
        "outputId": "48a7b004-af01-4d12-e581-b23a415e7eca"
      },
      "source": [
        "fig = plt.figure(figsize = (10, 5)) \n",
        "plt.plot(data[\"Global_intensity\"],data[\"Global_active_power\"] , color='springgreen') \n",
        "plt.xlabel(\"Global_intensity\") \n",
        "plt.ylabel(\"Global_active_power\") \n",
        "plt.title(\"Global_active_power- Global_intensity Wise\") \n",
        "plt.show()"
      ],
      "execution_count": 37,
      "outputs": [
        {
          "output_type": "display_data",
          "data": {
            "image/png": "[encoded data removed]",
            "text/plain": [
              "<Figure size 720x360 with 1 Axes>"
            ]
          },
          "metadata": {
            "tags": [],
            "needs_background": "light"
          }
        }
      ]
    },
    {
      "cell_type": "code",
      "metadata": {
        "id": "RtH2_GiUFFv-"
      },
      "source": [
        ""
      ],
      "execution_count": 37,
      "outputs": []
    }
  ]
}
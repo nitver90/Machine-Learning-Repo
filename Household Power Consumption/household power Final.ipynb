{
 "cells": [
  {
   "cell_type": "code",
   "execution_count": null,
   "metadata": {
    "colab": {
     "base_uri": "https://localhost:8080/"
    },
    "executionInfo": {
     "elapsed": 1674,
     "status": "ok",
     "timestamp": 1608903899316,
     "user": {
      "displayName": "NITIN VERMA",
      "photoUrl": "https://lh3.googleusercontent.com/a-/AOh14GgpieW_gSAnLVajJfGOwmtY_b6jOi-pMyI7sI9DhQ=s64",
      "userId": "06651179423666630496"
     },
     "user_tz": -330
    },
    "id": "k78P2IHoZiAB",
    "outputId": "d9a51e74-a08e-4b7b-d79c-452cc9873fac"
   },
   "outputs": [],
   "source": []
  },
  {
   "cell_type": "code",
   "execution_count": 58,
   "metadata": {
    "executionInfo": {
     "elapsed": 1672,
     "status": "ok",
     "timestamp": 1608903899317,
     "user": {
      "displayName": "NITIN VERMA",
      "photoUrl": "https://lh3.googleusercontent.com/a-/AOh14GgpieW_gSAnLVajJfGOwmtY_b6jOi-pMyI7sI9DhQ=s64",
      "userId": "06651179423666630496"
     },
     "user_tz": -330
    },
    "id": "M5ZUHP8TZ1ju"
   },
   "outputs": [],
   "source": [
    "import pandas as pd\n",
    "import numpy as np\n",
    "from sklearn.tree import DecisionTreeRegressor\n",
    "import matplotlib.pyplot as plt\n",
    "from sklearn.model_selection import train_test_split\n",
    "from sklearn import metrics\n",
    "from sklearn.linear_model import LinearRegression\n",
    "from sklearn.linear_model import LogisticRegression\n",
    "from sklearn.svm import SVR\n",
    "from sklearn.metrics import r2_score\n",
    "from sklearn.preprocessing import StandardScaler\n",
    "from sklearn.preprocessing import PolynomialFeatures\n",
    "from sklearn.ensemble import RandomForestRegressor"
   ]
  },
  {
   "cell_type": "code",
   "execution_count": 59,
   "metadata": {
    "executionInfo": {
     "elapsed": 3776,
     "status": "ok",
     "timestamp": 1608903932696,
     "user": {
      "displayName": "NITIN VERMA",
      "photoUrl": "https://lh3.googleusercontent.com/a-/AOh14GgpieW_gSAnLVajJfGOwmtY_b6jOi-pMyI7sI9DhQ=s64",
      "userId": "06651179423666630496"
     },
     "user_tz": -330
    },
    "id": "lGbiPIrFcGwM"
   },
   "outputs": [],
   "source": [
    "data= pd.read_csv(\"household_power_consumption.txt\",sep = \";\", low_memory=False)"
   ]
  },
  {
   "cell_type": "code",
   "execution_count": 60,
   "metadata": {},
   "outputs": [
    {
     "data": {
      "text/html": [
       "<div>\n",
       "<style scoped>\n",
       "    .dataframe tbody tr th:only-of-type {\n",
       "        vertical-align: middle;\n",
       "    }\n",
       "\n",
       "    .dataframe tbody tr th {\n",
       "        vertical-align: top;\n",
       "    }\n",
       "\n",
       "    .dataframe thead th {\n",
       "        text-align: right;\n",
       "    }\n",
       "</style>\n",
       "<table border=\"1\" class=\"dataframe\">\n",
       "  <thead>\n",
       "    <tr style=\"text-align: right;\">\n",
       "      <th></th>\n",
       "      <th>Date</th>\n",
       "      <th>Time</th>\n",
       "      <th>Global_active_power</th>\n",
       "      <th>Global_reactive_power</th>\n",
       "      <th>Voltage</th>\n",
       "      <th>Global_intensity</th>\n",
       "      <th>Sub_metering_1</th>\n",
       "      <th>Sub_metering_2</th>\n",
       "      <th>Sub_metering_3</th>\n",
       "    </tr>\n",
       "  </thead>\n",
       "  <tbody>\n",
       "    <tr>\n",
       "      <th>0</th>\n",
       "      <td>16/12/2006</td>\n",
       "      <td>17:24:00</td>\n",
       "      <td>4.216</td>\n",
       "      <td>0.418</td>\n",
       "      <td>234.840</td>\n",
       "      <td>18.400</td>\n",
       "      <td>0.000</td>\n",
       "      <td>1.000</td>\n",
       "      <td>17.0</td>\n",
       "    </tr>\n",
       "    <tr>\n",
       "      <th>1</th>\n",
       "      <td>16/12/2006</td>\n",
       "      <td>17:25:00</td>\n",
       "      <td>5.360</td>\n",
       "      <td>0.436</td>\n",
       "      <td>233.630</td>\n",
       "      <td>23.000</td>\n",
       "      <td>0.000</td>\n",
       "      <td>1.000</td>\n",
       "      <td>16.0</td>\n",
       "    </tr>\n",
       "    <tr>\n",
       "      <th>2</th>\n",
       "      <td>16/12/2006</td>\n",
       "      <td>17:26:00</td>\n",
       "      <td>5.374</td>\n",
       "      <td>0.498</td>\n",
       "      <td>233.290</td>\n",
       "      <td>23.000</td>\n",
       "      <td>0.000</td>\n",
       "      <td>2.000</td>\n",
       "      <td>17.0</td>\n",
       "    </tr>\n",
       "    <tr>\n",
       "      <th>3</th>\n",
       "      <td>16/12/2006</td>\n",
       "      <td>17:27:00</td>\n",
       "      <td>5.388</td>\n",
       "      <td>0.502</td>\n",
       "      <td>233.740</td>\n",
       "      <td>23.000</td>\n",
       "      <td>0.000</td>\n",
       "      <td>1.000</td>\n",
       "      <td>17.0</td>\n",
       "    </tr>\n",
       "    <tr>\n",
       "      <th>4</th>\n",
       "      <td>16/12/2006</td>\n",
       "      <td>17:28:00</td>\n",
       "      <td>3.666</td>\n",
       "      <td>0.528</td>\n",
       "      <td>235.680</td>\n",
       "      <td>15.800</td>\n",
       "      <td>0.000</td>\n",
       "      <td>1.000</td>\n",
       "      <td>17.0</td>\n",
       "    </tr>\n",
       "  </tbody>\n",
       "</table>\n",
       "</div>"
      ],
      "text/plain": [
       "         Date      Time Global_active_power Global_reactive_power  Voltage  \\\n",
       "0  16/12/2006  17:24:00               4.216                 0.418  234.840   \n",
       "1  16/12/2006  17:25:00               5.360                 0.436  233.630   \n",
       "2  16/12/2006  17:26:00               5.374                 0.498  233.290   \n",
       "3  16/12/2006  17:27:00               5.388                 0.502  233.740   \n",
       "4  16/12/2006  17:28:00               3.666                 0.528  235.680   \n",
       "\n",
       "  Global_intensity Sub_metering_1 Sub_metering_2  Sub_metering_3  \n",
       "0           18.400          0.000          1.000            17.0  \n",
       "1           23.000          0.000          1.000            16.0  \n",
       "2           23.000          0.000          2.000            17.0  \n",
       "3           23.000          0.000          1.000            17.0  \n",
       "4           15.800          0.000          1.000            17.0  "
      ]
     },
     "execution_count": 60,
     "metadata": {},
     "output_type": "execute_result"
    }
   ],
   "source": [
    "data.head()"
   ]
  },
  {
   "cell_type": "code",
   "execution_count": 61,
   "metadata": {
    "colab": {
     "base_uri": "https://localhost:8080/"
    },
    "executionInfo": {
     "elapsed": 5032,
     "status": "ok",
     "timestamp": 1608903902688,
     "user": {
      "displayName": "NITIN VERMA",
      "photoUrl": "https://lh3.googleusercontent.com/a-/AOh14GgpieW_gSAnLVajJfGOwmtY_b6jOi-pMyI7sI9DhQ=s64",
      "userId": "06651179423666630496"
     },
     "user_tz": -330
    },
    "id": "L95t5iXgckMx",
    "outputId": "f6366d2c-f2bf-4fc1-f312-606a55854d0c"
   },
   "outputs": [
    {
     "data": {
      "text/plain": [
       "Date                         0\n",
       "Time                         0\n",
       "Global_active_power          0\n",
       "Global_reactive_power        0\n",
       "Voltage                      0\n",
       "Global_intensity             0\n",
       "Sub_metering_1               0\n",
       "Sub_metering_2               0\n",
       "Sub_metering_3           25979\n",
       "dtype: int64"
      ]
     },
     "execution_count": 61,
     "metadata": {},
     "output_type": "execute_result"
    }
   ],
   "source": [
    "data.isnull().sum()"
   ]
  },
  {
   "cell_type": "code",
   "execution_count": 62,
   "metadata": {
    "executionInfo": {
     "elapsed": 5031,
     "status": "ok",
     "timestamp": 1608903902688,
     "user": {
      "displayName": "NITIN VERMA",
      "photoUrl": "https://lh3.googleusercontent.com/a-/AOh14GgpieW_gSAnLVajJfGOwmtY_b6jOi-pMyI7sI9DhQ=s64",
      "userId": "06651179423666630496"
     },
     "user_tz": -330
    },
    "id": "rmKqW6KzcmJR"
   },
   "outputs": [],
   "source": [
    "data=data.replace(\"?\",\"nan\")\n",
    "data.dropna(inplace= True)"
   ]
  },
  {
   "cell_type": "code",
   "execution_count": 63,
   "metadata": {
    "colab": {
     "base_uri": "https://localhost:8080/"
    },
    "executionInfo": {
     "elapsed": 5026,
     "status": "ok",
     "timestamp": 1608903902689,
     "user": {
      "displayName": "NITIN VERMA",
      "photoUrl": "https://lh3.googleusercontent.com/a-/AOh14GgpieW_gSAnLVajJfGOwmtY_b6jOi-pMyI7sI9DhQ=s64",
      "userId": "06651179423666630496"
     },
     "user_tz": -330
    },
    "id": "MetzviuLcojh",
    "outputId": "341db03f-64d4-43ca-dc7c-66f2fabdcb05"
   },
   "outputs": [
    {
     "data": {
      "text/plain": [
       "Date                     0\n",
       "Time                     0\n",
       "Global_active_power      0\n",
       "Global_reactive_power    0\n",
       "Voltage                  0\n",
       "Global_intensity         0\n",
       "Sub_metering_1           0\n",
       "Sub_metering_2           0\n",
       "Sub_metering_3           0\n",
       "dtype: int64"
      ]
     },
     "execution_count": 63,
     "metadata": {},
     "output_type": "execute_result"
    }
   ],
   "source": [
    "data.isnull().sum()"
   ]
  },
  {
   "cell_type": "code",
   "execution_count": 64,
   "metadata": {},
   "outputs": [],
   "source": [
    "data_new=data.iloc[0:30000,]"
   ]
  },
  {
   "cell_type": "code",
   "execution_count": 65,
   "metadata": {
    "executionInfo": {
     "elapsed": 5024,
     "status": "ok",
     "timestamp": 1608903902689,
     "user": {
      "displayName": "NITIN VERMA",
      "photoUrl": "https://lh3.googleusercontent.com/a-/AOh14GgpieW_gSAnLVajJfGOwmtY_b6jOi-pMyI7sI9DhQ=s64",
      "userId": "06651179423666630496"
     },
     "user_tz": -330
    },
    "id": "v_1HCrdrcqHZ"
   },
   "outputs": [
    {
     "data": {
      "text/html": [
       "<div>\n",
       "<style scoped>\n",
       "    .dataframe tbody tr th:only-of-type {\n",
       "        vertical-align: middle;\n",
       "    }\n",
       "\n",
       "    .dataframe tbody tr th {\n",
       "        vertical-align: top;\n",
       "    }\n",
       "\n",
       "    .dataframe thead th {\n",
       "        text-align: right;\n",
       "    }\n",
       "</style>\n",
       "<table border=\"1\" class=\"dataframe\">\n",
       "  <thead>\n",
       "    <tr style=\"text-align: right;\">\n",
       "      <th></th>\n",
       "      <th>Global_active_power</th>\n",
       "      <th>Global_reactive_power</th>\n",
       "      <th>Voltage</th>\n",
       "      <th>Global_intensity</th>\n",
       "      <th>Sub_metering_1</th>\n",
       "      <th>Sub_metering_2</th>\n",
       "      <th>Sub_metering_3</th>\n",
       "    </tr>\n",
       "  </thead>\n",
       "  <tbody>\n",
       "    <tr>\n",
       "      <th>0</th>\n",
       "      <td>4.216</td>\n",
       "      <td>0.418</td>\n",
       "      <td>234.84</td>\n",
       "      <td>18.4</td>\n",
       "      <td>0.0</td>\n",
       "      <td>1.0</td>\n",
       "      <td>17.0</td>\n",
       "    </tr>\n",
       "    <tr>\n",
       "      <th>1</th>\n",
       "      <td>5.360</td>\n",
       "      <td>0.436</td>\n",
       "      <td>233.63</td>\n",
       "      <td>23.0</td>\n",
       "      <td>0.0</td>\n",
       "      <td>1.0</td>\n",
       "      <td>16.0</td>\n",
       "    </tr>\n",
       "    <tr>\n",
       "      <th>2</th>\n",
       "      <td>5.374</td>\n",
       "      <td>0.498</td>\n",
       "      <td>233.29</td>\n",
       "      <td>23.0</td>\n",
       "      <td>0.0</td>\n",
       "      <td>2.0</td>\n",
       "      <td>17.0</td>\n",
       "    </tr>\n",
       "    <tr>\n",
       "      <th>3</th>\n",
       "      <td>5.388</td>\n",
       "      <td>0.502</td>\n",
       "      <td>233.74</td>\n",
       "      <td>23.0</td>\n",
       "      <td>0.0</td>\n",
       "      <td>1.0</td>\n",
       "      <td>17.0</td>\n",
       "    </tr>\n",
       "    <tr>\n",
       "      <th>4</th>\n",
       "      <td>3.666</td>\n",
       "      <td>0.528</td>\n",
       "      <td>235.68</td>\n",
       "      <td>15.8</td>\n",
       "      <td>0.0</td>\n",
       "      <td>1.0</td>\n",
       "      <td>17.0</td>\n",
       "    </tr>\n",
       "    <tr>\n",
       "      <th>...</th>\n",
       "      <td>...</td>\n",
       "      <td>...</td>\n",
       "      <td>...</td>\n",
       "      <td>...</td>\n",
       "      <td>...</td>\n",
       "      <td>...</td>\n",
       "      <td>...</td>\n",
       "    </tr>\n",
       "    <tr>\n",
       "      <th>29999</th>\n",
       "      <td>1.562</td>\n",
       "      <td>0.000</td>\n",
       "      <td>237.18</td>\n",
       "      <td>6.8</td>\n",
       "      <td>0.0</td>\n",
       "      <td>0.0</td>\n",
       "      <td>17.0</td>\n",
       "    </tr>\n",
       "    <tr>\n",
       "      <th>30000</th>\n",
       "      <td>1.574</td>\n",
       "      <td>0.000</td>\n",
       "      <td>238.17</td>\n",
       "      <td>6.8</td>\n",
       "      <td>0.0</td>\n",
       "      <td>0.0</td>\n",
       "      <td>17.0</td>\n",
       "    </tr>\n",
       "    <tr>\n",
       "      <th>30001</th>\n",
       "      <td>1.580</td>\n",
       "      <td>0.000</td>\n",
       "      <td>239.05</td>\n",
       "      <td>6.8</td>\n",
       "      <td>0.0</td>\n",
       "      <td>0.0</td>\n",
       "      <td>18.0</td>\n",
       "    </tr>\n",
       "    <tr>\n",
       "      <th>30002</th>\n",
       "      <td>1.580</td>\n",
       "      <td>0.000</td>\n",
       "      <td>238.87</td>\n",
       "      <td>6.8</td>\n",
       "      <td>0.0</td>\n",
       "      <td>0.0</td>\n",
       "      <td>17.0</td>\n",
       "    </tr>\n",
       "    <tr>\n",
       "      <th>30003</th>\n",
       "      <td>1.586</td>\n",
       "      <td>0.000</td>\n",
       "      <td>239.29</td>\n",
       "      <td>6.8</td>\n",
       "      <td>0.0</td>\n",
       "      <td>0.0</td>\n",
       "      <td>18.0</td>\n",
       "    </tr>\n",
       "  </tbody>\n",
       "</table>\n",
       "<p>30000 rows × 7 columns</p>\n",
       "</div>"
      ],
      "text/plain": [
       "       Global_active_power  Global_reactive_power  Voltage  Global_intensity  \\\n",
       "0                    4.216                  0.418   234.84              18.4   \n",
       "1                    5.360                  0.436   233.63              23.0   \n",
       "2                    5.374                  0.498   233.29              23.0   \n",
       "3                    5.388                  0.502   233.74              23.0   \n",
       "4                    3.666                  0.528   235.68              15.8   \n",
       "...                    ...                    ...      ...               ...   \n",
       "29999                1.562                  0.000   237.18               6.8   \n",
       "30000                1.574                  0.000   238.17               6.8   \n",
       "30001                1.580                  0.000   239.05               6.8   \n",
       "30002                1.580                  0.000   238.87               6.8   \n",
       "30003                1.586                  0.000   239.29               6.8   \n",
       "\n",
       "       Sub_metering_1  Sub_metering_2  Sub_metering_3  \n",
       "0                 0.0             1.0            17.0  \n",
       "1                 0.0             1.0            16.0  \n",
       "2                 0.0             2.0            17.0  \n",
       "3                 0.0             1.0            17.0  \n",
       "4                 0.0             1.0            17.0  \n",
       "...               ...             ...             ...  \n",
       "29999             0.0             0.0            17.0  \n",
       "30000             0.0             0.0            17.0  \n",
       "30001             0.0             0.0            18.0  \n",
       "30002             0.0             0.0            17.0  \n",
       "30003             0.0             0.0            18.0  \n",
       "\n",
       "[30000 rows x 7 columns]"
      ]
     },
     "execution_count": 65,
     "metadata": {},
     "output_type": "execute_result"
    }
   ],
   "source": [
    "# dataset1[\"Global_active_power\"]= dataset1[\"Global_active_power\"].astype(\"float\")\n",
    "# dataset[\"Voltage\"]= dataset[\"Voltage\"].astype(\"float\")\n",
    "# dataset[\"Global_intensity\"]= dataset[\"Global_intensity\"].astype(\"float\")\n",
    "data_new=data_new.iloc[:,2:].astype(\"float\")\n",
    "data_new"
   ]
  },
  {
   "cell_type": "code",
   "execution_count": 66,
   "metadata": {
    "executionInfo": {
     "elapsed": 5023,
     "status": "ok",
     "timestamp": 1608903902690,
     "user": {
      "displayName": "NITIN VERMA",
      "photoUrl": "https://lh3.googleusercontent.com/a-/AOh14GgpieW_gSAnLVajJfGOwmtY_b6jOi-pMyI7sI9DhQ=s64",
      "userId": "06651179423666630496"
     },
     "user_tz": -330
    },
    "id": "f2Ym3N6JcrpS"
   },
   "outputs": [],
   "source": [
    "X= data_new.iloc[:,2:4].values\n",
    "\n",
    "y=data_new.iloc[:,0].values\n",
    "\n"
   ]
  },
  {
   "cell_type": "code",
   "execution_count": 67,
   "metadata": {},
   "outputs": [
    {
     "data": {
      "text/plain": [
       "array([[234.84,  18.4 ],\n",
       "       [233.63,  23.  ],\n",
       "       [233.29,  23.  ],\n",
       "       ...,\n",
       "       [239.05,   6.8 ],\n",
       "       [238.87,   6.8 ],\n",
       "       [239.29,   6.8 ]])"
      ]
     },
     "execution_count": 67,
     "metadata": {},
     "output_type": "execute_result"
    }
   ],
   "source": [
    "X"
   ]
  },
  {
   "cell_type": "code",
   "execution_count": 69,
   "metadata": {},
   "outputs": [
    {
     "data": {
      "text/plain": [
       "array([[4.216],\n",
       "       [5.36 ],\n",
       "       [5.374],\n",
       "       ...,\n",
       "       [1.58 ],\n",
       "       [1.58 ],\n",
       "       [1.586]])"
      ]
     },
     "execution_count": 69,
     "metadata": {},
     "output_type": "execute_result"
    }
   ],
   "source": [
    "y = y.reshape(len(y),1)\n",
    "y"
   ]
  },
  {
   "cell_type": "code",
   "execution_count": 74,
   "metadata": {
    "executionInfo": {
     "elapsed": 5558,
     "status": "ok",
     "timestamp": 1608903903227,
     "user": {
      "displayName": "NITIN VERMA",
      "photoUrl": "https://lh3.googleusercontent.com/a-/AOh14GgpieW_gSAnLVajJfGOwmtY_b6jOi-pMyI7sI9DhQ=s64",
      "userId": "06651179423666630496"
     },
     "user_tz": -330
    },
    "id": "Luai5flRcuHa"
   },
   "outputs": [],
   "source": [
    "#Scaling of Data\n",
    "# sc = StandardScaler()\n",
    "# X_train = sc.fit_transform(X_train).round(1)\n",
    "# X_test = sc.transform(X_test).round(1)\n",
    "sc_X = StandardScaler()\n",
    "sc_y = StandardScaler()\n",
    "X = sc_X.fit_transform(X)\n",
    "y = sc_y.fit_transform(y)"
   ]
  },
  {
   "cell_type": "code",
   "execution_count": 75,
   "metadata": {
    "executionInfo": {
     "elapsed": 5559,
     "status": "ok",
     "timestamp": 1608903903229,
     "user": {
      "displayName": "NITIN VERMA",
      "photoUrl": "https://lh3.googleusercontent.com/a-/AOh14GgpieW_gSAnLVajJfGOwmtY_b6jOi-pMyI7sI9DhQ=s64",
      "userId": "06651179423666630496"
     },
     "user_tz": -330
    },
    "id": "yDa18ZBYcvxK"
   },
   "outputs": [],
   "source": [
    "\n",
    "X_train, X_test, y_train, y_test = train_test_split(X, y, test_size = 0.25, random_state = 36)\n"
   ]
  },
  {
   "cell_type": "code",
   "execution_count": 76,
   "metadata": {},
   "outputs": [
    {
     "data": {
      "text/plain": [
       "array([[ 0.00408625, -1.044817  ],\n",
       "       [ 0.12265853,  0.50217455],\n",
       "       [-0.04442059, -1.044817  ],\n",
       "       ...,\n",
       "       [-0.01477752, -0.65806911],\n",
       "       [ 0.89068353,  0.15058556],\n",
       "       [ 0.61042177, -1.0799759 ]])"
      ]
     },
     "execution_count": 76,
     "metadata": {},
     "output_type": "execute_result"
    }
   ],
   "source": [
    "X_train"
   ]
  },
  {
   "cell_type": "code",
   "execution_count": 77,
   "metadata": {
    "colab": {
     "base_uri": "https://localhost:8080/",
     "height": 395
    },
    "executionInfo": {
     "elapsed": 5554,
     "status": "error",
     "timestamp": 1608903903235,
     "user": {
      "displayName": "NITIN VERMA",
      "photoUrl": "https://lh3.googleusercontent.com/a-/AOh14GgpieW_gSAnLVajJfGOwmtY_b6jOi-pMyI7sI9DhQ=s64",
      "userId": "06651179423666630496"
     },
     "user_tz": -330
    },
    "id": "fSI1OTIScx0p",
    "outputId": "a89c598b-0b15-4ff8-c753-c0d864f547f3"
   },
   "outputs": [
    {
     "name": "stdout",
     "output_type": "stream",
     "text": [
      "0.9972962332503494\n",
      "\n",
      "0.9952803768071291\n",
      "\n",
      "0.43347707471518604\n",
      "\n",
      "0.9967056615765626\n",
      "\n",
      "0.9974348252382779\n",
      "\n"
     ]
    }
   ],
   "source": [
    "models=[\n",
    "    {\n",
    "        \"label\": \"Linear Regg\",\n",
    "        \"model\": LinearRegression(),\n",
    "    },\n",
    "    # {\n",
    "    #     \"label\": \"Polynomial Regg\",\n",
    "    #     \"model\": PolynomialFeatures(degree = 4),\n",
    "    # },\n",
    "    {\n",
    "        \"label\": \"SVR RBF\",\n",
    "        \"model\": SVR(kernel = 'rbf'),\n",
    "    },\n",
    "    {\n",
    "        \"label\": \"SVR Poly\",\n",
    "        \"model\": SVR(kernel = 'poly'),\n",
    "    },\n",
    "    {\n",
    "        \"label\": \"Decision Tree\",\n",
    "        \"model\": DecisionTreeRegressor(random_state = 0)      \n",
    "    },\n",
    "    {\n",
    "        \"label\": \"Random Forest\",\n",
    "        \"model\": RandomForestRegressor(n_estimators = 10, random_state = 0)\n",
    "    },\n",
    "    \n",
    "    ]\n",
    "\n",
    "for m in models:\n",
    "    model= m[\"model\"]\n",
    "    model.fit(X_train, y_train.ravel())\n",
    "    y_pred= model.predict(X_test)\n",
    "    print(r2_score(y_test, y_pred))\n",
    "    print()  \n",
    "      "
   ]
  },
  {
   "cell_type": "code",
   "execution_count": null,
   "metadata": {
    "executionInfo": {
     "elapsed": 5546,
     "status": "aborted",
     "timestamp": 1608903903231,
     "user": {
      "displayName": "NITIN VERMA",
      "photoUrl": "https://lh3.googleusercontent.com/a-/AOh14GgpieW_gSAnLVajJfGOwmtY_b6jOi-pMyI7sI9DhQ=s64",
      "userId": "06651179423666630496"
     },
     "user_tz": -330
    },
    "id": "B7amx3Zjczly"
   },
   "outputs": [],
   "source": []
  },
  {
   "cell_type": "code",
   "execution_count": null,
   "metadata": {
    "executionInfo": {
     "elapsed": 5544,
     "status": "aborted",
     "timestamp": 1608903903232,
     "user": {
      "displayName": "NITIN VERMA",
      "photoUrl": "https://lh3.googleusercontent.com/a-/AOh14GgpieW_gSAnLVajJfGOwmtY_b6jOi-pMyI7sI9DhQ=s64",
      "userId": "06651179423666630496"
     },
     "user_tz": -330
    },
    "id": "6AZnE1_BttA_"
   },
   "outputs": [],
   "source": []
  },
  {
   "cell_type": "code",
   "execution_count": null,
   "metadata": {
    "executionInfo": {
     "elapsed": 5542,
     "status": "aborted",
     "timestamp": 1608903903233,
     "user": {
      "displayName": "NITIN VERMA",
      "photoUrl": "https://lh3.googleusercontent.com/a-/AOh14GgpieW_gSAnLVajJfGOwmtY_b6jOi-pMyI7sI9DhQ=s64",
      "userId": "06651179423666630496"
     },
     "user_tz": -330
    },
    "id": "1qc0bEJ4tz0C"
   },
   "outputs": [],
   "source": []
  },
  {
   "cell_type": "code",
   "execution_count": null,
   "metadata": {
    "executionInfo": {
     "elapsed": 5540,
     "status": "aborted",
     "timestamp": 1608903903234,
     "user": {
      "displayName": "NITIN VERMA",
      "photoUrl": "https://lh3.googleusercontent.com/a-/AOh14GgpieW_gSAnLVajJfGOwmtY_b6jOi-pMyI7sI9DhQ=s64",
      "userId": "06651179423666630496"
     },
     "user_tz": -330
    },
    "id": "G0oJmH39t7x3"
   },
   "outputs": [],
   "source": []
  }
 ],
 "metadata": {
  "colab": {
   "authorship_tag": "ABX9TyOsH6UlhvhwjnW+81e5OYg6",
   "collapsed_sections": [],
   "mount_file_id": "1Q5MiwhH_t5XbU7AWqdf5ciMWaYwxGuzq",
   "name": "household power.ipynb",
   "provenance": []
  },
  "kernelspec": {
   "display_name": "Python 3",
   "language": "python",
   "name": "python3"
  },
  "language_info": {
   "codemirror_mode": {
    "name": "ipython",
    "version": 3
   },
   "file_extension": ".py",
   "mimetype": "text/x-python",
   "name": "python",
   "nbconvert_exporter": "python",
   "pygments_lexer": "ipython3",
   "version": "3.8.5"
  }
 },
 "nbformat": 4,
 "nbformat_minor": 1
}
